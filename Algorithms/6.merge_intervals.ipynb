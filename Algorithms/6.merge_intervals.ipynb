{
 "cells": [
  {
   "cell_type": "markdown",
   "id": "46408496",
   "metadata": {},
   "source": [
    "### Merge Intervals"
   ]
  },
  {
   "cell_type": "markdown",
   "id": "ede1ecc3",
   "metadata": {},
   "source": [
    "#### Merge Intervals"
   ]
  },
  {
   "cell_type": "code",
   "execution_count": 9,
   "id": "9d65207b",
   "metadata": {},
   "outputs": [],
   "source": [
    "from __future__ import print_function\n",
    "\n",
    "\n",
    "class Interval:\n",
    "    def __init__(self, start, end):\n",
    "        self.start = start\n",
    "        self.end = end\n",
    "\n",
    "    def print_interval(self):\n",
    "        print(\"[\" + str(self.start) + \", \" + str(self.end) + \"]\", end='')"
   ]
  },
  {
   "cell_type": "code",
   "execution_count": 13,
   "id": "13bf7236",
   "metadata": {},
   "outputs": [],
   "source": [
    "# key idea: c.start = a.start\n",
    "#           c.end = max(a.end, b.end)\n",
    "\n",
    "def merge(intervals):\n",
    "    if len(intervals) < 2:\n",
    "        return intervals\n",
    "\n",
    "    # sort the intervals on the start time\n",
    "    intervals.sort(key=lambda x: x.start)\n",
    "\n",
    "    mergedIntervals = []\n",
    "    start = intervals[0].start\n",
    "    end = intervals[0].end\n",
    "    \n",
    "    for i in range(1, len(intervals)):\n",
    "        interval = intervals[i]\n",
    "        if interval.start <= end:  # overlapping intervals, adjust the 'end'\n",
    "            end = max(interval.end, end)\n",
    "        else:  # non-overlapping interval, add the previous internval and reset\n",
    "            mergedIntervals.append(Interval(start, end))\n",
    "            start = interval.start\n",
    "            end = interval.end\n",
    "\n",
    "    # add the last interval - this bit is important\n",
    "    mergedIntervals.append(Interval(start, end))\n",
    "    return mergedIntervals"
   ]
  },
  {
   "cell_type": "code",
   "execution_count": 14,
   "id": "3668b952",
   "metadata": {},
   "outputs": [
    {
     "name": "stdout",
     "output_type": "stream",
     "text": [
      "[1, 5][7, 9]"
     ]
    }
   ],
   "source": [
    "for i in merge([Interval(1, 4), Interval(2, 5), Interval(7, 9)]):\n",
    "    i.print_interval()"
   ]
  },
  {
   "cell_type": "markdown",
   "id": "70847bbc",
   "metadata": {},
   "source": [
    "#### Insert intervals"
   ]
  },
  {
   "cell_type": "code",
   "execution_count": 15,
   "id": "da12c121",
   "metadata": {},
   "outputs": [],
   "source": [
    "# given a set of intervals, and a new interval, find the appropriate place to insert the new interval into and return\n",
    "\n",
    "# Intervals=[[1,3], [5,7], [8,12]], New Interval=[4,6] should yield\n",
    "# [[1,3], [4,7], [8,12]]\n",
    "\n",
    "# if given list was not sorted, simply add the new interval to the list and do the merge as above\n",
    "# but in this case the given interval list is sorted, so we can optimise\n",
    "\n",
    "# key idea: intervals[i].end < newInterval.start - skip where this happens\n",
    "#           c.start = min(a.start, b.start)\n",
    "#           c.end = max(a.end, b.end)\n",
    "\n",
    "\n",
    "def insert(intervals, new_interval):\n",
    "    merged = []\n",
    "    i, start, end = 0, 0, 1\n",
    "\n",
    "    # skip (and add to output) all intervals that come before the 'new_interval'\n",
    "    while i < len(intervals) and intervals[i][end] < new_interval[start]:\n",
    "        merged.append(intervals[i])\n",
    "        i += 1\n",
    "\n",
    "    # merge all intervals that overlap with 'new_interval'\n",
    "    while i < len(intervals) and intervals[i][start] <= new_interval[end]:\n",
    "        new_interval[start] = min(intervals[i][start], new_interval[start])\n",
    "        new_interval[end] = max(intervals[i][end], new_interval[end])\n",
    "        i += 1\n",
    "\n",
    "    # insert the new_interval\n",
    "    merged.append(new_interval)\n",
    "\n",
    "    # add all the remaining intervals to the output\n",
    "    while i < len(intervals):\n",
    "        merged.append(intervals[i])\n",
    "        i += 1\n",
    "\n",
    "    return merged\n"
   ]
  },
  {
   "cell_type": "code",
   "execution_count": 16,
   "id": "4a02a2be",
   "metadata": {},
   "outputs": [
    {
     "name": "stdout",
     "output_type": "stream",
     "text": [
      "Intervals after inserting the new interval: [[1, 3], [4, 7], [8, 12]]\n"
     ]
    }
   ],
   "source": [
    "print(\"Intervals after inserting the new interval: \" + \n",
    "           str(insert([[1, 3], [5, 7], [8, 12]], [4, 6])))"
   ]
  },
  {
   "cell_type": "markdown",
   "id": "27e0f209",
   "metadata": {},
   "source": [
    "#### Interval Intersection"
   ]
  },
  {
   "cell_type": "code",
   "execution_count": 19,
   "id": "88de78f0",
   "metadata": {},
   "outputs": [],
   "source": [
    "# Find the intersection of given sets (2) of intervals (sorted)\n",
    "# Ex: arr1=[[1, 3], [5, 6], [7, 9]], arr2=[[2, 3], [5, 7]]\n",
    "# Op: [2, 3], [5, 6], [7, 7]\n",
    "\n",
    "# similar to merge sort if you think about it\n",
    "\n",
    "# key idea: start = max(a.start, b.start)\n",
    "#           end = min(a.end, b.end)\n",
    "\n",
    "def merge(intervals_a, intervals_b):\n",
    "    result = []\n",
    "    i, j, start, end = 0, 0, 0, 1\n",
    "\n",
    "    while i < len(intervals_a) and j < len(intervals_b):\n",
    "        # check if intervals overlap and intervals_a[i]'s start time lies within the \n",
    "        # other intervals_b[j]\n",
    "        a_overlaps_b = intervals_a[i][start] >= intervals_b[j][start] and \\\n",
    "                   intervals_a[i][start] <= intervals_b[j][end]\n",
    "\n",
    "        # check if intervals overlap and intervals_b[j]'s start time lies within the \n",
    "        # other intervals_a[i]\n",
    "        b_overlaps_a = intervals_b[j][start] >= intervals_a[i][start] and \\\n",
    "                   intervals_b[j][start] <= intervals_a[i][end]\n",
    "\n",
    "        # store the the intersection part\n",
    "        if (a_overlaps_b or b_overlaps_a):\n",
    "            result.append([max(intervals_a[i][start], intervals_b[j][start]), min(\n",
    "            intervals_a[i][end], intervals_b[j][end])])\n",
    "\n",
    "        # move next from the interval which is finishing first - this is important bit\n",
    "        if intervals_a[i][end] < intervals_b[j][end]:\n",
    "            i += 1\n",
    "        else:\n",
    "            j += 1\n",
    "\n",
    "    return result"
   ]
  },
  {
   "cell_type": "code",
   "execution_count": 20,
   "id": "5265ddc7",
   "metadata": {},
   "outputs": [
    {
     "name": "stdout",
     "output_type": "stream",
     "text": [
      "Intervals Intersection: [[2, 3], [5, 6], [7, 7]]\n"
     ]
    }
   ],
   "source": [
    "print(\"Intervals Intersection: \" + \n",
    "             str(merge([[1, 3], [5, 6], [7, 9]], [[2, 3], [5, 7]])))"
   ]
  },
  {
   "cell_type": "markdown",
   "id": "3c698158",
   "metadata": {},
   "source": [
    "#### Conflicting appointments"
   ]
  },
  {
   "cell_type": "code",
   "execution_count": 22,
   "id": "8aeaba9d",
   "metadata": {},
   "outputs": [],
   "source": [
    "# Ex: [[1,4], [2,5], [7,9]] has a conflict as 1,4 and 2,5 cannot be scheduled\n",
    "\n",
    "\n",
    "def can_attend_all_appointments(intervals):\n",
    "    intervals.sort(key=lambda x: x[0])\n",
    "    start, end = 0, 1\n",
    "\n",
    "    # edge cases are important in these problems\n",
    "    for i in range(1, len(intervals)):\n",
    "        if intervals[i][start] < intervals[i-1][end]:\n",
    "            # please note the comparison above, it is \"<\" and not \"<=\"\n",
    "            # while merging we needed \"<=\" comparison, as we will be merging the two\n",
    "            # intervals having condition \"intervals[i][start] == intervals[i - 1][end]\" but\n",
    "            # such intervals don't represent conflicting appointments as one starts right\n",
    "            # after the other - although this is debatable and needs to be clarified with the interviewer\n",
    "            return False\n",
    "\n",
    "    return True"
   ]
  },
  {
   "cell_type": "code",
   "execution_count": 24,
   "id": "f9d875f5",
   "metadata": {},
   "outputs": [
    {
     "name": "stdout",
     "output_type": "stream",
     "text": [
      "Can attend all appointments: False\n",
      "Can attend all appointments: True\n"
     ]
    }
   ],
   "source": [
    "print(\"Can attend all appointments: \" + \n",
    "            str(can_attend_all_appointments([[1, 4], [2, 5], [7, 9]])))\n",
    "print(\"Can attend all appointments: \" + \n",
    "            str(can_attend_all_appointments([[6, 7], [2, 4], [8, 12]])))"
   ]
  },
  {
   "cell_type": "code",
   "execution_count": null,
   "id": "01330b95",
   "metadata": {},
   "outputs": [],
   "source": []
  }
 ],
 "metadata": {
  "kernelspec": {
   "display_name": "Python 3",
   "language": "python",
   "name": "python3"
  },
  "language_info": {
   "codemirror_mode": {
    "name": "ipython",
    "version": 3
   },
   "file_extension": ".py",
   "mimetype": "text/x-python",
   "name": "python",
   "nbconvert_exporter": "python",
   "pygments_lexer": "ipython3",
   "version": "3.9.5"
  }
 },
 "nbformat": 4,
 "nbformat_minor": 5
}
