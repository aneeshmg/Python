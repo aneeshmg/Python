{
 "cells": [
  {
   "cell_type": "markdown",
   "id": "99e9b7a6",
   "metadata": {},
   "source": [
    "# Binary search"
   ]
  },
  {
   "cell_type": "markdown",
   "id": "81617259",
   "metadata": {},
   "source": [
    "Typically will have the keyword 'Find' in the problem\n",
    "Array is the most common"
   ]
  },
  {
   "cell_type": "markdown",
   "id": "858f93c3",
   "metadata": {},
   "source": [
    "The idea: **Halve the search space in every iteration**"
   ]
  },
  {
   "cell_type": "markdown",
   "id": "88e695ed",
   "metadata": {},
   "source": [
    "For every iteration/recursion, divide the search space into two halves, select one and perform the search in the selected space"
   ]
  },
  {
   "cell_type": "code",
   "execution_count": 5,
   "id": "58ea5ae4",
   "metadata": {},
   "outputs": [],
   "source": [
    "temp = [9, 7, 8, 5, 4, 6, 1, 3, 2]\n",
    "temp.sort()"
   ]
  },
  {
   "cell_type": "code",
   "execution_count": 29,
   "id": "fd0cd073",
   "metadata": {},
   "outputs": [],
   "source": [
    "# recursive implementation\n",
    "def search_rec(nums, element):\n",
    "    lo, hi = 0, len(nums)\n",
    "    \n",
    "    def recurse(nums, search_item, lo = lo, hi = hi):\n",
    "        mid = int((lo + hi) / 2)\n",
    "        \n",
    "        if lo >= hi:\n",
    "            return -1\n",
    "        \n",
    "        if nums[mid] == search_item:\n",
    "            return mid\n",
    "        \n",
    "        if search_item < nums[mid]:\n",
    "            # element is in the left half of the array\n",
    "            hi = mid\n",
    "        else:\n",
    "            # element is in the righ half of the array\n",
    "            lo = mid + 1\n",
    "\n",
    "        return recurse(nums, search_item, lo, hi)\n",
    "    \n",
    "    found_index = recurse(nums, element)\n",
    "    \n",
    "    return found_index"
   ]
  },
  {
   "cell_type": "code",
   "execution_count": 30,
   "id": "591abad3",
   "metadata": {},
   "outputs": [
    {
     "name": "stdout",
     "output_type": "stream",
     "text": [
      "0 1\n",
      "1 2\n",
      "2 3\n",
      "3 4\n",
      "4 5\n",
      "5 6\n",
      "6 7\n",
      "7 8\n",
      "8 9\n",
      "4\n",
      "2\n",
      "6\n",
      "0\n",
      "8\n",
      "-1\n",
      "-1\n"
     ]
    }
   ],
   "source": [
    "for i, num in enumerate(temp):\n",
    "    print (i, num)\n",
    "\n",
    "print (search_rec(temp, 5))\n",
    "print (search_rec(temp, 3))\n",
    "print (search_rec(temp, 7))\n",
    "print (search_rec(temp, 1))\n",
    "print (search_rec(temp, 9))\n",
    "print (search_rec(temp, 10))\n",
    "print (search_rec(temp, -1))"
   ]
  },
  {
   "cell_type": "code",
   "execution_count": 34,
   "id": "b0a51e21",
   "metadata": {},
   "outputs": [],
   "source": [
    "# Iterative implementation\n",
    "def search_iter(nums, element):\n",
    "    lo, hi = 0, len(nums)\n",
    "    \n",
    "    while True:\n",
    "        mid = int((lo + hi) / 2)\n",
    "        \n",
    "        if lo >= hi:\n",
    "            return -1\n",
    "        if nums[mid] == element:\n",
    "            return mid\n",
    "        if element < nums[mid]:\n",
    "            # element in left\n",
    "            hi = mid\n",
    "        else:\n",
    "            # element in right\n",
    "            lo = mid + 1\n",
    "        "
   ]
  },
  {
   "cell_type": "code",
   "execution_count": 35,
   "id": "e4edbcec",
   "metadata": {},
   "outputs": [
    {
     "name": "stdout",
     "output_type": "stream",
     "text": [
      "0 1\n",
      "1 2\n",
      "2 3\n",
      "3 4\n",
      "4 5\n",
      "5 6\n",
      "6 7\n",
      "7 8\n",
      "8 9\n",
      "4\n",
      "2\n",
      "6\n",
      "0\n",
      "8\n",
      "-1\n",
      "-1\n"
     ]
    }
   ],
   "source": [
    "for i, num in enumerate(temp):\n",
    "    print (i, num)\n",
    "\n",
    "print (search_iter(temp, 5))\n",
    "print (search_iter(temp, 3))\n",
    "print (search_iter(temp, 7))\n",
    "print (search_iter(temp, 1))\n",
    "print (search_iter(temp, 9))\n",
    "print (search_iter(temp, 10))\n",
    "print (search_iter(temp, -1))"
   ]
  },
  {
   "cell_type": "markdown",
   "id": "879ee9af",
   "metadata": {},
   "source": [
    "> The important parts are the places where hi, lo & mid get updated"
   ]
  },
  {
   "cell_type": "code",
   "execution_count": null,
   "id": "b84819fd",
   "metadata": {},
   "outputs": [],
   "source": []
  }
 ],
 "metadata": {
  "kernelspec": {
   "display_name": "Python 3",
   "language": "python",
   "name": "python3"
  },
  "language_info": {
   "codemirror_mode": {
    "name": "ipython",
    "version": 3
   },
   "file_extension": ".py",
   "mimetype": "text/x-python",
   "name": "python",
   "nbconvert_exporter": "python",
   "pygments_lexer": "ipython3",
   "version": "3.9.5"
  }
 },
 "nbformat": 4,
 "nbformat_minor": 5
}
