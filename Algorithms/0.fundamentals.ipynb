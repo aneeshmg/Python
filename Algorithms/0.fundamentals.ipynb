{
 "cells": [
  {
   "cell_type": "markdown",
   "id": "114cf718",
   "metadata": {},
   "source": [
    "# Python fundamentals and cheatsheet"
   ]
  },
  {
   "cell_type": "markdown",
   "id": "f87cb61e",
   "metadata": {},
   "source": [
    "### Variables"
   ]
  },
  {
   "cell_type": "code",
   "execution_count": 3,
   "id": "13e4c5dd",
   "metadata": {},
   "outputs": [
    {
     "name": "stdout",
     "output_type": "stream",
     "text": [
      "10\n",
      "a quick brown fox jumps over the ledge\n",
      "[0, 1, 2, 3, 4, 5]\n",
      "[1, 4, 6, 2, 5, 3]\n",
      "['a', 'b', 'c', 'd', 'e']\n"
     ]
    }
   ],
   "source": [
    "a = 10\n",
    "b = 'a quick brown fox jumps over the ledge'\n",
    "\n",
    "c = [0, 1, 2, 3, 4, 5]\n",
    "d = [1, 4, 6, 2, 5, 3]\n",
    "e = ['a', 'b', 'c', 'd', 'e']\n",
    "\n",
    "print (a)\n",
    "print (b)\n",
    "\n",
    "print (c)\n",
    "print (d)\n",
    "print (e)"
   ]
  },
  {
   "cell_type": "markdown",
   "id": "06449326",
   "metadata": {},
   "source": [
    "### Lists, Maps and Sets"
   ]
  },
  {
   "cell_type": "code",
   "execution_count": 2,
   "id": "823cf795",
   "metadata": {},
   "outputs": [
    {
     "name": "stdout",
     "output_type": "stream",
     "text": [
      "[1, 2, 3, 4, 5, 6, 7, 8, 9]\n"
     ]
    }
   ],
   "source": [
    "l = [x for x in range(1, 10)]\n",
    "print(l)"
   ]
  },
  {
   "cell_type": "code",
   "execution_count": 18,
   "id": "ec24b405",
   "metadata": {},
   "outputs": [
    {
     "name": "stdout",
     "output_type": "stream",
     "text": [
      "{0: 'a', 1: 'b', 2: 'c'}\n",
      "0\n",
      "1\n",
      "2\n",
      "a\n",
      "b\n",
      "c\n",
      "0 a\n",
      "1 b\n",
      "2 c\n",
      "{0: 'x', 1: 'b', 2: 'c'}\n",
      "{0: 0, 1: 0, 2: 0, 3: 0, 4: 0}\n",
      "0\n"
     ]
    }
   ],
   "source": [
    "m = {}\n",
    "m[0] = 'a'\n",
    "m[1] = 'b'\n",
    "m[2] = 'c'\n",
    "\n",
    "print (m)\n",
    "\n",
    "for x in m.keys():\n",
    "    print (x)\n",
    "    \n",
    "for x in m.values():\n",
    "    print (x)\n",
    "\n",
    "for key, value in m.items():\n",
    "    print (key, value)\n",
    "    \n",
    "m[0] = 'x'\n",
    "print (m)\n",
    "\n",
    "mx = dict()\n",
    "# this will set a default value to the key\n",
    "for x in range(0, 5):\n",
    "    mx.setdefault(x, 0)\n",
    "print (mx)\n",
    "\n",
    "# checking existance of key,value in dict\n",
    "if 3 in mx:\n",
    "    print (mx.get(3))"
   ]
  },
  {
   "cell_type": "code",
   "execution_count": 17,
   "id": "120b94f0",
   "metadata": {},
   "outputs": [
    {
     "name": "stdout",
     "output_type": "stream",
     "text": [
      "[0, 1, 2, 3, 0, 1, 2, 3]\n",
      "{0, 1, 2, 3}\n",
      "{0, 1, 3}\n",
      "[2, 4, 6, 8]\n",
      "2 is present\n"
     ]
    }
   ],
   "source": [
    "s = set()\n",
    "temp = [x for x in range(0, 4)]\n",
    "temp = temp + temp\n",
    "\n",
    "print (temp)\n",
    "\n",
    "for x in temp:\n",
    "    s.add(x)\n",
    "    \n",
    "print (s)\n",
    "\n",
    "s.remove(2)\n",
    "# next line will throw an error\n",
    "# s.remove(10)\n",
    "\n",
    "print (s)\n",
    "\n",
    "sx = [x*2 for x in range(1, 5)]\n",
    "\n",
    "print (sx)\n",
    "# checking existance of value in set\n",
    "if 2 in sx:\n",
    "    print ('2 is present')\n",
    "else:\n",
    "    print ('2 is not present')"
   ]
  },
  {
   "cell_type": "markdown",
   "id": "f83467a7",
   "metadata": {},
   "source": [
    "## Counting occurances of something in a list/string"
   ]
  },
  {
   "cell_type": "code",
   "execution_count": 26,
   "id": "8e5e3e8c",
   "metadata": {},
   "outputs": [
    {
     "name": "stdout",
     "output_type": "stream",
     "text": [
      "[0, 1, 2, 3, 0, 1, 2, 3]\n",
      "[0, 1, 2, 3, 0, 1, 2, 3, 1, 2, 3, 4, 5]\n",
      "Counter({1: 3, 2: 3, 3: 3, 0: 2, 4: 1, 5: 1})\n",
      "0 2\n",
      "1 3\n",
      "2 3\n",
      "3 3\n",
      "4 1\n",
      "5 1\n"
     ]
    }
   ],
   "source": [
    "temp = [x for x in range(0, 4)]\n",
    "temp = temp + temp\n",
    "print (temp)\n",
    "\n",
    "# not using random() so values are predictable, also not necessary to put forth the idea here\n",
    "temp += [x+1 for x in mx.keys()]\n",
    "\n",
    "print (temp)\n",
    "\n",
    "from collections import Counter\n",
    "\n",
    "cc = Counter(temp)\n",
    "\n",
    "print (cc)\n",
    "\n",
    "for key, value in cc.items():\n",
    "    print (key, value)"
   ]
  },
  {
   "cell_type": "markdown",
   "id": "4d1ebff3",
   "metadata": {},
   "source": [
    "## Scratch"
   ]
  },
  {
   "cell_type": "code",
   "execution_count": 29,
   "id": "923f7a2a",
   "metadata": {},
   "outputs": [],
   "source": [
    "# recursion within a method\n",
    "def A():\n",
    "    print ('A')\n",
    "    \n",
    "    def B(i):\n",
    "        if i == 0:\n",
    "            return\n",
    "        print (i)\n",
    "        i -= 1\n",
    "        B(i)\n",
    "        \n",
    "    B(5)"
   ]
  },
  {
   "cell_type": "code",
   "execution_count": 28,
   "id": "f0f0f127",
   "metadata": {},
   "outputs": [
    {
     "name": "stdout",
     "output_type": "stream",
     "text": [
      "A\n",
      "5\n",
      "4\n",
      "3\n",
      "2\n",
      "1\n"
     ]
    }
   ],
   "source": [
    "A()"
   ]
  },
  {
   "cell_type": "code",
   "execution_count": 33,
   "id": "cd18ff52",
   "metadata": {},
   "outputs": [
    {
     "name": "stdout",
     "output_type": "stream",
     "text": [
      "1 2 10\n"
     ]
    }
   ],
   "source": [
    "# default args\n",
    "def C(a, b, c = 10):\n",
    "    print (a, b, c)\n",
    "    \n",
    "C(1, 2)"
   ]
  },
  {
   "cell_type": "markdown",
   "id": "c30bdf4b",
   "metadata": {},
   "source": [
    "### Stack & Queues"
   ]
  },
  {
   "cell_type": "code",
   "execution_count": 38,
   "id": "5482381b",
   "metadata": {},
   "outputs": [
    {
     "name": "stdout",
     "output_type": "stream",
     "text": [
      "[1, 4, 7, 10, 13]\n",
      "[1, 4, 7, 10, 13, 0, 2, 4, 6]\n",
      "6\n",
      "4\n",
      "2\n",
      "0\n",
      "13\n",
      "[1, 4, 7, 10]\n",
      "top of stack: 10\n"
     ]
    }
   ],
   "source": [
    "# Stack\n",
    "s = [3*x+1 for x in range(0, 5)]\n",
    "\n",
    "print (s)\n",
    "\n",
    "for x in range(0, 8, 2):\n",
    "    s.append(x)\n",
    "    \n",
    "print (s)\n",
    "\n",
    "for x in range(0, 5):\n",
    "    print (s.pop())\n",
    "    \n",
    "print (s)\n",
    "\n",
    "print ('top of stack:', s[-1])"
   ]
  },
  {
   "cell_type": "code",
   "execution_count": 40,
   "id": "867c925a",
   "metadata": {},
   "outputs": [
    {
     "name": "stdout",
     "output_type": "stream",
     "text": [
      "deque([0, 2, 4, 6, 8])\n",
      "0\n",
      "2\n",
      "deque([4, 6, 8])\n"
     ]
    }
   ],
   "source": [
    "# Queue\n",
    "# Present in the collections import as deque (short for double ended queue)\n",
    "\n",
    "import collections\n",
    "\n",
    "q = collections.deque()\n",
    "\n",
    "for x in range(0, 10, 2):\n",
    "    q.append(x)\n",
    "\n",
    "print (q)\n",
    "\n",
    "print (q.popleft())\n",
    "print (q.popleft())\n",
    "\n",
    "print (q)"
   ]
  },
  {
   "cell_type": "code",
   "execution_count": 49,
   "id": "528c627a",
   "metadata": {},
   "outputs": [
    {
     "name": "stdout",
     "output_type": "stream",
     "text": [
      "[10, 9, 8, 7, 6, 5, 4, 3, 2, 1]\n",
      "10\n",
      "9\n",
      "8\n",
      "7\n",
      "6\n",
      "5\n",
      "4\n",
      "3\n",
      "2\n",
      "1\n",
      "1\n",
      "2\n",
      "3\n",
      "4\n",
      "5\n",
      "6\n",
      "7\n",
      "8\n",
      "9\n",
      "10\n",
      "10\n",
      "9\n",
      "8\n",
      "7\n",
      "6\n",
      "5\n",
      "4\n",
      "3\n",
      "2\n",
      "1\n"
     ]
    }
   ],
   "source": [
    "# Priority queue\n",
    "\n",
    "from queue import PriorityQueue\n",
    "\n",
    "pq = PriorityQueue()\n",
    "\n",
    "temp = [x for x in range(10, 0, -1)]\n",
    "\n",
    "print (temp)\n",
    "\n",
    "for x in temp:\n",
    "    print (x)\n",
    "    pq.put(x)\n",
    "    \n",
    "while not pq.empty():\n",
    "    print (pq.get())\n",
    "    \n",
    "# this by default is a minheap (ie min is top of heap/queue)\n",
    "# to use as maxheap, where max element is on top, multiply by -1\n",
    "\n",
    "for x in temp:\n",
    "    pq.put(-x)\n",
    "    \n",
    "while not pq.empty():\n",
    "    print (-pq.get())"
   ]
  },
  {
   "cell_type": "markdown",
   "id": "f362c812",
   "metadata": {},
   "source": [
    "### Heap"
   ]
  },
  {
   "cell_type": "code",
   "execution_count": 57,
   "id": "1741b77a",
   "metadata": {},
   "outputs": [
    {
     "name": "stdout",
     "output_type": "stream",
     "text": [
      "[4, 3, 9, 11, 7, 6, 14]\n",
      "[3, 4, 6, 11, 7, 9, 14]\n",
      "[1, 3, 6, 4, 7, 9, 14, 16, 11]\n",
      "1\n",
      "3\n",
      "[4, 7, 6, 11, 16, 9, 14]\n",
      "-1\n",
      "[4, 7, 6, 11, 16, 9, 14]\n",
      "4\n",
      "[-1, 7, 6, 11, 16, 9, 14]\n",
      "[16, 14, 11]\n",
      "[-1, 7, 6, 11, 16, 9, 14]\n",
      "[-1, 6, 7]\n",
      "[-1, 7, 6, 11, 16, 9, 14]\n"
     ]
    }
   ],
   "source": [
    "import heapq\n",
    "\n",
    "temp = [4, 3, 9, 11, 7, 6, 14]\n",
    "\n",
    "print (temp)\n",
    "\n",
    "# creates a min heap in place, modifies the list\n",
    "heapq.heapify(temp)\n",
    "\n",
    "print (temp) # to be visualised in heap form\n",
    "\n",
    "heapq.heappush(temp, 16)\n",
    "heapq.heappush(temp, 1)\n",
    "\n",
    "print (temp)\n",
    "\n",
    "print (heapq.heappop(temp))\n",
    "print (heapq.heappop(temp))\n",
    "\n",
    "print (temp)\n",
    "\n",
    "# heapq.heappushpop is equivalent to first push then pop\n",
    "v = heapq.heappushpop(temp, -1)\n",
    "print (v)\n",
    "\n",
    "print (temp)\n",
    "\n",
    "# heapq.heapreplace is equivalent to first pop then push\n",
    "v = heapq.heapreplace(temp, -1)\n",
    "print (v)\n",
    "\n",
    "print (temp)\n",
    "\n",
    "# n-largest elements in non-increasing order\n",
    "v = heapq.nlargest(3, temp)\n",
    "print (v)\n",
    "print (temp)\n",
    "\n",
    "# n-smallest elements in non-decreasing order\n",
    "v = heapq.nsmallest(3, temp)\n",
    "print (v)\n",
    "print (temp)"
   ]
  },
  {
   "cell_type": "code",
   "execution_count": 59,
   "id": "77adb63f",
   "metadata": {},
   "outputs": [
    {
     "name": "stdout",
     "output_type": "stream",
     "text": [
      "[1, 2, 3, 4, 5, 6, 7, 8, 9]\n",
      "[0, 1, 3, 6, 10, 15, 21, 28, 36]\n"
     ]
    }
   ],
   "source": [
    "#### Prefix sum using list comprehension\n",
    "\n",
    "temp = [x for x in range(1, 10)]\n",
    "print (temp)\n",
    "\n",
    "prefix_sum = [sum(temp[0:i]) for i, val in enumerate(temp)]\n",
    "print (prefix_sum)"
   ]
  },
  {
   "cell_type": "code",
   "execution_count": 67,
   "id": "87f114f4",
   "metadata": {},
   "outputs": [
    {
     "name": "stdout",
     "output_type": "stream",
     "text": [
      "['a', 'b', 'c', 'd', 'e']\n",
      "abcde\n",
      "['a', 'b', 'c', 'd', 'e']\n"
     ]
    }
   ],
   "source": [
    "#### Split and join a string\n",
    "\n",
    "temp = ['a', 'b', 'c', 'd', 'e']\n",
    "\n",
    "print (temp)\n",
    "\n",
    "temp = ''.join(temp)\n",
    "\n",
    "print (temp)\n",
    "\n",
    "temp = list(temp)\n",
    "\n",
    "print (temp)"
   ]
  },
  {
   "cell_type": "code",
   "execution_count": 3,
   "id": "313efd46",
   "metadata": {},
   "outputs": [
    {
     "name": "stdout",
     "output_type": "stream",
     "text": [
      "[9, 8, 7, 6, 5, 4, 3, 2, 1]\n",
      "[1, 2, 3, 4, 5, 6, 7, 8, 9]\n"
     ]
    }
   ],
   "source": [
    "# Sorting\n",
    "\n",
    "temp = [9, 8, 7, 6, 5, 4, 3, 2, 1]\n",
    "\n",
    "print (temp)\n",
    "\n",
    "temp.sort()\n",
    "\n",
    "print (temp)"
   ]
  },
  {
   "cell_type": "code",
   "execution_count": 2,
   "id": "426e2c38",
   "metadata": {},
   "outputs": [
    {
     "name": "stdout",
     "output_type": "stream",
     "text": [
      "[[1], [2, 1], [3, 2, 1], [4, 3, 2, 1]]\n"
     ]
    }
   ],
   "source": [
    "# Interesting\n",
    "\n",
    "from collections import deque\n",
    "\n",
    "temp = [1, 2, 3, 4, 5]\n",
    "res = []\n",
    "temp_list = deque()\n",
    "\n",
    "for i in range(len(temp) - 1):\n",
    "    temp_list.appendleft(temp[i])\n",
    "    res.append(list(temp_list))\n",
    "    \n",
    "print (res)"
   ]
  },
  {
   "cell_type": "code",
   "execution_count": 4,
   "id": "8a68da7a",
   "metadata": {},
   "outputs": [
    {
     "name": "stdout",
     "output_type": "stream",
     "text": [
      "[1, 2, 3, 4]\n",
      "[2, 4, 6, 8]\n"
     ]
    }
   ],
   "source": [
    "# Function params\n",
    "\n",
    "temp = [1, 2, 3, 4]\n",
    "print (temp)\n",
    "\n",
    "def double_it(arr):\n",
    "    for i in range(len(arr)):\n",
    "        arr[i] *= 2\n",
    "        \n",
    "double_it(temp)\n",
    "print (temp)\n",
    "\n",
    "# Looks like it is pass by reference"
   ]
  },
  {
   "cell_type": "code",
   "execution_count": 9,
   "id": "01783792",
   "metadata": {},
   "outputs": [
    {
     "name": "stdout",
     "output_type": "stream",
     "text": [
      "do something 0\n",
      "do something 1\n",
      "do something 2\n",
      "do something 3\n",
      "do something 4\n"
     ]
    }
   ],
   "source": [
    "# Indexless loop\n",
    "n = 5\n",
    "\n",
    "for _ in range(n):\n",
    "    print (\"do something \" + str(_))"
   ]
  },
  {
   "cell_type": "code",
   "execution_count": null,
   "id": "bdb782de",
   "metadata": {},
   "outputs": [],
   "source": []
  }
 ],
 "metadata": {
  "kernelspec": {
   "display_name": "Python 3",
   "language": "python",
   "name": "python3"
  },
  "language_info": {
   "codemirror_mode": {
    "name": "ipython",
    "version": 3
   },
   "file_extension": ".py",
   "mimetype": "text/x-python",
   "name": "python",
   "nbconvert_exporter": "python",
   "pygments_lexer": "ipython3",
   "version": "3.9.5"
  }
 },
 "nbformat": 4,
 "nbformat_minor": 5
}
