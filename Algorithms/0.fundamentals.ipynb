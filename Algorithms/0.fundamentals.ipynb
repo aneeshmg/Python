{
 "cells": [
  {
   "cell_type": "markdown",
   "id": "0a1b8dd7",
   "metadata": {},
   "source": [
    "# Python fundamentals and cheatsheet"
   ]
  },
  {
   "cell_type": "markdown",
   "id": "c5ced576",
   "metadata": {},
   "source": [
    "### Variables"
   ]
  },
  {
   "cell_type": "code",
   "execution_count": 3,
   "id": "e0008052",
   "metadata": {},
   "outputs": [
    {
     "name": "stdout",
     "output_type": "stream",
     "text": [
      "10\n",
      "a quick brown fox jumps over the ledge\n",
      "[0, 1, 2, 3, 4, 5]\n",
      "[1, 4, 6, 2, 5, 3]\n",
      "['a', 'b', 'c', 'd', 'e']\n"
     ]
    }
   ],
   "source": [
    "a = 10\n",
    "b = 'a quick brown fox jumps over the ledge'\n",
    "\n",
    "c = [0, 1, 2, 3, 4, 5]\n",
    "d = [1, 4, 6, 2, 5, 3]\n",
    "e = ['a', 'b', 'c', 'd', 'e']\n",
    "\n",
    "print (a)\n",
    "print (b)\n",
    "\n",
    "print (c)\n",
    "print (d)\n",
    "print (e)"
   ]
  },
  {
   "cell_type": "markdown",
   "id": "55327475",
   "metadata": {},
   "source": [
    "### Lists, Maps and Sets"
   ]
  },
  {
   "cell_type": "code",
   "execution_count": 2,
   "id": "528bd9ce",
   "metadata": {},
   "outputs": [
    {
     "name": "stdout",
     "output_type": "stream",
     "text": [
      "[1, 2, 3, 4, 5, 6, 7, 8, 9]\n"
     ]
    }
   ],
   "source": [
    "l = [x for x in range(1, 10)]\n",
    "print(l)"
   ]
  },
  {
   "cell_type": "code",
   "execution_count": 18,
   "id": "d695a3e6",
   "metadata": {},
   "outputs": [
    {
     "name": "stdout",
     "output_type": "stream",
     "text": [
      "{0: 'a', 1: 'b', 2: 'c'}\n",
      "0\n",
      "1\n",
      "2\n",
      "a\n",
      "b\n",
      "c\n",
      "0 a\n",
      "1 b\n",
      "2 c\n",
      "{0: 'x', 1: 'b', 2: 'c'}\n",
      "{0: 0, 1: 0, 2: 0, 3: 0, 4: 0}\n",
      "0\n"
     ]
    }
   ],
   "source": [
    "m = {}\n",
    "m[0] = 'a'\n",
    "m[1] = 'b'\n",
    "m[2] = 'c'\n",
    "\n",
    "print (m)\n",
    "\n",
    "for x in m.keys():\n",
    "    print (x)\n",
    "    \n",
    "for x in m.values():\n",
    "    print (x)\n",
    "\n",
    "for key, value in m.items():\n",
    "    print (key, value)\n",
    "    \n",
    "m[0] = 'x'\n",
    "print (m)\n",
    "\n",
    "mx = dict()\n",
    "# this will set a default value to the key\n",
    "for x in range(0, 5):\n",
    "    mx.setdefault(x, 0)\n",
    "print (mx)\n",
    "\n",
    "# checking existance of key,value in dict\n",
    "if 3 in mx:\n",
    "    print (mx.get(3))"
   ]
  },
  {
   "cell_type": "code",
   "execution_count": 17,
   "id": "f8ab64d7",
   "metadata": {},
   "outputs": [
    {
     "name": "stdout",
     "output_type": "stream",
     "text": [
      "[0, 1, 2, 3, 0, 1, 2, 3]\n",
      "{0, 1, 2, 3}\n",
      "{0, 1, 3}\n",
      "[2, 4, 6, 8]\n",
      "2 is present\n"
     ]
    }
   ],
   "source": [
    "s = set()\n",
    "temp = [x for x in range(0, 4)]\n",
    "temp = temp + temp\n",
    "\n",
    "print (temp)\n",
    "\n",
    "for x in temp:\n",
    "    s.add(x)\n",
    "    \n",
    "print (s)\n",
    "\n",
    "s.remove(2)\n",
    "# next line will throw an error\n",
    "# s.remove(10)\n",
    "\n",
    "print (s)\n",
    "\n",
    "sx = [x*2 for x in range(1, 5)]\n",
    "\n",
    "print (sx)\n",
    "# checking existance of value in set\n",
    "if 2 in sx:\n",
    "    print ('2 is present')\n",
    "else:\n",
    "    print ('2 is not present')"
   ]
  },
  {
   "cell_type": "markdown",
   "id": "8b9dca17",
   "metadata": {},
   "source": [
    "## Counting occurances of something in a list/string"
   ]
  },
  {
   "cell_type": "code",
   "execution_count": 26,
   "id": "c7553781",
   "metadata": {},
   "outputs": [
    {
     "name": "stdout",
     "output_type": "stream",
     "text": [
      "[0, 1, 2, 3, 0, 1, 2, 3]\n",
      "[0, 1, 2, 3, 0, 1, 2, 3, 1, 2, 3, 4, 5]\n",
      "Counter({1: 3, 2: 3, 3: 3, 0: 2, 4: 1, 5: 1})\n",
      "0 2\n",
      "1 3\n",
      "2 3\n",
      "3 3\n",
      "4 1\n",
      "5 1\n"
     ]
    }
   ],
   "source": [
    "temp = [x for x in range(0, 4)]\n",
    "temp = temp + temp\n",
    "print (temp)\n",
    "\n",
    "# not using random() so values are predictable, also not necessary to put forth the idea here\n",
    "temp += [x+1 for x in mx.keys()]\n",
    "\n",
    "print (temp)\n",
    "\n",
    "from collections import Counter\n",
    "\n",
    "cc = Counter(temp)\n",
    "\n",
    "print (cc)\n",
    "\n",
    "for key, value in cc.items():\n",
    "    print (key, value)"
   ]
  },
  {
   "cell_type": "markdown",
   "id": "efc05ad8",
   "metadata": {},
   "source": [
    "## Scratch"
   ]
  },
  {
   "cell_type": "code",
   "execution_count": 29,
   "id": "8aabe597",
   "metadata": {},
   "outputs": [],
   "source": [
    "# recursion within a method\n",
    "def A():\n",
    "    print ('A')\n",
    "    \n",
    "    def B(i):\n",
    "        if i == 0:\n",
    "            return\n",
    "        print (i)\n",
    "        i -= 1\n",
    "        B(i)\n",
    "        \n",
    "    B(5)"
   ]
  },
  {
   "cell_type": "code",
   "execution_count": 28,
   "id": "19ad3cca",
   "metadata": {},
   "outputs": [
    {
     "name": "stdout",
     "output_type": "stream",
     "text": [
      "A\n",
      "5\n",
      "4\n",
      "3\n",
      "2\n",
      "1\n"
     ]
    }
   ],
   "source": [
    "A()"
   ]
  },
  {
   "cell_type": "code",
   "execution_count": 30,
   "id": "b5cb56f1",
   "metadata": {},
   "outputs": [
    {
     "name": "stdout",
     "output_type": "stream",
     "text": [
      "[1, 2, 3, 4, 5]\n"
     ]
    }
   ],
   "source": [
    "temp = [x for x in range(1, 10)]\n",
    "\n",
    "print (temp[0:5])"
   ]
  },
  {
   "cell_type": "code",
   "execution_count": 31,
   "id": "424fce63",
   "metadata": {},
   "outputs": [],
   "source": [
    "def C(a, b, c = 10):\n",
    "    print (a, b, c)"
   ]
  },
  {
   "cell_type": "code",
   "execution_count": 32,
   "id": "31d080d2",
   "metadata": {},
   "outputs": [
    {
     "name": "stdout",
     "output_type": "stream",
     "text": [
      "1 2 10\n"
     ]
    }
   ],
   "source": [
    "C(1, 2)"
   ]
  },
  {
   "cell_type": "code",
   "execution_count": null,
   "id": "f0a207e9",
   "metadata": {},
   "outputs": [],
   "source": []
  }
 ],
 "metadata": {
  "kernelspec": {
   "display_name": "Python 3",
   "language": "python",
   "name": "python3"
  },
  "language_info": {
   "codemirror_mode": {
    "name": "ipython",
    "version": 3
   },
   "file_extension": ".py",
   "mimetype": "text/x-python",
   "name": "python",
   "nbconvert_exporter": "python",
   "pygments_lexer": "ipython3",
   "version": "3.9.5"
  }
 },
 "nbformat": 4,
 "nbformat_minor": 5
}
