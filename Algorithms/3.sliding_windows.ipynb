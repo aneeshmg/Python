{
 "cells": [
  {
   "cell_type": "markdown",
   "id": "116db1d6",
   "metadata": {},
   "source": [
    "# Sliding windows"
   ]
  },
  {
   "cell_type": "code",
   "execution_count": 1,
   "id": "e174e359",
   "metadata": {},
   "outputs": [],
   "source": [
    "temp = [9, 1, 8, 2, 7, 3, 6, 4, 5]"
   ]
  },
  {
   "cell_type": "markdown",
   "id": "3147c822",
   "metadata": {},
   "source": [
    "Given k, to find the max sum of sub arrays of size k,\n",
    "the brute force approach would be to loop over i to k for i in range length of array - k + 1\n",
    "\n",
    "That implies, we would be repeating the summing k times, making the complexity n * k\n",
    "\n",
    "To optimize that, instead of summing k times, we can maintain the sum by repeatedly moving the window of size k, by subtracting i-1 and adding i+k\n"
   ]
  },
  {
   "cell_type": "code",
   "execution_count": 13,
   "id": "46466cd9",
   "metadata": {},
   "outputs": [],
   "source": [
    "def find_max_subarray(nums, k):\n",
    "    m = sum(nums[0:k])\n",
    "    m_t = m\n",
    "    \n",
    "    for i in range(len(nums) - k - 1):\n",
    "        m_t = m_t - nums[i] + nums[i+k+1]\n",
    "        m = max(m, m_t)\n",
    "        \n",
    "    return m"
   ]
  },
  {
   "cell_type": "code",
   "execution_count": 16,
   "id": "e8d0aa37",
   "metadata": {},
   "outputs": [
    {
     "name": "stdout",
     "output_type": "stream",
     "text": [
      "18\n",
      "10\n",
      "20\n"
     ]
    }
   ],
   "source": [
    "print (find_max_subarray(temp, 3))\n",
    "print (find_max_subarray(temp, 2))\n",
    "print (find_max_subarray(temp, 4))\n"
   ]
  },
  {
   "cell_type": "code",
   "execution_count": 20,
   "id": "6fb4e8ad",
   "metadata": {},
   "outputs": [],
   "source": [
    "temp = [2, 1, 5, 2, 3, 2]"
   ]
  },
  {
   "cell_type": "code",
   "execution_count": 19,
   "id": "cbde222b",
   "metadata": {},
   "outputs": [],
   "source": [
    "def smallest_subarray_given_sum(nums, S):\n",
    "    # grow the array from the right, shrink from the left\n",
    "    \n",
    "    res = float('inf')\n",
    "    temp_sum = 0\n",
    "    i = 0\n",
    "    \n",
    "    for j in range(len(nums)):\n",
    "        temp_sum += nums[j]\n",
    "        \n",
    "        while temp_sum >= S:\n",
    "            # need to shrink the window now\n",
    "            res = min(res, j - i + 1)\n",
    "            temp_sum -= nums[i]\n",
    "            i += 1\n",
    "            \n",
    "    if res == float('inf'):\n",
    "        return 0\n",
    "    \n",
    "    return res"
   ]
  },
  {
   "cell_type": "code",
   "execution_count": 21,
   "id": "10c5e3d7",
   "metadata": {},
   "outputs": [
    {
     "name": "stdout",
     "output_type": "stream",
     "text": [
      "2\n"
     ]
    }
   ],
   "source": [
    "print (smallest_subarray_given_sum(temp, 7))"
   ]
  },
  {
   "cell_type": "markdown",
   "id": "33d7d4dc",
   "metadata": {},
   "source": [
    "#### Longest Substring with K Distinct Characters (medium)"
   ]
  },
  {
   "cell_type": "code",
   "execution_count": 22,
   "id": "fdf98d37",
   "metadata": {},
   "outputs": [],
   "source": [
    "# use hashmap to keep track of number of distinct chars (size of hashmap length basically), grow window till the \n",
    "# number of distinct chars exceeds k, then shrink window while updating the max size of window thusfar\n",
    "\n",
    "def longest_substring_with_k_distinct(S, k):\n",
    "    window_start = 0\n",
    "    max_length = 0\n",
    "    hashmap = {}\n",
    "    \n",
    "    for i in range(len(S)):\n",
    "        right_char = S[i]\n",
    "        if right_char not in hashmap:\n",
    "            hashmap[right_char] = 0\n",
    "        hashmap[right_char] += 1\n",
    "        \n",
    "        # the shrinking part, condition to check distinct k\n",
    "        while len(hashmap) > k:\n",
    "            left_char = S[window_start]\n",
    "            hashmap[left_char] -= 1\n",
    "            if hashmap[left_char] == 0:\n",
    "                del hashmap[left_char]\n",
    "            window_start += 1\n",
    "        \n",
    "        max_length = max(max_length, i - window_start + 1)\n",
    "    \n",
    "    return max_length"
   ]
  },
  {
   "cell_type": "code",
   "execution_count": 23,
   "id": "030498cd",
   "metadata": {},
   "outputs": [
    {
     "name": "stdout",
     "output_type": "stream",
     "text": [
      "4\n",
      "2\n"
     ]
    }
   ],
   "source": [
    "print (longest_substring_with_k_distinct(\"araaci\", 2))\n",
    "print (longest_substring_with_k_distinct(\"araaci\", 1))"
   ]
  },
  {
   "cell_type": "markdown",
   "id": "1686a45d",
   "metadata": {},
   "source": [
    "#### Fruits into Baskets (medium)"
   ]
  },
  {
   "cell_type": "markdown",
   "id": "09d58ecb",
   "metadata": {},
   "source": [
    "Given 2 baskets and a bunch of fruits in an array, find the max number of fruits you can collect, one type of fruit per basket"
   ]
  },
  {
   "cell_type": "code",
   "execution_count": 24,
   "id": "3e37ea63",
   "metadata": {},
   "outputs": [],
   "source": [
    "# basically identical to longest_substring_with_k_distinct, with k=2\n",
    "def fruits_into_baskets(fruits):\n",
    "    return longest_substring_with_k_distinct(fruits, 2)"
   ]
  },
  {
   "cell_type": "code",
   "execution_count": 25,
   "id": "e2b017c6",
   "metadata": {},
   "outputs": [
    {
     "name": "stdout",
     "output_type": "stream",
     "text": [
      "3\n",
      "5\n"
     ]
    }
   ],
   "source": [
    "print (fruits_into_baskets(['A', 'B', 'C', 'A', 'C']))\n",
    "print (fruits_into_baskets(['A', 'B', 'C', 'B', 'B', 'C']))"
   ]
  },
  {
   "cell_type": "markdown",
   "id": "7a3efe6c",
   "metadata": {},
   "source": [
    "#### Longest Substring with Distinct Characters (hard)"
   ]
  },
  {
   "cell_type": "markdown",
   "id": "06b50594",
   "metadata": {},
   "source": [
    "Given a string, find the length of the longest substring, which has all distinct characters."
   ]
  },
  {
   "cell_type": "code",
   "execution_count": 26,
   "id": "cf79c2c0",
   "metadata": {},
   "outputs": [],
   "source": [
    "def longest_substring_with_dist_chars(str1):\n",
    "    left, length = 0, 0\n",
    "    hashmap = {}\n",
    "    \n",
    "    for right in range(len(str1)):\n",
    "        \n",
    "        right_char = str1[right]\n",
    "        \n",
    "        # duplicate found, move window start to current right\n",
    "        if right_char in hashmap:\n",
    "            left = max(left, hashmap[right_char] + 1)\n",
    "            \n",
    "        # update the map\n",
    "        hashmap[right_char] = right\n",
    "        \n",
    "        # compute the max length, as that is what we need ultimately\n",
    "        length = max(length, right - left + 1)\n",
    "        \n",
    "    return length"
   ]
  },
  {
   "cell_type": "code",
   "execution_count": 28,
   "id": "bd51967e",
   "metadata": {},
   "outputs": [
    {
     "name": "stdout",
     "output_type": "stream",
     "text": [
      "3\n",
      "5\n"
     ]
    }
   ],
   "source": [
    "print (longest_substring_with_dist_chars(\"aabcbbcc\"))\n",
    "print (longest_substring_with_dist_chars(\"abcabccxyzax\"))"
   ]
  },
  {
   "cell_type": "markdown",
   "id": "d3057b46",
   "metadata": {},
   "source": [
    "#### Longest Substring with Same Letters after Replacement"
   ]
  },
  {
   "cell_type": "markdown",
   "id": "bb8d8b52",
   "metadata": {},
   "source": [
    "Given a string with lowercase letters only, if you are allowed to replace no more than ‘k’ letters with any letter, find the length of the longest substring having the same letters after replacement."
   ]
  },
  {
   "cell_type": "code",
   "execution_count": 29,
   "id": "d5d0a5a6",
   "metadata": {},
   "outputs": [],
   "source": [
    "def longest_substring_with_k_replacements(str1, k):\n",
    "    \n",
    "    left, maxLength, max_repeat_count = 0, 0, 0\n",
    "    hashmap = {}\n",
    "    \n",
    "    for right in range(len(str1)):\n",
    "        \n",
    "        right_char = str1[right]\n",
    "        \n",
    "        if right_char not in hashmap:\n",
    "            hashmap[right_char] = 0\n",
    "        hashmap[right_char] += 1\n",
    "        \n",
    "        max_repeat_count = max(max_repeat_count, hashmap[right_char])\n",
    "        \n",
    "        # at this stage, we have kept track of what characters repeat how many times in the current window and a max\n",
    "        # now to compare that with k to see how many are replacable keeping distinctness\n",
    "        if (right - left + 1 - max_repeat_count) > k:\n",
    "            left_char = str1[left]\n",
    "            hashmap[left_char] -= 1\n",
    "            left += 1\n",
    "            \n",
    "        maxLength = max(maxLength, right - left + 1)\n",
    "        \n",
    "    return maxLength"
   ]
  },
  {
   "cell_type": "code",
   "execution_count": 30,
   "id": "efefe26d",
   "metadata": {},
   "outputs": [
    {
     "name": "stdout",
     "output_type": "stream",
     "text": [
      "5\n",
      "10\n"
     ]
    }
   ],
   "source": [
    "print (longest_substring_with_k_replacements(\"aabccbb\", 2))\n",
    "print (longest_substring_with_k_replacements(\"abcdxxxxxyc\", 5))"
   ]
  },
  {
   "cell_type": "code",
   "execution_count": null,
   "id": "f1ccd772",
   "metadata": {},
   "outputs": [],
   "source": []
  }
 ],
 "metadata": {
  "kernelspec": {
   "display_name": "Python 3",
   "language": "python",
   "name": "python3"
  },
  "language_info": {
   "codemirror_mode": {
    "name": "ipython",
    "version": 3
   },
   "file_extension": ".py",
   "mimetype": "text/x-python",
   "name": "python",
   "nbconvert_exporter": "python",
   "pygments_lexer": "ipython3",
   "version": "3.9.5"
  }
 },
 "nbformat": 4,
 "nbformat_minor": 5
}
