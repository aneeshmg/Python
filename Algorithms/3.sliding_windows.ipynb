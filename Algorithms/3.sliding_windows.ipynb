{
 "cells": [
  {
   "cell_type": "markdown",
   "id": "54e9b091",
   "metadata": {},
   "source": [
    "# Sliding windows"
   ]
  },
  {
   "cell_type": "code",
   "execution_count": 1,
   "id": "97e3df6a",
   "metadata": {},
   "outputs": [],
   "source": [
    "temp = [9, 1, 8, 2, 7, 3, 6, 4, 5]"
   ]
  },
  {
   "cell_type": "markdown",
   "id": "40923af0",
   "metadata": {},
   "source": [
    "Given k, to find the max sum of sub arrays of size k,\n",
    "the brute force approach would be to loop over i to k for i in range length of array - k + 1\n",
    "\n",
    "That implies, we would be repeating the summing k times, making the complexity n * k\n",
    "\n",
    "To optimize that, instead of summing k times, we can maintain the sum by repeatedly moving the window of size k, by subtracting i-1 and adding i+k\n"
   ]
  },
  {
   "cell_type": "code",
   "execution_count": 13,
   "id": "7c3f98b0",
   "metadata": {},
   "outputs": [],
   "source": [
    "def find_max_subarray(nums, k):\n",
    "    m = sum(nums[0:k])\n",
    "    m_t = m\n",
    "    \n",
    "    for i in range(len(nums) - k - 1):\n",
    "        m_t = m_t - nums[i] + nums[i+k+1]\n",
    "        m = max(m, m_t)\n",
    "        \n",
    "    return m"
   ]
  },
  {
   "cell_type": "code",
   "execution_count": 16,
   "id": "66a36e5e",
   "metadata": {},
   "outputs": [
    {
     "name": "stdout",
     "output_type": "stream",
     "text": [
      "18\n",
      "10\n",
      "20\n"
     ]
    }
   ],
   "source": [
    "print (find_max_subarray(temp, 3))\n",
    "print (find_max_subarray(temp, 2))\n",
    "print (find_max_subarray(temp, 4))\n"
   ]
  },
  {
   "cell_type": "code",
   "execution_count": 20,
   "id": "4f11fc2b",
   "metadata": {},
   "outputs": [],
   "source": [
    "temp = [2, 1, 5, 2, 3, 2]"
   ]
  },
  {
   "cell_type": "code",
   "execution_count": 19,
   "id": "a41fcb6e",
   "metadata": {},
   "outputs": [],
   "source": [
    "def smallest_subarray_given_sum(nums, S):\n",
    "    # grow the array from the right, shrink from the left\n",
    "    \n",
    "    res = float('inf')\n",
    "    temp_sum = 0\n",
    "    i = 0\n",
    "    \n",
    "    for j in range(len(nums)):\n",
    "        temp_sum += nums[j]\n",
    "        \n",
    "        while temp_sum >= S:\n",
    "            # need to shrink the window now\n",
    "            res = min(res, j - i + 1)\n",
    "            temp_sum -= nums[i]\n",
    "            i += 1\n",
    "            \n",
    "    if res == float('inf'):\n",
    "        return 0\n",
    "    \n",
    "    return res"
   ]
  },
  {
   "cell_type": "code",
   "execution_count": 21,
   "id": "cd30b51d",
   "metadata": {},
   "outputs": [
    {
     "name": "stdout",
     "output_type": "stream",
     "text": [
      "2\n"
     ]
    }
   ],
   "source": [
    "print (smallest_subarray_given_sum(temp, 7))"
   ]
  },
  {
   "cell_type": "code",
   "execution_count": null,
   "id": "234fdc80",
   "metadata": {},
   "outputs": [],
   "source": []
  }
 ],
 "metadata": {
  "kernelspec": {
   "display_name": "Python 3",
   "language": "python",
   "name": "python3"
  },
  "language_info": {
   "codemirror_mode": {
    "name": "ipython",
    "version": 3
   },
   "file_extension": ".py",
   "mimetype": "text/x-python",
   "name": "python",
   "nbconvert_exporter": "python",
   "pygments_lexer": "ipython3",
   "version": "3.9.5"
  }
 },
 "nbformat": 4,
 "nbformat_minor": 5
}
