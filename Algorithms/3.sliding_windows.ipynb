{
 "cells": [
  {
   "cell_type": "markdown",
   "id": "1e2065e8",
   "metadata": {},
   "source": [
    "# Sliding windows"
   ]
  },
  {
   "cell_type": "code",
   "execution_count": 1,
   "id": "f9905767",
   "metadata": {},
   "outputs": [],
   "source": [
    "temp = [9, 1, 8, 2, 7, 3, 6, 4, 5]"
   ]
  },
  {
   "cell_type": "markdown",
   "id": "06731f90",
   "metadata": {},
   "source": [
    "Given k, to find the max sum of sub arrays of size k,\n",
    "the brute force approach would be to loop over i to k for i in range length of array - k + 1\n",
    "\n",
    "That implies, we would be repeating the summing k times, making the complexity n * k\n",
    "\n",
    "To optimize that, instead of summing k times, we can maintain the sum by repeatedly moving the window of size k, by subtracting i-1 and adding i+k\n"
   ]
  },
  {
   "cell_type": "code",
   "execution_count": 13,
   "id": "c46d36bb",
   "metadata": {},
   "outputs": [],
   "source": [
    "def find_max_subarray(nums, k):\n",
    "    m = sum(nums[0:k])\n",
    "    m_t = m\n",
    "    \n",
    "    for i in range(len(nums) - k - 1):\n",
    "        m_t = m_t - nums[i] + nums[i+k+1]\n",
    "        m = max(m, m_t)\n",
    "        \n",
    "    return m"
   ]
  },
  {
   "cell_type": "code",
   "execution_count": 16,
   "id": "8725c2d7",
   "metadata": {},
   "outputs": [
    {
     "name": "stdout",
     "output_type": "stream",
     "text": [
      "18\n",
      "10\n",
      "20\n"
     ]
    }
   ],
   "source": [
    "print (find_max_subarray(temp, 3))\n",
    "print (find_max_subarray(temp, 2))\n",
    "print (find_max_subarray(temp, 4))\n"
   ]
  },
  {
   "cell_type": "code",
   "execution_count": 20,
   "id": "eaada18a",
   "metadata": {},
   "outputs": [],
   "source": [
    "temp = [2, 1, 5, 2, 3, 2]"
   ]
  },
  {
   "cell_type": "code",
   "execution_count": 19,
   "id": "14618db7",
   "metadata": {},
   "outputs": [],
   "source": [
    "def smallest_subarray_given_sum(nums, S):\n",
    "    # grow the array from the right, shrink from the left\n",
    "    \n",
    "    res = float('inf')\n",
    "    temp_sum = 0\n",
    "    i = 0\n",
    "    \n",
    "    for j in range(len(nums)):\n",
    "        temp_sum += nums[j]\n",
    "        \n",
    "        while temp_sum >= S:\n",
    "            # need to shrink the window now\n",
    "            res = min(res, j - i + 1)\n",
    "            temp_sum -= nums[i]\n",
    "            i += 1\n",
    "            \n",
    "    if res == float('inf'):\n",
    "        return 0\n",
    "    \n",
    "    return res"
   ]
  },
  {
   "cell_type": "code",
   "execution_count": 21,
   "id": "8b7f3705",
   "metadata": {},
   "outputs": [
    {
     "name": "stdout",
     "output_type": "stream",
     "text": [
      "2\n"
     ]
    }
   ],
   "source": [
    "print (smallest_subarray_given_sum(temp, 7))"
   ]
  },
  {
   "cell_type": "markdown",
   "id": "0c3d7962",
   "metadata": {},
   "source": [
    "#### Longest Substring with K Distinct Characters (medium)"
   ]
  },
  {
   "cell_type": "code",
   "execution_count": 22,
   "id": "dca9294c",
   "metadata": {},
   "outputs": [],
   "source": [
    "# use hashmap to keep track of number of distinct chars (size of hashmap length basically), grow window till the \n",
    "# number of distinct chars exceeds k, then shrink window while updating the max size of window thusfar\n",
    "\n",
    "def longest_substring_with_k_distinct(S, k):\n",
    "    window_start = 0\n",
    "    max_length = 0\n",
    "    hashmap = {}\n",
    "    \n",
    "    for i in range(len(S)):\n",
    "        right_char = S[i]\n",
    "        if right_char not in hashmap:\n",
    "            hashmap[right_char] = 0\n",
    "        hashmap[right_char] += 1\n",
    "        \n",
    "        # the shrinking part, condition to check distinct k\n",
    "        while len(hashmap) > k:\n",
    "            left_char = S[window_start]\n",
    "            hashmap[left_char] -= 1\n",
    "            if hashmap[left_char] == 0:\n",
    "                del hashmap[left_char]\n",
    "            window_start += 1\n",
    "        \n",
    "        max_length = max(max_length, i - window_start + 1)\n",
    "    \n",
    "    return max_length"
   ]
  },
  {
   "cell_type": "code",
   "execution_count": 23,
   "id": "d0f213ae",
   "metadata": {},
   "outputs": [
    {
     "name": "stdout",
     "output_type": "stream",
     "text": [
      "4\n",
      "2\n"
     ]
    }
   ],
   "source": [
    "print (longest_substring_with_k_distinct(\"araaci\", 2))\n",
    "print (longest_substring_with_k_distinct(\"araaci\", 1))"
   ]
  },
  {
   "cell_type": "code",
   "execution_count": null,
   "id": "847645de",
   "metadata": {},
   "outputs": [],
   "source": []
  }
 ],
 "metadata": {
  "kernelspec": {
   "display_name": "Python 3",
   "language": "python",
   "name": "python3"
  },
  "language_info": {
   "codemirror_mode": {
    "name": "ipython",
    "version": 3
   },
   "file_extension": ".py",
   "mimetype": "text/x-python",
   "name": "python",
   "nbconvert_exporter": "python",
   "pygments_lexer": "ipython3",
   "version": "3.9.5"
  }
 },
 "nbformat": 4,
 "nbformat_minor": 5
}
