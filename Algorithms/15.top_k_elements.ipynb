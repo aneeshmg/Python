{
 "cells": [
  {
   "cell_type": "markdown",
   "id": "2857b3bf",
   "metadata": {},
   "source": [
    "### Top K elements\n",
    "Typically will make use of heap"
   ]
  },
  {
   "cell_type": "markdown",
   "id": "c6d03ce5",
   "metadata": {},
   "source": [
    "#### Top k numbers\n",
    "([3, 1, 5, 12, 2, 11], 3) => [5, 12, 11]"
   ]
  },
  {
   "cell_type": "code",
   "execution_count": 1,
   "id": "b3716480",
   "metadata": {},
   "outputs": [],
   "source": [
    "# \n",
    "\n",
    "from heapq import *\n",
    "\n",
    "\n",
    "def find_k_largest_numbers(nums, k):\n",
    "    minHeap = []\n",
    "    # put first 'K' numbers in the min heap\n",
    "    for i in range(k):\n",
    "        heappush(minHeap, nums[i])\n",
    "\n",
    "    # go through the remaining numbers of the array, if the number from the array is \n",
    "    # bigger than the top(smallest) number of the min-heap, remove the top number from \n",
    "    # heap and add the number from array\n",
    "    for i in range(k, len(nums)):\n",
    "        if nums[i] > minHeap[0]:\n",
    "            heappop(minHeap)\n",
    "            heappush(minHeap, nums[i])\n",
    "\n",
    "    # the heap has the top 'K' numbers\n",
    "    return minHeap"
   ]
  },
  {
   "cell_type": "code",
   "execution_count": 2,
   "id": "29a9778b",
   "metadata": {},
   "outputs": [
    {
     "name": "stdout",
     "output_type": "stream",
     "text": [
      "[5, 12, 11]\n"
     ]
    }
   ],
   "source": [
    "print (find_k_largest_numbers([3, 1, 5, 12, 2, 11], 3))"
   ]
  },
  {
   "cell_type": "markdown",
   "id": "16a9924b",
   "metadata": {},
   "source": [
    "#### k-th smallest number"
   ]
  },
  {
   "cell_type": "code",
   "execution_count": 3,
   "id": "3fc23a2a",
   "metadata": {},
   "outputs": [],
   "source": [
    "# multiple approaches - this one is same as previous, except using a maxHeap\n",
    "\n",
    "from heapq import *\n",
    "\n",
    "\n",
    "def find_Kth_smallest_number(nums, k):\n",
    "    maxHeap = []\n",
    "    # put first k numbers in the max heap\n",
    "    for i in range(k):\n",
    "        heappush(maxHeap, -nums[i])\n",
    "\n",
    "    # go through the remaining numbers of the array, if the number from the array is \n",
    "    # smaller than the top(biggest) number of the heap, remove the top number from heap \n",
    "    # and add the number from array\n",
    "    for i in range(k, len(nums)):\n",
    "        if -nums[i] > maxHeap[0]:\n",
    "            heappop(maxHeap)\n",
    "            heappush(maxHeap, -nums[i])\n",
    "\n",
    "    # the root of the heap has the Kth smallest number\n",
    "    return -maxHeap[0]"
   ]
  },
  {
   "cell_type": "code",
   "execution_count": 5,
   "id": "0ddd2508",
   "metadata": {},
   "outputs": [
    {
     "name": "stdout",
     "output_type": "stream",
     "text": [
      "3\n"
     ]
    }
   ],
   "source": [
    "print (find_Kth_smallest_number([3, 4, 2, 5, 1, 7, 6, 9], 3))"
   ]
  },
  {
   "cell_type": "markdown",
   "id": "f3f8fc53",
   "metadata": {},
   "source": [
    "#### K closest points to the origin"
   ]
  },
  {
   "cell_type": "code",
   "execution_count": 6,
   "id": "66c646fa",
   "metadata": {},
   "outputs": [],
   "source": [
    "from __future__ import print_function\n",
    "from heapq import *\n",
    "\n",
    "\n",
    "class Point:\n",
    "    def __init__(self, x, y):\n",
    "        self.x = x\n",
    "        self.y = y\n",
    "\n",
    "    # used for max-heap\n",
    "    def __lt__(self, other):\n",
    "        return self.distance_from_origin() > other.distance_from_origin()\n",
    "\n",
    "    def distance_from_origin(self):\n",
    "        # ignoring sqrt to calculate the distance\n",
    "        return (self.x * self.x) + (self.y * self.y)\n",
    "\n",
    "    def print_point(self):\n",
    "        print(\"[\" + str(self.x) + \", \" + str(self.y) + \"] \", end='')\n",
    "\n",
    "\n",
    "def find_closest_points(points, k):\n",
    "    maxHeap = []\n",
    "    # put first 'k' points in the max heap\n",
    "    for i in range(k):\n",
    "        heappush(maxHeap, points[i])\n",
    "\n",
    "    # go through the remaining points of the input array, if a point is closer to the \n",
    "    # origin than the top point of the max-heap, remove the top point from heap and add \n",
    "    # the point from the input array\n",
    "    for i in range(k, len(points)):\n",
    "        if points[i].distance_from_origin() < maxHeap[0].distance_from_origin():\n",
    "            heappop(maxHeap)\n",
    "            heappush(maxHeap, points[i])\n",
    "\n",
    "    # the heap has 'k' points closest to the origin\n",
    "    return maxHeap"
   ]
  },
  {
   "cell_type": "code",
   "execution_count": 7,
   "id": "4b7f02c9",
   "metadata": {},
   "outputs": [
    {
     "name": "stdout",
     "output_type": "stream",
     "text": [
      "[1, 3] [2, -1] "
     ]
    }
   ],
   "source": [
    "for p in find_closest_points([Point(1, 3), Point(3, 4), Point(2, -1)], 2):\n",
    "    p.print_point()"
   ]
  },
  {
   "cell_type": "markdown",
   "id": "915ec939",
   "metadata": {},
   "source": [
    "#### Connect ropes\n",
    "N ropes of different, need to connect them to make a long rope, with min cost - cost of connecting a rope is sum of lengths of the two ropes"
   ]
  },
  {
   "cell_type": "code",
   "execution_count": 8,
   "id": "361f02cd",
   "metadata": {},
   "outputs": [],
   "source": [
    "# fairly trivial\n",
    "\n",
    "from heapq import *\n",
    "\n",
    "\n",
    "def minimum_cost_to_connect_ropes(ropeLengths):\n",
    "    minHeap = []\n",
    "    \n",
    "    # add all ropes to the min heap\n",
    "    for i in ropeLengths:\n",
    "        heappush(minHeap, i)\n",
    "\n",
    "    # go through the values of the heap, in each step take top (lowest) rope lengths from \n",
    "    # the min heap connect them and push the result back to the min heap.\n",
    "    # keep doing this until the heap is left with only one rope\n",
    "    result, temp = 0, 0\n",
    "    while len(minHeap) > 1:\n",
    "        temp = heappop(minHeap) + heappop(minHeap)\n",
    "        result += temp\n",
    "        heappush(minHeap, temp)\n",
    "\n",
    "    return result"
   ]
  },
  {
   "cell_type": "code",
   "execution_count": 9,
   "id": "d5c6aad8",
   "metadata": {},
   "outputs": [
    {
     "name": "stdout",
     "output_type": "stream",
     "text": [
      "36\n"
     ]
    }
   ],
   "source": [
    "print (minimum_cost_to_connect_ropes([3, 4, 5, 6]))"
   ]
  },
  {
   "cell_type": "markdown",
   "id": "4bd14fef",
   "metadata": {},
   "source": [
    "#### Top k frequent numbers"
   ]
  },
  {
   "cell_type": "code",
   "execution_count": 10,
   "id": "60d32f91",
   "metadata": {},
   "outputs": [],
   "source": [
    "# use hash map and heap\n",
    "\n",
    "from heapq import *\n",
    "\n",
    "\n",
    "def find_k_frequent_numbers(nums, k):\n",
    "\n",
    "    # find the frequency of each number\n",
    "    numFrequencyMap = {}\n",
    "    for num in nums:\n",
    "        numFrequencyMap[num] = numFrequencyMap.get(num, 0) + 1\n",
    "\n",
    "    minHeap = []\n",
    "\n",
    "    # go through all numbers of the numFrequencyMap and push them in the minHeap, which \n",
    "    # will have top k frequent numbers. If the heap size is more than k, we remove the \n",
    "    # smallest(top) number\n",
    "    for num, frequency in numFrequencyMap.items():\n",
    "        heappush(minHeap, (frequency, num))\n",
    "        if len(minHeap) > k:\n",
    "            heappop(minHeap)\n",
    "\n",
    "    # create a list of top k numbers\n",
    "    topNumbers = []\n",
    "    while minHeap:\n",
    "        topNumbers.append(heappop(minHeap)[1])\n",
    "\n",
    "    return topNumbers"
   ]
  },
  {
   "cell_type": "code",
   "execution_count": 11,
   "id": "52219b98",
   "metadata": {},
   "outputs": [
    {
     "name": "stdout",
     "output_type": "stream",
     "text": [
      "Here are the K frequent numbers: [11, 12]\n"
     ]
    }
   ],
   "source": [
    "print(\"Here are the K frequent numbers: \" + str(find_k_frequent_numbers([1, 3, 5, 12, 11, 12, 11], 2)))"
   ]
  },
  {
   "cell_type": "markdown",
   "id": "8e895c7a",
   "metadata": {},
   "source": [
    "#### Frequency sort\n",
    "\"abcbab\" => \"bbbaac\""
   ]
  },
  {
   "cell_type": "code",
   "execution_count": 12,
   "id": "6541d018",
   "metadata": {},
   "outputs": [],
   "source": [
    "# similar to previous\n",
    "\n",
    "from heapq import *\n",
    "\n",
    "\n",
    "def sort_character_by_frequency(str):\n",
    "\n",
    "    # find the frequency of each character\n",
    "    charFrequencyMap = {}\n",
    "    for char in str:\n",
    "        charFrequencyMap[char] = charFrequencyMap.get(char, 0) + 1\n",
    "\n",
    "    maxHeap = []\n",
    "    # add all characters to the max heap\n",
    "    for char, frequency in charFrequencyMap.items():\n",
    "        heappush(maxHeap, (-frequency, char))\n",
    "\n",
    "    # build a string, appending the most occurring characters first\n",
    "    sortedString = []\n",
    "    while maxHeap:\n",
    "        frequency, char = heappop(maxHeap)\n",
    "        for _ in range(-frequency):\n",
    "            sortedString.append(char)\n",
    "\n",
    "    return ''.join(sortedString)"
   ]
  },
  {
   "cell_type": "code",
   "execution_count": 13,
   "id": "66a7cb72",
   "metadata": {},
   "outputs": [
    {
     "name": "stdout",
     "output_type": "stream",
     "text": [
      "bbbaac\n"
     ]
    }
   ],
   "source": [
    "print (sort_character_by_frequency(\"abcbab\"))"
   ]
  },
  {
   "cell_type": "markdown",
   "id": "c3849704",
   "metadata": {},
   "source": [
    "#### K-th largest in a stream\n"
   ]
  },
  {
   "cell_type": "code",
   "execution_count": 14,
   "id": "26838c5b",
   "metadata": {},
   "outputs": [],
   "source": [
    "# use min heap\n",
    "\n",
    "from heapq import *\n",
    "\n",
    "\n",
    "class KthLargestNumberInStream:\n",
    "    minHeap = []\n",
    "\n",
    "    def __init__(self, nums, k):\n",
    "        self.k = k\n",
    "        # add the numbers in the min heap\n",
    "        for num in nums:\n",
    "            self.add(num)\n",
    "\n",
    "    def add(self, num):\n",
    "        # add the new number in the min heap\n",
    "        heappush(self.minHeap, num)\n",
    "\n",
    "        # if heap has more than 'k' numbers, remove one number\n",
    "        if len(self.minHeap) > self.k:\n",
    "            heappop(self.minHeap)\n",
    "\n",
    "        # return the 'Kth largest number\n",
    "        return self.minHeap[0]"
   ]
  },
  {
   "cell_type": "code",
   "execution_count": 15,
   "id": "688b9fb3",
   "metadata": {},
   "outputs": [
    {
     "name": "stdout",
     "output_type": "stream",
     "text": [
      "4th largest number is: 5\n",
      "4th largest number is: 6\n",
      "4th largest number is: 6\n"
     ]
    }
   ],
   "source": [
    "kthLargestNumber = KthLargestNumberInStream([3, 1, 5, 12, 2, 11], 4)\n",
    "print(\"4th largest number is: \" + str(kthLargestNumber.add(6)))\n",
    "print(\"4th largest number is: \" + str(kthLargestNumber.add(13)))\n",
    "print(\"4th largest number is: \" + str(kthLargestNumber.add(4)))"
   ]
  },
  {
   "cell_type": "markdown",
   "id": "48488ea0",
   "metadata": {},
   "source": [
    "#### K closest numbers to X\n",
    "[5, 6, 7, 8, 9], K = 3, X = 7 => [6, 7, 8]\n",
    "\n",
    "Input is sorted"
   ]
  },
  {
   "cell_type": "code",
   "execution_count": 16,
   "id": "45fc2075",
   "metadata": {},
   "outputs": [],
   "source": [
    "# \n",
    "\n",
    "from heapq import *\n",
    "\n",
    "def find_closest_elements(arr, K, X):\n",
    "    index = binary_search(arr, X)\n",
    "    low, high = index - K, index + K\n",
    "\n",
    "    low = max(low, 0)  # 'low' should not be less than zero\n",
    "    # 'high' should not be greater the size of the array\n",
    "    high = min(high, len(arr) - 1)\n",
    "\n",
    "    minHeap = []\n",
    "    # add all candidate elements to the min heap, sorted by their absolute difference \n",
    "    # from 'X'\n",
    "    for i in range(low, high+1):\n",
    "        heappush(minHeap, (abs(arr[i] - X), arr[i]))\n",
    "\n",
    "    # we need the top 'K' elements having smallest difference from 'X'\n",
    "    result = []\n",
    "    for _ in range(K):\n",
    "        result.append(heappop(minHeap)[1])\n",
    "\n",
    "    result.sort()\n",
    "    return result\n",
    "\n",
    "\n",
    "def binary_search(arr,  target):\n",
    "    low, high = 0, len(arr) - 1\n",
    "    \n",
    "    while low <= high:\n",
    "        mid = int(low + (high - low) / 2)\n",
    "        if arr[mid] == target:\n",
    "            return mid\n",
    "        if arr[mid] < target:\n",
    "            low = mid + 1\n",
    "        else:\n",
    "            high = mid - 1\n",
    "        if low > 0:\n",
    "            return low - 1\n",
    "        \n",
    "    return low"
   ]
  },
  {
   "cell_type": "code",
   "execution_count": 17,
   "id": "577213af",
   "metadata": {},
   "outputs": [
    {
     "name": "stdout",
     "output_type": "stream",
     "text": [
      "[6, 7, 8]\n"
     ]
    }
   ],
   "source": [
    "print (find_closest_elements([5, 6, 7, 8, 9], 3, 7))"
   ]
  },
  {
   "cell_type": "markdown",
   "id": "122907a4",
   "metadata": {},
   "source": [
    "#### Maximum distinct elements\n",
    "Remove K elements yet maintain maximum number of distinct elements in the list"
   ]
  },
  {
   "cell_type": "code",
   "execution_count": 19,
   "id": "1e093f97",
   "metadata": {},
   "outputs": [],
   "source": [
    "from heapq import *\n",
    "\n",
    "\n",
    "def find_maximum_distinct_elements(nums, k):\n",
    "    distinctElementsCount = 0\n",
    "    if len(nums) <= k:\n",
    "        return distinctElementsCount\n",
    "\n",
    "    # find the frequency of each number\n",
    "    numFrequencyMap = {}\n",
    "    for i in nums:\n",
    "        numFrequencyMap[i] = numFrequencyMap.get(i, 0) + 1\n",
    "\n",
    "    minHeap = []\n",
    "    # insert all numbers with frequency greater than '1' into the min-heap\n",
    "    for num, frequency in numFrequencyMap.items():\n",
    "        if frequency == 1:\n",
    "            distinctElementsCount += 1\n",
    "        else:\n",
    "            heappush(minHeap, (frequency, num))\n",
    "\n",
    "    # following a greedy approach, try removing the least frequent numbers first from \n",
    "    # the min-heap\n",
    "    while k > 0 and minHeap:\n",
    "        frequency, num = heappop(minHeap)\n",
    "        # to make an element distinct, we need to remove all of its occurrences except one\n",
    "        k -= frequency - 1\n",
    "        if k >= 0:\n",
    "            distinctElementsCount += 1\n",
    "\n",
    "    # if k > 0, this means we have to remove some distinct numbers\n",
    "    if k > 0:\n",
    "        distinctElementsCount -= k\n",
    "\n",
    "    return distinctElementsCount"
   ]
  },
  {
   "cell_type": "code",
   "execution_count": 20,
   "id": "36e07e76",
   "metadata": {},
   "outputs": [
    {
     "name": "stdout",
     "output_type": "stream",
     "text": [
      "3\n"
     ]
    }
   ],
   "source": [
    "print (find_maximum_distinct_elements([1, 2, 3, 3, 3, 3, 4, 4, 5, 5, 5], 2))"
   ]
  },
  {
   "cell_type": "markdown",
   "id": "94556fca",
   "metadata": {},
   "source": [
    "#### Sum of elements\n",
    "Given list and k1 & k2 find sum of list k1:k2 th smallest elements of the array"
   ]
  },
  {
   "cell_type": "code",
   "execution_count": 21,
   "id": "a7bd511b",
   "metadata": {},
   "outputs": [],
   "source": [
    "from heapq import *\n",
    "\n",
    "\n",
    "def find_sum_of_elements(nums, k1, k2):\n",
    "    minHeap = []\n",
    "    # insert all numbers to the min heap\n",
    "    for num in nums:\n",
    "        heappush(minHeap, num)\n",
    "\n",
    "    # remove k1 small numbers from the min heap\n",
    "    for _ in range(k1):\n",
    "        heappop(minHeap)\n",
    "\n",
    "    elementSum = 0\n",
    "    # sum next k2-k1-1 numbers\n",
    "    for _ in range(k2 - k1 - 1):\n",
    "        elementSum += heappop(minHeap)\n",
    "\n",
    "    return elementSum"
   ]
  },
  {
   "cell_type": "code",
   "execution_count": 23,
   "id": "53cf1b24",
   "metadata": {},
   "outputs": [
    {
     "name": "stdout",
     "output_type": "stream",
     "text": [
      "23\n"
     ]
    }
   ],
   "source": [
    "print (find_sum_of_elements([1, 3, 12, 5, 15, 11], 3, 6))"
   ]
  },
  {
   "cell_type": "markdown",
   "id": "9bcfc351",
   "metadata": {},
   "source": [
    "#### Rearrange string\n",
    "In such a way (if possible) that no two characters are repeated"
   ]
  },
  {
   "cell_type": "code",
   "execution_count": 24,
   "id": "fcca2cca",
   "metadata": {},
   "outputs": [],
   "source": [
    "# \n",
    "\n",
    "from heapq import *\n",
    "\n",
    "\n",
    "def rearrange_string(str):\n",
    "    charFrequencyMap = {}\n",
    "    for char in str:\n",
    "        charFrequencyMap[char] = charFrequencyMap.get(char, 0) + 1\n",
    "\n",
    "    maxHeap = []\n",
    "    # add all characters to the max heap\n",
    "    for char, frequency in charFrequencyMap.items():\n",
    "        heappush(maxHeap, (-frequency, char))\n",
    "\n",
    "    previousChar, previousFrequency = None, 0\n",
    "    resultString = []\n",
    "    while maxHeap:\n",
    "        frequency, char = heappop(maxHeap)\n",
    "        # add the previous entry back in the heap if its frequency is greater than zero\n",
    "        if previousChar and -previousFrequency > 0:\n",
    "            heappush(maxHeap, (previousFrequency, previousChar))\n",
    "        # append the current character to the result string and decrement its count\n",
    "        resultString.append(char)\n",
    "        previousChar = char\n",
    "        previousFrequency = frequency+1  # decrement the frequency\n",
    "\n",
    "    # if we were successful in appending all the characters to the result string, return it\n",
    "    return ''.join(resultString) if len(resultString) == len(str) else \"\""
   ]
  },
  {
   "cell_type": "code",
   "execution_count": 25,
   "id": "b3a87cab",
   "metadata": {},
   "outputs": [
    {
     "name": "stdout",
     "output_type": "stream",
     "text": [
      "papap\n"
     ]
    }
   ],
   "source": [
    "print (rearrange_string(\"aappp\"))"
   ]
  },
  {
   "cell_type": "code",
   "execution_count": null,
   "id": "470ac416",
   "metadata": {},
   "outputs": [],
   "source": []
  }
 ],
 "metadata": {
  "kernelspec": {
   "display_name": "Python 3",
   "language": "python",
   "name": "python3"
  },
  "language_info": {
   "codemirror_mode": {
    "name": "ipython",
    "version": 3
   },
   "file_extension": ".py",
   "mimetype": "text/x-python",
   "name": "python",
   "nbconvert_exporter": "python",
   "pygments_lexer": "ipython3",
   "version": "3.9.5"
  }
 },
 "nbformat": 4,
 "nbformat_minor": 5
}
