{
 "cells": [
  {
   "cell_type": "markdown",
   "id": "15cf0d4a",
   "metadata": {},
   "source": [
    "### Unbound knapsack\n",
    "Allowed to pick multiple copies of the same element.\n",
    "Rest is same as 0/1 knapsack"
   ]
  },
  {
   "cell_type": "markdown",
   "id": "bd201c11",
   "metadata": {},
   "source": [
    "##### Brute force\n",
    "```for each item 'i' \n",
    "  create a new set which includes one quantity of item 'i' if it does not exceed the capacity, and \n",
    "     recursively call to process all items \n",
    "  create a new set without item 'i', and recursively process the remaining items \n",
    "return the set from the above two sets with higher profit ```"
   ]
  },
  {
   "cell_type": "code",
   "execution_count": 1,
   "id": "2efb3155",
   "metadata": {},
   "outputs": [],
   "source": [
    "def solve_knapsack(profits, weights, capacity):\n",
    "    return solve_knapsack_recursive(profits, weights, capacity, 0)\n",
    "\n",
    "\n",
    "def solve_knapsack_recursive(profits, weights, capacity, currentIndex):\n",
    "    n = len(profits)\n",
    "    # base checks\n",
    "    if capacity <= 0 or n == 0 or len(weights) != n or currentIndex >= n:\n",
    "        return 0\n",
    "\n",
    "    # recursive call after choosing the items at the currentIndex, note that we recursive \n",
    "    # call on all items as we did not increment currentIndex\n",
    "    profit1 = 0\n",
    "    if weights[currentIndex] <= capacity:\n",
    "        profit1 = profits[currentIndex] + solve_knapsack_recursive(profits, weights, capacity - weights[currentIndex], currentIndex)\n",
    "\n",
    "    # recursive call after excluding the element at the currentIndex\n",
    "    profit2 = solve_knapsack_recursive(profits, weights, capacity, currentIndex + 1)\n",
    "\n",
    "    return max(profit1, profit2)"
   ]
  },
  {
   "cell_type": "code",
   "execution_count": 2,
   "id": "e9b7d398",
   "metadata": {},
   "outputs": [
    {
     "name": "stdout",
     "output_type": "stream",
     "text": [
      "140\n",
      "105\n"
     ]
    }
   ],
   "source": [
    "print(solve_knapsack([15, 50, 60, 90], [1, 3, 4, 5], 8))\n",
    "print(solve_knapsack([15, 50, 60, 90], [1, 3, 4, 5], 6))"
   ]
  },
  {
   "cell_type": "markdown",
   "id": "89a3aa4a",
   "metadata": {},
   "source": [
    "##### Memoization\n",
    "The indices in this case would be index and the capacity, therefore:"
   ]
  },
  {
   "cell_type": "code",
   "execution_count": 3,
   "id": "b47a1891",
   "metadata": {},
   "outputs": [],
   "source": [
    "def solve_knapsack(profits, weights, capacity):\n",
    "    dp = [[-1 for _ in range(capacity+1)] for _ in range(len(profits))]\n",
    "    \n",
    "    return solve_knapsack_recursive(dp, profits, weights, capacity, 0)\n",
    "\n",
    "\n",
    "def solve_knapsack_recursive(dp, profits, weights, capacity, currentIndex):\n",
    "    n = len(profits)\n",
    "    \n",
    "    # base checks\n",
    "    if capacity <= 0 or n == 0 or len(weights) != n or currentIndex >= n:\n",
    "        return 0\n",
    "\n",
    "    # check if we have not already processed a similar sub-problem\n",
    "    if dp[currentIndex][capacity] == -1:\n",
    "        # recursive call after choosing the items at the currentIndex, note that we\n",
    "        # recursive call on all items as we did not increment currentIndex\n",
    "        profit1 = 0\n",
    "        if weights[currentIndex] <= capacity:\n",
    "            profit1 = profits[currentIndex] + solve_knapsack_recursive(dp, profits, weights, capacity - weights[currentIndex], currentIndex)\n",
    "\n",
    "        # recursive call after excluding the element at the currentIndex\n",
    "        profit2 = solve_knapsack_recursive(dp, profits, weights, capacity, currentIndex + 1)\n",
    "\n",
    "        dp[currentIndex][capacity] = max(profit1, profit2)\n",
    "\n",
    "    return dp[currentIndex][capacity]"
   ]
  },
  {
   "cell_type": "code",
   "execution_count": 4,
   "id": "4e02d348",
   "metadata": {},
   "outputs": [
    {
     "name": "stdout",
     "output_type": "stream",
     "text": [
      "140\n",
      "105\n"
     ]
    }
   ],
   "source": [
    "print(solve_knapsack([15, 50, 60, 90], [1, 3, 4, 5], 8))\n",
    "print(solve_knapsack([15, 50, 60, 90], [1, 3, 4, 5], 6))"
   ]
  },
  {
   "cell_type": "markdown",
   "id": "38e5c7e9",
   "metadata": {},
   "source": [
    "##### Bottom up:\n",
    "So for every possible capacity ‘c’ (0 <= c <= capacity), we have two options:\n",
    "\n",
    "1. Exclude the item. In this case, we will take whatever profit we get from the sub-array excluding this item: dp[index-1][c]\n",
    "2. Include the item if its weight is not more than the ‘c’. In this case, we include its profit plus whatever profit we get from the remaining capacity: profit[index] + dp[index][c-weight[index]]\n",
    "\n",
    "``` dp[index][c] = max (dp[index-1][c], profit[index] + dp[index][c-weight[index]])```"
   ]
  },
  {
   "cell_type": "code",
   "execution_count": 6,
   "id": "ca599bf4",
   "metadata": {},
   "outputs": [],
   "source": [
    "def solve_knapsack(profits, weights, capacity):\n",
    "    n = len(profits)\n",
    "    # base checks\n",
    "    if capacity <= 0 or n == 0 or len(weights) != n:\n",
    "        return 0\n",
    "\n",
    "    dp = [[-1 for _ in range(capacity+1)] for _ in range(len(profits))]\n",
    "\n",
    "    # populate the capacity=0 columns\n",
    "    for i in range(n):\n",
    "        dp[i][0] = 0\n",
    "\n",
    "    # process all sub-arrays for all capacities\n",
    "    for i in range(n):\n",
    "            for c in range(1, capacity+1):\n",
    "                profit1, profit2 = 0, 0\n",
    "                if weights[i] <= c:\n",
    "                    profit1 = profits[i] + dp[i][c - weights[i]]\n",
    "                if i > 0:\n",
    "                    profit2 = dp[i - 1][c]\n",
    "                dp[i][c] = profit1 if profit1 > profit2 else profit2\n",
    "\n",
    "    # maximum profit will be in the bottom-right corner.\n",
    "    return dp[n - 1][capacity]"
   ]
  },
  {
   "cell_type": "code",
   "execution_count": 7,
   "id": "7a01c538",
   "metadata": {},
   "outputs": [
    {
     "name": "stdout",
     "output_type": "stream",
     "text": [
      "140\n",
      "105\n"
     ]
    }
   ],
   "source": [
    "print(solve_knapsack([15, 50, 60, 90], [1, 3, 4, 5], 8))\n",
    "print(solve_knapsack([15, 50, 60, 90], [1, 3, 4, 5], 6))"
   ]
  },
  {
   "cell_type": "markdown",
   "id": "f7648162",
   "metadata": {},
   "source": [
    "<br>"
   ]
  },
  {
   "cell_type": "markdown",
   "id": "cfa43357",
   "metadata": {},
   "source": [
    "#### Rod cutting\n",
    "Given a rod length and list of profits per rod length, cut it to maximize profit"
   ]
  },
  {
   "cell_type": "markdown",
   "id": "582ac62b",
   "metadata": {},
   "source": [
    "##### Brute force:\n",
    "On analysis, this is exactly similar to the previous problem\n",
    "\n",
    "```for each rod length 'i' \n",
    "  create a new set which includes one quantity of length 'i', and recursively process \n",
    "      all rod lengths for the remaining length \n",
    "  create a new set without rod length 'i', and recursively process remaining rod lengths\n",
    "return the set from the above two sets with a higher sales price```"
   ]
  },
  {
   "cell_type": "markdown",
   "id": "1d48c751",
   "metadata": {},
   "source": [
    "##### Bottom up:\n",
    "\n",
    "So for every possible rod length ‘len’ (0<= len <= n), we have two options:\n",
    "\n",
    "1. Exclude the piece. In this case, we will take whatever price we get from the rod length excluding this piece => dp[index-1][len]\n",
    "2. Include the piece if its length is not more than ‘len’. In this case, we include its price plus whatever price we get from the remaining rod length => prices[index] + dp[index][len-lengths[index]]\n",
    "\n",
    "```dp[index][len] = max (dp[index-1][len], prices[index] + dp[index][len-lengths[index]]) ```"
   ]
  },
  {
   "cell_type": "code",
   "execution_count": 8,
   "id": "b0c1fa42",
   "metadata": {},
   "outputs": [],
   "source": [
    "def solve_rod_cutting(lengths, prices, n):\n",
    "    lengthCount = len(lengths)\n",
    "    # base checks\n",
    "    if n <= 0 or lengthCount == 0 or len(prices) != lengthCount:\n",
    "        return 0\n",
    "\n",
    "    dp = [[0 for _ in range(n+1)] for _ in range(lengthCount)]\n",
    "\n",
    "    # process all rod lengths for all prices\n",
    "    for i in range(lengthCount):\n",
    "        for length in range(1, n+1):\n",
    "            p1, p2 = 0, 0\n",
    "            if lengths[i] <= length:\n",
    "                p1 = prices[i] + dp[i][length - lengths[i]]\n",
    "            if i > 0:\n",
    "                p2 = dp[i - 1][length]\n",
    "            dp[i][length] = max(p1, p2)\n",
    "\n",
    "    # maximum price will be at the bottom-right corner.\n",
    "    return dp[lengthCount - 1][n]"
   ]
  },
  {
   "cell_type": "code",
   "execution_count": 9,
   "id": "4bbe2136",
   "metadata": {},
   "outputs": [
    {
     "name": "stdout",
     "output_type": "stream",
     "text": [
      "14\n"
     ]
    }
   ],
   "source": [
    "print(solve_rod_cutting([1, 2, 3, 4, 5], [2, 6, 7, 10, 13], 5))"
   ]
  },
  {
   "cell_type": "markdown",
   "id": "6a27ee80",
   "metadata": {},
   "source": [
    "#### Coin change\n",
    "Given set of available coins and an amount, find number of ways to find the change\n",
    "\n",
    "_This is not an optimization problem but a counting problem_"
   ]
  },
  {
   "cell_type": "markdown",
   "id": "a0d2184d",
   "metadata": {},
   "source": [
    "##### Brute force:\n",
    "```for each coin 'c' \n",
    "  create a new set which includes one quantity of coin 'c' if it does not exceed 'T', and \n",
    "     recursively call to process all coins \n",
    "  create a new set without coin 'c', and recursively call to process the remaining coins \n",
    "return the count of sets who have a sum equal to 'T'```"
   ]
  },
  {
   "cell_type": "code",
   "execution_count": 10,
   "id": "bf40b607",
   "metadata": {},
   "outputs": [],
   "source": [
    "def count_change(denominations, total):\n",
    "    return count_change_recursive(denominations, total, 0)\n",
    "\n",
    "\n",
    "def count_change_recursive(denominations, total, currentIndex):\n",
    "    # base checks\n",
    "    if total == 0:\n",
    "        return 1\n",
    "\n",
    "    n = len(denominations)\n",
    "    if n == 0 or currentIndex >= n:\n",
    "        return 0\n",
    "\n",
    "    # recursive call after selecting the coin at the currentIndex\n",
    "    # if the coin at currentIndex exceeds the total, we shouldn't process this\n",
    "    sum1 = 0\n",
    "    if denominations[currentIndex] <= total:\n",
    "        sum1 = count_change_recursive(denominations, total - denominations[currentIndex], currentIndex)\n",
    "\n",
    "    # recursive call after excluding the coin at the currentIndex\n",
    "    sum2 = count_change_recursive(denominations, total, currentIndex + 1)\n",
    "\n",
    "    return sum1 + sum2"
   ]
  },
  {
   "cell_type": "code",
   "execution_count": 11,
   "id": "78db3fb4",
   "metadata": {},
   "outputs": [
    {
     "name": "stdout",
     "output_type": "stream",
     "text": [
      "5\n"
     ]
    }
   ],
   "source": [
    "print(count_change([1, 2, 3], 5))"
   ]
  },
  {
   "cell_type": "markdown",
   "id": "f9525052",
   "metadata": {},
   "source": [
    "##### Memoization:\n",
    "The indices here would be total and currentIndex"
   ]
  },
  {
   "cell_type": "code",
   "execution_count": 12,
   "id": "2f49addf",
   "metadata": {},
   "outputs": [],
   "source": [
    "def count_change(denominations, total):\n",
    "    dp = [[-1 for _ in range(total+1)] for _ in range(len(denominations))]\n",
    "    return count_change_recursive(dp, denominations, total, 0)\n",
    "\n",
    "\n",
    "def count_change_recursive(dp, denominations, total, currentIndex):\n",
    "    # base checks\n",
    "    if total == 0:\n",
    "        return 1\n",
    "\n",
    "    n = len(denominations)\n",
    "    if n == 0 or currentIndex >= n:\n",
    "        return 0\n",
    "\n",
    "    if dp[currentIndex][total] != -1:\n",
    "        return dp[currentIndex][total]\n",
    "\n",
    "    # recursive call after selecting the coin at the currentIndex\n",
    "    # if the coin at currentIndex exceeds the total, we shouldn't process this\n",
    "    sum1 = 0\n",
    "    if denominations[currentIndex] <= total:\n",
    "        sum1 = count_change_recursive(dp, denominations, total - denominations[currentIndex], currentIndex)\n",
    "\n",
    "    # recursive call after excluding the coin at the currentIndex\n",
    "    sum2 = count_change_recursive(dp, denominations, total, currentIndex + 1)\n",
    "\n",
    "    dp[currentIndex][total] = sum1 + sum2\n",
    "    \n",
    "    return dp[currentIndex][total]"
   ]
  },
  {
   "cell_type": "code",
   "execution_count": 13,
   "id": "dfe37e11",
   "metadata": {},
   "outputs": [
    {
     "name": "stdout",
     "output_type": "stream",
     "text": [
      "5\n"
     ]
    }
   ],
   "source": [
    "print(count_change([1, 2, 3], 5))"
   ]
  },
  {
   "cell_type": "markdown",
   "id": "3aaede5b",
   "metadata": {},
   "source": [
    "##### Bottom up:\n",
    "for every possible total ‘t’ (0<= t <= Total) and for every possible coin index (0 <= index < denominations.length), we have two options:\n",
    "\n",
    "1. Exclude the coin. Count all the coin combinations without the given coin up to the total ‘t’ => dp[index-1][t]\n",
    "2. Include the coin if its value is not more than ‘t’. In this case, we will count all the coin combinations to get the remaining total: dp[index][t-denominations[index]]\n",
    "\n",
    "```dp[index][t] = dp[index-1][t] + dp[index][t-denominations[index]]```"
   ]
  },
  {
   "cell_type": "code",
   "execution_count": 14,
   "id": "49f0615e",
   "metadata": {},
   "outputs": [],
   "source": [
    "def count_change(denominations, total):\n",
    "    n = len(denominations)\n",
    "    dp = [[0 for _ in range(total+1)] for _ in range(n)]\n",
    "\n",
    "    # populate the total = 0 columns, as we will always have an empty set for zero total\n",
    "    for i in range(n):\n",
    "        dp[i][0] = 1\n",
    "\n",
    "    # process all sub-arrays for all capacities\n",
    "    for i in range(n):\n",
    "        for t in range(1, total+1):\n",
    "            if i > 0:\n",
    "                dp[i][t] = dp[i - 1][t]\n",
    "            if t >= denominations[i]:\n",
    "                dp[i][t] += dp[i][t - denominations[i]]\n",
    "\n",
    "    # total combinations will be at the bottom-right corner.\n",
    "    return dp[n - 1][total]"
   ]
  },
  {
   "cell_type": "code",
   "execution_count": 15,
   "id": "4168f70f",
   "metadata": {},
   "outputs": [
    {
     "name": "stdout",
     "output_type": "stream",
     "text": [
      "5\n"
     ]
    }
   ],
   "source": [
    "print(count_change([1, 2, 3], 5))"
   ]
  },
  {
   "cell_type": "markdown",
   "id": "039455ca",
   "metadata": {},
   "source": [
    "#### Minimum coin change:\n",
    "An extension of the previous problem. Here we need to minimise the number of coins required"
   ]
  },
  {
   "cell_type": "markdown",
   "id": "2149fc80",
   "metadata": {},
   "source": [
    "##### Brute force:\n",
    "```for each coin 'c' \n",
    "  create a new set which includes one quantity of coin 'c' if it does not exceed 'T', and \n",
    "     recursively call to process all coins \n",
    "  create a new set without coin 'c', and recursively call to process the remaining coins \n",
    "return the count of coins from the above two sets with a smaller number of coins```"
   ]
  },
  {
   "cell_type": "code",
   "execution_count": 16,
   "id": "d7f19d48",
   "metadata": {},
   "outputs": [],
   "source": [
    "import math\n",
    "\n",
    "\n",
    "def count_change(denominations, total):\n",
    "    result = count_change_recursive(denominations, total, 0)\n",
    "    return -1 if result == math.inf else result\n",
    "\n",
    "\n",
    "def count_change_recursive(denominations, total, currentIndex):\n",
    "    # base check\n",
    "    if total == 0:\n",
    "        return 0\n",
    "\n",
    "    n = len(denominations)\n",
    "    if n == 0 or currentIndex >= n:\n",
    "        return math.inf\n",
    "\n",
    "    # recursive call after selecting the coin at the currentIndex\n",
    "    # if the coin at currentIndex exceeds the total, we shouldn't process this\n",
    "    count1 = math.inf\n",
    "    if denominations[currentIndex] <= total:\n",
    "        res = count_change_recursive(denominations, total - denominations[currentIndex], currentIndex)\n",
    "        if res != math.inf:\n",
    "            count1 = res + 1\n",
    "\n",
    "    # recursive call after excluding the coin at the currentIndex\n",
    "    count2 = count_change_recursive(denominations, total, currentIndex + 1)\n",
    "\n",
    "    return min(count1, count2)"
   ]
  },
  {
   "cell_type": "code",
   "execution_count": 17,
   "id": "d8cd7fad",
   "metadata": {},
   "outputs": [
    {
     "name": "stdout",
     "output_type": "stream",
     "text": [
      "2\n",
      "4\n",
      "3\n",
      "-1\n"
     ]
    }
   ],
   "source": [
    "print(count_change([1, 2, 3], 5))\n",
    "print(count_change([1, 2, 3], 11))\n",
    "print(count_change([1, 2, 3], 7))\n",
    "print(count_change([3, 5], 7))"
   ]
  },
  {
   "cell_type": "markdown",
   "id": "50da20f4",
   "metadata": {},
   "source": [
    "##### Memoization:\n",
    "The indices here will be current item and total (same as prev)\n",
    "Only difference will be what is being returned"
   ]
  },
  {
   "cell_type": "code",
   "execution_count": 18,
   "id": "a0d1c6df",
   "metadata": {},
   "outputs": [],
   "source": [
    "import math\n",
    "\n",
    "\n",
    "def count_change(denominations, total):\n",
    "    dp = [[-1 for _ in range(total+1)] for _ in range(len(denominations))]\n",
    "    result = count_change_recursive(dp, denominations, total, 0)\n",
    "    \n",
    "    return -1 if result == math.inf else result\n",
    "\n",
    "\n",
    "def count_change_recursive(dp, denominations, total, currentIndex):\n",
    "    # base check\n",
    "    if total == 0:\n",
    "        return 0\n",
    "    n = len(denominations)\n",
    "    if n == 0 or currentIndex >= n:\n",
    "        return math.inf\n",
    "\n",
    "    # check if we have not already processed a similar sub-problem\n",
    "    if dp[currentIndex][total] == -1:\n",
    "        # recursive call after selecting the coin at the currentIndex\n",
    "        # if the coin at currentIndex exceeds the total, we shouldn't process this\n",
    "        count1 = math.inf\n",
    "        if denominations[currentIndex] <= total:\n",
    "            res = count_change_recursive(dp, denominations, total - denominations[currentIndex], currentIndex)\n",
    "            if res != math.inf:\n",
    "                count1 = res + 1\n",
    "\n",
    "        # recursive call after excluding the coin at the currentIndex\n",
    "        count2 = count_change_recursive(dp, denominations, total, currentIndex + 1)\n",
    "        \n",
    "        dp[currentIndex][total] = min(count1, count2)\n",
    "\n",
    "    return dp[currentIndex][total]"
   ]
  },
  {
   "cell_type": "code",
   "execution_count": 19,
   "id": "096788c2",
   "metadata": {},
   "outputs": [
    {
     "name": "stdout",
     "output_type": "stream",
     "text": [
      "2\n",
      "4\n",
      "3\n",
      "-1\n"
     ]
    }
   ],
   "source": [
    "print(count_change([1, 2, 3], 5))\n",
    "print(count_change([1, 2, 3], 11))\n",
    "print(count_change([1, 2, 3], 7))\n",
    "print(count_change([3, 5], 7))"
   ]
  },
  {
   "cell_type": "markdown",
   "id": "b8a42589",
   "metadata": {},
   "source": [
    "##### Bottom up:\n",
    "for every possible total ‘t’ (0<= t <= Total) and for every possible coin index (0 <= index < denominations.length), we have two options:\n",
    "    \n",
    "1. Exclude the coin: In this case, we will take the minimum coin count from the previous set => dp[index-1][t]\n",
    "2. Include the coin if its value is not more than ‘t’: In this case, we will take the minimum count needed to get the remaining total, plus include ‘1’ for the current coin => dp[index][t-denominations[index]] + 1\n",
    "\n",
    "```dp[index][t] = min(dp[index-1][t], dp[index][t-denominations[index]] + 1)```"
   ]
  },
  {
   "cell_type": "code",
   "execution_count": 20,
   "id": "faa3064c",
   "metadata": {},
   "outputs": [],
   "source": [
    "import math\n",
    "\n",
    "\n",
    "def count_change(denominations, total):\n",
    "    n = len(denominations)\n",
    "    dp = [[math.inf for _ in range(total+1)] for _ in range(n)]\n",
    "\n",
    "    # populate the total=0 columns, as we don't need any coin to make zero total\n",
    "    for i in range(n):\n",
    "        dp[i][0] = 0\n",
    "\n",
    "    for i in range(n):\n",
    "        for t in range(1, total+1):\n",
    "            if i > 0:\n",
    "                dp[i][t] = dp[i - 1][t]  # exclude the coin\n",
    "            if t >= denominations[i]:\n",
    "                if dp[i][t - denominations[i]] != math.inf:\n",
    "                    # include the coin\n",
    "                    dp[i][t] = min(dp[i][t], dp[i][t - denominations[i]] + 1)\n",
    "\n",
    "    # total combinations will be at the bottom-right corner.\n",
    "    return -1 if dp[n - 1][total] == math.inf else dp[n - 1][total]"
   ]
  },
  {
   "cell_type": "code",
   "execution_count": 21,
   "id": "7fa39ea1",
   "metadata": {},
   "outputs": [
    {
     "name": "stdout",
     "output_type": "stream",
     "text": [
      "2\n",
      "4\n",
      "3\n",
      "-1\n"
     ]
    }
   ],
   "source": [
    "print(count_change([1, 2, 3], 5))\n",
    "print(count_change([1, 2, 3], 11))\n",
    "print(count_change([1, 2, 3], 7))\n",
    "print(count_change([3, 5], 7))"
   ]
  },
  {
   "cell_type": "markdown",
   "id": "14c87e9a",
   "metadata": {},
   "source": [
    "#### Maximum ribbon cut:\n",
    "Given long ribbon and possibe cut lengths, obtain maximum number of pieces"
   ]
  },
  {
   "cell_type": "markdown",
   "id": "4de81c7a",
   "metadata": {},
   "source": [
    "##### Brute force:\n",
    "```for each length 'l' \n",
    "  create a new set which includes one quantity of length 'l' if it does not exceed 'n',\n",
    "     and recursively call to process all lengths \n",
    "  create a new set without length 'l', and recursively process the remaining lengths\n",
    "return the number of pieces from the above two sets with a higher number of pieces```"
   ]
  },
  {
   "cell_type": "code",
   "execution_count": 22,
   "id": "25e6173d",
   "metadata": {},
   "outputs": [],
   "source": [
    "import math\n",
    "\n",
    "\n",
    "def count_ribbon_pieces(ribbonLengths, total):\n",
    "    maxPieces = count_ribbon_pieces_recursive(ribbonLengths, total, 0)\n",
    "    return -1 if maxPieces == -math.inf else maxPieces\n",
    "\n",
    "\n",
    "def count_ribbon_pieces_recursive(ribbonLengths, total, currentIndex):\n",
    "    # base check\n",
    "    if total == 0:\n",
    "        return 0\n",
    "\n",
    "    n = len(ribbonLengths)\n",
    "    if n == 0 or currentIndex >= n:\n",
    "        return -math.inf\n",
    "\n",
    "    # recursive call after selecting the ribbon length at the currentIndex\n",
    "    # if the ribbon length at the currentIndex exceeds the total, we shouldn't process this\n",
    "    c1 = -math.inf\n",
    "    if ribbonLengths[currentIndex] <= total:\n",
    "        result = count_ribbon_pieces_recursive(ribbonLengths, total - ribbonLengths[currentIndex], currentIndex)\n",
    "        if result != -math.inf:\n",
    "            c1 = result + 1\n",
    "\n",
    "    # recursive call after excluding the ribbon length at the currentIndex\n",
    "    c2 = count_ribbon_pieces_recursive(ribbonLengths, total, currentIndex + 1)\n",
    "    return max(c1, c2)"
   ]
  },
  {
   "cell_type": "code",
   "execution_count": 23,
   "id": "735af078",
   "metadata": {},
   "outputs": [
    {
     "name": "stdout",
     "output_type": "stream",
     "text": [
      "2\n",
      "3\n",
      "3\n",
      "-1\n"
     ]
    }
   ],
   "source": [
    "print(count_ribbon_pieces([2, 3, 5], 5))\n",
    "print(count_ribbon_pieces([2, 3], 7))\n",
    "print(count_ribbon_pieces([3, 5, 7], 13))\n",
    "print(count_ribbon_pieces([3, 5], 7))"
   ]
  },
  {
   "cell_type": "markdown",
   "id": "f3655a38",
   "metadata": {},
   "source": [
    "##### Bottom up:\n",
    "Very similar to minimum coin change, except here it is the max\n",
    "\n",
    "for every possible length ‘len’ (0 <= len <= total) and for every possible ribbon length index (0 <= index < ribbonLengths.length), we have two options:\n",
    "    \n",
    "1. Exclude the ribbon length: In this case, we will take the maximum piece count from the previous set => dp[index-1][len]\n",
    "2. Include the ribbon length if its value is not more than ‘len’: In this case, we will take the maximum pieces needed to get the remaining total, plus include ‘1’ for the current ribbon length => 1 + dp[index][len-ribbonLengths[index]]\n",
    "\n",
    "```dp[index][len] = max(dp[index-1][len], 1 + dp[index][len-ribbonLengths[index]])```"
   ]
  },
  {
   "cell_type": "code",
   "execution_count": 24,
   "id": "eaa278a7",
   "metadata": {},
   "outputs": [],
   "source": [
    "import math\n",
    "\n",
    "\n",
    "def count_ribbon_pieces(ribbonLengths, total):\n",
    "    n = len(ribbonLengths)\n",
    "    dp = [[-math.inf for _ in range(total+1)] for _ in range(n)]\n",
    "\n",
    "    # populate the total=0 columns, as we don't need any ribbon to make zero total\n",
    "    for i in range(n):\n",
    "        dp[i][0] = 0\n",
    "\n",
    "    for i in range(n):\n",
    "        for t in range(1, total+1):\n",
    "            if i > 0:  # exclude the ribbon\n",
    "                dp[i][t] = dp[i - 1][t]\n",
    "            # include the ribbon and check if the remaining length can be cut into \n",
    "            # available lengths\n",
    "            if t >= ribbonLengths[i] and dp[i][t - ribbonLengths[i]] != -math.inf:\n",
    "                dp[i][t] = max(dp[i][t], dp[i][t - ribbonLengths[i]] + 1)\n",
    "\n",
    "    # total combinations will be at the bottom-right corner, return '-1' if cutting is \n",
    "    # not possible\n",
    "    return -1 if dp[n - 1][total] == -math.inf else dp[n - 1][total]"
   ]
  },
  {
   "cell_type": "code",
   "execution_count": 25,
   "id": "9c64f8dc",
   "metadata": {},
   "outputs": [
    {
     "name": "stdout",
     "output_type": "stream",
     "text": [
      "2\n",
      "3\n",
      "3\n",
      "-1\n"
     ]
    }
   ],
   "source": [
    "print(count_ribbon_pieces([2, 3, 5], 5))\n",
    "print(count_ribbon_pieces([2, 3], 7))\n",
    "print(count_ribbon_pieces([3, 5, 7], 13))\n",
    "print(count_ribbon_pieces([3, 5], 7))"
   ]
  },
  {
   "cell_type": "code",
   "execution_count": null,
   "id": "5e786c90",
   "metadata": {},
   "outputs": [],
   "source": []
  }
 ],
 "metadata": {
  "kernelspec": {
   "display_name": "Python 3",
   "language": "python",
   "name": "python3"
  },
  "language_info": {
   "codemirror_mode": {
    "name": "ipython",
    "version": 3
   },
   "file_extension": ".py",
   "mimetype": "text/x-python",
   "name": "python",
   "nbconvert_exporter": "python",
   "pygments_lexer": "ipython3",
   "version": "3.9.5"
  }
 },
 "nbformat": 4,
 "nbformat_minor": 5
}
