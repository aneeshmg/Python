{
 "cells": [
  {
   "cell_type": "markdown",
   "id": "881755c3",
   "metadata": {},
   "source": [
    "### Longest Common Substring"
   ]
  },
  {
   "cell_type": "markdown",
   "id": "dea0393a",
   "metadata": {},
   "source": [
    "#### Longest common substring\n",
    "\"abdca\" & \"cbda\" => \"bd\""
   ]
  },
  {
   "cell_type": "markdown",
   "id": "f50c18f9",
   "metadata": {},
   "source": [
    "##### Brute force:\n",
    "A basic brute-force solution could be to try all substrings of ‘s1’ and ‘s2’ to find the longest common one. We can start matching both the strings one character at a time, so we have two options at any step:\n",
    "\n",
    "1. If the strings have a matching character, we can recursively match for the remaining lengths and keep a track of the current matching length.\n",
    "2. If the strings don’t match, we start two new recursive calls by skipping one character separately from each string and reset the matching length.\n",
    "\n",
    "The length of the Longest Common Substring (LCS) will be the maximum number returned by the three recurse calls in the above two options."
   ]
  },
  {
   "cell_type": "code",
   "execution_count": 1,
   "id": "c2964dd7",
   "metadata": {},
   "outputs": [],
   "source": [
    "def find_LCS_length(s1, s2):\n",
    "    return find_LCS_length_recursive(s1, s2, 0, 0, 0)\n",
    "\n",
    "\n",
    "def find_LCS_length_recursive(s1, s2, i1, i2, count):\n",
    "    if i1 == len(s1) or i2 == len(s2):\n",
    "        return count\n",
    "\n",
    "    if s1[i1] == s2[i2]:\n",
    "        count = find_LCS_length_recursive(s1, s2, i1 + 1, i2 + 1, count + 1)\n",
    "\n",
    "    c1 = find_LCS_length_recursive(s1, s2, i1, i2 + 1, 0)\n",
    "    c2 = find_LCS_length_recursive(s1, s2, i1 + 1, i2, 0)\n",
    "\n",
    "    return max(count, max(c1, c2))"
   ]
  },
  {
   "cell_type": "code",
   "execution_count": 2,
   "id": "b85843e9",
   "metadata": {},
   "outputs": [
    {
     "name": "stdout",
     "output_type": "stream",
     "text": [
      "2\n",
      "3\n"
     ]
    }
   ],
   "source": [
    "print(find_LCS_length(\"abdca\", \"cbda\"))\n",
    "print(find_LCS_length(\"passport\", \"ppsspt\"))"
   ]
  },
  {
   "cell_type": "markdown",
   "id": "f34f322f",
   "metadata": {},
   "source": [
    "##### Memoization\n",
    "Two indices needed"
   ]
  },
  {
   "cell_type": "code",
   "execution_count": 3,
   "id": "125e1795",
   "metadata": {},
   "outputs": [],
   "source": [
    "def find_LCS_length(s1, s2):\n",
    "    n1, n2 = len(s1), len(s2)\n",
    "    maxLength = min(n1, n2)\n",
    "    \n",
    "    dp = [[[-1 for _ in range(maxLength)] for _ in range(n2)] for _ in range(n1)]\n",
    "    \n",
    "    return find_LCS_length_recursive(dp, s1, s2, 0, 0, 0)\n",
    "\n",
    "\n",
    "def find_LCS_length_recursive(dp, s1, s2, i1, i2, count):\n",
    "    if i1 == len(s1) or i2 == len(s2):\n",
    "        return count\n",
    "\n",
    "    if dp[i1][i2][count] == -1:\n",
    "        c1 = count\n",
    "        if s1[i1] == s2[i2]:\n",
    "            c1 = find_LCS_length_recursive(dp, s1, s2, i1 + 1, i2 + 1, count + 1)\n",
    "\n",
    "        c2 = find_LCS_length_recursive(dp, s1, s2, i1, i2 + 1, 0)\n",
    "        c3 = find_LCS_length_recursive(dp, s1, s2, i1 + 1, i2, 0)\n",
    "        \n",
    "        dp[i1][i2][count] = max(c1, max(c2, c3))\n",
    "\n",
    "    return dp[i1][i2][count]"
   ]
  },
  {
   "cell_type": "code",
   "execution_count": 4,
   "id": "71c14a87",
   "metadata": {},
   "outputs": [
    {
     "name": "stdout",
     "output_type": "stream",
     "text": [
      "2\n",
      "3\n"
     ]
    }
   ],
   "source": [
    "print(find_LCS_length(\"abdca\", \"cbda\"))\n",
    "print(find_LCS_length(\"passport\", \"ppsspt\"))"
   ]
  },
  {
   "cell_type": "markdown",
   "id": "6c999d0f",
   "metadata": {},
   "source": [
    "##### Bottom up:\n",
    "\n",
    "Since we want to match all the substrings of the given two strings, we can use a two-dimensional array to store our results. The lengths of the two strings will define the size of the two dimensions of the array. So for every index ‘i’ in string ‘s1’ and ‘j’ in string ‘s2’, we have two options:\n",
    "\n",
    "1. If the character at s1[i] matches s2[j], the length of the common substring would be one plus the length of the common substring till i-1 and j-1 indexes in the two strings.\n",
    "2. If the character at the s1[i] does not match s2[j], we don’t have any common substring.\n",
    "\n",
    "```\n",
    "if s1[i] == s2[j] \n",
    "    dp[i][j] = 1 + dp[i-1][j-1]\n",
    "else \n",
    "    dp[i][j] = 0\n",
    "```"
   ]
  },
  {
   "cell_type": "code",
   "execution_count": 6,
   "id": "677dd020",
   "metadata": {},
   "outputs": [],
   "source": [
    "def find_LCS_length(s1, s2):\n",
    "    n1, n2 = len(s1), len(s2)\n",
    "    dp = [[0 for _ in range(n2+1)] for _ in range(n1+1)]\n",
    "    maxLength = 0\n",
    "\n",
    "    for i in range(1, n1+1):\n",
    "        for j in range(1, n2+1):\n",
    "            if s1[i - 1] == s2[j - 1]:\n",
    "                dp[i][j] = 1 + dp[i - 1][j - 1]\n",
    "                maxLength = max(maxLength, dp[i][j])\n",
    "                \n",
    "    return maxLength"
   ]
  },
  {
   "cell_type": "code",
   "execution_count": 7,
   "id": "8479ba1c",
   "metadata": {},
   "outputs": [
    {
     "name": "stdout",
     "output_type": "stream",
     "text": [
      "2\n",
      "3\n"
     ]
    }
   ],
   "source": [
    "print(find_LCS_length(\"abdca\", \"cbda\"))\n",
    "print(find_LCS_length(\"passport\", \"ppsspt\"))"
   ]
  },
  {
   "cell_type": "markdown",
   "id": "4693c3dc",
   "metadata": {},
   "source": [
    "_can be further optimized to use 1-d array_"
   ]
  },
  {
   "cell_type": "markdown",
   "id": "d2fe3caf",
   "metadata": {},
   "source": [
    "<br>"
   ]
  },
  {
   "cell_type": "markdown",
   "id": "62b1aa12",
   "metadata": {},
   "source": [
    "#### Longest common subsequence\n",
    "\"abdca\" & \"cbda\" => 3 - \"bda\""
   ]
  },
  {
   "cell_type": "markdown",
   "id": "4cbfdfcd",
   "metadata": {},
   "source": [
    "##### Brute force\n",
    "\n",
    "A basic brute-force solution could be to try all subsequences of ‘s1’ and ‘s2’ to find the longest one. We can match both the strings one character at a time. So for every index ‘i’ in ‘s1’ and ‘j’ in ‘s2’ we must choose between:\n",
    "\n",
    "1. If the character s1[i] matches s2[j], we can recursively match for the remaining lengths.\n",
    "2. If the character s1[i] does not match s2[j], we will start two new recursive calls by skipping one character separately from each string."
   ]
  },
  {
   "cell_type": "code",
   "execution_count": 8,
   "id": "a79dd2a4",
   "metadata": {},
   "outputs": [],
   "source": [
    "def find_LCS_length(s1, s2):\n",
    "    return find_LCS_length_recursive(s1, s2, 0, 0)\n",
    "\n",
    "\n",
    "def find_LCS_length_recursive(s1, s2, i1, i2):\n",
    "    if i1 == len(s1) or i2 == len(s2):\n",
    "        return 0\n",
    "\n",
    "    if s1[i1] == s2[i2]:\n",
    "        return 1 + find_LCS_length_recursive(s1, s2, i1 + 1, i2 + 1)\n",
    "\n",
    "    c1 = find_LCS_length_recursive(s1, s2, i1, i2 + 1)\n",
    "    c2 = find_LCS_length_recursive(s1, s2, i1 + 1, i2)\n",
    "\n",
    "    return max(c1, c2)"
   ]
  },
  {
   "cell_type": "code",
   "execution_count": 9,
   "id": "b73ba9cf",
   "metadata": {},
   "outputs": [
    {
     "name": "stdout",
     "output_type": "stream",
     "text": [
      "3\n",
      "5\n"
     ]
    }
   ],
   "source": [
    "print(find_LCS_length(\"abdca\", \"cbda\"))\n",
    "print(find_LCS_length(\"passport\", \"ppsspt\"))"
   ]
  },
  {
   "cell_type": "markdown",
   "id": "ce437cd9",
   "metadata": {},
   "source": [
    "##### Memoization:\n",
    "Two indices required\n",
    "\n"
   ]
  },
  {
   "cell_type": "code",
   "execution_count": 10,
   "id": "d1af79b5",
   "metadata": {},
   "outputs": [],
   "source": [
    "def find_LCS_length(s1, s2):\n",
    "    dp = [[-1 for _ in range(len(s2))] for _ in range(len(s1))]\n",
    "    return find_LCS_length_recursive(dp, s1, s2, 0, 0)\n",
    "\n",
    "\n",
    "def find_LCS_length_recursive(dp, s1, s2, i1, i2):\n",
    "    if i1 == len(s1) or i2 == len(s2):\n",
    "        return 0\n",
    "\n",
    "    if dp[i1][i2] == -1:\n",
    "        if s1[i1] == s2[i2]:\n",
    "            dp[i1][i2] = 1 + find_LCS_length_recursive(dp, s1, s2, i1 + 1, i2 + 1)\n",
    "        else:\n",
    "            c1 = find_LCS_length_recursive(dp, s1, s2, i1, i2 + 1)\n",
    "            c2 = find_LCS_length_recursive(dp, s1, s2, i1 + 1, i2)\n",
    "            dp[i1][i2] = max(c1, c2)\n",
    "\n",
    "    return dp[i1][i2]"
   ]
  },
  {
   "cell_type": "code",
   "execution_count": 11,
   "id": "61caaeda",
   "metadata": {},
   "outputs": [
    {
     "name": "stdout",
     "output_type": "stream",
     "text": [
      "3\n",
      "5\n"
     ]
    }
   ],
   "source": [
    "print(find_LCS_length(\"abdca\", \"cbda\"))\n",
    "print(find_LCS_length(\"passport\", \"ppsspt\"))"
   ]
  },
  {
   "cell_type": "markdown",
   "id": "0f19b034",
   "metadata": {},
   "source": [
    "##### Bottom up:\n",
    "\n",
    "The lengths of the two strings will define the size of the array’s two dimensions. So for every index ‘i’ in string ‘s1’ and ‘j’ in string ‘s2’, we will choose one of the following two options:\n",
    "\n",
    "1. If the character s1[i] matches s2[j], the length of the common subsequence would be one plus the length of the common subsequence till the i-1 and j-1 indexes in the two respective strings.\n",
    "2. If the character s1[i] does not match s2[j], we will take the longest subsequence by either skipping ith or jth character from the respective strings.\n",
    "\n",
    "```\n",
    "if s1[i] == s2[j] \n",
    "    dp[i][j] = 1 + dp[i-1][j-1]\n",
    "else \n",
    "    dp[i][j] = max(dp[i-1][j], dp[i][j-1])\n",
    "```"
   ]
  },
  {
   "cell_type": "code",
   "execution_count": 13,
   "id": "59a83170",
   "metadata": {},
   "outputs": [],
   "source": [
    "def find_LCS_length(s1, s2):\n",
    "    n1, n2 = len(s1), len(s2)\n",
    "    dp = [[0 for _ in range(n2+1)] for _ in range(n1+1)]\n",
    "    maxLength = 0\n",
    "    for i in range(1, n1+1):\n",
    "        for j in range(1, n2+1):\n",
    "            if s1[i - 1] == s2[j - 1]:\n",
    "                dp[i][j] = 1 + dp[i - 1][j - 1]\n",
    "            else:\n",
    "                dp[i][j] = max(dp[i - 1][j], dp[i][j - 1])\n",
    "\n",
    "        maxLength = max(maxLength, dp[i][j])\n",
    "    return maxLength"
   ]
  },
  {
   "cell_type": "code",
   "execution_count": 14,
   "id": "e59b2447",
   "metadata": {},
   "outputs": [
    {
     "name": "stdout",
     "output_type": "stream",
     "text": [
      "3\n",
      "5\n"
     ]
    }
   ],
   "source": [
    "print(find_LCS_length(\"abdca\", \"cbda\"))\n",
    "print(find_LCS_length(\"passport\", \"ppsspt\"))"
   ]
  },
  {
   "cell_type": "markdown",
   "id": "2d8bfbff",
   "metadata": {},
   "source": [
    "_can be optimized to use 1-d array_"
   ]
  },
  {
   "cell_type": "markdown",
   "id": "93acde74",
   "metadata": {},
   "source": [
    "<br>"
   ]
  },
  {
   "cell_type": "markdown",
   "id": "2bcd27bb",
   "metadata": {},
   "source": [
    "#### Minimum Deletions & Insertions to Transform a String into another\n",
    "Similar to edit distance"
   ]
  },
  {
   "cell_type": "markdown",
   "id": "bcfe93aa",
   "metadata": {},
   "source": [
    "If we can find the LCS of the two input strings, we can easily find how many characters we need to insert and delete from s1. Here is how we can do this:\n",
    "\n",
    "1. Let’s assume len1 is the length of s1 and len2 is the length of s2.\n",
    "2. Now let’s assume c1 is the length of LCS of the two strings s1 and s2.\n",
    "3. To transform s1 into s2, we need to delete everything from s1 which is not part of LCS, so minimum deletions we need to perform from s1 => len1 - c1\n",
    "4. Smilarly, we need to insert everything in s1 which is present in s2 but not part of LCS, so minimum insertions we need to perform in s1 => len2 - c1"
   ]
  },
  {
   "cell_type": "code",
   "execution_count": 15,
   "id": "208d1f31",
   "metadata": {},
   "outputs": [],
   "source": [
    "def find_MDI(s1, s2):\n",
    "    c1 = find_LCS_length(s1, s2)\n",
    "    print(\"Minimum deletions needed: \" + str(len(s1) - c1))\n",
    "    print(\"Minimum insertions needed: \" + str(len(s2) - c1))\n",
    "\n",
    "\n",
    "def find_LCS_length(s1,  s2):\n",
    "    n1, n2 = len(s1), len(s2)\n",
    "    dp = [[0 for _ in range(n2+1)] for _ in range(n1+1)]\n",
    "    maxLength = 0\n",
    "    for i in range(1, n1+1):\n",
    "        for j in range(1, n2+1):\n",
    "            if s1[i - 1] == s2[j - 1]:\n",
    "                dp[i][j] = 1 + dp[i - 1][j - 1]\n",
    "            else:\n",
    "                dp[i][j] = max(dp[i - 1][j], dp[i][j - 1])\n",
    "\n",
    "        maxLength = max(maxLength, dp[i][j])\n",
    "\n",
    "    return maxLength"
   ]
  },
  {
   "cell_type": "code",
   "execution_count": 16,
   "id": "acaba7ca",
   "metadata": {},
   "outputs": [
    {
     "name": "stdout",
     "output_type": "stream",
     "text": [
      "Minimum deletions needed: 1\n",
      "Minimum insertions needed: 1\n",
      "Minimum deletions needed: 2\n",
      "Minimum insertions needed: 1\n",
      "Minimum deletions needed: 3\n",
      "Minimum insertions needed: 1\n"
     ]
    }
   ],
   "source": [
    "find_MDI(\"abc\", \"fbc\")\n",
    "find_MDI(\"abdca\", \"cbda\")\n",
    "find_MDI(\"passport\", \"ppsspt\")"
   ]
  },
  {
   "cell_type": "markdown",
   "id": "4456bc6b",
   "metadata": {},
   "source": [
    "<br>"
   ]
  },
  {
   "cell_type": "markdown",
   "id": "cb4fc9eb",
   "metadata": {},
   "source": [
    "#### Longest Increasing subseqence\n",
    "[4,2,3,6,10,1,12] => 5 - [2,3,6,10,12]"
   ]
  },
  {
   "cell_type": "markdown",
   "id": "2e8151f8",
   "metadata": {},
   "source": [
    "##### Brute force:\n",
    "\n",
    "A basic brute-force solution could be to try all the subsequences of the given number sequence. We can process one number at a time, so we have two options at any step:\n",
    "\n",
    "1. If the current number is greater than the previous number that we included, we can increment our count and make a recursive call for the remaining array.\n",
    "2. We can skip the current number to make a recursive call for the remaining array."
   ]
  },
  {
   "cell_type": "code",
   "execution_count": 17,
   "id": "065b0fbb",
   "metadata": {},
   "outputs": [],
   "source": [
    "def find_LIS_length(nums):\n",
    "    return find_LIS_length_recursive(nums, 0, -1)\n",
    "\n",
    "\n",
    "def find_LIS_length_recursive(nums, currentIndex,  previousIndex):\n",
    "    if currentIndex == len(nums):\n",
    "        return 0\n",
    "\n",
    "    # include nums[currentIndex] if it is larger than the last included number\n",
    "    c1 = 0\n",
    "    if previousIndex == -1 or nums[currentIndex] > nums[previousIndex]:\n",
    "        c1 = 1 + find_LIS_length_recursive(nums, currentIndex + 1, currentIndex)\n",
    "\n",
    "    # excluding the number at currentIndex\n",
    "    c2 = find_LIS_length_recursive(nums, currentIndex + 1, previousIndex)\n",
    "\n",
    "    return max(c1, c2)"
   ]
  },
  {
   "cell_type": "code",
   "execution_count": 18,
   "id": "15111a32",
   "metadata": {},
   "outputs": [
    {
     "name": "stdout",
     "output_type": "stream",
     "text": [
      "5\n",
      "4\n"
     ]
    }
   ],
   "source": [
    "print(find_LIS_length([4, 2, 3, 6, 10, 1, 12]))\n",
    "print(find_LIS_length([-4, 10, 3, 7, 15]))"
   ]
  },
  {
   "cell_type": "markdown",
   "id": "5464e30a",
   "metadata": {},
   "source": [
    "##### Memoization\n",
    "Needs 2-d array for current index and previous index"
   ]
  },
  {
   "cell_type": "code",
   "execution_count": 19,
   "id": "7c214a41",
   "metadata": {},
   "outputs": [],
   "source": [
    "def find_LIS_length(nums):\n",
    "    n = len(nums)\n",
    "    dp = [[-1 for _ in range(n+1)] for _ in range(n)]\n",
    "    return find_LIS_length_recursive(dp, nums, 0, -1)\n",
    "\n",
    "\n",
    "def find_LIS_length_recursive(dp, nums, currentIndex, previousIndex):\n",
    "    if currentIndex == len(nums):\n",
    "        return 0\n",
    "\n",
    "    if dp[currentIndex][previousIndex + 1] == -1:\n",
    "        # include nums[currentIndex] if it is larger than the last included number\n",
    "        c1 = 0\n",
    "        if previousIndex == -1 or nums[currentIndex] > nums[previousIndex]:\n",
    "            c1 = 1 + find_LIS_length_recursive(dp, nums, currentIndex + 1, currentIndex)\n",
    "\n",
    "        c2 = find_LIS_length_recursive(dp, nums, currentIndex + 1, previousIndex)\n",
    "        \n",
    "        dp[currentIndex][previousIndex + 1] = max(c1, c2)\n",
    "\n",
    "    return dp[currentIndex][previousIndex + 1]"
   ]
  },
  {
   "cell_type": "code",
   "execution_count": 20,
   "id": "e7188c47",
   "metadata": {},
   "outputs": [
    {
     "name": "stdout",
     "output_type": "stream",
     "text": [
      "5\n",
      "4\n"
     ]
    }
   ],
   "source": [
    "print(find_LIS_length([4, 2, 3, 6, 10, 1, 12]))\n",
    "print(find_LIS_length([-4, 10, 3, 7, 15]))"
   ]
  },
  {
   "cell_type": "markdown",
   "id": "ea374776",
   "metadata": {},
   "source": [
    "##### Bottom up:\n",
    "1. If the number at the current index is bigger than the number at the previous index, we increment the count for LIS up to the current index.\n",
    "2. But if there is a bigger LIS without including the number at the current index, we take that.\n",
    "\n",
    "`if num[i] > num[j] => dp[i] = dp[j] + 1 if there is no bigger LIS for 'i'`"
   ]
  },
  {
   "cell_type": "code",
   "execution_count": 21,
   "id": "7a192920",
   "metadata": {},
   "outputs": [],
   "source": [
    "def find_LIS_length(nums):\n",
    "    n = len(nums)\n",
    "    dp = [0 for _ in range(n)]\n",
    "    dp[0] = 1\n",
    "\n",
    "    maxLength = 1\n",
    "    for i in range(1, n):\n",
    "        dp[i] = 1\n",
    "        for j in range(i):\n",
    "            if nums[i] > nums[j] and dp[i] <= dp[j]:\n",
    "                dp[i] = dp[j] + 1\n",
    "                maxLength = max(maxLength, dp[i])\n",
    "\n",
    "    return maxLength"
   ]
  },
  {
   "cell_type": "code",
   "execution_count": 22,
   "id": "d12c640e",
   "metadata": {},
   "outputs": [
    {
     "name": "stdout",
     "output_type": "stream",
     "text": [
      "5\n",
      "4\n"
     ]
    }
   ],
   "source": [
    "print(find_LIS_length([4, 2, 3, 6, 10, 1, 12]))\n",
    "print(find_LIS_length([-4, 10, 3, 7, 15]))"
   ]
  },
  {
   "cell_type": "markdown",
   "id": "a2aafadd",
   "metadata": {},
   "source": [
    "<br>"
   ]
  },
  {
   "cell_type": "markdown",
   "id": "6ce1023d",
   "metadata": {},
   "source": [
    "#### Maximum sum increasing subsequence\n",
    "[4,1,2,6,10,1,12] => 32 - The increaseing sequence is {4,6,10,12}. \n",
    "\n",
    "_Not the same as LIS, as the LIS is {1,2,6,10,12} which has a sum of '31'._"
   ]
  },
  {
   "cell_type": "markdown",
   "id": "254c6a94",
   "metadata": {},
   "source": [
    "##### Brute force:\n",
    "Try all the subsequences of the given array. We can process one number at a time, so we have two options at any step: \n",
    "\n",
    "1. If the current number is greater than the previous number that we included, we include that number in a running sum and make a recursive call for the remaining array.\n",
    "2. We can skip the current number to make a recursive call for the remaining array.\n",
    "\n",
    "The highest sum of any increasing subsequence would be the max value returned by the two recurse calls from the above two options."
   ]
  },
  {
   "cell_type": "code",
   "execution_count": 23,
   "id": "35d287bc",
   "metadata": {},
   "outputs": [],
   "source": [
    "def find_MSIS(nums):\n",
    "    return find_MSIS_recursive(nums, 0, -1, 0)\n",
    "\n",
    "\n",
    "def find_MSIS_recursive(nums,  currentIndex,  previousIndex,  sum):\n",
    "    if currentIndex == len(nums):\n",
    "        return sum\n",
    "\n",
    "    # include nums[currentIndex] if it is larger than the last included number\n",
    "    s1 = sum\n",
    "    if previousIndex == -1 or nums[currentIndex] > nums[previousIndex]:\n",
    "        s1 = find_MSIS_recursive(nums, currentIndex+1, currentIndex, sum + nums[currentIndex])\n",
    "\n",
    "    # excluding the number at currentIndex\n",
    "    s2 = find_MSIS_recursive(nums, currentIndex+1, previousIndex, sum)\n",
    "\n",
    "    return max(s1, s2)"
   ]
  },
  {
   "cell_type": "code",
   "execution_count": 24,
   "id": "e7e00346",
   "metadata": {},
   "outputs": [
    {
     "name": "stdout",
     "output_type": "stream",
     "text": [
      "32\n",
      "25\n"
     ]
    }
   ],
   "source": [
    "print(find_MSIS([4, 1, 2, 6, 10, 1, 12]))\n",
    "print(find_MSIS([-4, 10, 3, 7, 15]))"
   ]
  },
  {
   "cell_type": "markdown",
   "id": "dfe9de40",
   "metadata": {},
   "source": [
    "##### Memoization:\n",
    "Need two indices: currentIndex & prevIndex"
   ]
  },
  {
   "cell_type": "code",
   "execution_count": 26,
   "id": "2745b173",
   "metadata": {},
   "outputs": [],
   "source": [
    "def find_MSIS(nums):\n",
    "    dp = {}\n",
    "    return find_MSIS_recursive(dp, nums, 0, -1, 0)\n",
    "\n",
    "\n",
    "def find_MSIS_recursive(dp, nums, currentIndex,  previousIndex,  sum):\n",
    "    if currentIndex == len(nums):\n",
    "        return sum\n",
    "\n",
    "    subProblemKey = str(currentIndex) + \"-\" + str(previousIndex) + \"-\" + str(sum)\n",
    "\n",
    "    if subProblemKey not in dp:\n",
    "        # include nums[currentIndex] if it is larger than the last included number\n",
    "        s1 = sum\n",
    "        if previousIndex == -1 or nums[currentIndex] > nums[previousIndex]:\n",
    "            s1 = find_MSIS_recursive(dp, nums, currentIndex + 1, currentIndex, sum + nums[currentIndex])\n",
    "\n",
    "        # excluding the number at currentIndex\n",
    "        s2 = find_MSIS_recursive(dp, nums, currentIndex + 1, previousIndex, sum)\n",
    "\n",
    "        dp[subProblemKey] = max(s1, s2)\n",
    "\n",
    "    return dp.get(subProblemKey)"
   ]
  },
  {
   "cell_type": "code",
   "execution_count": 27,
   "id": "1d29b1bf",
   "metadata": {},
   "outputs": [
    {
     "name": "stdout",
     "output_type": "stream",
     "text": [
      "32\n",
      "25\n"
     ]
    }
   ],
   "source": [
    "print(find_MSIS([4, 1, 2, 6, 10, 1, 12]))\n",
    "print(find_MSIS([-4, 10, 3, 7, 15]))"
   ]
  },
  {
   "cell_type": "markdown",
   "id": "ed9d44bb",
   "metadata": {},
   "source": [
    "##### Bottomup\n",
    "\n",
    "1. If the number at the current index is bigger than the number at the previous index, we include that number in the sum for an increasing sequence up to the current index.\n",
    "2. But if there is a maximum sum increasing subsequence (MSIS), without including the number at the current index, we take that.\n",
    "\n",
    "So we need to find all the increasing subsequences for a number at index i, from all the previous numbers (i.e. numbers till index i-1), to find MSIS.\n",
    "\n",
    "If i represents the currentIndex and ‘j’ represents the previousIndex, our recursive formula would look like:\n",
    "    \n",
    "`if num[i] > num[j] => dp[i] = dp[j] + num[i] if there is no bigger MSIS for 'i'`"
   ]
  },
  {
   "cell_type": "code",
   "execution_count": 29,
   "id": "116c7e80",
   "metadata": {},
   "outputs": [],
   "source": [
    "def find_MSIS(nums):\n",
    "    n = len(nums)\n",
    "    dp = [0 for _ in range(n)]\n",
    "    dp[0] = nums[0]\n",
    "\n",
    "    maxSum = nums[0]\n",
    "    for i in range(1, n):\n",
    "        dp[i] = nums[i]\n",
    "        for j in range(i):\n",
    "            if nums[i] > nums[j] and dp[i] < dp[j] + nums[i]:\n",
    "                dp[i] = dp[j] + nums[i]\n",
    "\n",
    "        maxSum = max(maxSum, dp[i])\n",
    "\n",
    "    return maxSum"
   ]
  },
  {
   "cell_type": "code",
   "execution_count": 30,
   "id": "173bc86b",
   "metadata": {},
   "outputs": [
    {
     "name": "stdout",
     "output_type": "stream",
     "text": [
      "32\n",
      "25\n"
     ]
    }
   ],
   "source": [
    "print(find_MSIS([4, 1, 2, 6, 10, 1, 12]))\n",
    "print(find_MSIS([-4, 10, 3, 7, 15]))"
   ]
  },
  {
   "cell_type": "markdown",
   "id": "09260a4c",
   "metadata": {},
   "source": [
    "<br>"
   ]
  },
  {
   "cell_type": "markdown",
   "id": "d6460844",
   "metadata": {},
   "source": [
    "#### Shortest Common Super-sequence\n",
    "\"abcf\" & \"bdcf\" => 5 - \"abdcf\""
   ]
  },
  {
   "cell_type": "markdown",
   "id": "47a22564",
   "metadata": {},
   "source": [
    "##### Bruteforce\n",
    "\n",
    "A basic brute-force solution could be to try all the super-sequences of the given sequences. We can process both of the sequences one character at a time, so at any step, we must choose between:\n",
    "\n",
    "1. If the sequences have a matching character, we can skip one character from both the sequences and make a recursive call for the remaining lengths to get SCS.\n",
    "2. If the strings don’t match, we start two new recursive calls by skipping one character separately from each string. The minimum of these two recursive calls will have our answer."
   ]
  },
  {
   "cell_type": "code",
   "execution_count": 31,
   "id": "d56f5bac",
   "metadata": {},
   "outputs": [],
   "source": [
    "def find_SCS_length(s1, s2):\n",
    "    return find_SCS_length_recursive(s1, s2, 0, 0)\n",
    "\n",
    "\n",
    "def find_SCS_length_recursive(s1,  s2,  i1,  i2):\n",
    "    # if we have reached the end of a string, return the remaining length of the\n",
    "    # other string, as in this case we have to take all of the remaining other string\n",
    "    n1, n2 = len(s1), len(s2)\n",
    "    if i1 == n1:\n",
    "        return n2 - i2\n",
    "    if i2 == n2:\n",
    "        return n1 - i1\n",
    "\n",
    "    if s1[i1] == s2[i2]:\n",
    "        return 1 + find_SCS_length_recursive(s1, s2, i1 + 1, i2 + 1)\n",
    "\n",
    "    length1 = 1 + find_SCS_length_recursive(s1, s2, i1, i2 + 1)\n",
    "    length2 = 1 + find_SCS_length_recursive(s1, s2, i1 + 1, i2)\n",
    "\n",
    "    return min(length1, length2)"
   ]
  },
  {
   "cell_type": "code",
   "execution_count": 32,
   "id": "cfdc8ec0",
   "metadata": {},
   "outputs": [
    {
     "name": "stdout",
     "output_type": "stream",
     "text": [
      "5\n",
      "15\n"
     ]
    }
   ],
   "source": [
    "print(find_SCS_length(\"abcf\", \"bdcf\"))\n",
    "print(find_SCS_length(\"dynamic\", \"programming\"))"
   ]
  },
  {
   "cell_type": "markdown",
   "id": "180b8326",
   "metadata": {},
   "source": [
    "##### Memoization\n",
    "Similar to LCS, 2 indices needed"
   ]
  },
  {
   "cell_type": "code",
   "execution_count": 33,
   "id": "5a2a25cf",
   "metadata": {},
   "outputs": [],
   "source": [
    "def find_SCS_length(s1, s2):\n",
    "    dp = [[-1 for _ in range(len(s2))] for _ in range(len(s1))]\n",
    "    return find_SCS_length_recursive(dp, s1, s2, 0, 0)\n",
    "\n",
    "\n",
    "def find_SCS_length_recursive(dp, s1, s2,  i1,  i2):\n",
    "    n1, n2 = len(s1), len(s2)\n",
    "    # if we have reached the end of a string, return the remaining length of the\n",
    "    # other string, as in this case we have to take all of the remaining other string\n",
    "    if i1 == n1:\n",
    "        return n2 - i2\n",
    "    if i2 == n2:\n",
    "        return n1 - i1\n",
    "\n",
    "    if dp[i1][i2] == -1:\n",
    "        if s1[i1] == s2[i2]:\n",
    "            dp[i1][i2] = 1 + find_SCS_length_recursive(dp, s1, s2, i1 + 1, i2 + 1)\n",
    "        else:\n",
    "            length1 = 1 + find_SCS_length_recursive(dp, s1, s2, i1, i2 + 1)\n",
    "            length2 = 1 + find_SCS_length_recursive(dp, s1, s2, i1 + 1, i2)\n",
    "            dp[i1][i2] = min(length1, length2)\n",
    "\n",
    "    return dp[i1][i2]"
   ]
  },
  {
   "cell_type": "code",
   "execution_count": 34,
   "id": "701d7f50",
   "metadata": {},
   "outputs": [
    {
     "name": "stdout",
     "output_type": "stream",
     "text": [
      "5\n",
      "15\n"
     ]
    }
   ],
   "source": [
    "print(find_SCS_length(\"abcf\", \"bdcf\"))\n",
    "print(find_SCS_length(\"dynamic\", \"programming\"))"
   ]
  },
  {
   "cell_type": "markdown",
   "id": "75225b7e",
   "metadata": {},
   "source": [
    "##### Bottom up\n",
    "\n",
    "The lengths of the two strings will define the size of the array’s dimensions. So for every index ‘i’ in sequence ‘s1’ and ‘j’ in sequence ‘s2’, we will choose one of the following two options:\n",
    "\n",
    "1. If the character s1[i] matches s2[j], the length of the SCS would be the one plus the length of the SCS till i-1 and j-1 indexes in the two strings.\n",
    "2. If the character s1[i] does not match s2[j], we will consider two SCS: one without s1[i] and one without s2[j]. Our required SCS length will be the shortest of these two super-sequences plus one.\n",
    "    \n",
    "```\n",
    "if s1[i] == s2[j] \n",
    "    dp[i][j] = 1 + dp[i-1][j-1]\n",
    "else \n",
    "    dp[i][j] = 1 + min(dp[i-1][j], dp[i][j-1])\n",
    "```"
   ]
  },
  {
   "cell_type": "code",
   "execution_count": 35,
   "id": "6782dea0",
   "metadata": {},
   "outputs": [],
   "source": [
    "def find_SCS_length(s1, s2):\n",
    "    n1, n2 = len(s1), len(s2)\n",
    "    dp = [[0 for _ in range(len(s2)+1)] for _ in range(len(s1)+1)]\n",
    "\n",
    "    # if one of the strings is of zero length, SCS would be equal to the length of the \n",
    "    # other string\n",
    "    for i in range(n1+1):\n",
    "        dp[i][0] = i\n",
    "    for j in range(n2+1):\n",
    "        dp[0][j] = j\n",
    "\n",
    "    for i in range(1, n1+1):\n",
    "        for j in range(1, n2+1):\n",
    "            if s1[i-1] == s2[j-1]:\n",
    "                dp[i][j] = 1 + dp[i-1][j-1]\n",
    "            else:\n",
    "                dp[i][j] = 1 + min(dp[i-1][j], dp[i][j-1])\n",
    "\n",
    "    return dp[n1][n2]"
   ]
  },
  {
   "cell_type": "code",
   "execution_count": 36,
   "id": "928ee7de",
   "metadata": {},
   "outputs": [
    {
     "name": "stdout",
     "output_type": "stream",
     "text": [
      "5\n",
      "15\n"
     ]
    }
   ],
   "source": [
    "print(find_SCS_length(\"abcf\", \"bdcf\"))\n",
    "print(find_SCS_length(\"dynamic\", \"programming\"))"
   ]
  },
  {
   "cell_type": "markdown",
   "id": "2b7aa133",
   "metadata": {},
   "source": [
    "<br>"
   ]
  },
  {
   "cell_type": "markdown",
   "id": "7d205a0e",
   "metadata": {},
   "source": [
    "#### Minimum deletions to make a sequence sorted\n",
    "[4,2,3,6,10,1,12] => 2 - [4, 1]"
   ]
  },
  {
   "cell_type": "markdown",
   "id": "faa33f22",
   "metadata": {},
   "source": [
    "##### Brute force:\n",
    "\n",
    "A basic brute-force solution could be to try deleting all combinations of elements, one by one, and checking if that makes the subsequence sorted.\n",
    "\n",
    "Alternately, we can convert this problem into a Longest Increasing Subsequence (LIS) problem. As we know that LIS will give us the length of the longest increasing subsequence (in the sorted order!), which means that the elements which are not part of the LIS should be removed to make the sequence sorted. This is exactly what we need. So we’ll get our solution by subtracting the length of LIS from the length of the input array: Length-of-input-array - LIS()"
   ]
  },
  {
   "cell_type": "markdown",
   "id": "174d398b",
   "metadata": {},
   "source": [
    "##### Bottom up:\n"
   ]
  },
  {
   "cell_type": "code",
   "execution_count": 37,
   "id": "812d4729",
   "metadata": {},
   "outputs": [],
   "source": [
    "def find_minimum_deletions(nums):\n",
    "    # subtracting the length of LIS from the length of the input array to get minimum \n",
    "    # number of deletions\n",
    "    return len(nums) - find_LIS_length(nums)\n",
    "\n",
    "\n",
    "def find_LIS_length(nums):\n",
    "    n = len(nums)\n",
    "    dp = [0 for _ in range(n)]\n",
    "    dp[0] = 1\n",
    "\n",
    "    maxLength = 1\n",
    "    for i in range(1, n):\n",
    "        dp[i] = 1\n",
    "        for j in range(i):\n",
    "            if nums[i] > nums[j] and dp[i] <= dp[j]:\n",
    "                dp[i] = dp[j] + 1\n",
    "                maxLength = max(maxLength, dp[i])\n",
    "\n",
    "    return maxLength"
   ]
  },
  {
   "cell_type": "code",
   "execution_count": 38,
   "id": "ab5fbe11",
   "metadata": {},
   "outputs": [
    {
     "name": "stdout",
     "output_type": "stream",
     "text": [
      "2\n",
      "1\n",
      "3\n"
     ]
    }
   ],
   "source": [
    "print(find_minimum_deletions([4, 2, 3, 6, 10, 1, 12]))\n",
    "print(find_minimum_deletions([-4, 10, 3, 7, 15]))\n",
    "print(find_minimum_deletions([3, 2, 1, 0]))"
   ]
  },
  {
   "cell_type": "markdown",
   "id": "d40d256d",
   "metadata": {},
   "source": [
    "<br>"
   ]
  },
  {
   "cell_type": "markdown",
   "id": "79ee7393",
   "metadata": {},
   "source": [
    "#### Longest repeating subsequence\n",
    "\"t o m o r r o w\" => 2 - oror\n",
    "\n",
    "\"a a b d b c e c\" => 3 - abcabc"
   ]
  },
  {
   "cell_type": "markdown",
   "id": "9d90f06c",
   "metadata": {},
   "source": [
    "##### Brute force:\n",
    "A basic brute-force solution could be to try all subsequences of the given sequence to find the longest repeating one, but the problem is how to ensure that the LRS’s characters do not have the same index. For this, we can start with two indexes in the given sequence, so at any step we have two choices:\n",
    "\n",
    "1. If the two indexes are not the same and the characters at both the indexes are same, we can recursively match for the remaining length (i.e. by incrementing both the indexes).\n",
    "2. If the characters at both the indexes don’t match, we start two new recursive calls by incrementing each index separately. The LRS would be the one with the highest length from the two recursive calls."
   ]
  },
  {
   "cell_type": "code",
   "execution_count": 39,
   "id": "b01e0232",
   "metadata": {},
   "outputs": [],
   "source": [
    "def find_LRS_length(str):\n",
    "    return find_LRS_length_recursive(str, 0, 0)\n",
    "\n",
    "\n",
    "def find_LRS_length_recursive(str,  i1,  i2):\n",
    "    if i1 == len(str) or i2 == len(str):\n",
    "        return 0\n",
    "\n",
    "    if i1 != i2 and str[i1] == str[i2]:\n",
    "        return 1 + find_LRS_length_recursive(str, i1 + 1, i2 + 1)\n",
    "\n",
    "    c1 = find_LRS_length_recursive(str, i1, i2 + 1)\n",
    "    c2 = find_LRS_length_recursive(str, i1 + 1, i2)\n",
    "\n",
    "    return max(c1, c2)"
   ]
  },
  {
   "cell_type": "code",
   "execution_count": 40,
   "id": "c80b9f08",
   "metadata": {},
   "outputs": [
    {
     "name": "stdout",
     "output_type": "stream",
     "text": [
      "2\n",
      "3\n",
      "2\n"
     ]
    }
   ],
   "source": [
    "print(find_LRS_length(\"tomorrow\"))\n",
    "print(find_LRS_length(\"aabdbcec\"))\n",
    "print(find_LRS_length(\"fmff\"))"
   ]
  },
  {
   "cell_type": "markdown",
   "id": "c440a46e",
   "metadata": {},
   "source": [
    "##### Memoization:\n",
    "Need two indices"
   ]
  },
  {
   "cell_type": "code",
   "execution_count": 41,
   "id": "66238208",
   "metadata": {},
   "outputs": [],
   "source": [
    "def find_LRS_length(str):\n",
    "    n = len(str)\n",
    "    dp = [[-1 for _ in range(n)] for _ in range(n)]\n",
    "    return find_LRS_length_recursive(dp, str, 0, 0)\n",
    "\n",
    "\n",
    "def find_LRS_length_recursive(dp,  str, i1, i2):\n",
    "    n = len(str)\n",
    "    if i1 == n or i2 == n:\n",
    "        return 0\n",
    "\n",
    "    if dp[i1][i2] == -1:\n",
    "        if i1 != i2 and str[i1] == str[i2]:\n",
    "            dp[i1][i2] = 1 + find_LRS_length_recursive(dp, str, i1 + 1, i2 + 1)\n",
    "        else:\n",
    "            c1 = find_LRS_length_recursive(dp, str, i1, i2 + 1)\n",
    "            c2 = find_LRS_length_recursive(dp, str, i1 + 1, i2)\n",
    "            dp[i1][i2] = max(c1, c2)\n",
    "\n",
    "    return dp[i1][i2]"
   ]
  },
  {
   "cell_type": "code",
   "execution_count": 42,
   "id": "ec3f34ee",
   "metadata": {},
   "outputs": [
    {
     "name": "stdout",
     "output_type": "stream",
     "text": [
      "2\n",
      "3\n",
      "2\n"
     ]
    }
   ],
   "source": [
    "print(find_LRS_length(\"tomorrow\"))\n",
    "print(find_LRS_length(\"aabdbcec\"))\n",
    "print(find_LRS_length(\"fmff\"))"
   ]
  },
  {
   "cell_type": "markdown",
   "id": "e28d5df3",
   "metadata": {},
   "source": [
    "##### Bottomup:\n",
    "\n",
    "we will be tracking two indexes to overcome the overlapping problem. So for each of the two indexes, ‘i1’ and ‘i2’, we will choose one of the following options:\n",
    "\n",
    "1. If ‘i1’ and ‘i2’ are different and the character str[i1] matches the character str[i2], then the length of the LRS would be one plus the length of LRS up to i1-1 and i2-1 indexes.\n",
    "2. If the character at str[i1] does not match str[i2], we will take the LRS by either skipping 'i1’th or 'i2’th character.\n",
    "\n",
    "```\n",
    "if i1 != i2 && str[i1] == str[i2] \n",
    "    dp[i1][i2] = 1 + dp[i1-1][i2-1]\n",
    "else \n",
    "    dp[i1][i2] = max(dp[i1-1][i2], dp[i1][i2-1])\n",
    "```"
   ]
  },
  {
   "cell_type": "code",
   "execution_count": 43,
   "id": "72ed80a1",
   "metadata": {},
   "outputs": [],
   "source": [
    "def find_LRS_length(str):\n",
    "    n = len(str)\n",
    "    dp = [[0 for _ in range(n+1)] for _ in range(n+1)]\n",
    "    maxLength = 0\n",
    "    # dp[i1][i2] will be storing the LRS up to str[0..i1-1][0..i2-1]\n",
    "    # this also means that subsequences of length zero(first row and column of\n",
    "    # dp[][]), will always have LRS of size zero.\n",
    "    for i1 in range(1, n+1):\n",
    "        for i2 in range(1, n+1):\n",
    "            if i1 != i2 and str[i1 - 1] == str[i2 - 1]:\n",
    "                dp[i1][i2] = 1 + dp[i1 - 1][i2 - 1]\n",
    "            else:\n",
    "                dp[i1][i2] = max(dp[i1 - 1][i2], dp[i1][i2 - 1])\n",
    "\n",
    "            maxLength = max(maxLength, dp[i1][i2])\n",
    "\n",
    "    return maxLength"
   ]
  },
  {
   "cell_type": "code",
   "execution_count": 44,
   "id": "6a76e000",
   "metadata": {},
   "outputs": [
    {
     "name": "stdout",
     "output_type": "stream",
     "text": [
      "2\n",
      "3\n",
      "2\n"
     ]
    }
   ],
   "source": [
    "print(find_LRS_length(\"tomorrow\"))\n",
    "print(find_LRS_length(\"aabdbcec\"))\n",
    "print(find_LRS_length(\"fmff\"))"
   ]
  },
  {
   "cell_type": "markdown",
   "id": "487e704f",
   "metadata": {},
   "source": [
    "<br>"
   ]
  },
  {
   "cell_type": "markdown",
   "id": "f8c26f2e",
   "metadata": {},
   "source": [
    "#### Subsequence pattern matching\n",
    "\n",
    "\"baxmx\" + \"ax\" => 2 - "
   ]
  },
  {
   "cell_type": "markdown",
   "id": "99768d73",
   "metadata": {},
   "source": [
    "##### Brute force:\n",
    "\n",
    "A basic brute-force solution could be to try all the subsequences of the given string to count all that match the given pattern. We can match the pattern with the given string one character at a time, so we can do two things at any step:\n",
    "\n",
    "1. If the pattern has a matching character with the string, we can recursively match for the remaining lengths of the pattern and the string.\n",
    "2. At every step, we can always skip a character from the string to try to match the remaining string with the pattern. So we can start a recursive call by skipping one character from the string."
   ]
  },
  {
   "cell_type": "code",
   "execution_count": 45,
   "id": "27c6aace",
   "metadata": {},
   "outputs": [],
   "source": [
    "def find_SPM_count(str, pat):\n",
    "    return find_SPM_count_recursive(str, pat, 0, 0)\n",
    "\n",
    "\n",
    "def find_SPM_count_recursive(str,  pat,  strIndex,  patIndex):\n",
    "\n",
    "    # if we have reached the end of the pattern\n",
    "    if patIndex == len(pat):\n",
    "        return 1\n",
    "\n",
    "    # if we have reached the end of the string but pattern has still some characters left\n",
    "    if strIndex == len(str):\n",
    "        return 0\n",
    "\n",
    "    c1 = 0\n",
    "    if str[strIndex] == pat[patIndex]:\n",
    "        c1 = find_SPM_count_recursive(str, pat, strIndex + 1, patIndex + 1)\n",
    "\n",
    "    c2 = find_SPM_count_recursive(str, pat, strIndex + 1, patIndex)\n",
    "\n",
    "    return c1 + c2"
   ]
  },
  {
   "cell_type": "code",
   "execution_count": 46,
   "id": "b22b3355",
   "metadata": {},
   "outputs": [
    {
     "name": "stdout",
     "output_type": "stream",
     "text": [
      "2\n",
      "4\n"
     ]
    }
   ],
   "source": [
    "print(find_SPM_count(\"baxmx\", \"ax\"))\n",
    "print(find_SPM_count(\"tomorrow\", \"tor\"))"
   ]
  },
  {
   "cell_type": "markdown",
   "id": "648c4e61",
   "metadata": {},
   "source": [
    "##### Memoization:\n",
    "Needs two indices\n"
   ]
  },
  {
   "cell_type": "code",
   "execution_count": 47,
   "id": "f553be5a",
   "metadata": {},
   "outputs": [],
   "source": [
    "def find_SPM_count(str, pat):\n",
    "    dp = [[-1 for _ in range(len(pat))] for _ in range(len(str))]\n",
    "    return find_SPM_count_recursive(dp, str, pat, 0, 0)\n",
    "\n",
    "\n",
    "def find_SPM_count_recursive(dp, str, pat, strIndex, patIndex):\n",
    "\n",
    "    # if we have reached the end of the pattern\n",
    "    if patIndex == len(pat):\n",
    "        return 1\n",
    "\n",
    "    # if we have reached the end of the string but pattern has still some characters left\n",
    "    if strIndex == len(str):\n",
    "        return 0\n",
    "\n",
    "    if dp[strIndex][patIndex] == -1:\n",
    "        c1 = 0\n",
    "        if str[strIndex] == pat[patIndex]:\n",
    "            c1 = find_SPM_count_recursive(dp, str, pat, strIndex + 1, patIndex + 1)\n",
    "        c2 = find_SPM_count_recursive(dp, str, pat, strIndex + 1, patIndex)\n",
    "        dp[strIndex][patIndex] = c1 + c2\n",
    "\n",
    "    return dp[strIndex][patIndex]"
   ]
  },
  {
   "cell_type": "code",
   "execution_count": 48,
   "id": "051904bb",
   "metadata": {},
   "outputs": [
    {
     "name": "stdout",
     "output_type": "stream",
     "text": [
      "2\n",
      "4\n"
     ]
    }
   ],
   "source": [
    "print(find_SPM_count(\"baxmx\", \"ax\"))\n",
    "print(find_SPM_count(\"tomorrow\", \"tor\"))"
   ]
  },
  {
   "cell_type": "markdown",
   "id": "87c93c00",
   "metadata": {},
   "source": [
    "##### Bottom up:\n",
    "\n",
    "We will be tracking separate indexes for the string and the pattern, so we will be doing two things for every value of strIndex and patIndex:\n",
    "\n",
    "1. If the character at the strIndex (in the string) matches the character at patIndex (in the pattern), the count of the SPM would be equal to the count of SPM up to strIndex-1 and patIndex-1.\n",
    "2. At every step, we can always skip a character from the string to try matching the remaining string with the pattern; therefore, we can add the SPM count from the indexes strIndex-1 and patIndex.\n",
    "\n",
    "```\n",
    "if str[strIndex] == pat[patIndex]:\n",
    "    dp[strIndex][patIndex] = dp[strIndex-1][patIndex-1]\n",
    "dp[strIndex][patIndex] += dp[strIndex-1][patIndex]\n",
    "```"
   ]
  },
  {
   "cell_type": "code",
   "execution_count": 51,
   "id": "08d248b4",
   "metadata": {},
   "outputs": [],
   "source": [
    "def find_SPM_count(str, pat):\n",
    "    strLen, patLen = len(str), len(pat)\n",
    "    # every empty pattern has one match\n",
    "    if patLen == 0:\n",
    "        return 1\n",
    "\n",
    "    if strLen == 0 or patLen > strLen:\n",
    "        return 0\n",
    "\n",
    "    # dp[strIndex][patIndex] will be storing the count of SPM up to \n",
    "    # str[0..strIndex-1][0..patIndex-1]\n",
    "    dp = [[0 for _ in range(patLen+1)] for _ in range(strLen+1)]\n",
    "\n",
    "    # for the empty pattern, we have one matching\n",
    "    for i in range(strLen+1):\n",
    "        dp[i][0] = 1\n",
    "\n",
    "    for strIndex in range(1, strLen+1):\n",
    "        for patIndex in range(1, patLen+1):\n",
    "            if str[strIndex - 1] == pat[patIndex - 1]:\n",
    "                dp[strIndex][patIndex] = dp[strIndex - 1][patIndex - 1]\n",
    "            dp[strIndex][patIndex] += dp[strIndex - 1][patIndex]\n",
    "\n",
    "    return dp[strLen][patLen]"
   ]
  },
  {
   "cell_type": "code",
   "execution_count": 52,
   "id": "9f2dbd3e",
   "metadata": {},
   "outputs": [
    {
     "name": "stdout",
     "output_type": "stream",
     "text": [
      "2\n",
      "4\n"
     ]
    }
   ],
   "source": [
    "print(find_SPM_count(\"baxmx\", \"ax\"))\n",
    "print(find_SPM_count(\"tomorrow\", \"tor\"))"
   ]
  },
  {
   "cell_type": "markdown",
   "id": "cb344177",
   "metadata": {},
   "source": [
    "<br>"
   ]
  },
  {
   "cell_type": "markdown",
   "id": "9c7d43b6",
   "metadata": {},
   "source": [
    "#### Longest Bitonic sequence\n",
    "A basic brute-force solution could be to try finding the Longest Decreasing Subsequences (LDS), starting from every number in both directions. So for every index ‘i’ in the given array, we will do two things:\n",
    "\n",
    "1. Find LDS starting from ‘i’ to the end of the array.\n",
    "2. Find LDS starting from ‘i’ to the beginning of the array.\n",
    "\n",
    "LBS would be the maximum sum of the above two subsequences."
   ]
  },
  {
   "cell_type": "code",
   "execution_count": 53,
   "id": "f382c044",
   "metadata": {},
   "outputs": [],
   "source": [
    "def find_LBS_length(nums):\n",
    "    maxLength = 0\n",
    "    for i in range(len(nums)):\n",
    "        c1 = find_LDS_length(nums, i, -1)\n",
    "        c2 = find_LDS_length_rev(nums, i, -1)\n",
    "        maxLength = max(maxLength, c1 + c2 - 1)\n",
    "    return maxLength\n",
    "\n",
    "# find the longest decreasing subsequence from currentIndex till the end of the array\n",
    "\n",
    "\n",
    "def find_LDS_length(nums,  currentIndex, previousIndex):\n",
    "    if currentIndex == len(nums):\n",
    "        return 0\n",
    "\n",
    "    # include nums[currentIndex] if it is smaller than the previous number\n",
    "    c1 = 0\n",
    "    if previousIndex == -1 or nums[currentIndex] < nums[previousIndex]:\n",
    "        c1 = 1 + find_LDS_length(nums, currentIndex + 1, currentIndex)\n",
    "\n",
    "    # excluding the number at currentIndex\n",
    "    c2 = find_LDS_length(nums, currentIndex + 1, previousIndex)\n",
    "\n",
    "    return max(c1, c2)\n",
    "\n",
    "# find longest decreasing subsequence from currentIndex till the beginning of the array\n",
    "\n",
    "\n",
    "def find_LDS_length_rev(nums,  currentIndex,  previousIndex):\n",
    "    if currentIndex < 0:\n",
    "        return 0\n",
    "\n",
    "    # include nums[currentIndex] if it is smaller than the previous number\n",
    "    c1 = 0\n",
    "    if previousIndex == -1 or nums[currentIndex] < nums[previousIndex]:\n",
    "        c1 = 1 + find_LDS_length_rev(nums, currentIndex - 1, currentIndex)\n",
    "\n",
    "    # excluding the number at currentIndex\n",
    "    c2 = find_LDS_length_rev(nums, currentIndex - 1, previousIndex)\n",
    "\n",
    "    return max(c1, c2)"
   ]
  },
  {
   "cell_type": "code",
   "execution_count": 54,
   "id": "c6694edb",
   "metadata": {},
   "outputs": [
    {
     "name": "stdout",
     "output_type": "stream",
     "text": [
      "5\n",
      "7\n"
     ]
    }
   ],
   "source": [
    "print(find_LBS_length([4, 2, 3, 6, 10, 1, 12]))\n",
    "print(find_LBS_length([4, 2, 5, 9, 7, 6, 10, 3, 1]))"
   ]
  },
  {
   "cell_type": "markdown",
   "id": "f3b03095",
   "metadata": {},
   "source": [
    "##### Memoization\n",
    "Two indices needed"
   ]
  },
  {
   "cell_type": "code",
   "execution_count": 55,
   "id": "eb959122",
   "metadata": {},
   "outputs": [],
   "source": [
    "def find_LBS_length(nums):\n",
    "    n = len(nums)\n",
    "\n",
    "    lds = [[-1 for _ in range(n+1)] for _ in range(n)]\n",
    "    ldsRev = [[-1 for _ in range(n+1)] for _ in range(n)]\n",
    "\n",
    "    maxLength = 0\n",
    "    for i in range(n):\n",
    "        c1 = find_LDS_length(lds, nums, i, -1)\n",
    "        c2 = find_LDS_length_rev(ldsRev, nums, i, -1)\n",
    "        maxLength = max(maxLength, c1 + c2 - 1)\n",
    "\n",
    "    return maxLength\n",
    "\n",
    "# find the longest decreasing subsequence from currentIndex till the end of the array\n",
    "def find_LDS_length(dp,  nums,  currentIndex,  previousIndex):\n",
    "    if currentIndex == len(nums):\n",
    "        return 0\n",
    "\n",
    "    if dp[currentIndex][previousIndex + 1] == -1:\n",
    "        # include nums[currentIndex] if it is smaller than the previous number\n",
    "        c1 = 0\n",
    "        if previousIndex == -1 or nums[currentIndex] < nums[previousIndex]:\n",
    "            c1 = 1 + find_LDS_length(dp, nums, currentIndex + 1, currentIndex)\n",
    "\n",
    "        # excluding the number at currentIndex\n",
    "        c2 = find_LDS_length(dp, nums, currentIndex + 1, previousIndex)\n",
    "\n",
    "        dp[currentIndex][previousIndex + 1] = max(c1, c2)\n",
    "\n",
    "    return dp[currentIndex][previousIndex + 1]\n",
    "\n",
    "# find longest decreasing subsequence from currentIndex till the beginning of the array\n",
    "def find_LDS_length_rev(dp,  nums,  currentIndex,  previousIndex):\n",
    "    if currentIndex < 0:\n",
    "        return 0\n",
    "\n",
    "    if dp[currentIndex][previousIndex + 1] == -1:\n",
    "        # include nums[currentIndex] if it is smaller than the previous number\n",
    "        c1 = 0\n",
    "        if previousIndex == -1 or nums[currentIndex] < nums[previousIndex]:\n",
    "            c1 = 1 + find_LDS_length_rev(dp, nums, currentIndex - 1, currentIndex)\n",
    "\n",
    "        # excluding the number at currentIndex\n",
    "        c2 = find_LDS_length_rev(dp, nums, currentIndex - 1, previousIndex)\n",
    "\n",
    "        dp[currentIndex][previousIndex + 1] = max(c1, c2)\n",
    "    return dp[currentIndex][previousIndex + 1]"
   ]
  },
  {
   "cell_type": "code",
   "execution_count": 56,
   "id": "fee773f9",
   "metadata": {},
   "outputs": [
    {
     "name": "stdout",
     "output_type": "stream",
     "text": [
      "5\n",
      "7\n"
     ]
    }
   ],
   "source": [
    "print(find_LBS_length([4, 2, 3, 6, 10, 1, 12]))\n",
    "print(find_LBS_length([4, 2, 5, 9, 7, 6, 10, 3, 1]))"
   ]
  },
  {
   "cell_type": "markdown",
   "id": "870dcaa8",
   "metadata": {},
   "source": [
    "##### Bottom up:\n",
    "We can separately calculate LDS for every index i.e., from the beginning to the end of the array and vice versa. The required length of LBS would be the one that has the maximum sum of LDS for a given index (from both ends)."
   ]
  },
  {
   "cell_type": "code",
   "execution_count": 57,
   "id": "77e92302",
   "metadata": {},
   "outputs": [],
   "source": [
    "def find_LBS_length(nums):\n",
    "    n = len(nums)\n",
    "    lds = [0 for _ in range(n)]\n",
    "    ldsReverse = [0 for _ in range(n)]\n",
    "\n",
    "    # find LDS for every index up to the beginning of the array\n",
    "    for i in range(n):\n",
    "        lds[i] = 1  # every element is an LDS of length 1\n",
    "        for j in range(i-1, -1, -1):\n",
    "            if nums[j] < nums[i]:\n",
    "                lds[i] = max(lds[i], lds[j] + 1)\n",
    "\n",
    "    # find LDS for every index up to the end of the array\n",
    "    for i in range(n-1, -1, -1):\n",
    "        ldsReverse[i] = 1  # every element is an LDS of length 1\n",
    "        for j in range(i+1, n):\n",
    "            if nums[j] < nums[i]:\n",
    "                ldsReverse[i] = max(ldsReverse[i], ldsReverse[j]+1)\n",
    "\n",
    "    maxLength = 0\n",
    "    for i in range(n):\n",
    "        maxLength = max(maxLength, lds[i] + ldsReverse[i]-1)\n",
    "\n",
    "    return maxLength"
   ]
  },
  {
   "cell_type": "code",
   "execution_count": 58,
   "id": "7daf672a",
   "metadata": {},
   "outputs": [
    {
     "name": "stdout",
     "output_type": "stream",
     "text": [
      "5\n",
      "7\n"
     ]
    }
   ],
   "source": [
    "print(find_LBS_length([4, 2, 3, 6, 10, 1, 12]))\n",
    "print(find_LBS_length([4, 2, 5, 9, 7, 6, 10, 3, 1]))"
   ]
  },
  {
   "cell_type": "markdown",
   "id": "417a416e",
   "metadata": {},
   "source": [
    "<br>"
   ]
  },
  {
   "cell_type": "markdown",
   "id": "e77ad5cc",
   "metadata": {},
   "source": [
    "#### Longest alternating subsequence\n",
    "[3,2,1,4] => 3 - [3,2,4] or [2,1,4]"
   ]
  },
  {
   "cell_type": "markdown",
   "id": "129e0e2b",
   "metadata": {},
   "source": [
    "##### Bruteforce:\n",
    "A basic brute-force solution could be to try finding the LAS starting from every number in both ascending and descending order. So for every index ‘i’ in the given array, we will have three options:\n",
    "\n",
    "1. If the element at ‘i’ is bigger than the last element we considered, we include the element at ‘i’ and recursively process the remaining array to find the next element in descending order.\n",
    "2. If the element at ‘i’ is smaller than the last element we considered, we include the element at ‘i’ and recursively process the remaining array to find the next element in ascending order.\n",
    "3. In addition to the above two cases, we can always skip the element ‘i’ to recurse for the remaining array. This will ensure that we try all subsequences.\n",
    "\n",
    "LAS would be the maximum of the above three subsequences."
   ]
  },
  {
   "cell_type": "code",
   "execution_count": 59,
   "id": "239106b1",
   "metadata": {},
   "outputs": [],
   "source": [
    "def find_LAS_length(nums):\n",
    "    # we have to start with two recursive calls, one where we will consider that the first \n",
    "    # element is bigger than the second element and one where the first element is smaller \n",
    "    # than the second element\n",
    "    return max(find_LAS_length_recursive(nums, -1, 0, True), find_LAS_length_recursive(nums, -1, 0, False))\n",
    "\n",
    "\n",
    "def find_LAS_length_recursive(nums,  previousIndex,  currentIndex,  isAsc):\n",
    "    if currentIndex == len(nums):\n",
    "        return 0\n",
    "\n",
    "    c1 = 0\n",
    "    # if ascending, the next element should be bigger\n",
    "    if isAsc:\n",
    "        if previousIndex == -1 or nums[previousIndex] < nums[currentIndex]:\n",
    "            c1 = 1 + find_LAS_length_recursive(nums, currentIndex, currentIndex + 1, not isAsc)\n",
    "    else:  # if descending, the next element should be smaller\n",
    "        if previousIndex == -1 or nums[previousIndex] > nums[currentIndex]:\n",
    "            c1 = 1 + find_LAS_length_recursive(nums, currentIndex, currentIndex + 1, not isAsc)\n",
    "    \n",
    "    # skip the current element\n",
    "    c2 = find_LAS_length_recursive(nums, previousIndex, currentIndex + 1, isAsc)\n",
    "    \n",
    "    return max(c1, c2)"
   ]
  },
  {
   "cell_type": "code",
   "execution_count": 60,
   "id": "229da070",
   "metadata": {},
   "outputs": [
    {
     "name": "stdout",
     "output_type": "stream",
     "text": [
      "2\n",
      "3\n",
      "4\n"
     ]
    }
   ],
   "source": [
    "print(find_LAS_length([1, 2, 3, 4]))\n",
    "print(find_LAS_length([3, 2, 1, 4]))\n",
    "print(find_LAS_length([1, 3, 2, 4]))"
   ]
  },
  {
   "cell_type": "markdown",
   "id": "ad4ab5a6",
   "metadata": {},
   "source": [
    "##### Memoization:\n",
    "A bit tricky as we need to store isAsc flag along with the indices"
   ]
  },
  {
   "cell_type": "code",
   "execution_count": 65,
   "id": "092b9523",
   "metadata": {},
   "outputs": [],
   "source": [
    "def find_LAS_length(nums):\n",
    "    n = len(nums)\n",
    "    dp = [[[-1 for _ in range(2)] for _ in range(n)] for _ in range(n)]\n",
    "    return max(find_LAS_length_recursive(dp, nums, -1, 0, True), find_LAS_length_recursive(dp, nums, -1, 0, False))\n",
    "\n",
    "\n",
    "def find_LAS_length_recursive(dp, nums, previousIndex, currentIndex,  isAsc):\n",
    "\n",
    "    if currentIndex == len(nums):\n",
    "        return 0\n",
    "\n",
    "    if dp[previousIndex + 1][currentIndex][1 if isAsc else 0] == -1:\n",
    "        c1 = 0\n",
    "        # if ascending, the next element should be bigger\n",
    "        if isAsc:\n",
    "            if previousIndex == -1 or nums[previousIndex] < nums[currentIndex]:\n",
    "                c1 = 1 + find_LAS_length_recursive(dp, nums, currentIndex, currentIndex + 1, not isAsc)\n",
    "        else:  # if descending, the next element should be smaller\n",
    "            if previousIndex == -1 or nums[previousIndex] > nums[currentIndex]:\n",
    "                c1 = 1 + find_LAS_length_recursive(dp, nums, currentIndex, currentIndex + 1, not isAsc)\n",
    "\n",
    "        # skip the current element\n",
    "        c2 = find_LAS_length_recursive(dp, nums, previousIndex, currentIndex + 1, isAsc)\n",
    "        dp[previousIndex + 1][currentIndex][1 if isAsc else 0] = max(c1, c2)\n",
    "\n",
    "    return dp[previousIndex + 1][currentIndex][1 if isAsc else 0]"
   ]
  },
  {
   "cell_type": "code",
   "execution_count": 66,
   "id": "d1355838",
   "metadata": {},
   "outputs": [
    {
     "name": "stdout",
     "output_type": "stream",
     "text": [
      "2\n",
      "3\n",
      "4\n"
     ]
    }
   ],
   "source": [
    "print(find_LAS_length([1, 2, 3, 4]))\n",
    "print(find_LAS_length([3, 2, 1, 4]))\n",
    "print(find_LAS_length([1, 3, 2, 4]))"
   ]
  },
  {
   "cell_type": "markdown",
   "id": "313af4dd",
   "metadata": {},
   "source": [
    "##### Bottom up:\n",
    "\n",
    "1. We need to find an ascending and descending subsequence at every index.\n",
    "2. While finding the next element in the ascending order, if the number at the current index is bigger than the number at the previous index, we increment the count for a LAS up to the current index. But if there is a bigger LAS without including the number at the current index, we take that.\n",
    "3. Similarly for the descending order, if the number at the current index is smaller than the number at the previous index, we increment the count for a LAS up to the current index. But if there is a bigger LAS without including the number at the current index, we take that.\n",
    "\n",
    "If ‘i’ represents the currentIndex and ‘j’ represents the previousIndex, our recursive formula would look like:\n",
    "\n",
    "* If nums[i] is bigger than nums[j] then we will consider the LAS ending at ‘j’ where the last two elements were in descending order =>\n",
    "`if num[i] > num[j] => dp[i][0] = 1 + dp[j][1], if there is no bigger LAS for 'i'`\n",
    "* If nums[i] is smaller than nums[j] then we will consider the LAS ending at ‘j’ where the last two elements were in ascending order =>\n",
    "`if num[i] < num[j] => dp[i][1] = 1 + dp[j][0], if there is no bigger LAS for 'i'`\n"
   ]
  },
  {
   "cell_type": "code",
   "execution_count": 72,
   "id": "e06cf9e2",
   "metadata": {},
   "outputs": [],
   "source": [
    "def find_LAS_length(nums):\n",
    "    n = len(nums)\n",
    "    if n == 0:\n",
    "        return 0\n",
    "    # dp[i][0] = stores the LAS ending at 'i' such that the last two elements are in \n",
    "    # ascending order dp[i][1] = stores the LAS ending at 'i' such that the last two \n",
    "    # elements are in descending order\n",
    "    dp = [[0 for _ in range(2)] for _ in range(n)]\n",
    "    maxLength = 1\n",
    "    for i in range(n):\n",
    "        # every single element can be considered as LAS of length 1\n",
    "        dp[i][0] = dp[i][1] = 1\n",
    "        for j in range(i):\n",
    "            if nums[i] > nums[j]:\n",
    "                # if nums[i] is BIGGER than nums[j] then we will consider the LAS ending at 'j' \n",
    "                # where the last two elements were in DESCENDING order\n",
    "                dp[i][0] = max(dp[i][0], 1 + dp[j][1])\n",
    "                maxLength = max(maxLength, dp[i][0])\n",
    "            elif nums[i] != nums[j]:  # if the numbers are equal don't do anything\n",
    "                # if nums[i] is SMALLER than nums[j] then we will consider the LAS ending at\n",
    "                # 'j' where the last two elements were in ASCENDING order\n",
    "                dp[i][1] = max(dp[i][1], 1 + dp[j][0])\n",
    "                maxLength = max(maxLength, dp[i][1])\n",
    "    return maxLength"
   ]
  },
  {
   "cell_type": "code",
   "execution_count": 73,
   "id": "b6cba657",
   "metadata": {},
   "outputs": [
    {
     "name": "stdout",
     "output_type": "stream",
     "text": [
      "2\n",
      "3\n",
      "4\n"
     ]
    }
   ],
   "source": [
    "print(find_LAS_length([1, 2, 3, 4]))\n",
    "print(find_LAS_length([3, 2, 1, 4]))\n",
    "print(find_LAS_length([1, 3, 2, 4]))"
   ]
  },
  {
   "cell_type": "markdown",
   "id": "29720ba1",
   "metadata": {},
   "source": [
    "<br>"
   ]
  },
  {
   "cell_type": "markdown",
   "id": "10eb0771",
   "metadata": {},
   "source": [
    "#### Edit distance\n",
    "Transform one string to another by adding, deleting or replacing characters.\n",
    "\n",
    "\"abdca\" & \"cbda\" => 2 - replace first 'a' with 'c' and delete second 'c'"
   ]
  },
  {
   "cell_type": "markdown",
   "id": "a02dccfe",
   "metadata": {},
   "source": [
    "##### Brute force:\n",
    "\n",
    "Try all operations (one by one) on each character of s1. We can iterate through s1 and s2 together. Let’s assume index1 and index2 point to the current indexes of s1 and s2 respectively, so we have two options at every step:\n",
    "\n",
    "1. If the strings have a matching character, we can recursively match for the remaining lengths.\n",
    "2. If the strings don’t match, we start three new recursive calls representing the three edit operations. Whichever recursive call returns the minimum count of operations will be our answer."
   ]
  },
  {
   "cell_type": "code",
   "execution_count": 74,
   "id": "65544638",
   "metadata": {},
   "outputs": [],
   "source": [
    "def find_min_operations(s1, s2):\n",
    "    return find_min_operations_recursive(s1, s2, 0, 0)\n",
    "\n",
    "\n",
    "def find_min_operations_recursive(s1, s2, i1, i2):\n",
    "\n",
    "    n1, n2 = len(s1), len(s2)\n",
    "    # if we have reached the end of s1, then we have to insert all the remaining \n",
    "    # characters of s2\n",
    "    if i1 == n1:\n",
    "        return n2 - i2\n",
    "\n",
    "    # if we have reached the end of s2, then we have to delete all the remaining \n",
    "    # characters of s1\n",
    "    if i2 == n2:\n",
    "        return n1 - i1\n",
    "\n",
    "    # If the strings have a matching character, we can recursively match for the \n",
    "    # remaining lengths\n",
    "    if s1[i1] == s2[i2]:\n",
    "        return find_min_operations_recursive(s1, s2, i1 + 1, i2 + 1)\n",
    "\n",
    "    # perform deletion\n",
    "    c1 = 1 + find_min_operations_recursive(s1, s2, i1 + 1, i2)\n",
    "    # perform insertion\n",
    "    c2 = 1 + find_min_operations_recursive(s1, s2, i1, i2 + 1)\n",
    "    # perform replacement\n",
    "    c3 = 1 + find_min_operations_recursive(s1, s2, i1 + 1, i2 + 1)\n",
    "\n",
    "    return min(c1, min(c2, c3))"
   ]
  },
  {
   "cell_type": "code",
   "execution_count": 75,
   "id": "cb9bb250",
   "metadata": {},
   "outputs": [
    {
     "name": "stdout",
     "output_type": "stream",
     "text": [
      "1\n",
      "2\n",
      "3\n"
     ]
    }
   ],
   "source": [
    "print(find_min_operations(\"bat\", \"but\"))\n",
    "print(find_min_operations(\"abdca\", \"cbda\"))\n",
    "print(find_min_operations(\"passpot\", \"ppsspqrt\"))"
   ]
  },
  {
   "cell_type": "markdown",
   "id": "64048064",
   "metadata": {},
   "source": [
    "##### Memoization:\n"
   ]
  },
  {
   "cell_type": "code",
   "execution_count": 76,
   "id": "5104e9fa",
   "metadata": {},
   "outputs": [],
   "source": [
    "def find_min_operations(s1, s2):\n",
    "    dp = [[-1 for _ in range(len(s2)+1)] for _ in range(len(s1)+1)]\n",
    "    return find_min_operations_recursive(dp, s1, s2, 0, 0)\n",
    "\n",
    "\n",
    "def find_min_operations_recursive(dp, s1,  s2,  i1,  i2):\n",
    "    n1, n2 = len(s1), len(s2)\n",
    "    if dp[i1][i2] == -1:\n",
    "        # if we have reached the end of s1, then we have to insert all the remaining  \n",
    "        # characters of s2\n",
    "        if i1 == n1:\n",
    "            dp[i1][i2] = n2 - i2\n",
    "\n",
    "        # if we have reached the end of s2, then we have to delete all the remaining \n",
    "        # characters of s1\n",
    "        elif i2 == n2:\n",
    "            dp[i1][i2] = n1 - i1\n",
    "\n",
    "        # If the strings have a matching character, we can recursively match for the \n",
    "        # remaining lengths\n",
    "        elif s1[i1] == s2[i2]:\n",
    "            dp[i1][i2] = find_min_operations_recursive(dp, s1, s2, i1 + 1, i2 + 1)\n",
    "        else:\n",
    "            c1 = find_min_operations_recursive(dp, s1, s2, i1 + 1, i2)  # delete\n",
    "            c2 = find_min_operations_recursive(dp, s1, s2, i1, i2 + 1)  # insert\n",
    "            c3 = find_min_operations_recursive(dp, s1, s2, i1 + 1, i2 + 1)  # replace\n",
    "            dp[i1][i2] = 1 + min(c1, min(c2, c3))\n",
    "\n",
    "    return dp[i1][i2]"
   ]
  },
  {
   "cell_type": "code",
   "execution_count": 77,
   "id": "a1020053",
   "metadata": {},
   "outputs": [
    {
     "name": "stdout",
     "output_type": "stream",
     "text": [
      "1\n",
      "2\n",
      "3\n"
     ]
    }
   ],
   "source": [
    "print(find_min_operations(\"bat\", \"but\"))\n",
    "print(find_min_operations(\"abdca\", \"cbda\"))\n",
    "print(find_min_operations(\"passpot\", \"ppsspqrt\"))"
   ]
  },
  {
   "cell_type": "markdown",
   "id": "9857d5ce",
   "metadata": {},
   "source": [
    "##### Bottom up:\n",
    "\n",
    "The lengths of the two strings will define the size of the two dimensions of the array. So for every index ‘i1’ in string ‘s1’ and ‘i2’ in string ‘s2’, we will choose one of the following options: \n",
    "\n",
    "1. If the character s1[i1] matches s2[i2], the count of the edit operations will be equal to the count of the edit operations for the remaining strings.\n",
    "2. If the character s1[i1] does not match s2[i2], we will take the minimum count from the remaining strings after performing any of the three edit operations.\n",
    "\n",
    "```\n",
    "if s1[i1] == s2[i2] \n",
    "    dp[i1][i2] = dp[i1-1][i2-1]\n",
    "else \n",
    "    dp[i1][i2] = 1 + min(dp[i1-1][i2], // delete\n",
    "                         dp[i1][i2-1], // insert \n",
    "                         dp[i1-1][i2-1]) // replace\n",
    "```"
   ]
  },
  {
   "cell_type": "code",
   "execution_count": 78,
   "id": "67718537",
   "metadata": {},
   "outputs": [],
   "source": [
    "def find_min_operations(s1, s2):\n",
    "    n1, n2 = len(s1), len(s2)\n",
    "    dp = [[-1 for _ in range(n2+1)] for _ in range(n1+1)]\n",
    "\n",
    "    # if s2 is empty, we can remove all the characters of s1 to make it empty too\n",
    "    for i1 in range(n1+1):\n",
    "        dp[i1][0] = i1\n",
    "\n",
    "    # if s1 is empty, we have to insert all the characters of s2\n",
    "    for i2 in range(n2+1):\n",
    "        dp[0][i2] = i2\n",
    "\n",
    "    for i1 in range(1, n1+1):\n",
    "        for i2 in range(1, n2+1):\n",
    "            # if the strings have a matching character, we can recursively match for the \n",
    "            # remaining lengths\n",
    "            if s1[i1 - 1] == s2[i2 - 1]:\n",
    "                dp[i1][i2] = dp[i1 - 1][i2 - 1]\n",
    "            else:\n",
    "                dp[i1][i2] = 1 + min(dp[i1 - 1][i2],  # delete\n",
    "                                 min(dp[i1][i2 - 1],  # insert\n",
    "                                     dp[i1 - 1][i2 - 1]))  # replace\n",
    "\n",
    "    return dp[n1][n2]"
   ]
  },
  {
   "cell_type": "code",
   "execution_count": 79,
   "id": "5bd7ab26",
   "metadata": {},
   "outputs": [
    {
     "name": "stdout",
     "output_type": "stream",
     "text": [
      "1\n",
      "2\n",
      "3\n"
     ]
    }
   ],
   "source": [
    "print(find_min_operations(\"bat\", \"but\"))\n",
    "print(find_min_operations(\"abdca\", \"cbda\"))\n",
    "print(find_min_operations(\"passpot\", \"ppsspqrt\"))"
   ]
  },
  {
   "cell_type": "markdown",
   "id": "170e1154",
   "metadata": {},
   "source": [
    "<br>"
   ]
  },
  {
   "cell_type": "markdown",
   "id": "5dd2f4a5",
   "metadata": {},
   "source": [
    "#### String interweaving\n",
    "\n",
    "Given three strings ‘m’, ‘n’, and ‘p’, write a method to find out if ‘p’ has been formed by interleaving ‘m’ and ‘n’. ‘p’ would be considered interleaving ‘m’ and ‘n’ if it contains all the letters from ‘m’ and ‘n’ and the order of letters is preserved too.\n",
    "\n",
    "m=\"abd\", n=\"cef\", p=\"abcdef\" => true - 'p' contains all the letters from 'm' and 'n' and preserves their order too. "
   ]
  },
  {
   "cell_type": "markdown",
   "id": "849dc491",
   "metadata": {},
   "source": [
    "##### Brute force:\n",
    "\n",
    "A basic brute-force solution could be to try matching ‘m’ and ‘n’ with ‘p’ one letter at a time. Let’s assume mIndex, nIndex, and pIndex represent the current indexes of ‘m’, ‘n’, and ‘p’ strings respectively. Therefore, we have two options at any step:\n",
    "\n",
    "1. If the letter at mIndex matches with the letter at pIndex, we can recursively match for the remaining lengths of ‘m’ and ‘p’.\n",
    "2. If the letter at nIndex matches with the letter at ‘pIndex’, we can recursively match for the remaining lengths of ‘n’ and ‘p’."
   ]
  },
  {
   "cell_type": "code",
   "execution_count": 80,
   "id": "c2280404",
   "metadata": {},
   "outputs": [],
   "source": [
    "def find_SI(m, n,  p):\n",
    "    return find_SI_recursive(m, n, p, 0, 0, 0)\n",
    "\n",
    "\n",
    "def find_SI_recursive(m, n, p, mIndex, nIndex, pIndex):\n",
    "\n",
    "    mLen, nLen, pLen = len(m), len(n), len(p)\n",
    "    # if we have reached the end of the all the strings\n",
    "    if mIndex == mLen and nIndex == nLen and pIndex == pLen:\n",
    "        return True\n",
    "\n",
    "    # if we have reached the end of 'p' but 'm' or 'n' still has some characters left\n",
    "    if pIndex == pLen:\n",
    "        return False\n",
    "\n",
    "    b1, b2 = False, False\n",
    "    if mIndex < mLen and m[mIndex] == p[pIndex]:\n",
    "        b1 = find_SI_recursive(m, n, p, mIndex+1, nIndex, pIndex+1)\n",
    "\n",
    "    if nIndex < nLen and n[nIndex] == p[pIndex]:\n",
    "        b2 = find_SI_recursive(m, n, p, mIndex, nIndex+1, pIndex+1)\n",
    "\n",
    "    return b1 or b2"
   ]
  },
  {
   "cell_type": "code",
   "execution_count": 81,
   "id": "ceb8db0d",
   "metadata": {},
   "outputs": [
    {
     "name": "stdout",
     "output_type": "stream",
     "text": [
      "True\n",
      "False\n",
      "False\n",
      "True\n"
     ]
    }
   ],
   "source": [
    "print(find_SI(\"abd\", \"cef\", \"abcdef\"))\n",
    "print(find_SI(\"abd\", \"cef\", \"adcbef\"))\n",
    "print(find_SI(\"abc\", \"def\", \"abdccf\"))\n",
    "print(find_SI(\"abcdef\", \"mnop\", \"mnaobcdepf\"))"
   ]
  },
  {
   "cell_type": "markdown",
   "id": "924012d2",
   "metadata": {},
   "source": [
    "##### Memoization\n"
   ]
  },
  {
   "cell_type": "code",
   "execution_count": 82,
   "id": "55edb885",
   "metadata": {},
   "outputs": [],
   "source": [
    "def find_SI(m, n, p):\n",
    "    return find_SI_recursive({}, m, n, p, 0, 0, 0)\n",
    "\n",
    "\n",
    "def find_SI_recursive(dp, m, n, p, mIndex, nIndex, pIndex):\n",
    "    mLen, nLen, pLen = len(m), len(n), len(p)\n",
    "    # if we have reached the end of the all the strings\n",
    "\n",
    "    if mIndex == mLen and nIndex == nLen and pIndex == pLen:\n",
    "        return True\n",
    "\n",
    "    # if we have reached the end of 'p' but 'm' or 'n' still has some characters left\n",
    "    if pIndex == pLen:\n",
    "        return False\n",
    "\n",
    "    subProblemKey = str(mIndex) + \"-\" + str(nIndex) + \"-\" + str(pIndex)\n",
    "    if subProblemKey not in dp:\n",
    "        b1, b2 = False, False\n",
    "        if mIndex < mLen and m[mIndex] == p[pIndex]:\n",
    "            b1 = find_SI_recursive(dp, m, n, p, mIndex + 1, nIndex, pIndex + 1)\n",
    "\n",
    "        if nIndex < nLen and n[nIndex] == p[pIndex]:\n",
    "            b2 = find_SI_recursive(dp, m, n, p, mIndex, nIndex + 1, pIndex + 1)\n",
    "\n",
    "        dp[subProblemKey] = b1 or b2\n",
    "\n",
    "    return dp.get(subProblemKey)"
   ]
  },
  {
   "cell_type": "code",
   "execution_count": 83,
   "id": "94934fa6",
   "metadata": {},
   "outputs": [
    {
     "name": "stdout",
     "output_type": "stream",
     "text": [
      "True\n",
      "False\n",
      "False\n",
      "True\n"
     ]
    }
   ],
   "source": [
    "print(find_SI(\"abd\", \"cef\", \"abcdef\"))\n",
    "print(find_SI(\"abd\", \"cef\", \"adcbef\"))\n",
    "print(find_SI(\"abc\", \"def\", \"abdccf\"))\n",
    "print(find_SI(\"abcdef\", \"mnop\", \"mnaobcdepf\"))"
   ]
  },
  {
   "cell_type": "markdown",
   "id": "4d40c9e1",
   "metadata": {},
   "source": [
    "##### Bottom up:\n",
    "\n",
    "We will be tracking separate indexes for ‘m’, ‘n’ and ‘p’, so we will have the following options for every value of mIndex, nIndex, and pIndex:\n",
    "\n",
    "1. If the character m[mIndex] matches the character p[pIndex], we will take the matching result up to mIndex-1 and nIndex. \n",
    "2. If the character n[nIndex] matches the character p[pIndex], we will take the matching result up to mIndex and nIndex-1.\n",
    "\n",
    "```\n",
    "dp[mIndex][nIndex] = false\n",
    "if m[mIndex] == p[pIndex] \n",
    "    dp[mIndex][nIndex] = dp[mIndex-1][nIndex]\n",
    "if n[nIndex] == p[pIndex] \n",
    "    dp[mIndex][nIndex] |= dp[mIndex][nIndex-1]\n",
    "```"
   ]
  },
  {
   "cell_type": "code",
   "execution_count": 84,
   "id": "83d66ab7",
   "metadata": {},
   "outputs": [],
   "source": [
    "def find_SI(m, n, p):\n",
    "    mLen, nLen, pLen = len(m), len(n), len(p)\n",
    "    # dp[mIndex][nIndex] will be storing the result of string interleaving\n",
    "    # up to p[0..mIndex+nIndex-1]\n",
    "    dp = [[False for _ in range(nLen+1)] for _ in range(mLen+1)]\n",
    "\n",
    "    # make sure if lengths of the strings add up\n",
    "    if mLen + nLen != pLen:\n",
    "        return False\n",
    "\n",
    "    for mIndex in range(mLen+1):\n",
    "        for nIndex in range(nLen+1):\n",
    "            # if 'm' and 'n' are empty, then 'p' must have been empty too.\n",
    "            if mIndex == 0 and nIndex == 0:\n",
    "                dp[mIndex][nIndex] = True\n",
    "            # if 'm' is empty, we need to check the interleaving with 'n' only\n",
    "            elif mIndex == 0 and n[nIndex - 1] == p[mIndex + nIndex - 1]:\n",
    "                dp[mIndex][nIndex] = dp[mIndex][nIndex - 1]\n",
    "            # if 'n' is empty, we need to check the interleaving with 'm' only\n",
    "            elif nIndex == 0 and m[mIndex - 1] == p[mIndex + nIndex - 1]:\n",
    "                dp[mIndex][nIndex] = dp[mIndex - 1][nIndex]\n",
    "            else:\n",
    "                # if the letter of 'm' and 'p' match, we take whatever is matched till mIndex-1\n",
    "                if mIndex > 0 and m[mIndex - 1] == p[mIndex + nIndex - 1]:\n",
    "                    dp[mIndex][nIndex] = dp[mIndex - 1][nIndex]\n",
    "                # if the letter of 'n' and 'p' match, we take whatever is matched till \n",
    "                # nIndex-1 too note the '|=', this is required when we have common letters\n",
    "                if nIndex > 0 and n[nIndex - 1] == p[mIndex + nIndex - 1]:\n",
    "                    dp[mIndex][nIndex] |= dp[mIndex][nIndex - 1]\n",
    "\n",
    "    return dp[mLen][nLen]"
   ]
  },
  {
   "cell_type": "code",
   "execution_count": 85,
   "id": "bf3ecdb1",
   "metadata": {},
   "outputs": [
    {
     "name": "stdout",
     "output_type": "stream",
     "text": [
      "True\n",
      "False\n",
      "False\n",
      "True\n"
     ]
    }
   ],
   "source": [
    "print(find_SI(\"abd\", \"cef\", \"abcdef\"))\n",
    "print(find_SI(\"abd\", \"cef\", \"adcbef\"))\n",
    "print(find_SI(\"abc\", \"def\", \"abdccf\"))\n",
    "print(find_SI(\"abcdef\", \"mnop\", \"mnaobcdepf\"))"
   ]
  },
  {
   "cell_type": "code",
   "execution_count": null,
   "id": "53773609",
   "metadata": {},
   "outputs": [],
   "source": []
  }
 ],
 "metadata": {
  "kernelspec": {
   "display_name": "Python 3",
   "language": "python",
   "name": "python3"
  },
  "language_info": {
   "codemirror_mode": {
    "name": "ipython",
    "version": 3
   },
   "file_extension": ".py",
   "mimetype": "text/x-python",
   "name": "python",
   "nbconvert_exporter": "python",
   "pygments_lexer": "ipython3",
   "version": "3.9.5"
  }
 },
 "nbformat": 4,
 "nbformat_minor": 5
}
