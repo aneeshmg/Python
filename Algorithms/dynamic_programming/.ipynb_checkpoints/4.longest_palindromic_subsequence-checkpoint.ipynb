{
 "cells": [
  {
   "cell_type": "markdown",
   "id": "e3ee56ba",
   "metadata": {},
   "source": [
    "### Palindromic subsequence"
   ]
  },
  {
   "cell_type": "markdown",
   "id": "44ccf005",
   "metadata": {},
   "source": [
    "#### Longest palindromic subsequence\n",
    "\"abdbca\" => 5, because \"abdba\""
   ]
  },
  {
   "cell_type": "markdown",
   "id": "4b8dcaad",
   "metadata": {},
   "source": [
    "##### Brute force:\n",
    "A basic brute-force solution could be to try all the subsequences of the given sequence. We can start processing from the beginning and the end of the sequence. So at any step, we have two options:\n",
    "\n",
    "1. If the element at the beginning and the end are the same, we increment our count by two and make a recursive call for the remaining sequence.\n",
    "2. We will skip the element either from the beginning or the end to make two recursive calls for the remaining subsequence.\n",
    "\n",
    "If option one applies then it will give us the length of LPS; otherwise, the length of LPS will be the maximum number returned by the two recurse calls from the second option.\n",
    "\n"
   ]
  },
  {
   "cell_type": "code",
   "execution_count": 1,
   "id": "091823ad",
   "metadata": {},
   "outputs": [],
   "source": [
    "def find_LPS_length(st):\n",
    "    return find_LPS_length_recursive(st, 0, len(st) - 1)\n",
    "\n",
    "\n",
    "def find_LPS_length_recursive(st, startIndex, endIndex):\n",
    "    if startIndex > endIndex:\n",
    "        return 0\n",
    "\n",
    "    # every sequence with one element is a palindrome of length 1\n",
    "    if startIndex == endIndex:\n",
    "        return 1\n",
    "\n",
    "    # case 1: elements at the beginning and the end are the same\n",
    "    if st[startIndex] == st[endIndex]:\n",
    "        return 2 + find_LPS_length_recursive(st, startIndex + 1, endIndex - 1)\n",
    "\n",
    "    # case 2: skip one element either from the beginning or the end\n",
    "    c1 = find_LPS_length_recursive(st, startIndex + 1, endIndex)\n",
    "    c2 = find_LPS_length_recursive(st, startIndex, endIndex - 1)\n",
    "    \n",
    "    return max(c1, c2)"
   ]
  },
  {
   "cell_type": "code",
   "execution_count": 2,
   "id": "5fce9d68",
   "metadata": {},
   "outputs": [
    {
     "name": "stdout",
     "output_type": "stream",
     "text": [
      "5\n",
      "3\n",
      "1\n"
     ]
    }
   ],
   "source": [
    "print(find_LPS_length(\"abdbca\"))\n",
    "print(find_LPS_length(\"cddpd\"))\n",
    "print(find_LPS_length(\"pqr\"))"
   ]
  },
  {
   "cell_type": "markdown",
   "id": "81930606",
   "metadata": {},
   "source": [
    "##### Memoization\n",
    "Since two indices are being updated over recursion, we need a 2-d array"
   ]
  },
  {
   "cell_type": "code",
   "execution_count": 3,
   "id": "8d355c81",
   "metadata": {},
   "outputs": [],
   "source": [
    "def find_LPS_length(st):\n",
    "    n = len(st)\n",
    "    dp = [[-1 for _ in range(n)] for _ in range(n)]\n",
    "    return find_LPS_length_recursive(dp, st, 0, n - 1)\n",
    "\n",
    "\n",
    "def find_LPS_length_recursive(dp, st, startIndex, endIndex):\n",
    "    if startIndex > endIndex:\n",
    "        return 0\n",
    "\n",
    "    # every sequence with one element is a palindrome of length 1\n",
    "    if startIndex == endIndex:\n",
    "        return 1\n",
    "\n",
    "    if (dp[startIndex][endIndex] == -1):\n",
    "        # case 1: elements at the beginning and the end are the same\n",
    "        if st[startIndex] == st[endIndex]:\n",
    "            dp[startIndex][endIndex] = 2 + find_LPS_length_recursive(dp, st, startIndex + 1, endIndex - 1)\n",
    "        else:\n",
    "        # case 2: skip one element either from the beginning or the end\n",
    "            c1 = find_LPS_length_recursive(dp, st, startIndex + 1, endIndex)\n",
    "            c2 = find_LPS_length_recursive(dp, st, startIndex, endIndex - 1)\n",
    "            dp[startIndex][endIndex] = max(c1, c2)\n",
    "\n",
    "    return dp[startIndex][endIndex]"
   ]
  },
  {
   "cell_type": "code",
   "execution_count": 4,
   "id": "0e4b95fc",
   "metadata": {},
   "outputs": [
    {
     "name": "stdout",
     "output_type": "stream",
     "text": [
      "5\n",
      "3\n",
      "1\n"
     ]
    }
   ],
   "source": [
    "print(find_LPS_length(\"abdbca\"))\n",
    "print(find_LPS_length(\"cddpd\"))\n",
    "print(find_LPS_length(\"pqr\"))"
   ]
  },
  {
   "cell_type": "markdown",
   "id": "1513090b",
   "metadata": {},
   "source": [
    "##### Bottom up:\n",
    "We can start from the beginning of the sequence and keep adding one element at a time. At every step, we will try all of its subsequences. So for every startIndex and endIndex in the given string, we will choose one of the following two options:\n",
    "\n",
    "1. If the element at the startIndex matches the element at the endIndex, the length of LPS would be two plus the length of LPS till startIndex+1 and endIndex-1.\n",
    "2. If the element at the startIndex does not match the element at the endIndex, we will take the maximum LPS created by either skipping element at the startIndex or the endIndex.\n",
    "\n",
    "```if st[endIndex] == st[startIndex] \n",
    "  dp[startIndex][endIndex] = 2 + dp[startIndex + 1][endIndex - 1]\n",
    "else \n",
    "  dp[startIndex][endIndex] = \n",
    "         Math.max(dp[startIndex + 1][endIndex], dp[startIndex][endIndex - 1])```"
   ]
  },
  {
   "cell_type": "code",
   "execution_count": 5,
   "id": "4822db8d",
   "metadata": {},
   "outputs": [],
   "source": [
    "def find_LPS_length(st):\n",
    "    n = len(st)\n",
    "    # dp[i][j] stores the length of LPS from index 'i' to index 'j'\n",
    "    dp = [[0 for _ in range(n)] for _ in range(n)]\n",
    "\n",
    "    # every sequence with one element is a palindrome of length 1\n",
    "    for i in range(n):\n",
    "        dp[i][i] = 1\n",
    "\n",
    "    for startIndex in range(n - 1, -1, -1):\n",
    "        for endIndex in range(startIndex + 1, n):\n",
    "            # case 1: elements at the beginning and the end are the same\n",
    "            if st[startIndex] == st[endIndex]:\n",
    "                dp[startIndex][endIndex] = 2 + dp[startIndex + 1][endIndex - 1]\n",
    "            else:  # case 2: skip one element either from the beginning or the end\n",
    "                dp[startIndex][endIndex] = max(dp[startIndex + 1][endIndex], dp[startIndex][endIndex - 1])\n",
    "\n",
    "    return dp[0][n - 1]"
   ]
  },
  {
   "cell_type": "code",
   "execution_count": 6,
   "id": "96ed28e6",
   "metadata": {},
   "outputs": [
    {
     "name": "stdout",
     "output_type": "stream",
     "text": [
      "5\n",
      "3\n",
      "1\n"
     ]
    }
   ],
   "source": [
    "print(find_LPS_length(\"abdbca\"))\n",
    "print(find_LPS_length(\"cddpd\"))\n",
    "print(find_LPS_length(\"pqr\"))"
   ]
  },
  {
   "cell_type": "markdown",
   "id": "8da68c4b",
   "metadata": {},
   "source": [
    "<br>"
   ]
  },
  {
   "cell_type": "markdown",
   "id": "05623b50",
   "metadata": {},
   "source": [
    "#### Longest Palindromic Substring\n",
    "_in substring, chars cannot be skipped, unlike in subsequence_\n",
    "\n",
    "_example: \"aba\" -> \"aa\" is a subsequence and not a substring, \"ab\", \"ba\" are both substrings and subsequences_\n",
    "\n",
    "\"abdbca\" -> \"bdb\" (in the case of subsequence, it was \"abdba\", by eliminating 'c')"
   ]
  },
  {
   "cell_type": "markdown",
   "id": "44023fb4",
   "metadata": {},
   "source": [
    "##### Brute force:\n",
    "\n",
    "The brute-force solution will be to try all the substrings of the given string. We can start processing from the beginning and the end of the string. So at any step, we will have two options:\n",
    "\n",
    "1. If the element at the beginning and the end are the same, we make a recursive call to check if the remaining substring is also a palindrome. If so, the substring is a palindrome from beginning to the end.\n",
    "2. We will skip either the element from the beginning or the end to make two recursive calls for the remaining substring. The length of LPS would be the maximum of these two recursive calls."
   ]
  },
  {
   "cell_type": "code",
   "execution_count": 7,
   "id": "d5f301df",
   "metadata": {},
   "outputs": [],
   "source": [
    "def find_LPS_length(st):\n",
    "    return find_LPS_length_recursive(st, 0, len(st) - 1)\n",
    "\n",
    "\n",
    "def find_LPS_length_recursive(st, startIndex, endIndex):\n",
    "    if startIndex > endIndex:\n",
    "        return 0\n",
    "\n",
    "    # every string with one character is a palindrome\n",
    "    if startIndex == endIndex:\n",
    "        return 1\n",
    "\n",
    "    # case 1: elements at the beginning and the end are the same\n",
    "    if st[startIndex] == st[endIndex]:\n",
    "        remainingLength = endIndex - startIndex - 1\n",
    "        # check if the remaining string is also a palindrome\n",
    "        if remainingLength == find_LPS_length_recursive(st, startIndex + 1, endIndex - 1):\n",
    "            return remainingLength + 2\n",
    "\n",
    "    # case 2: skip one character either from the beginning or the end\n",
    "    c1 = find_LPS_length_recursive(st, startIndex + 1, endIndex)\n",
    "    c2 = find_LPS_length_recursive(st, startIndex, endIndex - 1)\n",
    "    return max(c1, c2)"
   ]
  },
  {
   "cell_type": "code",
   "execution_count": 9,
   "id": "ca6cf299",
   "metadata": {},
   "outputs": [
    {
     "name": "stdout",
     "output_type": "stream",
     "text": [
      "3\n",
      "3\n",
      "1\n"
     ]
    }
   ],
   "source": [
    "print(find_LPS_length(\"abdbca\"))\n",
    "print(find_LPS_length(\"cddpd\"))\n",
    "print(find_LPS_length(\"pqr\"))"
   ]
  },
  {
   "cell_type": "markdown",
   "id": "a3e4fe84",
   "metadata": {},
   "source": [
    "##### Memoization\n",
    "Need 2-d array for 2 indices\n"
   ]
  },
  {
   "cell_type": "code",
   "execution_count": 11,
   "id": "61c1bcd9",
   "metadata": {},
   "outputs": [],
   "source": [
    "def find_LPS_length(st):\n",
    "    n = len(st)\n",
    "    dp = [[-1 for _ in range(n)] for _ in range(n)]\n",
    "    return find_LPS_length_recursive(dp, st, 0, n - 1)\n",
    "\n",
    "\n",
    "def find_LPS_length_recursive(dp, st, startIndex, endIndex):\n",
    "    if startIndex > endIndex:\n",
    "        return 0\n",
    "\n",
    "    # every string with one character is a palindrome\n",
    "    if startIndex == endIndex:\n",
    "        return 1\n",
    "\n",
    "    if dp[startIndex][endIndex] == -1:\n",
    "    # case 1: elements at the beginning and the end are the same\n",
    "        if st[startIndex] == st[endIndex]:\n",
    "            remainingLength = endIndex - startIndex - 1\n",
    "            # if the remaining string is a palindrome too\n",
    "            if remainingLength == find_LPS_length_recursive(dp, st, startIndex + 1, endIndex - 1):\n",
    "                dp[startIndex][endIndex] = remainingLength + 2\n",
    "                return dp[startIndex][endIndex]\n",
    "\n",
    "    # case 2: skip one character either from the beginning or the end\n",
    "    c1 = find_LPS_length_recursive(dp, st, startIndex + 1, endIndex)\n",
    "    c2 = find_LPS_length_recursive(dp, st, startIndex, endIndex - 1)\n",
    "    dp[startIndex][endIndex] = max(c1, c2)\n",
    "\n",
    "    return dp[startIndex][endIndex]"
   ]
  },
  {
   "cell_type": "code",
   "execution_count": 12,
   "id": "cabdee2f",
   "metadata": {},
   "outputs": [
    {
     "name": "stdout",
     "output_type": "stream",
     "text": [
      "1\n",
      "3\n",
      "1\n"
     ]
    }
   ],
   "source": [
    "print(find_LPS_length(\"abdbca\"))\n",
    "print(find_LPS_length(\"cddpd\"))\n",
    "print(find_LPS_length(\"pqr\"))"
   ]
  },
  {
   "cell_type": "markdown",
   "id": "229fd06e",
   "metadata": {},
   "source": [
    "##### Bottom up:\n",
    "We can start from the beginning of the string and keep adding one element at a time. At every step, we will try all of its substrings. So for every endIndex and startIndex in the given string, we need to check the following thing:\n",
    "\n",
    "If the element at the startIndex matches the element at the endIndex, we will further check if the remaining substring (from startIndex+1 to endIndex-1) is a substring too.\n",
    "\n",
    "```\n",
    "if st[startIndex] == st[endIndex], and if the remaining string is of zero \n",
    "                  length or dp[startIndex+1][endIndex-1] is a palindrome then\n",
    "   dp[startIndex][endIndex] = true\n",
    "```"
   ]
  },
  {
   "cell_type": "code",
   "execution_count": 13,
   "id": "eb082c33",
   "metadata": {},
   "outputs": [],
   "source": [
    "def find_LPS_length(st):\n",
    "    n = len(st)\n",
    "    # dp[i][j] will be 'true' if the string from index 'i' to index 'j' is a palindrome\n",
    "    dp = [[False for _ in range(n)] for _ in range(n)]\n",
    "\n",
    "    # every string with one character is a palindrome\n",
    "    for i in range(n):\n",
    "        dp[i][i] = True\n",
    "\n",
    "    maxLength = 1\n",
    "    for startIndex in range(n - 1, -1, -1):\n",
    "        for endIndex in range(startIndex + 1, n):\n",
    "            if st[startIndex] == st[endIndex]:\n",
    "                # if it's a two character string or if the remaining string is a palindrome too\n",
    "                if endIndex - startIndex == 1 or dp[startIndex + 1][endIndex - 1]:\n",
    "                    dp[startIndex][endIndex] = True\n",
    "                    maxLength = max(maxLength, endIndex - startIndex + 1)\n",
    "\n",
    "    return maxLength"
   ]
  },
  {
   "cell_type": "code",
   "execution_count": 14,
   "id": "d1971ce9",
   "metadata": {},
   "outputs": [
    {
     "name": "stdout",
     "output_type": "stream",
     "text": [
      "3\n",
      "3\n",
      "1\n"
     ]
    }
   ],
   "source": [
    "print(find_LPS_length(\"abdbca\"))\n",
    "print(find_LPS_length(\"cddpd\"))\n",
    "print(find_LPS_length(\"pqr\"))"
   ]
  },
  {
   "cell_type": "markdown",
   "id": "cc1cb937",
   "metadata": {},
   "source": [
    "<br>"
   ]
  },
  {
   "cell_type": "markdown",
   "id": "0c355e4e",
   "metadata": {},
   "source": [
    "#### Count of palindromic substrings\n",
    "\"abdbca\" => 7 (\"a\", \"b\", \"d\", \"b\", \"c\", \"a\", \"bdb\")"
   ]
  },
  {
   "cell_type": "markdown",
   "id": "116d7aff",
   "metadata": {},
   "source": [
    "##### Skipping brute force & memo\n",
    "Similar to longest palindromic substring, The only difference is that instead of calculating the longest palindromic substring, we will instead count all the palindromic substrings."
   ]
  },
  {
   "cell_type": "code",
   "execution_count": 17,
   "id": "3ccc46de",
   "metadata": {},
   "outputs": [],
   "source": [
    "def count_PS(st):\n",
    "    n = len(st)\n",
    "    # dp[i][j] will be 'true' if the string from index 'i' to index 'j' is a palindrome\n",
    "    dp = [[False for _ in range(n)] for _ in range(n)]\n",
    "    count = 0\n",
    "\n",
    "    # every string with one character is a palindrome\n",
    "    for i in range(n):\n",
    "        dp[i][i] = True\n",
    "        count += 1\n",
    "\n",
    "    for startIndex in range(n - 1, -1, -1):\n",
    "        for endIndex in range(startIndex + 1, n):\n",
    "            if st[startIndex] == st[endIndex]:\n",
    "                # if it's a two character string or if the remaining string is a palindrome too\n",
    "                if endIndex - startIndex == 1 or dp[startIndex + 1][endIndex - 1]:\n",
    "                    dp[startIndex][endIndex] = True\n",
    "                    count += 1\n",
    "\n",
    "    return count"
   ]
  },
  {
   "cell_type": "code",
   "execution_count": 18,
   "id": "aabf0bae",
   "metadata": {},
   "outputs": [
    {
     "name": "stdout",
     "output_type": "stream",
     "text": [
      "7\n",
      "7\n",
      "3\n",
      "6\n"
     ]
    }
   ],
   "source": [
    "print(count_PS(\"abdbca\"))\n",
    "print(count_PS(\"cddpd\"))\n",
    "print(count_PS(\"pqr\"))\n",
    "print(count_PS(\"qqq\"))"
   ]
  },
  {
   "cell_type": "markdown",
   "id": "6d17139d",
   "metadata": {},
   "source": [
    "<br>"
   ]
  },
  {
   "cell_type": "markdown",
   "id": "93064b4b",
   "metadata": {},
   "source": [
    "#### Minimum Deletions in a String to make it a Palindrome\n",
    "\"abdbca\" => 1 - remove 'c' to obtain the palindrome"
   ]
  },
  {
   "cell_type": "markdown",
   "id": "a2c04ea0",
   "metadata": {},
   "source": [
    "##### Jumping into Bottom up as it is similar to longest common subsequence\n",
    "We can use the fact that LPS is the best subsequence we can have, so any character that is not part of LPS must be removed\n",
    "\n",
    "``` Minimum_deletions_to_make_palindrome = Length(st) - LPS(st)```\n"
   ]
  },
  {
   "cell_type": "code",
   "execution_count": 19,
   "id": "2d908757",
   "metadata": {},
   "outputs": [],
   "source": [
    "def find_minimum_deletions(st):\n",
    "    # subtracting the length of Longest Palindromic Subsequence from the length of\n",
    "    # the input string to get minimum number of deletions\n",
    "    return len(st) - find_LPS_length(st)\n",
    "\n",
    "\n",
    "def find_LPS_length(st):\n",
    "    n = len(st)\n",
    "    # dp[i][j] stores the length of LPS from index 'i' to index 'j'\n",
    "    dp = [[0 for _ in range(n)] for _ in range(n)]\n",
    "\n",
    "    # every sequence with one element is a palindrome of length 1\n",
    "    for i in range(n):\n",
    "        dp[i][i] = 1\n",
    "\n",
    "    for startIndex in range(n - 1, -1, -1):\n",
    "        for endIndex in range(startIndex + 1, n):\n",
    "            # case 1: elements at the beginning and the end are the same\n",
    "            if st[startIndex] == st[endIndex]:\n",
    "                dp[startIndex][endIndex] = 2 + dp[startIndex + 1][endIndex - 1]\n",
    "            else:  # case 2: skip one element either from the beginning or the end\n",
    "                dp[startIndex][endIndex] = max(dp[startIndex + 1][endIndex], dp[startIndex][endIndex - 1])\n",
    "\n",
    "    return dp[0][n - 1]"
   ]
  },
  {
   "cell_type": "code",
   "execution_count": 20,
   "id": "6d1fcb7e",
   "metadata": {},
   "outputs": [
    {
     "name": "stdout",
     "output_type": "stream",
     "text": [
      "1\n",
      "2\n",
      "2\n"
     ]
    }
   ],
   "source": [
    "print(find_minimum_deletions(\"abdbca\"))\n",
    "print(find_minimum_deletions(\"cddpd\"))\n",
    "print(find_minimum_deletions(\"pqr\"))"
   ]
  },
  {
   "cell_type": "markdown",
   "id": "9a9704c3",
   "metadata": {},
   "source": [
    "<br>"
   ]
  },
  {
   "cell_type": "markdown",
   "id": "f7f366f2",
   "metadata": {},
   "source": [
    "#### Palindromic partitioning\n",
    "Given a string, we want to cut it into pieces such that each piece is a palindrome. Write a function to return the minimum number of cuts needed\n",
    "\n",
    "`\"abdbca\" => 3 -\"a\", \"bdb\", \"c\", \"a\"`"
   ]
  },
  {
   "cell_type": "markdown",
   "id": "ec5a287b",
   "metadata": {},
   "source": [
    "##### Brute force:\n",
    "The brute-force solution will be to try all the substring combinations of the given string. We can start processing from the beginning of the string and keep adding one character at a time. At any step, if we get a palindrome, we take it as one piece and recursively process the remaining length of the string to find the minimum cuts needed."
   ]
  },
  {
   "cell_type": "code",
   "execution_count": 21,
   "id": "e57a809d",
   "metadata": {},
   "outputs": [],
   "source": [
    "def find_MPP_cuts(st):\n",
    "    return find_MPP_cuts_recursive(st, 0, len(st)-1)\n",
    "\n",
    "\n",
    "def find_MPP_cuts_recursive(st, startIndex, endIndex):\n",
    "    # we don't need to cut the string if it is a palindrome\n",
    "    if startIndex >= endIndex or is_palindrome(st, startIndex, endIndex):\n",
    "        return 0\n",
    "\n",
    "    # at max, we need to cut the string into its 'length-1' pieces\n",
    "    minimumCuts = endIndex - startIndex\n",
    "    for i in range(startIndex, endIndex+1):\n",
    "        if is_palindrome(st, startIndex, i):\n",
    "          # we can cut here as we have a palindrome from 'startIndex' to 'i'\n",
    "          minimumCuts = min(minimumCuts, 1 + find_MPP_cuts_recursive(st, i + 1, endIndex))\n",
    "\n",
    "    return minimumCuts\n",
    "\n",
    "\n",
    "def is_palindrome(st, x, y):\n",
    "    while (x < y):\n",
    "        if st[x] != st[y]:\n",
    "            return False\n",
    "        x += 1\n",
    "        y -= 1\n",
    "    return True"
   ]
  },
  {
   "cell_type": "code",
   "execution_count": 22,
   "id": "fb94c25f",
   "metadata": {},
   "outputs": [
    {
     "name": "stdout",
     "output_type": "stream",
     "text": [
      "3\n",
      "2\n",
      "2\n",
      "0\n",
      "0\n"
     ]
    }
   ],
   "source": [
    "print(find_MPP_cuts(\"abdbca\"))\n",
    "print(find_MPP_cuts(\"cdpdd\"))\n",
    "print(find_MPP_cuts(\"pqr\"))\n",
    "print(find_MPP_cuts(\"pp\"))\n",
    "print(find_MPP_cuts(\"madam\"))"
   ]
  },
  {
   "cell_type": "markdown",
   "id": "08047039",
   "metadata": {},
   "source": [
    "##### Memoization:\n"
   ]
  },
  {
   "cell_type": "code",
   "execution_count": 28,
   "id": "45e1de95",
   "metadata": {},
   "outputs": [],
   "source": [
    "def find_MPP_cuts(st):\n",
    "    n = len(st)\n",
    "    dp = [[-1 for _ in range(n)] for _ in range(n)]\n",
    "    dpIsPalindrome = [[-1 for _ in range(n)] for _ in range(n)]\n",
    "    return find_MPP_cuts_recursive(dp, dpIsPalindrome, st, 0, n - 1)\n",
    "\n",
    "\n",
    "def find_MPP_cuts_recursive(dp, dpIsPalindrome, st, startIndex, endIndex):\n",
    "\n",
    "    if startIndex >= endIndex or is_palindrome(dpIsPalindrome, st, startIndex, endIndex):\n",
    "        return 0\n",
    "\n",
    "    if dp[startIndex][endIndex] == -1:\n",
    "        # at max, we need to cut the string into its 'length-1' pieces\n",
    "        minimumCuts = endIndex - startIndex\n",
    "        for i in range(startIndex, endIndex+1):\n",
    "            if is_palindrome(dpIsPalindrome, st, startIndex, i):\n",
    "                # we can cut here as we have a palindrome from 'startIndex' to 'i'\n",
    "                minimumCuts = min(minimumCuts, 1 + find_MPP_cuts_recursive(dp, dpIsPalindrome, st, i + 1, endIndex))\n",
    "\n",
    "        dp[startIndex][endIndex] = minimumCuts\n",
    "\n",
    "    return dp[startIndex][endIndex]\n",
    "\n",
    "\n",
    "def is_palindrome(dpIsPalindrome, st, x, y):\n",
    "    if dpIsPalindrome[x][y] == -1:\n",
    "        dpIsPalindrome[x][y] = 1\n",
    "        i, j = x, y\n",
    "        while i < j:\n",
    "            if st[i] != st[j]:\n",
    "                dpIsPalindrome[x][y] = 0\n",
    "                break\n",
    "            i += 1\n",
    "            j -= 1\n",
    "            # use memoization to find if the remaining string is a palindrome\n",
    "            if i < j and dpIsPalindrome[i][j] != -1:\n",
    "                dpIsPalindrome[x][y] = dpIsPalindrome[i][j]\n",
    "                break\n",
    "\n",
    "    return True if dpIsPalindrome[x][y] == 1 else False"
   ]
  },
  {
   "cell_type": "code",
   "execution_count": 29,
   "id": "23520442",
   "metadata": {},
   "outputs": [
    {
     "name": "stdout",
     "output_type": "stream",
     "text": [
      "3\n",
      "2\n",
      "2\n",
      "0\n",
      "0\n"
     ]
    }
   ],
   "source": [
    "print(find_MPP_cuts(\"abdbca\"))\n",
    "print(find_MPP_cuts(\"cdpdd\"))\n",
    "print(find_MPP_cuts(\"pqr\"))\n",
    "print(find_MPP_cuts(\"pp\"))\n",
    "print(find_MPP_cuts(\"madam\"))"
   ]
  },
  {
   "cell_type": "markdown",
   "id": "58f899a4",
   "metadata": {},
   "source": [
    "##### Bottom up:\n"
   ]
  },
  {
   "cell_type": "code",
   "execution_count": 31,
   "id": "90786092",
   "metadata": {},
   "outputs": [],
   "source": [
    "def find_MPP_cuts(st):\n",
    "    n = len(st)\n",
    "    # isPalindrome[i][j] will be 'true' if the string from index 'i' to index 'j' is \n",
    "    # a palindrome\n",
    "    isPalindrome = [[False for _ in range(n)] for _ in range(n)]\n",
    "\n",
    "    # every string with one character is a palindrome\n",
    "    for i in range(n):\n",
    "        isPalindrome[i][i] = True\n",
    "\n",
    "    # populate isPalindrome table\n",
    "    for startIndex in range(n-1, -1, -1):\n",
    "        for endIndex in range(startIndex+1, n):\n",
    "            if st[startIndex] == st[endIndex]:\n",
    "                # if it's a two character string or if the remaining string is a palindrome too\n",
    "                if endIndex - startIndex == 1 or isPalindrome[startIndex + 1][endIndex - 1]:\n",
    "                    isPalindrome[startIndex][endIndex] = True\n",
    "\n",
    "    # now lets populate the second table, every index in 'cuts' stores the minimum cuts \n",
    "    # needed for the substring from that index till the end\n",
    "    cuts = [0 for _ in range(n)]\n",
    "    for startIndex in range(n-1, -1, -1):\n",
    "        minCuts = n  # maximum cuts\n",
    "        for endIndex in range(n-1, startIndex-1, -1):\n",
    "            if isPalindrome[startIndex][endIndex]:\n",
    "                # we can cut here as we got a palindrome\n",
    "                # also we don't need any cut if the whole substring is a palindrome\n",
    "                minCuts = 0 if endIndex == n-1 else min(minCuts, 1 + cuts[endIndex + 1])\n",
    "\n",
    "    cuts[startIndex] = minCuts\n",
    "\n",
    "    return cuts[0]"
   ]
  },
  {
   "cell_type": "code",
   "execution_count": 32,
   "id": "aa0184b9",
   "metadata": {},
   "outputs": [
    {
     "name": "stdout",
     "output_type": "stream",
     "text": [
      "1\n",
      "1\n",
      "1\n",
      "0\n",
      "0\n"
     ]
    }
   ],
   "source": [
    "print(find_MPP_cuts(\"abdbca\"))\n",
    "print(find_MPP_cuts(\"cdpdd\"))\n",
    "print(find_MPP_cuts(\"pqr\"))\n",
    "print(find_MPP_cuts(\"pp\"))\n",
    "print(find_MPP_cuts(\"madam\"))"
   ]
  },
  {
   "cell_type": "code",
   "execution_count": null,
   "id": "aed3d5c4",
   "metadata": {},
   "outputs": [],
   "source": []
  }
 ],
 "metadata": {
  "kernelspec": {
   "display_name": "Python 3",
   "language": "python",
   "name": "python3"
  },
  "language_info": {
   "codemirror_mode": {
    "name": "ipython",
    "version": 3
   },
   "file_extension": ".py",
   "mimetype": "text/x-python",
   "name": "python",
   "nbconvert_exporter": "python",
   "pygments_lexer": "ipython3",
   "version": "3.9.5"
  }
 },
 "nbformat": 4,
 "nbformat_minor": 5
}
