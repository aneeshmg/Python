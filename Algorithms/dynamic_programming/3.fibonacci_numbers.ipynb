{
 "cells": [
  {
   "cell_type": "markdown",
   "id": "eebb0198",
   "metadata": {},
   "source": [
    "### Fibonacci numbers\n",
    "0, 1, 1, 2, 3, 5..."
   ]
  },
  {
   "cell_type": "markdown",
   "id": "1785bf96",
   "metadata": {},
   "source": [
    "##### Brute force\n"
   ]
  },
  {
   "cell_type": "code",
   "execution_count": 1,
   "id": "f5624757",
   "metadata": {},
   "outputs": [],
   "source": [
    "def calculateFibonacci(n):\n",
    "    if n < 2:\n",
    "        return n\n",
    "\n",
    "    return calculateFibonacci(n - 1) + calculateFibonacci(n - 2)"
   ]
  },
  {
   "cell_type": "code",
   "execution_count": 2,
   "id": "29b90f04",
   "metadata": {},
   "outputs": [
    {
     "name": "stdout",
     "output_type": "stream",
     "text": [
      "5th Fibonacci is ---> 5\n",
      "6th Fibonacci is ---> 8\n",
      "7th Fibonacci is ---> 13\n"
     ]
    }
   ],
   "source": [
    "print(\"5th Fibonacci is ---> \" + str(calculateFibonacci(5)))\n",
    "print(\"6th Fibonacci is ---> \" + str(calculateFibonacci(6)))\n",
    "print(\"7th Fibonacci is ---> \" + str(calculateFibonacci(7)))"
   ]
  },
  {
   "cell_type": "markdown",
   "id": "b3559844",
   "metadata": {},
   "source": [
    "##### Memoization\n",
    "The indices being changed are the number n (just one index)\n",
    "Therefore a 1-d array/map can be used to store the values instead of having to recompute"
   ]
  },
  {
   "cell_type": "code",
   "execution_count": 3,
   "id": "24464ac5",
   "metadata": {},
   "outputs": [],
   "source": [
    "def calculateFibonacci(n):\n",
    "    memoize = [-1 for x in range(n+1)]\n",
    "    return calculateFibonacciRecur(memoize, n)\n",
    "\n",
    "\n",
    "def calculateFibonacciRecur(memoize, n):\n",
    "    if n < 2:\n",
    "        return n\n",
    "\n",
    "    # if we have already solved this subproblem, simply return the result from the cache\n",
    "    if memoize[n] >= 0:\n",
    "        return memoize[n]\n",
    "\n",
    "    memoize[n] = calculateFibonacciRecur(memoize, n - 1) + calculateFibonacciRecur(memoize, n - 2)\n",
    "    \n",
    "    return memoize[n]"
   ]
  },
  {
   "cell_type": "code",
   "execution_count": 4,
   "id": "2a48fd1f",
   "metadata": {},
   "outputs": [
    {
     "name": "stdout",
     "output_type": "stream",
     "text": [
      "5th Fibonacci is ---> 5\n",
      "6th Fibonacci is ---> 8\n",
      "7th Fibonacci is ---> 13\n"
     ]
    }
   ],
   "source": [
    "print(\"5th Fibonacci is ---> \" + str(calculateFibonacci(5)))\n",
    "print(\"6th Fibonacci is ---> \" + str(calculateFibonacci(6)))\n",
    "print(\"7th Fibonacci is ---> \" + str(calculateFibonacci(7)))"
   ]
  },
  {
   "cell_type": "markdown",
   "id": "218dd323",
   "metadata": {},
   "source": [
    "##### Bottom up:\n",
    "Fairly trivial"
   ]
  },
  {
   "cell_type": "code",
   "execution_count": 5,
   "id": "4fa56b68",
   "metadata": {},
   "outputs": [],
   "source": [
    "def calculateFibonacci(n):\n",
    "    if n < 2:\n",
    "        return n\n",
    "    dp = [0, 1]\n",
    "    \n",
    "    for i in range(2, n + 1):\n",
    "        dp.append(dp[i - 1] + dp[i - 2])\n",
    "\n",
    "    return dp[n]"
   ]
  },
  {
   "cell_type": "code",
   "execution_count": 6,
   "id": "d535cdcd",
   "metadata": {},
   "outputs": [
    {
     "name": "stdout",
     "output_type": "stream",
     "text": [
      "5th Fibonacci is ---> 5\n",
      "6th Fibonacci is ---> 8\n",
      "7th Fibonacci is ---> 13\n"
     ]
    }
   ],
   "source": [
    "print(\"5th Fibonacci is ---> \" + str(calculateFibonacci(5)))\n",
    "print(\"6th Fibonacci is ---> \" + str(calculateFibonacci(6)))\n",
    "print(\"7th Fibonacci is ---> \" + str(calculateFibonacci(7)))"
   ]
  },
  {
   "cell_type": "markdown",
   "id": "1ea2c095",
   "metadata": {},
   "source": [
    "_Can be further optimized to use constant space_"
   ]
  },
  {
   "cell_type": "markdown",
   "id": "e1a5dd46",
   "metadata": {},
   "source": [
    "<br>"
   ]
  },
  {
   "cell_type": "markdown",
   "id": "0e364e6e",
   "metadata": {},
   "source": [
    "#### Staircase\n",
    "How many ways to reach top of staircase, taking 1, 2 or 3 steps at once given number of stairs"
   ]
  },
  {
   "cell_type": "markdown",
   "id": "ae663ec0",
   "metadata": {},
   "source": [
    "##### Brute force:"
   ]
  },
  {
   "cell_type": "code",
   "execution_count": 7,
   "id": "372d7679",
   "metadata": {},
   "outputs": [],
   "source": [
    "def count_ways(n):\n",
    "    if n == 0:\n",
    "        return 1  # base case, we don't need to take any step, so there is only one way\n",
    "\n",
    "    if n == 1:\n",
    "        return 1  # we can take one step to reach the end, and that is the only way\n",
    "\n",
    "    if n == 2:\n",
    "        return 2  # we can take one step twice or jump two steps to reach at the top\n",
    "\n",
    "    # if we take 1 step, we are left with 'n-1' steps;\n",
    "    take1Step = count_ways(n - 1)\n",
    "    # similarly, if we took 2 steps, we are left with 'n-2' steps;\n",
    "    take2Step = count_ways(n - 2)\n",
    "    # if we took 3 steps, we are left with 'n-3' steps;\n",
    "    take3Step = count_ways(n - 3)\n",
    "\n",
    "    return take1Step + take2Step + take3Step"
   ]
  },
  {
   "cell_type": "code",
   "execution_count": 8,
   "id": "d2bc12ea",
   "metadata": {},
   "outputs": [
    {
     "name": "stdout",
     "output_type": "stream",
     "text": [
      "4\n",
      "7\n",
      "13\n"
     ]
    }
   ],
   "source": [
    "print(count_ways(3))\n",
    "print(count_ways(4))\n",
    "print(count_ways(5))"
   ]
  },
  {
   "cell_type": "markdown",
   "id": "b60b6ca1",
   "metadata": {},
   "source": [
    "##### Memoization\n",
    "Just one index is needed - n, store the result for n instead of having to recompute"
   ]
  },
  {
   "cell_type": "code",
   "execution_count": 9,
   "id": "d84108b2",
   "metadata": {},
   "outputs": [],
   "source": [
    "def count_ways(n):\n",
    "    dp = [0 for x in range(n+1)]\n",
    "    return count_ways_recursive(dp, n)\n",
    "\n",
    "\n",
    "def count_ways_recursive(dp, n):\n",
    "    if n == 0:\n",
    "        return 1  # base case, we don't need to take any step, so there is only one way\n",
    "\n",
    "    if n == 1:\n",
    "        return 1  # we can take one step to reach the end, and that is the only way\n",
    "\n",
    "    if n == 2:\n",
    "        return 2  # we can take one step twice or jump two steps to reach at the top\n",
    "\n",
    "    if dp[n] == 0:\n",
    "        # if we take 1 step, we are left with 'n-1' steps;\n",
    "        take1Step = count_ways_recursive(dp, n - 1)\n",
    "        # similarly, if we took 2 steps, we are left with 'n-2' steps;\n",
    "        take2Step = count_ways_recursive(dp, n - 2)\n",
    "        # if we took 3 steps, we are left with 'n-3' steps;\n",
    "        take3Step = count_ways_recursive(dp, n - 3)\n",
    "\n",
    "        dp[n] = take1Step + take2Step + take3Step\n",
    "\n",
    "    return dp[n]"
   ]
  },
  {
   "cell_type": "code",
   "execution_count": 10,
   "id": "4ade3c67",
   "metadata": {},
   "outputs": [
    {
     "name": "stdout",
     "output_type": "stream",
     "text": [
      "4\n",
      "7\n",
      "13\n"
     ]
    }
   ],
   "source": [
    "print(count_ways(3))\n",
    "print(count_ways(4))\n",
    "print(count_ways(5))"
   ]
  },
  {
   "cell_type": "markdown",
   "id": "65a5c615",
   "metadata": {},
   "source": [
    "##### Bottom up:\n",
    "Fill table first instead of recursing"
   ]
  },
  {
   "cell_type": "code",
   "execution_count": 11,
   "id": "401fb97d",
   "metadata": {},
   "outputs": [],
   "source": [
    "def count_ways(n):\n",
    "    if n < 2:\n",
    "        return 1\n",
    "    if n == 2:\n",
    "        return 2\n",
    "\n",
    "    dp = [0 for x in range(n+1)]\n",
    "    dp[0] = 1\n",
    "    dp[1] = 1\n",
    "    dp[2] = 2\n",
    "\n",
    "    for i in range(3, n+1):\n",
    "        dp[i] = dp[i - 1] + dp[i - 2] + dp[i - 3]\n",
    "\n",
    "    return dp[n]"
   ]
  },
  {
   "cell_type": "code",
   "execution_count": 12,
   "id": "dc916acb",
   "metadata": {},
   "outputs": [
    {
     "name": "stdout",
     "output_type": "stream",
     "text": [
      "4\n",
      "7\n",
      "13\n"
     ]
    }
   ],
   "source": [
    "print(count_ways(3))\n",
    "print(count_ways(4))\n",
    "print(count_ways(5))"
   ]
  },
  {
   "cell_type": "markdown",
   "id": "e972d3e9",
   "metadata": {},
   "source": [
    "_Just like the fibonacci, this too can be optimized to use constant space_"
   ]
  },
  {
   "cell_type": "markdown",
   "id": "289032a7",
   "metadata": {},
   "source": [
    "<br>"
   ]
  },
  {
   "cell_type": "markdown",
   "id": "10ccb604",
   "metadata": {},
   "source": [
    "#### Number factors\n",
    "Given a number, find how many ways are there to express the number as a sum of 1, 3 or 4"
   ]
  },
  {
   "cell_type": "markdown",
   "id": "64031c4d",
   "metadata": {},
   "source": [
    "##### Brute force:\n"
   ]
  },
  {
   "cell_type": "code",
   "execution_count": 13,
   "id": "56eb7573",
   "metadata": {},
   "outputs": [],
   "source": [
    "def count_ways(n):\n",
    "    if n == 0:\n",
    "        return 1  # base case, we don't need to subtract any thing, so there is only one way\n",
    "\n",
    "    if n == 1:\n",
    "        return 1  # we take subtract 1 to be left with zero, and that is the only way\n",
    "\n",
    "    if n == 2:\n",
    "        return 1  # we can subtract 1 twice to get zero and that is the only way\n",
    "\n",
    "    if n == 3:\n",
    "        return 2  # '3' can be expressed as {1, 1, 1}, {3}\n",
    "\n",
    "    # if we subtract 1, we are left with 'n-1'\n",
    "    subtract1 = count_ways(n - 1)\n",
    "    # if we subtract 3, we are left with 'n-3'\n",
    "    subtract3 = count_ways(n - 3)\n",
    "    # if we subtract 4, we are left with 'n-4'\n",
    "    subtract4 = count_ways(n - 4)\n",
    "\n",
    "    return subtract1 + subtract3 + subtract4"
   ]
  },
  {
   "cell_type": "code",
   "execution_count": 14,
   "id": "bbf70cda",
   "metadata": {},
   "outputs": [
    {
     "name": "stdout",
     "output_type": "stream",
     "text": [
      "4\n",
      "6\n",
      "9\n"
     ]
    }
   ],
   "source": [
    "print(count_ways(4))\n",
    "print(count_ways(5))\n",
    "print(count_ways(6))"
   ]
  },
  {
   "cell_type": "markdown",
   "id": "4e2e4065",
   "metadata": {},
   "source": [
    "##### Memoization \n",
    "Memo is fairly straightforward, same like previous 2, just 1-d array needed"
   ]
  },
  {
   "cell_type": "code",
   "execution_count": 15,
   "id": "42925d85",
   "metadata": {},
   "outputs": [],
   "source": [
    "def count_ways(n):\n",
    "    dp = [0 for x in range(n+1)]\n",
    "    return count_ways_recursive(dp, n)\n",
    "\n",
    "\n",
    "def count_ways_recursive(dp, n):\n",
    "    if n == 0:\n",
    "        return 1  # base case, we don't need to subtract any thing, so there is only one way\n",
    "\n",
    "    if n == 1:\n",
    "        return 1  # we can take subtract 1 to be left with zero, and that is the only way\n",
    "\n",
    "    if n == 2:\n",
    "        return 1  # we can subtract 1 twice to get zero and that is the only way\n",
    "\n",
    "    if n == 3:\n",
    "        return 2  # '3' can be expressed as {1, 1, 1}, {3}\n",
    "\n",
    "    if dp[n] == 0:\n",
    "        # if we subtract 1, we are left with 'n-1'\n",
    "        subtract1 = count_ways_recursive(dp, n - 1)\n",
    "        # if we subtract 3, we are left with 'n-3'\n",
    "        subtract3 = count_ways_recursive(dp, n - 3)\n",
    "        # if we subtract 4, we are left with 'n-4'\n",
    "        subtract4 = count_ways_recursive(dp, n - 4)\n",
    "\n",
    "        dp[n] = subtract1 + subtract3 + subtract4\n",
    "\n",
    "    return dp[n]"
   ]
  },
  {
   "cell_type": "code",
   "execution_count": 16,
   "id": "c0a2eff4",
   "metadata": {},
   "outputs": [
    {
     "name": "stdout",
     "output_type": "stream",
     "text": [
      "4\n",
      "6\n",
      "9\n"
     ]
    }
   ],
   "source": [
    "print(count_ways(4))\n",
    "print(count_ways(5))\n",
    "print(count_ways(6))"
   ]
  },
  {
   "cell_type": "code",
   "execution_count": 17,
   "id": "76eb24c1",
   "metadata": {},
   "outputs": [],
   "source": [
    "def count_ways(n):\n",
    "    if n <= 2:\n",
    "        return 1\n",
    "    if n == 3:\n",
    "        return 2\n",
    "\n",
    "    dp = [0 for x in range(n+1)]\n",
    "    dp[0] = 1\n",
    "    dp[1] = 1\n",
    "    dp[2] = 1\n",
    "    dp[3] = 2\n",
    "\n",
    "    for i in range(4, n+1):\n",
    "        dp[i] = dp[i - 1] + dp[i - 3] + dp[i - 4]\n",
    "\n",
    "    return dp[n]"
   ]
  },
  {
   "cell_type": "code",
   "execution_count": 18,
   "id": "b040e0d0",
   "metadata": {},
   "outputs": [
    {
     "name": "stdout",
     "output_type": "stream",
     "text": [
      "4\n",
      "6\n",
      "9\n"
     ]
    }
   ],
   "source": [
    "print(count_ways(4))\n",
    "print(count_ways(5))\n",
    "print(count_ways(6))"
   ]
  },
  {
   "cell_type": "markdown",
   "id": "6d2626ba",
   "metadata": {},
   "source": [
    "_This too can be optimized to use constant space_"
   ]
  },
  {
   "cell_type": "markdown",
   "id": "d0485566",
   "metadata": {},
   "source": [
    "<br>"
   ]
  },
  {
   "cell_type": "code",
   "execution_count": null,
   "id": "0de98593",
   "metadata": {},
   "outputs": [],
   "source": []
  }
 ],
 "metadata": {
  "kernelspec": {
   "display_name": "Python 3",
   "language": "python",
   "name": "python3"
  },
  "language_info": {
   "codemirror_mode": {
    "name": "ipython",
    "version": 3
   },
   "file_extension": ".py",
   "mimetype": "text/x-python",
   "name": "python",
   "nbconvert_exporter": "python",
   "pygments_lexer": "ipython3",
   "version": "3.9.5"
  }
 },
 "nbformat": 4,
 "nbformat_minor": 5
}
