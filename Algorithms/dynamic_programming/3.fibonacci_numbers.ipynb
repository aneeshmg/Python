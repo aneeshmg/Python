{
 "cells": [
  {
   "cell_type": "markdown",
   "id": "b8c29da0",
   "metadata": {},
   "source": [
    "### Fibonacci numbers\n",
    "0, 1, 1, 2, 3, 5..."
   ]
  },
  {
   "cell_type": "markdown",
   "id": "78af5177",
   "metadata": {},
   "source": [
    "##### Brute force\n"
   ]
  },
  {
   "cell_type": "code",
   "execution_count": 1,
   "id": "921779bd",
   "metadata": {},
   "outputs": [],
   "source": [
    "def calculateFibonacci(n):\n",
    "    if n < 2:\n",
    "        return n\n",
    "\n",
    "    return calculateFibonacci(n - 1) + calculateFibonacci(n - 2)"
   ]
  },
  {
   "cell_type": "code",
   "execution_count": 2,
   "id": "5d822b9c",
   "metadata": {},
   "outputs": [
    {
     "name": "stdout",
     "output_type": "stream",
     "text": [
      "5th Fibonacci is ---> 5\n",
      "6th Fibonacci is ---> 8\n",
      "7th Fibonacci is ---> 13\n"
     ]
    }
   ],
   "source": [
    "print(\"5th Fibonacci is ---> \" + str(calculateFibonacci(5)))\n",
    "print(\"6th Fibonacci is ---> \" + str(calculateFibonacci(6)))\n",
    "print(\"7th Fibonacci is ---> \" + str(calculateFibonacci(7)))"
   ]
  },
  {
   "cell_type": "markdown",
   "id": "9830f2c7",
   "metadata": {},
   "source": [
    "##### Memoization\n",
    "The indices being changed are the number n (just one index)\n",
    "Therefore a 1-d array/map can be used to store the values instead of having to recompute"
   ]
  },
  {
   "cell_type": "code",
   "execution_count": 3,
   "id": "7442618b",
   "metadata": {},
   "outputs": [],
   "source": [
    "def calculateFibonacci(n):\n",
    "    memoize = [-1 for x in range(n+1)]\n",
    "    return calculateFibonacciRecur(memoize, n)\n",
    "\n",
    "\n",
    "def calculateFibonacciRecur(memoize, n):\n",
    "    if n < 2:\n",
    "        return n\n",
    "\n",
    "    # if we have already solved this subproblem, simply return the result from the cache\n",
    "    if memoize[n] >= 0:\n",
    "        return memoize[n]\n",
    "\n",
    "    memoize[n] = calculateFibonacciRecur(memoize, n - 1) + calculateFibonacciRecur(memoize, n - 2)\n",
    "    \n",
    "    return memoize[n]"
   ]
  },
  {
   "cell_type": "code",
   "execution_count": 4,
   "id": "5aee60e2",
   "metadata": {},
   "outputs": [
    {
     "name": "stdout",
     "output_type": "stream",
     "text": [
      "5th Fibonacci is ---> 5\n",
      "6th Fibonacci is ---> 8\n",
      "7th Fibonacci is ---> 13\n"
     ]
    }
   ],
   "source": [
    "print(\"5th Fibonacci is ---> \" + str(calculateFibonacci(5)))\n",
    "print(\"6th Fibonacci is ---> \" + str(calculateFibonacci(6)))\n",
    "print(\"7th Fibonacci is ---> \" + str(calculateFibonacci(7)))"
   ]
  },
  {
   "cell_type": "markdown",
   "id": "b7cb1cb9",
   "metadata": {},
   "source": [
    "##### Bottom up:\n",
    "Fairly trivial"
   ]
  },
  {
   "cell_type": "code",
   "execution_count": 5,
   "id": "a580c8ff",
   "metadata": {},
   "outputs": [],
   "source": [
    "def calculateFibonacci(n):\n",
    "    if n < 2:\n",
    "        return n\n",
    "    dp = [0, 1]\n",
    "    \n",
    "    for i in range(2, n + 1):\n",
    "        dp.append(dp[i - 1] + dp[i - 2])\n",
    "\n",
    "    return dp[n]"
   ]
  },
  {
   "cell_type": "code",
   "execution_count": 6,
   "id": "e324707f",
   "metadata": {},
   "outputs": [
    {
     "name": "stdout",
     "output_type": "stream",
     "text": [
      "5th Fibonacci is ---> 5\n",
      "6th Fibonacci is ---> 8\n",
      "7th Fibonacci is ---> 13\n"
     ]
    }
   ],
   "source": [
    "print(\"5th Fibonacci is ---> \" + str(calculateFibonacci(5)))\n",
    "print(\"6th Fibonacci is ---> \" + str(calculateFibonacci(6)))\n",
    "print(\"7th Fibonacci is ---> \" + str(calculateFibonacci(7)))"
   ]
  },
  {
   "cell_type": "markdown",
   "id": "162be5f6",
   "metadata": {},
   "source": [
    "_Can be further optimized to use constant space_"
   ]
  },
  {
   "cell_type": "markdown",
   "id": "ef24d756",
   "metadata": {},
   "source": [
    "<br>"
   ]
  },
  {
   "cell_type": "markdown",
   "id": "183a16cd",
   "metadata": {},
   "source": [
    "#### Staircase\n",
    "How many ways to reach top of staircase, taking 1, 2 or 3 steps at once given number of stairs"
   ]
  },
  {
   "cell_type": "markdown",
   "id": "7210dca9",
   "metadata": {},
   "source": [
    "##### Brute force:"
   ]
  },
  {
   "cell_type": "code",
   "execution_count": 7,
   "id": "3f8ec780",
   "metadata": {},
   "outputs": [],
   "source": [
    "def count_ways(n):\n",
    "    if n == 0:\n",
    "        return 1  # base case, we don't need to take any step, so there is only one way\n",
    "\n",
    "    if n == 1:\n",
    "        return 1  # we can take one step to reach the end, and that is the only way\n",
    "\n",
    "    if n == 2:\n",
    "        return 2  # we can take one step twice or jump two steps to reach at the top\n",
    "\n",
    "    # if we take 1 step, we are left with 'n-1' steps;\n",
    "    take1Step = count_ways(n - 1)\n",
    "    # similarly, if we took 2 steps, we are left with 'n-2' steps;\n",
    "    take2Step = count_ways(n - 2)\n",
    "    # if we took 3 steps, we are left with 'n-3' steps;\n",
    "    take3Step = count_ways(n - 3)\n",
    "\n",
    "    return take1Step + take2Step + take3Step"
   ]
  },
  {
   "cell_type": "code",
   "execution_count": 8,
   "id": "fd517c38",
   "metadata": {},
   "outputs": [
    {
     "name": "stdout",
     "output_type": "stream",
     "text": [
      "4\n",
      "7\n",
      "13\n"
     ]
    }
   ],
   "source": [
    "print(count_ways(3))\n",
    "print(count_ways(4))\n",
    "print(count_ways(5))"
   ]
  },
  {
   "cell_type": "markdown",
   "id": "067feee4",
   "metadata": {},
   "source": [
    "##### Memoization\n",
    "Just one index is needed - n, store the result for n instead of having to recompute"
   ]
  },
  {
   "cell_type": "code",
   "execution_count": 9,
   "id": "875b32d8",
   "metadata": {},
   "outputs": [],
   "source": [
    "def count_ways(n):\n",
    "    dp = [0 for x in range(n+1)]\n",
    "    return count_ways_recursive(dp, n)\n",
    "\n",
    "\n",
    "def count_ways_recursive(dp, n):\n",
    "    if n == 0:\n",
    "        return 1  # base case, we don't need to take any step, so there is only one way\n",
    "\n",
    "    if n == 1:\n",
    "        return 1  # we can take one step to reach the end, and that is the only way\n",
    "\n",
    "    if n == 2:\n",
    "        return 2  # we can take one step twice or jump two steps to reach at the top\n",
    "\n",
    "    if dp[n] == 0:\n",
    "        # if we take 1 step, we are left with 'n-1' steps;\n",
    "        take1Step = count_ways_recursive(dp, n - 1)\n",
    "        # similarly, if we took 2 steps, we are left with 'n-2' steps;\n",
    "        take2Step = count_ways_recursive(dp, n - 2)\n",
    "        # if we took 3 steps, we are left with 'n-3' steps;\n",
    "        take3Step = count_ways_recursive(dp, n - 3)\n",
    "\n",
    "        dp[n] = take1Step + take2Step + take3Step\n",
    "\n",
    "    return dp[n]"
   ]
  },
  {
   "cell_type": "code",
   "execution_count": 10,
   "id": "c78d8022",
   "metadata": {},
   "outputs": [
    {
     "name": "stdout",
     "output_type": "stream",
     "text": [
      "4\n",
      "7\n",
      "13\n"
     ]
    }
   ],
   "source": [
    "print(count_ways(3))\n",
    "print(count_ways(4))\n",
    "print(count_ways(5))"
   ]
  },
  {
   "cell_type": "markdown",
   "id": "e255e238",
   "metadata": {},
   "source": [
    "##### Bottom up:\n",
    "Fill table first instead of recursing"
   ]
  },
  {
   "cell_type": "code",
   "execution_count": 11,
   "id": "a4322189",
   "metadata": {},
   "outputs": [],
   "source": [
    "def count_ways(n):\n",
    "    if n < 2:\n",
    "        return 1\n",
    "    if n == 2:\n",
    "        return 2\n",
    "\n",
    "    dp = [0 for x in range(n+1)]\n",
    "    dp[0] = 1\n",
    "    dp[1] = 1\n",
    "    dp[2] = 2\n",
    "\n",
    "    for i in range(3, n+1):\n",
    "        dp[i] = dp[i - 1] + dp[i - 2] + dp[i - 3]\n",
    "\n",
    "    return dp[n]"
   ]
  },
  {
   "cell_type": "code",
   "execution_count": 12,
   "id": "a9cebb45",
   "metadata": {},
   "outputs": [
    {
     "name": "stdout",
     "output_type": "stream",
     "text": [
      "4\n",
      "7\n",
      "13\n"
     ]
    }
   ],
   "source": [
    "print(count_ways(3))\n",
    "print(count_ways(4))\n",
    "print(count_ways(5))"
   ]
  },
  {
   "cell_type": "markdown",
   "id": "f505d74d",
   "metadata": {},
   "source": [
    "_Just like the fibonacci, this too can be optimized to use constant space_"
   ]
  },
  {
   "cell_type": "markdown",
   "id": "591dfa02",
   "metadata": {},
   "source": [
    "<br>"
   ]
  },
  {
   "cell_type": "markdown",
   "id": "c4fb470a",
   "metadata": {},
   "source": [
    "#### Number factors\n",
    "Given a number, find how many ways are there to express the number as a sum of 1, 3 or 4"
   ]
  },
  {
   "cell_type": "markdown",
   "id": "50c82e33",
   "metadata": {},
   "source": [
    "##### Brute force:\n"
   ]
  },
  {
   "cell_type": "code",
   "execution_count": 13,
   "id": "ea400ac9",
   "metadata": {},
   "outputs": [],
   "source": [
    "def count_ways(n):\n",
    "    if n == 0:\n",
    "        return 1  # base case, we don't need to subtract any thing, so there is only one way\n",
    "\n",
    "    if n == 1:\n",
    "        return 1  # we take subtract 1 to be left with zero, and that is the only way\n",
    "\n",
    "    if n == 2:\n",
    "        return 1  # we can subtract 1 twice to get zero and that is the only way\n",
    "\n",
    "    if n == 3:\n",
    "        return 2  # '3' can be expressed as {1, 1, 1}, {3}\n",
    "\n",
    "    # if we subtract 1, we are left with 'n-1'\n",
    "    subtract1 = count_ways(n - 1)\n",
    "    # if we subtract 3, we are left with 'n-3'\n",
    "    subtract3 = count_ways(n - 3)\n",
    "    # if we subtract 4, we are left with 'n-4'\n",
    "    subtract4 = count_ways(n - 4)\n",
    "\n",
    "    return subtract1 + subtract3 + subtract4"
   ]
  },
  {
   "cell_type": "code",
   "execution_count": 14,
   "id": "8ec5d48a",
   "metadata": {},
   "outputs": [
    {
     "name": "stdout",
     "output_type": "stream",
     "text": [
      "4\n",
      "6\n",
      "9\n"
     ]
    }
   ],
   "source": [
    "print(count_ways(4))\n",
    "print(count_ways(5))\n",
    "print(count_ways(6))"
   ]
  },
  {
   "cell_type": "markdown",
   "id": "2402bb14",
   "metadata": {},
   "source": [
    "##### Memoization \n",
    "Memo is fairly straightforward, same like previous 2, just 1-d array needed"
   ]
  },
  {
   "cell_type": "code",
   "execution_count": 15,
   "id": "2b33c40b",
   "metadata": {},
   "outputs": [],
   "source": [
    "def count_ways(n):\n",
    "    dp = [0 for x in range(n+1)]\n",
    "    return count_ways_recursive(dp, n)\n",
    "\n",
    "\n",
    "def count_ways_recursive(dp, n):\n",
    "    if n == 0:\n",
    "        return 1  # base case, we don't need to subtract any thing, so there is only one way\n",
    "\n",
    "    if n == 1:\n",
    "        return 1  # we can take subtract 1 to be left with zero, and that is the only way\n",
    "\n",
    "    if n == 2:\n",
    "        return 1  # we can subtract 1 twice to get zero and that is the only way\n",
    "\n",
    "    if n == 3:\n",
    "        return 2  # '3' can be expressed as {1, 1, 1}, {3}\n",
    "\n",
    "    if dp[n] == 0:\n",
    "        # if we subtract 1, we are left with 'n-1'\n",
    "        subtract1 = count_ways_recursive(dp, n - 1)\n",
    "        # if we subtract 3, we are left with 'n-3'\n",
    "        subtract3 = count_ways_recursive(dp, n - 3)\n",
    "        # if we subtract 4, we are left with 'n-4'\n",
    "        subtract4 = count_ways_recursive(dp, n - 4)\n",
    "\n",
    "        dp[n] = subtract1 + subtract3 + subtract4\n",
    "\n",
    "    return dp[n]"
   ]
  },
  {
   "cell_type": "code",
   "execution_count": 16,
   "id": "4356db8f",
   "metadata": {},
   "outputs": [
    {
     "name": "stdout",
     "output_type": "stream",
     "text": [
      "4\n",
      "6\n",
      "9\n"
     ]
    }
   ],
   "source": [
    "print(count_ways(4))\n",
    "print(count_ways(5))\n",
    "print(count_ways(6))"
   ]
  },
  {
   "cell_type": "code",
   "execution_count": 17,
   "id": "a6a30fa0",
   "metadata": {},
   "outputs": [],
   "source": [
    "def count_ways(n):\n",
    "    if n <= 2:\n",
    "        return 1\n",
    "    if n == 3:\n",
    "        return 2\n",
    "\n",
    "    dp = [0 for x in range(n+1)]\n",
    "    dp[0] = 1\n",
    "    dp[1] = 1\n",
    "    dp[2] = 1\n",
    "    dp[3] = 2\n",
    "\n",
    "    for i in range(4, n+1):\n",
    "        dp[i] = dp[i - 1] + dp[i - 3] + dp[i - 4]\n",
    "\n",
    "    return dp[n]"
   ]
  },
  {
   "cell_type": "code",
   "execution_count": 18,
   "id": "29c79c9b",
   "metadata": {},
   "outputs": [
    {
     "name": "stdout",
     "output_type": "stream",
     "text": [
      "4\n",
      "6\n",
      "9\n"
     ]
    }
   ],
   "source": [
    "print(count_ways(4))\n",
    "print(count_ways(5))\n",
    "print(count_ways(6))"
   ]
  },
  {
   "cell_type": "markdown",
   "id": "c14a308d",
   "metadata": {},
   "source": [
    "_This too can be optimized to use constant space_"
   ]
  },
  {
   "cell_type": "markdown",
   "id": "98fc8fdd",
   "metadata": {},
   "source": [
    "<br>"
   ]
  },
  {
   "cell_type": "markdown",
   "id": "ca6e84d2",
   "metadata": {},
   "source": [
    "#### Minimum jumps:\n",
    "Given an array of possible jumps, find the minimum number of jumps required to reach the end"
   ]
  },
  {
   "cell_type": "markdown",
   "id": "6b04713f",
   "metadata": {},
   "source": [
    "##### Brute force:\n",
    "Recurse through all possible jumps. Return when a minimum is found"
   ]
  },
  {
   "cell_type": "code",
   "execution_count": 19,
   "id": "5dcac5b5",
   "metadata": {},
   "outputs": [],
   "source": [
    "import math\n",
    "\n",
    "\n",
    "def count_min_jumps(jumps):\n",
    "    return count_min_jumps_recursive(jumps, 0)\n",
    "\n",
    "\n",
    "def count_min_jumps_recursive(jumps, currentIndex):\n",
    "    n = len(jumps)\n",
    "    # if we have reached the last index, we don't need any more jumps\n",
    "    if currentIndex == n - 1:\n",
    "        return 0\n",
    "\n",
    "    if jumps[currentIndex] == 0:\n",
    "        return math.inf\n",
    "\n",
    "    totalJumps = math.inf\n",
    "    start, end = currentIndex + 1, currentIndex + jumps[currentIndex]\n",
    "    while start < n and start <= end:\n",
    "        # jump one step and recurse for the remaining array\n",
    "        minJumps = count_min_jumps_recursive(jumps, start)\n",
    "        start += 1\n",
    "        if minJumps != math.inf:\n",
    "            totalJumps = min(totalJumps, minJumps + 1)\n",
    "\n",
    "    return totalJumps"
   ]
  },
  {
   "cell_type": "code",
   "execution_count": 20,
   "id": "994befcb",
   "metadata": {},
   "outputs": [
    {
     "name": "stdout",
     "output_type": "stream",
     "text": [
      "3\n",
      "4\n"
     ]
    }
   ],
   "source": [
    "print(count_min_jumps([2, 1, 1, 1, 4]))\n",
    "print(count_min_jumps([1, 1, 3, 6, 9, 3, 0, 1, 3]))"
   ]
  },
  {
   "cell_type": "markdown",
   "id": "f1c63f61",
   "metadata": {},
   "source": [
    "##### Memoization:\n",
    "The index that is changing here, between recursions, is just the index"
   ]
  },
  {
   "cell_type": "code",
   "execution_count": 21,
   "id": "c49a1411",
   "metadata": {},
   "outputs": [],
   "source": [
    "import math\n",
    "\n",
    "\n",
    "def count_min_jumps(jumps):\n",
    "    dp = [0 for x in range(len(jumps))]\n",
    "    return count_min_jumps_recursive(dp, jumps, 0)\n",
    "\n",
    "\n",
    "def count_min_jumps_recursive(dp, jumps, currentIndex):\n",
    "    n = len(jumps)\n",
    "    # if we have reached the last index, we don't need any more jumps\n",
    "    if currentIndex == n - 1:\n",
    "        return 0\n",
    "\n",
    "    if jumps[currentIndex] == 0:\n",
    "        return math.inf\n",
    "\n",
    "    # if we have already solved this problem, return the result\n",
    "    if dp[currentIndex] != 0:\n",
    "        return dp[currentIndex]\n",
    "\n",
    "    totalJumps = math.inf\n",
    "    start, end = currentIndex + 1, currentIndex + jumps[currentIndex]\n",
    "    while start < n and start <= end:\n",
    "        # jump one step and recurse for the remaining array\n",
    "        minJumps = count_min_jumps_recursive(dp, jumps, start)\n",
    "        start += 1\n",
    "        if minJumps != math.inf:\n",
    "            totalJumps = min(totalJumps, minJumps + 1)\n",
    "\n",
    "    dp[currentIndex] = totalJumps\n",
    "    return dp[currentIndex]"
   ]
  },
  {
   "cell_type": "code",
   "execution_count": 22,
   "id": "3324f9f8",
   "metadata": {},
   "outputs": [
    {
     "name": "stdout",
     "output_type": "stream",
     "text": [
      "3\n",
      "4\n"
     ]
    }
   ],
   "source": [
    "print(count_min_jumps([2, 1, 1, 1, 4]))\n",
    "print(count_min_jumps([1, 1, 3, 6, 9, 3, 0, 1, 3]))"
   ]
  },
  {
   "cell_type": "markdown",
   "id": "f409a92c",
   "metadata": {},
   "source": [
    "##### Bottom up\n",
    "```'jumps to reach current index' + 1```"
   ]
  },
  {
   "cell_type": "code",
   "execution_count": 24,
   "id": "e2a17520",
   "metadata": {},
   "outputs": [],
   "source": [
    "import math\n",
    "\n",
    "\n",
    "def count_min_jumps(jumps):\n",
    "    n = len(jumps)\n",
    "    # initialize with infinity, except the first index which should be zero as we\n",
    "    # start from there\n",
    "    dp = [math.inf for _ in range(n)]\n",
    "    dp[0] = 0\n",
    "\n",
    "    for start in range(n - 1):\n",
    "        end = start + 1\n",
    "        while end <= start + jumps[start] and end < n:\n",
    "            dp[end] = min(dp[end], dp[start] + 1)\n",
    "            end += 1\n",
    "\n",
    "    return dp[n - 1]"
   ]
  },
  {
   "cell_type": "code",
   "execution_count": 25,
   "id": "fb083d9d",
   "metadata": {},
   "outputs": [
    {
     "name": "stdout",
     "output_type": "stream",
     "text": [
      "3\n",
      "4\n"
     ]
    }
   ],
   "source": [
    "print(count_min_jumps([2, 1, 1, 1, 4]))\n",
    "print(count_min_jumps([1, 1, 3, 6, 9, 3, 0, 1, 3]))"
   ]
  },
  {
   "cell_type": "markdown",
   "id": "29f16198",
   "metadata": {},
   "source": [
    "#### Minimum jumps with fee\n",
    "Given number of steps and costs associated with each step, find cheapest way of gettin to the top of the stairs. Allowd to take 1,2 , or 3 steps"
   ]
  },
  {
   "cell_type": "markdown",
   "id": "9f98ff91",
   "metadata": {},
   "source": [
    "##### Brute force:\n",
    "At each recursion step, take 1, 2 or 3 steps and return the min cost"
   ]
  },
  {
   "cell_type": "code",
   "execution_count": 26,
   "id": "cfbc4d11",
   "metadata": {},
   "outputs": [],
   "source": [
    "def find_min_fee(fee):\n",
    "    return find_min_fee_recursive(fee, 0)\n",
    "\n",
    "\n",
    "def find_min_fee_recursive(fee, currentIndex):\n",
    "    n = len(fee)\n",
    "    if currentIndex > n - 1:\n",
    "        return 0\n",
    "\n",
    "    # if we take 1 step, we are left with 'n-1' steps;\n",
    "    take1Step = find_min_fee_recursive(fee, currentIndex + 1)\n",
    "    # similarly, if we took 2 steps, we are left with 'n-2' steps;\n",
    "    take2Step = find_min_fee_recursive(fee, currentIndex + 2)\n",
    "    # if we took 3 steps, we are left with 'n-3' steps;\n",
    "    take3Step = find_min_fee_recursive(fee, currentIndex + 3)\n",
    "\n",
    "    _min = min(take1Step, take2Step, take3Step)\n",
    "\n",
    "    return _min + fee[currentIndex]"
   ]
  },
  {
   "cell_type": "code",
   "execution_count": 27,
   "id": "5bbbe95f",
   "metadata": {},
   "outputs": [
    {
     "name": "stdout",
     "output_type": "stream",
     "text": [
      "3\n",
      "5\n"
     ]
    }
   ],
   "source": [
    "print(find_min_fee([1, 2, 5, 2, 1, 2]))\n",
    "print(find_min_fee([2, 3, 4, 5]))"
   ]
  },
  {
   "cell_type": "markdown",
   "id": "325af81a",
   "metadata": {},
   "source": [
    "##### Memoization\n",
    "Index for memo - currentIndex"
   ]
  },
  {
   "cell_type": "code",
   "execution_count": 28,
   "id": "b3fcebfc",
   "metadata": {},
   "outputs": [],
   "source": [
    "def find_min_fee(fee):\n",
    "    dp = [0 for x in range(len(fee))]\n",
    "    return find_min_fee_recursive(dp, fee, 0)\n",
    "\n",
    "\n",
    "def find_min_fee_recursive(dp, fee, currentIndex):\n",
    "    n = len(fee)\n",
    "    if currentIndex > n-1:\n",
    "        return 0\n",
    "\n",
    "    if dp[currentIndex] == 0:\n",
    "        # if we take 1 step, we are left with 'n-1' steps\n",
    "        take1Step = find_min_fee_recursive(dp, fee, currentIndex + 1)\n",
    "        # similarly, if we took 2 steps, we are left with 'n-2' steps\n",
    "        take2Step = find_min_fee_recursive(dp, fee, currentIndex + 2)\n",
    "        # if we took 3 steps, we are left with 'n-3' steps\n",
    "        take3Step = find_min_fee_recursive(dp, fee, currentIndex + 3)\n",
    "\n",
    "        dp[currentIndex] = fee[currentIndex] + \\\n",
    "                           min(take1Step, take2Step, take3Step)\n",
    "\n",
    "    return dp[currentIndex]"
   ]
  },
  {
   "cell_type": "code",
   "execution_count": 29,
   "id": "4f8d843b",
   "metadata": {},
   "outputs": [
    {
     "name": "stdout",
     "output_type": "stream",
     "text": [
      "3\n",
      "5\n"
     ]
    }
   ],
   "source": [
    "print(find_min_fee([1, 2, 5, 2, 1, 2]))\n",
    "print(find_min_fee([2, 3, 4, 5]))"
   ]
  },
  {
   "cell_type": "markdown",
   "id": "6a431deb",
   "metadata": {},
   "source": [
    "##### Bottom up:\n",
    "Fairly straightforward"
   ]
  },
  {
   "cell_type": "code",
   "execution_count": 31,
   "id": "a662ecd0",
   "metadata": {},
   "outputs": [],
   "source": [
    "def find_min_fee(fee):\n",
    "    n = len(fee)\n",
    "    dp = [0 for x in range(n+1)]  # +1 to handle the 0th step\n",
    "    dp[0] = 0  # if there are no steps, we don't have to pay any fee\n",
    "    dp[1] = fee[0]  # only one step, so we have to pay its fee\n",
    "    # for 2 steps, since we start from the first step, so we have to pay its fee\n",
    "    # and from the first step we can reach the top by taking two steps, so\n",
    "    # we don't have to pay any other fee.\n",
    "    dp[2] = fee[0]\n",
    "\n",
    "    # please note that dp[] has one extra element to handle the 0th step\n",
    "    for i in range(2, n):\n",
    "        dp[i + 1] = min(fee[i] + dp[i], \n",
    "                    fee[i - 1] + dp[i - 1], \n",
    "                    fee[i - 2] + dp[i - 2])\n",
    "\n",
    "    return dp[n]"
   ]
  },
  {
   "cell_type": "code",
   "execution_count": 32,
   "id": "4b41c876",
   "metadata": {},
   "outputs": [
    {
     "name": "stdout",
     "output_type": "stream",
     "text": [
      "3\n",
      "5\n"
     ]
    }
   ],
   "source": [
    "print(find_min_fee([1, 2, 5, 2, 1, 2]))\n",
    "print(find_min_fee([2, 3, 4, 5]))"
   ]
  },
  {
   "cell_type": "markdown",
   "id": "1134c906",
   "metadata": {},
   "source": [
    "#### House thief\n",
    "A thief needs to steal but cannot steal from consequtive houses. Find max he can steal"
   ]
  },
  {
   "cell_type": "markdown",
   "id": "b9f36de0",
   "metadata": {},
   "source": [
    "##### Brute force\n",
    "For every house i, we have two options:\n",
    "\n",
    "1. Steal from the current house (i), skip one and steal from (i+2).\n",
    "2. Skip the current house (i), and steal from the adjacent house (i+1).\n",
    "\n",
    "Return the max from both, recurse till the end of the list"
   ]
  },
  {
   "cell_type": "code",
   "execution_count": 33,
   "id": "04fd17a8",
   "metadata": {},
   "outputs": [],
   "source": [
    "def find_max_steal(wealth):\n",
    "    return find_max_steal_recursive(wealth, 0)\n",
    "\n",
    "\n",
    "def find_max_steal_recursive(wealth, currentIndex):\n",
    "\n",
    "    if currentIndex >= len(wealth):\n",
    "        return 0\n",
    "\n",
    "    # steal from current house and skip one to steal next\n",
    "    stealCurrent = wealth[currentIndex] + find_max_steal_recursive(wealth, currentIndex + 2)\n",
    "    # skip current house to steel from the adjacent house\n",
    "    skipCurrent = find_max_steal_recursive(wealth, currentIndex + 1)\n",
    "\n",
    "    return max(stealCurrent, skipCurrent)"
   ]
  },
  {
   "cell_type": "code",
   "execution_count": 34,
   "id": "192fe39b",
   "metadata": {},
   "outputs": [
    {
     "name": "stdout",
     "output_type": "stream",
     "text": [
      "15\n",
      "18\n"
     ]
    }
   ],
   "source": [
    "print(find_max_steal([2, 5, 1, 3, 6, 2, 4]))\n",
    "print(find_max_steal([2, 10, 14, 8, 1]))"
   ]
  },
  {
   "cell_type": "markdown",
   "id": "76634d2c",
   "metadata": {},
   "source": [
    "##### Memoization\n",
    "currentIndex is the only index needed for memo"
   ]
  },
  {
   "cell_type": "code",
   "execution_count": 36,
   "id": "77efa2a8",
   "metadata": {},
   "outputs": [],
   "source": [
    "def find_max_steal(wealth):\n",
    "    dp = [0 for x in range(len(wealth))]\n",
    "    return find_max_steal_recursive(dp, wealth, 0)\n",
    "\n",
    "\n",
    "def find_max_steal_recursive(dp, wealth, currentIndex):\n",
    "    if currentIndex >= len(wealth):\n",
    "        return 0\n",
    "\n",
    "    if dp[currentIndex] == 0:\n",
    "        # steal from current house and skip one to steal next\n",
    "        stealCurrent = wealth[currentIndex] + find_max_steal_recursive(dp, wealth, currentIndex + 2)\n",
    "        # skip current house to steel from the adjacent house\n",
    "        skipCurrent = find_max_steal_recursive(dp, wealth, currentIndex + 1)\n",
    "\n",
    "        dp[currentIndex] = max(stealCurrent, skipCurrent)\n",
    "\n",
    "    return dp[currentIndex]"
   ]
  },
  {
   "cell_type": "code",
   "execution_count": 37,
   "id": "4ca46983",
   "metadata": {},
   "outputs": [
    {
     "name": "stdout",
     "output_type": "stream",
     "text": [
      "15\n",
      "18\n"
     ]
    }
   ],
   "source": [
    "print(find_max_steal([2, 5, 1, 3, 6, 2, 4]))\n",
    "print(find_max_steal([2, 10, 14, 8, 1]))"
   ]
  },
  {
   "cell_type": "markdown",
   "id": "e99f3680",
   "metadata": {},
   "source": [
    "##### Bottom up:\n"
   ]
  },
  {
   "cell_type": "code",
   "execution_count": 38,
   "id": "ee906718",
   "metadata": {},
   "outputs": [],
   "source": [
    "def find_max_steal(wealth):\n",
    "    n = len(wealth)\n",
    "    if n == 0:\n",
    "        return 0\n",
    "    dp = [0 for x in range(n+1)]  # '+1' to handle the zero house\n",
    "    dp[0] = 0  # if there are no houses, the thief can't steal anything\n",
    "    dp[1] = wealth[0]  # only one house, so the thief have to steal from it\n",
    "\n",
    "    # please note that dp[] has one extra element to handle zero house\n",
    "    for i in range(1, n):\n",
    "        dp[i + 1] = max(wealth[i] + dp[i - 1], dp[i])\n",
    "\n",
    "    return dp[n]"
   ]
  },
  {
   "cell_type": "code",
   "execution_count": 39,
   "id": "92105d6c",
   "metadata": {},
   "outputs": [
    {
     "name": "stdout",
     "output_type": "stream",
     "text": [
      "15\n",
      "18\n"
     ]
    }
   ],
   "source": [
    "print(find_max_steal([2, 5, 1, 3, 6, 2, 4]))\n",
    "print(find_max_steal([2, 10, 14, 8, 1]))"
   ]
  },
  {
   "cell_type": "markdown",
   "id": "ef0f445e",
   "metadata": {},
   "source": [
    "_This can be further optimized to use constant space_"
   ]
  },
  {
   "cell_type": "code",
   "execution_count": null,
   "id": "35907a30",
   "metadata": {},
   "outputs": [],
   "source": []
  }
 ],
 "metadata": {
  "kernelspec": {
   "display_name": "Python 3",
   "language": "python",
   "name": "python3"
  },
  "language_info": {
   "codemirror_mode": {
    "name": "ipython",
    "version": 3
   },
   "file_extension": ".py",
   "mimetype": "text/x-python",
   "name": "python",
   "nbconvert_exporter": "python",
   "pygments_lexer": "ipython3",
   "version": "3.9.5"
  }
 },
 "nbformat": 4,
 "nbformat_minor": 5
}
