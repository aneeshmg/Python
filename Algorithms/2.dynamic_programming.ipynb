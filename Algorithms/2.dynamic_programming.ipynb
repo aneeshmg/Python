{
 "cells": [
  {
   "cell_type": "markdown",
   "id": "824f973c",
   "metadata": {},
   "source": [
    "# Dynamic Programming"
   ]
  },
  {
   "cell_type": "markdown",
   "id": "94a62f0c",
   "metadata": {},
   "source": [
    "## Prelude\n",
    "\n",
    "Dp as an idea - primary purpose = optimization by iteration\n",
    "\n",
    "If we take a function f(x) and we want to “optimize it”, it means we want to find a point ‘x’ for which f(x) is at its maximum value.\n",
    "For example: if f(x) is sin(x), the “optimized solution” for f(x) is found at x = 90 degrees as sin(90) = 1\n",
    "The calculus way of arriving at the answer:\n",
    "Differentiate wrt x, and set the resulting function to 0. ie cos(x) = 0\n",
    "Now, solve for x. ie x = cos<inverse)(0) => x = 90\n",
    "\n",
    "Suppose we did not have this method available, or for some reason we couldn’t “diff wrt x”, we could brute force through the possible values of x and find the max for f(x). This would be regarded as a “brute force” solution.\n",
    "Domain of x represents the solution space. In this case [-180, 180] (reduced as it is a periodic function.\n",
    "This however requires us to compute the value of f(x) for each try. [If the solution search space was small, we could well employ something like a binary search and arrive at the solution but that method isn’t applicable everywhere]\n",
    "If we could solve f(x) for one value of x, and iteratively use the computed value to find the solution for f(x+dx) we could save a lot of computation time. This is essentially the idea behind dynamic programming.\n",
    "This would require us to analyze the relationship between dx and dy. ie (y+dy) = f(x+dx). To identify the relationship between dx and dy, ie how dy changes wrt dx, we have to see the change dy for a very small dx (this of course is applicable for a continuous function like sin(x), and would be much simpler for discrete functions). To do this, in calculus, we use the method of first principles to arrive at f’(x), for sin(x) , it would be cos(x)\n",
    "\n",
    "\n",
    "Secondary purpose - counting\n",
    "Suppose we want to count the (sum of) series: 1, 1, 1, … ie 1 + 1 + 1… up to 10 terms. We can simply use the arithemetic progression formula: n/2[2a + (n - 1)*d]\n",
    "Applying the formula in this case we’d get n = 10, a = 1, d = 0 => 10/2[2 + (10 - 1)0] = 5 * 2 = 10, which is what we’d get if we summed/counted 1 , 10 times.\n",
    "Now, n/2[2a + (n - 1)*d] represents a “closed form” solution in the form of an equation where we’d just have to plug in the variables of the problem and we’d get the correct solution.\n",
    "We could ofcourse brute force our way to a solution where we’d simply add 1 to 1 10 times.\n",
    "Similarly for the classic dynamic problem example of the fibonacci series, to get the n’th Fibonacci number, we can very well strive to arrive at a closed form solution (one way is to use z-transforms). The other way is the typical way\n",
    "f(n) = f(n-1) + f(n-2). Here, we’d simply be keeping track of already computed values (sub problems) instead of having to recompute them\n",
    "\n",
    "To sum up, in either case (optimization or counting), the “methodology” of dynamic programming is to divide the problems into sub-problems, solve the subproblem and keep track of the solutions to the subproblem."
   ]
  },
  {
   "cell_type": "markdown",
   "id": "708646f5",
   "metadata": {},
   "source": [
    "## Foundations\n",
    "\n",
    "Think recursion, always...\n",
    "and whenever recursion is involved, atleast one 'base' case is necessary to halt the recursion.\n",
    "__memoization__ & __tabulation__ are basically performance enhancements and not __needed__ for finding a solution to the problem\n",
    "\n",
    "\n",
    "Coming to recursion, besides the base case, the other thing needed is, if the problem is in the Nth stage of execution, information about (N-1)th stage of the execution, which is easily understandble in a recursive setup\n",
    "In other words, to get the N'th state of the program is determined by the N-1'th state\n",
    "\n",
    "```\n",
    "def program(state):\n",
    "    if state == base_case:\n",
    "        return base_value\n",
    "    else:\n",
    "        state = update_state()\n",
    "        return program(state)\n",
    "```"
   ]
  },
  {
   "cell_type": "code",
   "execution_count": null,
   "id": "599b2068",
   "metadata": {},
   "outputs": [],
   "source": []
  }
 ],
 "metadata": {
  "kernelspec": {
   "display_name": "Python 3",
   "language": "python",
   "name": "python3"
  },
  "language_info": {
   "codemirror_mode": {
    "name": "ipython",
    "version": 3
   },
   "file_extension": ".py",
   "mimetype": "text/x-python",
   "name": "python",
   "nbconvert_exporter": "python",
   "pygments_lexer": "ipython3",
   "version": "3.9.5"
  }
 },
 "nbformat": 4,
 "nbformat_minor": 5
}
