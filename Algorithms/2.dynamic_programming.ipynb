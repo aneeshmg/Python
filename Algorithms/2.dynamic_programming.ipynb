{
 "cells": [
  {
   "cell_type": "markdown",
   "id": "824f973c",
   "metadata": {},
   "source": [
    "# Dynamic Programming"
   ]
  },
  {
   "cell_type": "markdown",
   "id": "94a62f0c",
   "metadata": {},
   "source": [
    "## Prelude\n",
    "\n",
    "Dp as an idea - primary purpose = optimization by iteration\n",
    "\n",
    "If we take a function f(x) and we want to “optimize it”, it means we want to find a point ‘x’ for which f(x) is at its maximum value.\n",
    "For example: if f(x) is sin(x), the “optimized solution” for f(x) is found at x = 90 degrees as sin(90) = 1\n",
    "The calculus way of arriving at the answer:\n",
    "Differentiate wrt x, and set the resulting function to 0. ie cos(x) = 0\n",
    "Now, solve for x. ie x = cos<inverse)(0) => x = 90\n",
    "\n",
    "Suppose we did not have this method available, or for some reason we couldn’t “diff wrt x”, we could brute force through the possible values of x and find the max for f(x). This would be regarded as a “brute force” solution.\n",
    "Domain of x represents the solution space. In this case [-180, 180] (reduced as it is a periodic function.\n",
    "This however requires us to compute the value of f(x) for each try. [If the solution search space was small, we could well employ something like a binary search and arrive at the solution but that method isn’t applicable everywhere]\n",
    "If we could solve f(x) for one value of x, and iteratively use the computed value to find the solution for f(x+dx) we could save a lot of computation time. This is essentially the idea behind dynamic programming.\n",
    "This would require us to analyze the relationship between dx and dy. ie (y+dy) = f(x+dx). To identify the relationship between dx and dy, ie how dy changes wrt dx, we have to see the change dy for a very small dx (this of course is applicable for a continuous function like sin(x), and would be much simpler for discrete functions). To do this, in calculus, we use the method of first principles to arrive at f’(x), for sin(x) , it would be cos(x)\n",
    "\n",
    "\n",
    "Secondary purpose - counting\n",
    "Suppose we want to count the (sum of) series: 1, 1, 1, … ie 1 + 1 + 1… up to 10 terms. We can simply use the arithemetic progression formula: n/2[2a + (n - 1)*d]\n",
    "Applying the formula in this case we’d get n = 10, a = 1, d = 0 => 10/2[2 + (10 - 1)0] = 5 * 2 = 10, which is what we’d get if we summed/counted 1 , 10 times.\n",
    "Now, n/2[2a + (n - 1)*d] represents a “closed form” solution in the form of an equation where we’d just have to plug in the variables of the problem and we’d get the correct solution.\n",
    "We could ofcourse brute force our way to a solution where we’d simply add 1 to 1 10 times.\n",
    "Similarly for the classic dynamic problem example of the fibonacci series, to get the n’th Fibonacci number, we can very well strive to arrive at a closed form solution (one way is to use z-transforms). The other way is the typical way\n",
    "f(n) = f(n-1) + f(n-2). Here, we’d simply be keeping track of already computed values (sub problems) instead of having to recompute them\n",
    "\n",
    "To sum up, in either case (optimization or counting), the “methodology” of dynamic programming is to divide the problems into sub-problems, solve the subproblem and keep track of the solutions to the subproblem."
   ]
  },
  {
   "cell_type": "markdown",
   "id": "708646f5",
   "metadata": {},
   "source": [
    "## Foundations\n",
    "\n",
    "Think recursion, always...\n",
    "and whenever recursion is involved, atleast one 'base' case is necessary to halt the recursion.\n",
    "__memoization__ & __tabulation__ are basically performance enhancements and not __needed__ for finding a solution to the problem\n",
    "\n",
    "\n",
    "Coming to recursion, besides the base case, the other thing needed is, if the problem is in the Nth stage of execution, information about (N-1)th stage of the execution, which is easily understandble in a recursive setup\n",
    "In other words, to get the N'th state of the program is determined by the N-1'th state\n",
    "\n",
    "```\n",
    "def program(state):\n",
    "    if state == base_case:\n",
    "        return base_value\n",
    "    else:\n",
    "        state = update_state()\n",
    "        return program(state)\n",
    "```"
   ]
  },
  {
   "cell_type": "markdown",
   "id": "ce9698c6",
   "metadata": {},
   "source": [
    "General principle:\n",
    "* Build tree\n",
    "* Brute force it with recursion - typically will involve an optimization step (min or max)\n",
    "* Memoize it\n",
    "* Bottom-up it"
   ]
  },
  {
   "cell_type": "markdown",
   "id": "4ee6e85a",
   "metadata": {},
   "source": [
    "#### 0/1 knapsack - take it or leave it (as opposed to Unbound knapsack or fractional knapsack)\n",
    "\n",
    "Given: Items, Profits (something to be maximized), Weights (a property of the items), Capacity\n",
    "Solution is to maximize the profits such that the weights still fit the capacity"
   ]
  },
  {
   "cell_type": "markdown",
   "id": "d615258f",
   "metadata": {},
   "source": [
    "##### Brute force\n",
    "Recursively, we compute the profit of taking an item vs not taking the item and pick the max, do it till capacity is reached"
   ]
  },
  {
   "cell_type": "code",
   "execution_count": 1,
   "id": "40ec3019",
   "metadata": {},
   "outputs": [],
   "source": [
    "def solve_knapsack(profits, weights, capacity):\n",
    "    return knapsack_recursive(profits, weights, capacity, 0)\n",
    "\n",
    "\n",
    "def knapsack_recursive(profits, weights, capacity, currentIndex):\n",
    "    # base checks\n",
    "    if capacity <= 0 or currentIndex >= len(profits):\n",
    "        return 0\n",
    "\n",
    "    # recursive call after choosing the element at the currentIndex\n",
    "    # if the weight of the element at currentIndex exceeds the capacity, we  shouldn't \n",
    "    # process this\n",
    "    profit1 = 0\n",
    "    if weights[currentIndex] <= capacity:\n",
    "        profit1 = profits[currentIndex] + knapsack_recursive(profits, weights, capacity - weights[currentIndex], currentIndex + 1)\n",
    "\n",
    "    # recursive call after excluding the element at the currentIndex\n",
    "    profit2 = knapsack_recursive(profits, weights, capacity, currentIndex + 1)\n",
    "\n",
    "    return max(profit1, profit2)"
   ]
  },
  {
   "cell_type": "code",
   "execution_count": 2,
   "id": "762852fd",
   "metadata": {},
   "outputs": [
    {
     "name": "stdout",
     "output_type": "stream",
     "text": [
      "22\n",
      "17\n"
     ]
    }
   ],
   "source": [
    "print(solve_knapsack([1, 6, 10, 16], [1, 2, 3, 5], 7))\n",
    "print(solve_knapsack([1, 6, 10, 16], [1, 2, 3, 5], 6))"
   ]
  },
  {
   "cell_type": "markdown",
   "id": "045718ad",
   "metadata": {},
   "source": [
    "##### Memoization \n",
    "This is where we store the profits computed so re-computation of the same profits in the recursion tree is avoided\n",
    "The index of the memoization will be important here, typically hash table\n",
    "To identify the index(s), find out what is the delta between each recursive call...here it is capacity (because of capacity - weights[currentIndex]) and currentIndex (because of currentIndex + 1)\n",
    "Since we have two indices, use matrix.\n",
    "\n",
    "The code will relatively be the same except for the matrix used for memoization"
   ]
  },
  {
   "cell_type": "code",
   "execution_count": 3,
   "id": "3d07d350",
   "metadata": {},
   "outputs": [],
   "source": [
    "def solve_knapsack(profits, weights, capacity):\n",
    "    # create a two dimensional array for Memoization, each element is initialized to '-1'\n",
    "    dp = [[-1 for x in range(capacity+1)] for y in range(len(profits))]\n",
    "    \n",
    "    return knapsack_recursive(dp, profits, weights, capacity, 0)\n",
    "\n",
    "\n",
    "def knapsack_recursive(dp, profits, weights, capacity, currentIndex):\n",
    "\n",
    "    # base checks\n",
    "    if capacity <= 0 or currentIndex >= len(profits):\n",
    "        return 0\n",
    "\n",
    "    # if we have already solved a similar problem, return the result from memory\n",
    "    if dp[currentIndex][capacity] != -1:\n",
    "        return dp[currentIndex][capacity]\n",
    "\n",
    "    # recursive call after choosing the element at the currentIndex\n",
    "    # if the weight of the element at currentIndex exceeds the capacity, we\n",
    "    # shouldn't process this\n",
    "    profit1 = 0\n",
    "    if weights[currentIndex] <= capacity:\n",
    "        profit1 = profits[currentIndex] + knapsack_recursive(dp, profits, weights, capacity - weights[currentIndex], currentIndex + 1)\n",
    "\n",
    "    # recursive call after excluding the element at the currentIndex\n",
    "    profit2 = knapsack_recursive(dp, profits, weights, capacity, currentIndex + 1)\n",
    "\n",
    "    dp[currentIndex][capacity] = max(profit1, profit2)\n",
    "    \n",
    "    return dp[currentIndex][capacity]"
   ]
  },
  {
   "cell_type": "code",
   "execution_count": 4,
   "id": "a754bc42",
   "metadata": {},
   "outputs": [
    {
     "name": "stdout",
     "output_type": "stream",
     "text": [
      "22\n",
      "17\n"
     ]
    }
   ],
   "source": [
    "print(solve_knapsack([1, 6, 10, 16], [1, 2, 3, 5], 7))\n",
    "print(solve_knapsack([1, 6, 10, 16], [1, 2, 3, 5], 6))"
   ]
  },
  {
   "cell_type": "markdown",
   "id": "a531c5ef",
   "metadata": {},
   "source": [
    "##### Bottom-up approach\n",
    "While the memoized solution is sufficient, performance wise, the bottom up approach can be more optimal in some cases\n",
    "\n",
    "Instead of building the dp[][] via recursive calls (top-down approach) we build the dp table bottom up.\n",
    "This means that dp[i][c] will represent the maximum knapsack profit for capacity ‘c’ calculated from the first ‘i’ items.\n",
    "\n",
    "So, for each item at index ‘i’ (0 <= i < items.length) and capacity ‘c’ (0 <= c <= capacity), we have two options:\n",
    "1. Exclude the item at index ‘i.’ In this case, we will take whatever profit we get from the sub-array excluding this item => dp[i-1][c]\n",
    "2. Include the item at index ‘i’ if its weight is not more than the capacity. In this case, we include its profit plus whatever profit we get from the remaining capacity and from remaining items => profit[i] + dp[i-1][c-weight[i]]\n",
    "\n",
    "\n",
    "Which leads us to the relation:\n",
    "```dp[i][c] = max (dp[i-1][c], profit[i] + dp[i-1][c-weight[i]])```"
   ]
  },
  {
   "cell_type": "code",
   "execution_count": 7,
   "id": "82685840",
   "metadata": {},
   "outputs": [],
   "source": [
    "def solve_knapsack(profits, weights, capacity):\n",
    "    # basic checks\n",
    "    n = len(profits)\n",
    "    if capacity <= 0 or n == 0 or len(weights) != n:\n",
    "        return 0\n",
    "\n",
    "    dp = [[0 for x in range(capacity+1)] for y in range(n)]\n",
    "\n",
    "    # populate the capacity = 0 columns, with '0' capacity we have '0' profit\n",
    "    for i in range(0, n):\n",
    "        dp[i][0] = 0\n",
    "\n",
    "    # if we have only one weight, we will take it if it is not more than the capacity\n",
    "    for c in range(0, capacity+1):\n",
    "        if weights[0] <= c:\n",
    "            dp[0][c] = profits[0]\n",
    "\n",
    "    # process all sub-arrays for all the capacities\n",
    "    for i in range(1, n):\n",
    "        for c in range(1, capacity+1):\n",
    "            profit1, profit2 = 0, 0\n",
    "            # include the item, if it is not more than the capacity\n",
    "            if weights[i] <= c:\n",
    "                profit1 = profits[i] + dp[i - 1][c - weights[i]]\n",
    "            # exclude the item\n",
    "            profit2 = dp[i - 1][c]\n",
    "            # take maximum\n",
    "            dp[i][c] = max(profit1, profit2)\n",
    "            \n",
    "            \n",
    "    print_selected_elements(dp, weights, profits, capacity) # to print the selected items\n",
    "\n",
    "    # maximum profit will be at the bottom-right corner.\n",
    "    return dp[n - 1][capacity]"
   ]
  },
  {
   "cell_type": "code",
   "execution_count": 8,
   "id": "47d9ef9e",
   "metadata": {},
   "outputs": [],
   "source": [
    "# Given the dp table, to print out the selected items:\n",
    "\n",
    "def print_selected_elements(dp, weights, profits, capacity):\n",
    "    print(\"Selected weights are: \", end='')\n",
    "    n = len(weights)\n",
    "    totalProfit = dp[n-1][capacity]\n",
    "    \n",
    "    for i in range(n-1, 0, -1):\n",
    "        if totalProfit != dp[i - 1][capacity]: # looking up basically\n",
    "            print(str(weights[i]) + \" \", end='')\n",
    "            capacity -= weights[i]\n",
    "            totalProfit -= profits[i]\n",
    "\n",
    "    if totalProfit != 0:\n",
    "        print(str(weights[0]) + \" \", end='')\n",
    "    print()"
   ]
  },
  {
   "cell_type": "code",
   "execution_count": 9,
   "id": "41302919",
   "metadata": {},
   "outputs": [
    {
     "name": "stdout",
     "output_type": "stream",
     "text": [
      "Selected weights are: 5 2 \n",
      "Total knapsack profit: 22\n",
      "Selected weights are: 3 2 1 \n",
      "Total knapsack profit: 17\n"
     ]
    }
   ],
   "source": [
    "print(\"Total knapsack profit: \" + str(solve_knapsack([1, 6, 10, 16], [1, 2, 3, 5], 7)))\n",
    "print(\"Total knapsack profit: \" + str(solve_knapsack([1, 6, 10, 16], [1, 2, 3, 5], 6)))"
   ]
  },
  {
   "cell_type": "markdown",
   "id": "c75ae9ee",
   "metadata": {},
   "source": [
    "*This can be further optimized to use just 1-d array for storage*"
   ]
  },
  {
   "cell_type": "markdown",
   "id": "28682fdc",
   "metadata": {},
   "source": [
    "<br>"
   ]
  },
  {
   "cell_type": "markdown",
   "id": "480bd303",
   "metadata": {},
   "source": [
    "#### Equal subset sum partition\n",
    "Partition an array such that their sums are equal"
   ]
  },
  {
   "cell_type": "markdown",
   "id": "0bff0e76",
   "metadata": {},
   "source": [
    "##### Brute force:\n",
    "```for each number 'i' \n",
    "  create a new set which INCLUDES number 'i' if it does not exceed 'S/2', and recursively \n",
    "      process the remaining numbers\n",
    "  create a new set WITHOUT number 'i', and recursively process the remaining items \n",
    "return true if any of the above sets has a sum equal to 'S/2', otherwise return false```\n"
   ]
  },
  {
   "cell_type": "code",
   "execution_count": 10,
   "id": "c55693e2",
   "metadata": {},
   "outputs": [],
   "source": [
    "def can_partition(num):\n",
    "    s = sum(num)\n",
    "    \n",
    "    # if 's' is a an odd number, we can't have two subsets with equal sum\n",
    "    if s % 2 != 0:\n",
    "        return False\n",
    "\n",
    "    return can_partition_recursive(num, s / 2, 0)\n",
    "\n",
    "\n",
    "def can_partition_recursive(num, sum, currentIndex):\n",
    "    # base check\n",
    "    if sum == 0:\n",
    "        return True\n",
    "\n",
    "    n = len(num)\n",
    "    if n == 0 or currentIndex >= n:\n",
    "        return False\n",
    "\n",
    "    # recursive call after choosing the number at the `currentIndex`\n",
    "    # if the number at `currentIndex` exceeds the sum, we shouldn't process this\n",
    "    if num[currentIndex] <= sum:\n",
    "        if(can_partition_recursive(num, sum - num[currentIndex], currentIndex + 1)):\n",
    "            return True\n",
    "\n",
    "    # recursive call after excluding the number at the 'currentIndex'\n",
    "    return can_partition_recursive(num, sum, currentIndex + 1)"
   ]
  },
  {
   "cell_type": "code",
   "execution_count": 11,
   "id": "a7310a58",
   "metadata": {},
   "outputs": [
    {
     "name": "stdout",
     "output_type": "stream",
     "text": [
      "Can partition: True\n",
      "Can partition: True\n",
      "Can partition: False\n"
     ]
    }
   ],
   "source": [
    "print(\"Can partition: \" + str(can_partition([1, 2, 3, 4])))\n",
    "print(\"Can partition: \" + str(can_partition([1, 1, 3, 4, 7])))\n",
    "print(\"Can partition: \" + str(can_partition([2, 3, 4, 6])))"
   ]
  },
  {
   "cell_type": "markdown",
   "id": "8b08d7cf",
   "metadata": {},
   "source": [
    "##### Memoization:\n",
    "Just like in the 0/1 knapsack case, the delta between recursive calls here is the sum and currentIndex.\n",
    "So those two params will be the indices of the table"
   ]
  },
  {
   "cell_type": "code",
   "execution_count": 13,
   "id": "19c30fcd",
   "metadata": {},
   "outputs": [],
   "source": [
    "def can_partition(num):\n",
    "    s = sum(num)\n",
    "\n",
    "    # if 's' is a an odd number, we can't have two subsets with equal sum\n",
    "    if s % 2 != 0:\n",
    "        return False\n",
    "\n",
    "    # initialize the 'dp' array, -1 for default, 1 for true and 0 for false\n",
    "    dp = [[-1 for x in range(int(s/2)+1)] for y in range(len(num))]\n",
    "    \n",
    "    return True if can_partition_recursive(dp, num, int(s / 2), 0) == 1 else False\n",
    "\n",
    "\n",
    "def can_partition_recursive(dp, num, sum, currentIndex):\n",
    "    # base check\n",
    "    if sum == 0:\n",
    "        return 1\n",
    "\n",
    "    n = len(num)\n",
    "    if n == 0 or currentIndex >= n:\n",
    "        return 0\n",
    "\n",
    "    # if we have not already processed a similar problem\n",
    "    if dp[currentIndex][sum] == -1:\n",
    "        # recursive call after choosing the number at the currentIndex\n",
    "        # if the number at currentIndex exceeds the sum, we shouldn't process this\n",
    "        if num[currentIndex] <= sum:\n",
    "            if can_partition_recursive(dp, num, sum - num[currentIndex], currentIndex + 1) == 1:\n",
    "                dp[currentIndex][sum] = 1\n",
    "                return 1\n",
    "\n",
    "    # recursive call after excluding the number at the currentIndex\n",
    "    dp[currentIndex][sum] = can_partition_recursive(dp, num, sum, currentIndex + 1)\n",
    "\n",
    "    return dp[currentIndex][sum]"
   ]
  },
  {
   "cell_type": "code",
   "execution_count": 14,
   "id": "8fb2021e",
   "metadata": {},
   "outputs": [
    {
     "name": "stdout",
     "output_type": "stream",
     "text": [
      "Can partition: True\n",
      "Can partition: True\n",
      "Can partition: False\n"
     ]
    }
   ],
   "source": [
    "print(\"Can partition: \" + str(can_partition([1, 2, 3, 4])))\n",
    "print(\"Can partition: \" + str(can_partition([1, 1, 3, 4, 7])))\n",
    "print(\"Can partition: \" + str(can_partition([2, 3, 4, 6])))"
   ]
  },
  {
   "cell_type": "markdown",
   "id": "ac18bcc5",
   "metadata": {},
   "source": [
    "##### Bottom up\n",
    "```dp[i][s] will be ‘true’ if we can make the sum ‘s’ from the first ‘i’ numbers.```\n",
    "\n",
    "For each number at index ‘i’ (0 <= i < num.length) and sum ‘s’ (0 <= s <= S/2), we have two options:\n",
    "1. Exclude the number. In this case, we will see if we can get ‘s’ from the subset excluding this number: dp[i-1][s]\n",
    "2. Include the number if its value is not more than ‘s’. In this case, we will see if we can find a subset to get the remaining sum: dp[i-1][s-num[i]]"
   ]
  },
  {
   "cell_type": "code",
   "execution_count": 15,
   "id": "646ac477",
   "metadata": {},
   "outputs": [],
   "source": [
    "def can_partition(num):\n",
    "    s = sum(num)\n",
    "\n",
    "    # if 's' is a an odd number, we can't have two subsets with same total\n",
    "    if s % 2 != 0:\n",
    "        return False\n",
    "\n",
    "    # we are trying to find a subset of given numbers that has a total sum of 's/2'.\n",
    "    s = int(s / 2)\n",
    "\n",
    "    n = len(num)\n",
    "    dp = [[False for x in range(s+1)] for y in range(n)]\n",
    "\n",
    "    # populate the s=0 columns, as we can always for '0' sum with an empty set\n",
    "    for i in range(0, n):\n",
    "        dp[i][0] = True\n",
    "\n",
    "    # with only one number, we can form a subset only when the required sum is\n",
    "    # equal to its value\n",
    "    for j in range(1, s+1):\n",
    "        dp[0][j] = num[0] == j\n",
    "\n",
    "    # process all subsets for all sums\n",
    "    for i in range(1, n):\n",
    "        for j in range(1, s+1):\n",
    "            # if we can get the sum 'j' without the number at index 'i'\n",
    "            if dp[i - 1][j]:\n",
    "                dp[i][j] = dp[i - 1][j]\n",
    "            elif j >= num[i]:  # else if we can find a subset to get the remaining sum\n",
    "                dp[i][j] = dp[i - 1][j - num[i]]\n",
    "        \n",
    "    # the bottom-right corner will have our answer.\n",
    "    return dp[n - 1][s]"
   ]
  },
  {
   "cell_type": "code",
   "execution_count": 16,
   "id": "8747b3c1",
   "metadata": {},
   "outputs": [
    {
     "name": "stdout",
     "output_type": "stream",
     "text": [
      "Can partition: True\n",
      "Can partition: True\n",
      "Can partition: False\n"
     ]
    }
   ],
   "source": [
    "print(\"Can partition: \" + str(can_partition([1, 2, 3, 4])))\n",
    "print(\"Can partition: \" + str(can_partition([1, 1, 3, 4, 7])))\n",
    "print(\"Can partition: \" + str(can_partition([2, 3, 4, 6])))"
   ]
  },
  {
   "cell_type": "markdown",
   "id": "a740e88a",
   "metadata": {},
   "source": [
    "#### Subset sum \n",
    "Given a sum and an array, find if a subset exists that sums to the given sum"
   ]
  },
  {
   "cell_type": "markdown",
   "id": "9301b1ce",
   "metadata": {},
   "source": [
    "``` for each number 'i' \n",
    "  create a new set which INCLUDES number 'i' if it does not exceed 'S', and recursively \n",
    "     process the remaining numbers\n",
    "  create a new set WITHOUT number 'i', and recursively process the remaining numbers \n",
    "return true if any of the above two sets has a sum equal to 'S', otherwise return false```"
   ]
  },
  {
   "cell_type": "markdown",
   "id": "e5977447",
   "metadata": {},
   "source": [
    "##### Bottom up:\n",
    "For every possible sum ‘s’ (where 0 <= s <= S), we have two options:\n",
    "1. Exclude the number. In this case, we will see if we can get the sum ‘s’ from the subset excluding this number => dp[index-1][s]\n",
    "2. Include the number if its value is not more than ‘s’. In this case, we will see if we can find a subset to get the remaining sum => dp[index-1][s-num[index]]"
   ]
  },
  {
   "cell_type": "code",
   "execution_count": 17,
   "id": "45c5615f",
   "metadata": {},
   "outputs": [],
   "source": [
    "def can_partition(num, sum):\n",
    "    n = len(num)\n",
    "    dp = [[False for x in range(sum+1)] for y in range(n)]\n",
    "\n",
    "    # populate the sum = 0 columns, as we can always form '0' sum with an empty set\n",
    "    for i in range(0, n):\n",
    "        dp[i][0] = True\n",
    "\n",
    "    # with only one number, we can form a subset only when the required sum is\n",
    "    # equal to its value\n",
    "    for s in range(1, sum+1):\n",
    "        dp[0][s] = True if num[0] == s else False\n",
    "\n",
    "    # process all subsets for all sums\n",
    "    for i in range(1, n):\n",
    "        for s in range(1, sum+1):\n",
    "            # if we can get the sum 's' without the number at index 'i'\n",
    "            if dp[i - 1][s]:\n",
    "                dp[i][s] = dp[i - 1][s]\n",
    "            elif s >= num[i]:\n",
    "                # else include the number to see if we can find a subset to get the remaining sum\n",
    "                dp[i][s] = dp[i - 1][s - num[i]]\n",
    "\n",
    "    # the bottom-right corner will have our answer.\n",
    "    return dp[n - 1][sum]"
   ]
  },
  {
   "cell_type": "code",
   "execution_count": 18,
   "id": "81e1f134",
   "metadata": {},
   "outputs": [
    {
     "name": "stdout",
     "output_type": "stream",
     "text": [
      "Can partition: True\n",
      "Can partition: True\n",
      "Can partition: False\n"
     ]
    }
   ],
   "source": [
    "print(\"Can partition: \" + str(can_partition([1, 2, 3, 7], 6)))\n",
    "print(\"Can partition: \" + str(can_partition([1, 2, 7, 1, 5], 10)))\n",
    "print(\"Can partition: \" + str(can_partition([1, 3, 4, 8], 6)))"
   ]
  },
  {
   "cell_type": "markdown",
   "id": "b8972514",
   "metadata": {},
   "source": [
    "_This can be further optimized to use O(S) space_"
   ]
  },
  {
   "cell_type": "markdown",
   "id": "64133965",
   "metadata": {},
   "source": [
    "<br>"
   ]
  },
  {
   "cell_type": "markdown",
   "id": "33713d9d",
   "metadata": {},
   "source": [
    "#### Minimum subset sum difference\n",
    "Partition a given array into two subsets such that the difference between their sums is minimal"
   ]
  },
  {
   "cell_type": "markdown",
   "id": "c0cede99",
   "metadata": {},
   "source": [
    "##### Brute force\n",
    "```for each number 'i' \n",
    "  add number 'i' to S1 and recursively process the remaining numbers\n",
    "  add number 'i' to S2 and recursively process the remaining numbers\n",
    "return the minimum absolute difference of the above two sets ```"
   ]
  },
  {
   "cell_type": "code",
   "execution_count": 19,
   "id": "28d2b1b9",
   "metadata": {},
   "outputs": [],
   "source": [
    "def can_partition(num):\n",
    "    return can_partition_recursive(num, 0, 0, 0)\n",
    "\n",
    "\n",
    "def can_partition_recursive(num, currentIndex, sum1, sum2):\n",
    "    # base check\n",
    "    if currentIndex == len(num):\n",
    "        return abs(sum1 - sum2)\n",
    "\n",
    "    # recursive call after including the number at the currentIndex in the first set\n",
    "    diff1 = can_partition_recursive(num, currentIndex + 1, sum1 + num[currentIndex], sum2)\n",
    "\n",
    "    # recursive call after including the number at the currentIndex in the second set\n",
    "    diff2 = can_partition_recursive(num, currentIndex + 1, sum1, sum2 + num[currentIndex])\n",
    "\n",
    "    return min(diff1, diff2)"
   ]
  },
  {
   "cell_type": "code",
   "execution_count": 20,
   "id": "cc5215b9",
   "metadata": {},
   "outputs": [
    {
     "name": "stdout",
     "output_type": "stream",
     "text": [
      "Can partition: 3\n",
      "Can partition: 0\n",
      "Can partition: 92\n"
     ]
    }
   ],
   "source": [
    "print(\"Can partition: \" + str(can_partition([1, 2, 3, 9])))\n",
    "print(\"Can partition: \" + str(can_partition([1, 2, 7, 1, 5])))\n",
    "print(\"Can partition: \" + str(can_partition([1, 3, 100, 4])))"
   ]
  },
  {
   "cell_type": "markdown",
   "id": "e715ac58",
   "metadata": {},
   "source": [
    "##### Memoization\n",
    "The indices being updated over recursive calls are current index and the sum, hence will be the two indices in the memo matrix"
   ]
  },
  {
   "cell_type": "code",
   "execution_count": 21,
   "id": "f96b2668",
   "metadata": {},
   "outputs": [],
   "source": [
    "def can_partition(num):\n",
    "    s = sum(num)\n",
    "    dp = [[-1 for x in range(s+1)] for y in range(len(num))]\n",
    "    \n",
    "    return can_partition_recursive(dp, num, 0, 0, 0)\n",
    "\n",
    "\n",
    "def can_partition_recursive(dp, num, currentIndex, sum1, sum2):\n",
    "    # base check\n",
    "    if currentIndex == len(num):\n",
    "        return abs(sum1 - sum2)\n",
    "\n",
    "    # check if we have not already processed similar problem\n",
    "    if dp[currentIndex][sum1] == -1:\n",
    "        # recursive call after including the number at the currentIndex in the first set\n",
    "        diff1 = can_partition_recursive(dp, num, currentIndex + 1, sum1 + num[currentIndex], sum2)\n",
    "\n",
    "        # recursive call after including the number at the currentIndex in the second set\n",
    "        diff2 = can_partition_recursive(dp, num, currentIndex + 1, sum1, sum2 + num[currentIndex])\n",
    "\n",
    "        dp[currentIndex][sum1] = min(diff1, diff2)\n",
    "\n",
    "    return dp[currentIndex][sum1]"
   ]
  },
  {
   "cell_type": "code",
   "execution_count": 25,
   "id": "18f98007",
   "metadata": {},
   "outputs": [
    {
     "name": "stdout",
     "output_type": "stream",
     "text": [
      "Can partition: 3\n",
      "Can partition: 0\n",
      "Can partition: 92\n"
     ]
    }
   ],
   "source": [
    "print(\"Can partition: \" + str(can_partition([1, 2, 3, 9])))\n",
    "print(\"Can partition: \" + str(can_partition([1, 2, 7, 1, 5])))\n",
    "print(\"Can partition: \" + str(can_partition([1, 3, 100, 4])))"
   ]
  },
  {
   "cell_type": "markdown",
   "id": "f72f6914",
   "metadata": {},
   "source": [
    "##### Bottom up\n",
    "In other words, the problem can be described as need to find a subarray whos sum is as close as possible to given sum/2\n",
    "\n",
    "\n",
    "Essentially, we need to calculate all the possible sums up to ‘S/2’ for all numbers. So how can we populate the array db[TotalNumbers][S/2+1] in the bottom-up fashion?\n",
    "\n",
    "For every possible sum ‘s’ (where 0 <= s <= S/2), we have two options:\n",
    "1. Exclude the number. In this case, we will see if we can get the sum ‘s’ from the subset excluding this number => dp[index-1][s]\n",
    "2. Include the number if its value is not more than ‘s’. In this case, we will see if we can find a subset to get the remaining sum => dp[index-1][s-num[index]]\n",
    "\n"
   ]
  },
  {
   "cell_type": "code",
   "execution_count": 26,
   "id": "f4791e07",
   "metadata": {},
   "outputs": [],
   "source": [
    "def can_partition(num):\n",
    "    s = sum(num)\n",
    "    n = len(num)\n",
    "    dp = [[False for x in range(int(s/2)+1)] for y in range(n)]\n",
    "\n",
    "    # populate the s=0 columns, as we can always form '0' sum with an empty set\n",
    "    for i in range(0, n):\n",
    "        dp[i][0] = True\n",
    "\n",
    "    # with only one number, we can form a subset only when the required sum is equal to \n",
    "    # that number\n",
    "    for j in range(0, int(s/2)+1):\n",
    "        dp[0][j] = num[0] == j\n",
    "\n",
    "    # process all subsets for all sums\n",
    "    for i in range(1, n):\n",
    "        for j in range(1, int(s/2)+1):\n",
    "            # if we can get the sum 's' without the number at index 'i'\n",
    "            if dp[i - 1][j]:\n",
    "                dp[i][j] = dp[i - 1][j]\n",
    "            elif j >= num[i]:\n",
    "                # else include the number and see if we can find a subset to get remaining sum\n",
    "                dp[i][j] = dp[i - 1][j - num[i]]\n",
    "\n",
    "    sum1 = 0\n",
    "    # find the largest index in the last row which is true\n",
    "    for i in range(int(s/2), -1, -1):\n",
    "        if dp[n - 1][i]:\n",
    "            sum1 = i\n",
    "            break\n",
    "\n",
    "    sum2 = s - sum1\n",
    "    \n",
    "    return abs(sum2 - sum1)"
   ]
  },
  {
   "cell_type": "code",
   "execution_count": 27,
   "id": "0b70bf56",
   "metadata": {},
   "outputs": [
    {
     "name": "stdout",
     "output_type": "stream",
     "text": [
      "Can partition: 3\n",
      "Can partition: 0\n",
      "Can partition: 92\n"
     ]
    }
   ],
   "source": [
    "print(\"Can partition: \" + str(can_partition([1, 2, 3, 9])))\n",
    "print(\"Can partition: \" + str(can_partition([1, 2, 7, 1, 5])))\n",
    "print(\"Can partition: \" + str(can_partition([1, 3, 100, 4])))"
   ]
  },
  {
   "cell_type": "code",
   "execution_count": null,
   "id": "c14f31e4",
   "metadata": {},
   "outputs": [],
   "source": []
  }
 ],
 "metadata": {
  "kernelspec": {
   "display_name": "Python 3",
   "language": "python",
   "name": "python3"
  },
  "language_info": {
   "codemirror_mode": {
    "name": "ipython",
    "version": 3
   },
   "file_extension": ".py",
   "mimetype": "text/x-python",
   "name": "python",
   "nbconvert_exporter": "python",
   "pygments_lexer": "ipython3",
   "version": "3.9.5"
  }
 },
 "nbformat": 4,
 "nbformat_minor": 5
}
