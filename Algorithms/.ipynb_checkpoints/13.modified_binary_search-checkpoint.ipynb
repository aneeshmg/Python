{
 "cells": [
  {
   "cell_type": "markdown",
   "id": "dad5d774",
   "metadata": {},
   "source": [
    "### Modified binary search"
   ]
  },
  {
   "cell_type": "markdown",
   "id": "39aea50b",
   "metadata": {},
   "source": [
    "#### Order agnostic binary search\n",
    "List is sorted, asc or desc"
   ]
  },
  {
   "cell_type": "code",
   "execution_count": 1,
   "id": "60be2353",
   "metadata": {},
   "outputs": [],
   "source": [
    "# detect the order, update mid accordingly, repeat till found\n",
    "\n",
    "def binary_search(arr, key):\n",
    "    start, end = 0, len(arr) - 1\n",
    "    isAscending = arr[start] < arr[end]\n",
    "    \n",
    "    while start <= end:\n",
    "        # calculate the middle of the current range\n",
    "        mid = start + (end - start) // 2\n",
    "\n",
    "        if key == arr[mid]:\n",
    "            return mid\n",
    "\n",
    "        if isAscending:  # ascending order\n",
    "            if key < arr[mid]:\n",
    "                end = mid - 1  # the 'key' can be in the first half\n",
    "            else:  # key > arr[mid]\n",
    "                start = mid + 1  # the 'key' can be in the second half\n",
    "        else:  # descending order\n",
    "            if key > arr[mid]:\n",
    "                end = mid - 1  # the 'key' can be in the first half\n",
    "            else:  # key < arr[mid]\n",
    "                start = mid + 1  # the 'key' can be in the second half\n",
    "\n",
    "    return -1  # element not found"
   ]
  },
  {
   "cell_type": "code",
   "execution_count": 2,
   "id": "ff29c21c",
   "metadata": {},
   "outputs": [
    {
     "name": "stdout",
     "output_type": "stream",
     "text": [
      "3\n",
      "5\n"
     ]
    }
   ],
   "source": [
    "print (binary_search([1,2,3,4,5], 4))\n",
    "print (binary_search([9,8,7,6,5,4], 4))"
   ]
  },
  {
   "cell_type": "markdown",
   "id": "6df04095",
   "metadata": {},
   "source": [
    "#### Ceiling number in a sorted list\n",
    "([1, 3, 5, 6, 7, 9], 4) => 5"
   ]
  },
  {
   "cell_type": "code",
   "execution_count": 3,
   "id": "96c88ad7",
   "metadata": {},
   "outputs": [],
   "source": [
    "# trivial binary search, return mid+1 th index\n",
    "\n",
    "def search_ceiling_of_a_number(arr, key):\n",
    "    n = len(arr)\n",
    "    if key > arr[n - 1]:  # if the 'key' is bigger than the biggest element\n",
    "        return -1\n",
    "\n",
    "    start, end = 0, n - 1\n",
    "    \n",
    "    while start <= end:\n",
    "        mid = start + (end - start) // 2\n",
    "        if key < arr[mid]:\n",
    "            end = mid - 1\n",
    "        elif key > arr[mid]:\n",
    "            start = mid + 1\n",
    "        else:  # found the key\n",
    "            return mid\n",
    "\n",
    "    # since the loop is running until 'start <= end', so at the end of the while loop, \n",
    "    # 'start == end+1' we are not able to find the element in the given array, so the next\n",
    "    # big number will be arr[start]\n",
    "    return start"
   ]
  },
  {
   "cell_type": "code",
   "execution_count": 4,
   "id": "850dba6d",
   "metadata": {},
   "outputs": [
    {
     "name": "stdout",
     "output_type": "stream",
     "text": [
      "3\n"
     ]
    }
   ],
   "source": [
    "print (search_ceiling_of_a_number([1,2,3,5,6,7], 4))"
   ]
  },
  {
   "cell_type": "markdown",
   "id": "642cef41",
   "metadata": {},
   "source": [
    "#### Next letter, list of chars, circular list\n",
    "* (['a', 'c', 'f', 'h'], 'f') => 'h'\n",
    "* (['a', 'c', 'f', 'h'], 'm') => 'a'\n",
    "* (['a', 'c', 'f', 'h'], 'h') => 'a'"
   ]
  },
  {
   "cell_type": "code",
   "execution_count": 5,
   "id": "49a1eb3d",
   "metadata": {},
   "outputs": [],
   "source": [
    "# circular list handled via %, rest is similar to ceiling number above\n",
    "\n",
    "def search_next_letter(letters, key):\n",
    "    n = len(letters)\n",
    "    start, end = 0, n - 1\n",
    "    \n",
    "    while start <= end:\n",
    "        mid = start + (end - start) // 2\n",
    "        if key < letters[mid]:\n",
    "            end = mid - 1\n",
    "        else: # key >= letters[mid]:\n",
    "            start = mid + 1\n",
    "\n",
    "    # since the loop is running until 'start <= end', so at the end of the while loop, \n",
    "    # 'start == end+1'\n",
    "    return letters[start % n]"
   ]
  },
  {
   "cell_type": "code",
   "execution_count": 6,
   "id": "7c2e118c",
   "metadata": {},
   "outputs": [
    {
     "name": "stdout",
     "output_type": "stream",
     "text": [
      "a\n"
     ]
    }
   ],
   "source": [
    "print (search_next_letter(['a', 'c', 'f', 'h'], 'h'))"
   ]
  },
  {
   "cell_type": "markdown",
   "id": "6c733f02",
   "metadata": {},
   "source": [
    "#### Number range\n",
    "Return first and last occurance of given number in a sorted list\n",
    "([1, 6, 6, 6, 7, 9], 6) => [1, 3]"
   ]
  },
  {
   "cell_type": "code",
   "execution_count": 7,
   "id": "24308bea",
   "metadata": {},
   "outputs": [],
   "source": [
    "# do bin search twice, first to find the first index and second to find the second index\n",
    "# key idea: update start&end differently ONLY when you have found the element (how? based on weather you're searching for first index or second)\n",
    "\n",
    "\n",
    "def find_range(arr, key):\n",
    "    result = [- 1, -1]\n",
    "    \n",
    "    result[0] = binary_search(arr, key, False)\n",
    "    \n",
    "    if result[0] != -1:  # no need to search, if 'key' is not present in the input array\n",
    "        result[1] = binary_search(arr, key, True)\n",
    "        \n",
    "    return result\n",
    "\n",
    "\n",
    "# modified Binary Search\n",
    "def binary_search(arr, key, findMaxIndex):\n",
    "    keyIndex = -1\n",
    "    start, end = 0, len(arr) - 1\n",
    "    \n",
    "    while start <= end:\n",
    "        mid = start + (end - start) // 2\n",
    "        if key < arr[mid]:\n",
    "            end = mid - 1\n",
    "        elif key > arr[mid]:\n",
    "            start = mid + 1\n",
    "        else:  # key == arr[mid]\n",
    "            keyIndex = mid\n",
    "            if findMaxIndex:\n",
    "                start = mid + 1  # search ahead to find the last index of 'key'\n",
    "            else:\n",
    "                end = mid - 1  # search behind to find the first index of 'key'\n",
    "\n",
    "    return keyIndex"
   ]
  },
  {
   "cell_type": "code",
   "execution_count": 8,
   "id": "815bf74a",
   "metadata": {},
   "outputs": [
    {
     "name": "stdout",
     "output_type": "stream",
     "text": [
      "[1, 3]\n"
     ]
    }
   ],
   "source": [
    "print (find_range([1, 5, 5, 5, 6, 8, 9], 5))"
   ]
  },
  {
   "cell_type": "markdown",
   "id": "2539d37d",
   "metadata": {},
   "source": [
    "#### Bitonic array, peak finding\n",
    "([1, 3, 5, 7, 6, 4, 2]) => 7"
   ]
  },
  {
   "cell_type": "code",
   "execution_count": 9,
   "id": "99dee625",
   "metadata": {},
   "outputs": [],
   "source": [
    "# key idea: comparision between mid & mid+1\n",
    "\n",
    "def find_max_in_bitonic_array(arr):\n",
    "    start, end = 0, len(arr) - 1\n",
    "    \n",
    "    while start < end:\n",
    "        mid = start + (end - start) // 2\n",
    "    \n",
    "        if arr[mid] > arr[mid + 1]:\n",
    "            end = mid\n",
    "        else:\n",
    "            start = mid + 1\n",
    "\n",
    "    # at the end of the while loop, 'start == end'\n",
    "    return arr[start]"
   ]
  },
  {
   "cell_type": "code",
   "execution_count": 11,
   "id": "1dad6fef",
   "metadata": {},
   "outputs": [
    {
     "name": "stdout",
     "output_type": "stream",
     "text": [
      "7\n"
     ]
    }
   ],
   "source": [
    "print (find_max_in_bitonic_array([1, 3, 5, 7, 6, 4, 2]))"
   ]
  },
  {
   "cell_type": "markdown",
   "id": "eadfa788",
   "metadata": {},
   "source": [
    "#### Search in infinite sorted array (stream)"
   ]
  },
  {
   "cell_type": "code",
   "execution_count": 13,
   "id": "767aa26d",
   "metadata": {},
   "outputs": [],
   "source": [
    "# exponentially increase the bounds till you find the searchable bound, once found, perform binary search\n",
    "\n",
    "import math\n",
    "\n",
    "\n",
    "class ArrayReader:\n",
    "\n",
    "    def __init__(self, arr):\n",
    "        self.arr = arr\n",
    "\n",
    "    def get(self, index):\n",
    "        if index >= len(self.arr):\n",
    "            return math.inf\n",
    "        return self.arr[index]\n",
    "\n",
    "\n",
    "def search_in_infinite_array(reader, key):\n",
    "    # find the proper bounds first\n",
    "    start, end = 0, 1\n",
    "    \n",
    "    while reader.get(end) < key:\n",
    "        newStart = end + 1\n",
    "        end += (end - start + 1) * 2\n",
    "        # increase to double the bounds size\n",
    "        start = newStart\n",
    "\n",
    "    return binary_search(reader, key, start, end)\n",
    "\n",
    "\n",
    "def binary_search(reader, key, start, end):\n",
    "    while start <= end:\n",
    "        mid = start + (end - start) // 2\n",
    "        if key < reader.get(mid):\n",
    "            end = mid - 1\n",
    "        elif key > reader.get(mid):\n",
    "            start = mid + 1\n",
    "        else:  # found the key\n",
    "            return mid\n",
    "\n",
    "    return -1"
   ]
  },
  {
   "cell_type": "code",
   "execution_count": 14,
   "id": "fd5ea8ad",
   "metadata": {},
   "outputs": [
    {
     "name": "stdout",
     "output_type": "stream",
     "text": [
      "6\n"
     ]
    }
   ],
   "source": [
    "reader = ArrayReader([4, 6, 8, 10, 12, 14, 16, 18, 20, 22, 24, 26, 28, 30])\n",
    "print(search_in_infinite_array(reader, 16))"
   ]
  },
  {
   "cell_type": "markdown",
   "id": "278eb632",
   "metadata": {},
   "source": [
    "#### Minimum difference element\n",
    "([1, 3, 8, 10, 15], 12) => 10"
   ]
  },
  {
   "cell_type": "code",
   "execution_count": 15,
   "id": "97009183",
   "metadata": {},
   "outputs": [],
   "source": [
    "# search the array using bin search till it fails (as the element wouldnt exist) and then look left or right + retrn min\n",
    "\n",
    "def search_min_diff_element(arr, key):\n",
    "    if key < arr[0]:\n",
    "        return arr[0]\n",
    "    \n",
    "    n = len(arr)\n",
    "    \n",
    "    if key > arr[n - 1]:\n",
    "        return arr[n - 1]\n",
    "\n",
    "    start, end = 0, n - 1\n",
    "    \n",
    "    while start <= end:\n",
    "        mid = start + (end - start) // 2\n",
    "        if key < arr[mid]:\n",
    "            end = mid - 1\n",
    "        elif key > arr[mid]:\n",
    "            start = mid + 1\n",
    "        else:\n",
    "            return arr[mid]\n",
    "\n",
    "    # at the end of the while loop, 'start == end+1'\n",
    "    # we are not able to find the element in the given array\n",
    "    # return the element which is closest to the 'key'\n",
    "    if (arr[start] - key) < (key - arr[end]):\n",
    "        return arr[start]\n",
    "    \n",
    "    return arr[end]\n"
   ]
  },
  {
   "cell_type": "code",
   "execution_count": 16,
   "id": "82e66787",
   "metadata": {},
   "outputs": [
    {
     "name": "stdout",
     "output_type": "stream",
     "text": [
      "10\n"
     ]
    }
   ],
   "source": [
    "print(search_min_diff_element([1, 3, 8, 10, 15], 12))"
   ]
  },
  {
   "cell_type": "code",
   "execution_count": null,
   "id": "0fae3cdb",
   "metadata": {},
   "outputs": [],
   "source": []
  }
 ],
 "metadata": {
  "kernelspec": {
   "display_name": "Python 3",
   "language": "python",
   "name": "python3"
  },
  "language_info": {
   "codemirror_mode": {
    "name": "ipython",
    "version": 3
   },
   "file_extension": ".py",
   "mimetype": "text/x-python",
   "name": "python",
   "nbconvert_exporter": "python",
   "pygments_lexer": "ipython3",
   "version": "3.9.5"
  }
 },
 "nbformat": 4,
 "nbformat_minor": 5
}
