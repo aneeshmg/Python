{
 "cells": [
  {
   "cell_type": "markdown",
   "id": "0f365590",
   "metadata": {},
   "source": [
    "### Linked list reversal pattern"
   ]
  },
  {
   "cell_type": "code",
   "execution_count": 3,
   "id": "5fe9bd6a",
   "metadata": {},
   "outputs": [],
   "source": [
    "from __future__ import print_function\n",
    "\n",
    "\n",
    "class Node:\n",
    "    def __init__(self, value, next=None):\n",
    "        self.value = value\n",
    "        self.next = next\n",
    "\n",
    "    def print_list(self):\n",
    "        temp = self\n",
    "        \n",
    "        while temp is not None:\n",
    "            print(temp.value, end=\" \")\n",
    "            temp = temp.next\n",
    "        print()"
   ]
  },
  {
   "cell_type": "markdown",
   "id": "fe2993a7",
   "metadata": {},
   "source": [
    "#### Linked list reversal"
   ]
  },
  {
   "cell_type": "code",
   "execution_count": 9,
   "id": "5fda6e43",
   "metadata": {},
   "outputs": [],
   "source": [
    "temp = Node(1)\n",
    "temp.next = Node(2)\n",
    "temp.next.next = Node(3)\n",
    "temp.next.next.next = Node(4)\n",
    "temp.next.next.next.next = Node(5)\n",
    "temp.next.next.next.next.next = Node(6)\n",
    "temp.next.next.next.next.next.next = Node(7)"
   ]
  },
  {
   "cell_type": "code",
   "execution_count": 6,
   "id": "375aceeb",
   "metadata": {},
   "outputs": [],
   "source": [
    "# Very intuitive when you visualise the process\n",
    "# a variable 'current' points to head initially, and 'previous' is null\n",
    "# previous->current->rest of the list\n",
    "# set current.next = previous, previous = current, curent = next in list\n",
    "# and eventually previous will be new head\n",
    "# in a sense we are swapping like in bubble sort but updating pointers\n",
    "\n",
    "def reverse(head):\n",
    "    previous, current, next = None, head, None\n",
    "  \n",
    "    while current is not None:\n",
    "        next = current.next  # temporarily store the next node\n",
    "        current.next = previous  # reverse the current node\n",
    "        # before we move to the next node, point previous to the current node    \n",
    "        previous = current  \n",
    "        current = next  # move on the next node\n",
    "    \n",
    "    return previous"
   ]
  },
  {
   "cell_type": "code",
   "execution_count": 10,
   "id": "52acc95d",
   "metadata": {},
   "outputs": [
    {
     "name": "stdout",
     "output_type": "stream",
     "text": [
      "1 2 3 4 5 6 7 \n",
      "7 6 5 4 3 2 1 \n"
     ]
    }
   ],
   "source": [
    "temp.print_list()\n",
    "temp = reverse(temp)\n",
    "temp.print_list()"
   ]
  },
  {
   "cell_type": "markdown",
   "id": "d3d0d154",
   "metadata": {},
   "source": [
    "#### Reverse a sub-list"
   ]
  },
  {
   "cell_type": "code",
   "execution_count": 11,
   "id": "b58c50b3",
   "metadata": {},
   "outputs": [
    {
     "name": "stdout",
     "output_type": "stream",
     "text": [
      "1 2 3 4 5 6 7 8 9 10 \n"
     ]
    }
   ],
   "source": [
    "temp = Node(1)\n",
    "temp.next = Node(2)\n",
    "temp.next.next = Node(3)\n",
    "temp.next.next.next = Node(4)\n",
    "temp.next.next.next.next = Node(5)\n",
    "temp.next.next.next.next.next = Node(6)\n",
    "temp.next.next.next.next.next.next = Node(7)\n",
    "temp.next.next.next.next.next.next.next = Node(8)\n",
    "temp.next.next.next.next.next.next.next.next = Node(9)\n",
    "temp.next.next.next.next.next.next.next.next.next = Node(10)\n",
    "temp.print_list()"
   ]
  },
  {
   "cell_type": "code",
   "execution_count": 12,
   "id": "32b8e535",
   "metadata": {},
   "outputs": [],
   "source": [
    "# objective is to reverse just a part of the list - perhaps from 3-7\n",
    "# skip to 3-1, remember this node, reverse the usual way till 7, join this to the rest\n",
    "\n",
    "# need to be carefull with edgecases here\n",
    "\n",
    "# do it in stages, simple to understand\n",
    "\n",
    "def reverse_sub_list(head, p, q):\n",
    "    if p == q:\n",
    "        return head\n",
    "\n",
    "    # after skipping 'p-1' nodes, current will point to 'p'th node\n",
    "    current, previous = head, None\n",
    "    \n",
    "    i = 0  \n",
    "    while current is not None and i < p - 1:\n",
    "        previous = current\n",
    "        current = current.next\n",
    "        i += 1\n",
    "\n",
    "    # we are interested in three parts of the LinkedList, the part before index 'p',\n",
    "    # the part between 'p' and 'q', and the part after index 'q'\n",
    "    last_node_of_first_part = previous\n",
    "    # after reversing the LinkedList 'current' will become the last node of the sub-list\n",
    "    last_node_of_sub_list = current\n",
    "    next = None  # will be used to temporarily store the next node\n",
    "\n",
    "    i = 0\n",
    "    # reverse nodes between 'p' and 'q'\n",
    "    while current is not None and i < q - p + 1: # the i,p,q condition is important\n",
    "        next = current.next\n",
    "        current.next = previous\n",
    "        previous = current\n",
    "        current = next\n",
    "        i += 1\n",
    "\n",
    "    # connect with the first part\n",
    "    if last_node_of_first_part is not None:\n",
    "        # 'previous' is now the first node of the sub-list\n",
    "        last_node_of_first_part.next = previous\n",
    "      # this means p == 1 i.e., we are changing the first node (head) of the LinkedList\n",
    "    else:\n",
    "        head = previous\n",
    "\n",
    "    # connect with the last part\n",
    "    last_node_of_sub_list.next = current\n",
    "    \n",
    "    return head"
   ]
  },
  {
   "cell_type": "code",
   "execution_count": 13,
   "id": "710b0a2c",
   "metadata": {},
   "outputs": [
    {
     "name": "stdout",
     "output_type": "stream",
     "text": [
      "1 2 3 4 5 6 7 8 9 10 \n",
      "1 2 7 6 5 4 3 8 9 10 \n"
     ]
    }
   ],
   "source": [
    "temp.print_list()\n",
    "temp = reverse_sub_list(temp, 3, 7)\n",
    "temp.print_list()"
   ]
  },
  {
   "cell_type": "markdown",
   "id": "76b0e4c7",
   "metadata": {},
   "source": [
    "#### Reverse every k-sub list"
   ]
  },
  {
   "cell_type": "code",
   "execution_count": 14,
   "id": "93801f6d",
   "metadata": {},
   "outputs": [
    {
     "name": "stdout",
     "output_type": "stream",
     "text": [
      "1 2 3 4 5 6 7 8 9 10 \n"
     ]
    }
   ],
   "source": [
    "temp = Node(1)\n",
    "temp.next = Node(2)\n",
    "temp.next.next = Node(3)\n",
    "temp.next.next.next = Node(4)\n",
    "temp.next.next.next.next = Node(5)\n",
    "temp.next.next.next.next.next = Node(6)\n",
    "temp.next.next.next.next.next.next = Node(7)\n",
    "temp.next.next.next.next.next.next.next = Node(8)\n",
    "temp.next.next.next.next.next.next.next.next = Node(9)\n",
    "temp.next.next.next.next.next.next.next.next.next = Node(10)\n",
    "temp.print_list()"
   ]
  },
  {
   "cell_type": "code",
   "execution_count": 17,
   "id": "f2746cc1",
   "metadata": {},
   "outputs": [],
   "source": [
    "# Solution is similar to previous, instead of doing it for a specific interval, do it every k- intervals\n",
    "\n",
    "# pay attention to the edge cases - ie whats happening to the first and last nodes, kth, k-1th nodes, etc\n",
    "\n",
    "def reverse_every_k_elements(head, k):\n",
    "    if k <= 1 or head is None:\n",
    "        return head\n",
    "\n",
    "    current, previous = head, None\n",
    "    while True:\n",
    "        last_node_of_previous_part = previous\n",
    "        # after reversing the LinkedList 'current' will become the last node of the sub-list\n",
    "        last_node_of_sub_list = current\n",
    "        next = None  # will be used to temporarily store the next node\n",
    "        \n",
    "        i = 0\n",
    "        while current is not None and i < k:  # reverse 'k' nodes IMP (previously we used i < (q-p)+1)\n",
    "            next = current.next\n",
    "            current.next = previous\n",
    "            previous = current\n",
    "            current = next\n",
    "            i += 1\n",
    "\n",
    "        # connect with the previous part\n",
    "        if last_node_of_previous_part is not None:\n",
    "            last_node_of_previous_part.next = previous\n",
    "        else:\n",
    "            head = previous # IMP\n",
    "\n",
    "        # connect with the next part\n",
    "        last_node_of_sub_list.next = current\n",
    "\n",
    "        if current is None:\n",
    "            break # why?\n",
    "    \n",
    "        previous = last_node_of_sub_list\n",
    "\n",
    "    return head"
   ]
  },
  {
   "cell_type": "code",
   "execution_count": 16,
   "id": "05d71ffa",
   "metadata": {},
   "outputs": [
    {
     "name": "stdout",
     "output_type": "stream",
     "text": [
      "1 2 3 4 5 6 7 8 9 10 \n",
      "3 2 1 6 5 4 9 8 7 10 \n"
     ]
    }
   ],
   "source": [
    "temp.print_list()\n",
    "temp = reverse_every_k_elements(temp, 3)\n",
    "temp.print_list()"
   ]
  },
  {
   "cell_type": "code",
   "execution_count": null,
   "id": "d30005b9",
   "metadata": {},
   "outputs": [],
   "source": []
  }
 ],
 "metadata": {
  "kernelspec": {
   "display_name": "Python 3",
   "language": "python",
   "name": "python3"
  },
  "language_info": {
   "codemirror_mode": {
    "name": "ipython",
    "version": 3
   },
   "file_extension": ".py",
   "mimetype": "text/x-python",
   "name": "python",
   "nbconvert_exporter": "python",
   "pygments_lexer": "ipython3",
   "version": "3.9.5"
  }
 },
 "nbformat": 4,
 "nbformat_minor": 5
}
