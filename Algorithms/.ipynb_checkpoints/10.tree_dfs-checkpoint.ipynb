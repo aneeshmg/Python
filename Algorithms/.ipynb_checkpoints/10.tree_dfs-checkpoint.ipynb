{
 "cells": [
  {
   "cell_type": "markdown",
   "id": "8275792e",
   "metadata": {},
   "source": [
    "### Tree DFS"
   ]
  },
  {
   "cell_type": "markdown",
   "id": "2ad16500",
   "metadata": {},
   "source": [
    "General approach, use stack\n",
    "* put first node/root/head into stack\n",
    "* pop top of stack, do something with it\n",
    "* put its children into stack\n",
    "* repeat while stack not empty"
   ]
  },
  {
   "cell_type": "markdown",
   "id": "11fb7ccf",
   "metadata": {},
   "source": [
    "Recursive approach:\n",
    "* start with root\n",
    "* if not leaf, do what you need to do with the node\n",
    "* if leaf, do what you need to do with the leaf and return\n",
    "* recurse on node.left\n",
    "* recurse on node.right"
   ]
  },
  {
   "cell_type": "code",
   "execution_count": 1,
   "id": "f72b82c1",
   "metadata": {},
   "outputs": [],
   "source": [
    "class TreeNode:\n",
    "    def __init__(self, val, left=None, right=None):\n",
    "        self.val = val\n",
    "        self.left = left\n",
    "        self.right = right"
   ]
  },
  {
   "cell_type": "markdown",
   "id": "fd254183",
   "metadata": {},
   "source": [
    "#### Binary tree path sum\n",
    "Given tree and a value, find if there exists a path that sums to the given value"
   ]
  },
  {
   "cell_type": "code",
   "execution_count": 4,
   "id": "76828c8c",
   "metadata": {},
   "outputs": [],
   "source": [
    "# fairly straightforward, key bit is the function call and passing it the sum-val in the recursion\n",
    "\n",
    "def has_path(root, sum):\n",
    "    if root is None:\n",
    "        return False\n",
    "\n",
    "    # if the current node is a leaf and its value is equal to the sum, we've found a path\n",
    "    if root.val == sum and root.left is None and root.right is None:\n",
    "        return True\n",
    "\n",
    "    # recursively call to traverse the left and right sub-tree\n",
    "    # return true if any of the two recursive call return true\n",
    "    return has_path(root.left, sum - root.val) or has_path(root.right, sum - root.val)"
   ]
  },
  {
   "cell_type": "code",
   "execution_count": 5,
   "id": "46c52f96",
   "metadata": {},
   "outputs": [
    {
     "name": "stdout",
     "output_type": "stream",
     "text": [
      "Tree has path: True\n"
     ]
    }
   ],
   "source": [
    "root = TreeNode(12)\n",
    "root.left = TreeNode(7)\n",
    "root.right = TreeNode(1)\n",
    "root.left.left = TreeNode(9)\n",
    "root.right.left = TreeNode(10)\n",
    "root.right.right = TreeNode(5)\n",
    "print(\"Tree has path: \" + str(has_path(root, 23)))"
   ]
  },
  {
   "cell_type": "markdown",
   "id": "64e97ed8",
   "metadata": {},
   "source": [
    "#### All paths to given sum\n",
    "An extension on the previous question - except find all possible paths instead of stopping at one"
   ]
  },
  {
   "cell_type": "code",
   "execution_count": 10,
   "id": "2e1f147f",
   "metadata": {},
   "outputs": [],
   "source": [
    "# This pattern of two functions (main+helper) in recursion is very useful,\n",
    "# pay attention to the function signatures\n",
    "\n",
    "def find_paths(root, required_sum):\n",
    "    allPaths = []\n",
    "    \n",
    "    find_paths_recursive(root, required_sum, [], allPaths) # essentially a helper method\n",
    "    \n",
    "    return allPaths\n",
    "\n",
    "def find_paths_recursive(currentNode, required_sum, currentPath, allPaths):\n",
    "    if currentNode is None:\n",
    "        return\n",
    "\n",
    "    # add the current node to the path\n",
    "    currentPath.append(currentNode.val) # Understand how this will affect sub-trees\n",
    "\n",
    "    # if the current node is a leaf and its value is equal to required_sum, save the \n",
    "    # current path\n",
    "    if currentNode.val == required_sum and currentNode.left is None and currentNode.right is None:\n",
    "        allPaths.append(list(currentPath))\n",
    "    else:\n",
    "        # traverse the left sub-tree\n",
    "        find_paths_recursive(currentNode.left, required_sum - currentNode.val, currentPath, allPaths)\n",
    "        # traverse the right sub-tree\n",
    "        find_paths_recursive(currentNode.right, required_sum - currentNode.val, currentPath, allPaths)\n",
    "\n",
    "    # remove the current node from the path to backtrack,\n",
    "    # we need to remove the current node while we are going up the recursive call stack.\n",
    "    del currentPath[-1] # Learn how to do this for other problms"
   ]
  },
  {
   "cell_type": "code",
   "execution_count": 9,
   "id": "cedfc80b",
   "metadata": {},
   "outputs": [
    {
     "name": "stdout",
     "output_type": "stream",
     "text": [
      "Tree paths with required_sum 23: [[12, 7, 4], [12, 1, 10]]\n"
     ]
    }
   ],
   "source": [
    "root = TreeNode(12)\n",
    "root.left = TreeNode(7)\n",
    "root.right = TreeNode(1)\n",
    "root.left.left = TreeNode(4)\n",
    "root.right.left = TreeNode(10)\n",
    "root.right.right = TreeNode(5)\n",
    "required_sum = 23\n",
    "print(\"Tree paths with required_sum \" + str(required_sum) +\n",
    "        \": \" + str(find_paths(root, required_sum)))"
   ]
  },
  {
   "cell_type": "markdown",
   "id": "432248a5",
   "metadata": {},
   "source": [
    "#### Sum of path numbers....\n",
    "Given root & its children, val = root.val*10 + root.left.val + root.val*10 + root.right.val"
   ]
  },
  {
   "cell_type": "code",
   "execution_count": 11,
   "id": "5ceb2cd5",
   "metadata": {},
   "outputs": [],
   "source": [
    "# \n",
    "\n",
    "def find_sum_of_path_numbers(root):\n",
    "    return find_root_to_leaf_path_numbers(root, 0)\n",
    "\n",
    "\n",
    "def find_root_to_leaf_path_numbers(currentNode, pathSum): # pay attention to the function signatures and init values\n",
    "    if currentNode is None:\n",
    "        return 0\n",
    "\n",
    "    # calculate the path number of the current node\n",
    "    pathSum = 10 * pathSum + currentNode.val\n",
    "\n",
    "    # if the current node is a leaf, return the current path sum\n",
    "    if currentNode.left is None and currentNode.right is None:\n",
    "        return pathSum\n",
    "\n",
    "    # traverse the left and the right sub-tree\n",
    "    return find_root_to_leaf_path_numbers(currentNode.left, pathSum) + find_root_to_leaf_path_numbers(currentNode.right, pathSum)"
   ]
  },
  {
   "cell_type": "code",
   "execution_count": 12,
   "id": "7a194d89",
   "metadata": {},
   "outputs": [
    {
     "name": "stdout",
     "output_type": "stream",
     "text": [
      "Total Sum of Path Numbers: 332\n"
     ]
    }
   ],
   "source": [
    "root = TreeNode(1)\n",
    "root.left = TreeNode(0)\n",
    "root.right = TreeNode(1)\n",
    "root.left.left = TreeNode(1)\n",
    "root.right.left = TreeNode(6)\n",
    "root.right.right = TreeNode(5)\n",
    "print(\"Total Sum of Path Numbers: \" + str(find_sum_of_path_numbers(root)))"
   ]
  },
  {
   "cell_type": "markdown",
   "id": "db3d18d3",
   "metadata": {},
   "source": [
    "#### Path with given sequence\n",
    "Check if a path contains a given sequence (given as a list)"
   ]
  },
  {
   "cell_type": "code",
   "execution_count": 13,
   "id": "ca286351",
   "metadata": {},
   "outputs": [],
   "source": [
    "# Similar to the all paths to given sum\n",
    "\n",
    "def find_path(root, sequence):\n",
    "    if not root:\n",
    "        return len(sequence) == 0\n",
    "\n",
    "    return find_path_recursive(root, sequence, 0)\n",
    "\n",
    "\n",
    "def find_path_recursive(currentNode, sequence, sequenceIndex):\n",
    "\n",
    "    if currentNode is None:\n",
    "        return False\n",
    "\n",
    "    seqLen = len(sequence)\n",
    "    if sequenceIndex >= seqLen or currentNode.val != sequence[sequenceIndex]:\n",
    "        return False\n",
    "\n",
    "    # if the current node is a leaf, add it is the end of the sequence, we have found \n",
    "    # a path!\n",
    "    if currentNode.left is None and currentNode.right is None and sequenceIndex == seqLen - 1:\n",
    "        return True\n",
    "\n",
    "    # recursively call to traverse the left and right sub-tree\n",
    "    # return true if any of the two recursive call return true\n",
    "    return find_path_recursive(currentNode.left, sequence, sequenceIndex + 1) or \\\n",
    "         find_path_recursive(currentNode.right, sequence, sequenceIndex + 1)"
   ]
  },
  {
   "cell_type": "code",
   "execution_count": 14,
   "id": "744a39fd",
   "metadata": {},
   "outputs": [
    {
     "name": "stdout",
     "output_type": "stream",
     "text": [
      "Tree has path sequence: False\n",
      "Tree has path sequence: True\n"
     ]
    }
   ],
   "source": [
    "root = TreeNode(1)\n",
    "root.left = TreeNode(0)\n",
    "root.right = TreeNode(1)\n",
    "root.left.left = TreeNode(1)\n",
    "root.right.left = TreeNode(6)\n",
    "root.right.right = TreeNode(5)\n",
    "\n",
    "print(\"Tree has path sequence: \" + str(find_path(root, [1, 0, 7])))\n",
    "print(\"Tree has path sequence: \" + str(find_path(root, [1, 1, 6])))"
   ]
  },
  {
   "cell_type": "markdown",
   "id": "435cea41",
   "metadata": {},
   "source": [
    "#### Count Paths for a Sum\n",
    "Find all paths (count) (that need not start from the root) that sum to the given value"
   ]
  },
  {
   "cell_type": "code",
   "execution_count": 15,
   "id": "51f4b114",
   "metadata": {},
   "outputs": [],
   "source": [
    "# a combination of two of the previous problems\n",
    "# traverse paths, if sum found, maintain in a list, else backtrack as we don't want to continue such paths\n",
    "\n",
    "def count_paths(root, S):\n",
    "    return count_paths_recursive(root, S, [])\n",
    "\n",
    "\n",
    "def count_paths_recursive(currentNode, S, currentPath):\n",
    "    if currentNode is None:\n",
    "        return 0\n",
    "\n",
    "    # add the current node to the path\n",
    "    currentPath.append(currentNode.val)\n",
    "    pathCount, pathSum = 0, 0\n",
    "    \n",
    "    # find the sums of all sub-paths in the current path list\n",
    "    for i in range(len(currentPath)-1, -1, -1):\n",
    "        pathSum += currentPath[i]\n",
    "        # if the sum of any sub-path is equal to 'S' we increment our path count.\n",
    "        if pathSum == S:\n",
    "            pathCount += 1\n",
    "\n",
    "    # traverse the left sub-tree\n",
    "    pathCount += count_paths_recursive(currentNode.left, S, currentPath)\n",
    "    # traverse the right sub-tree\n",
    "    pathCount += count_paths_recursive(currentNode.right, S, currentPath)\n",
    "\n",
    "    # remove the current node from the path to backtrack\n",
    "    # we need to remove the current node while we are going up the recursive call stack\n",
    "    del currentPath[-1]\n",
    "\n",
    "    return pathCount\n"
   ]
  },
  {
   "cell_type": "code",
   "execution_count": 16,
   "id": "5c255e4c",
   "metadata": {},
   "outputs": [
    {
     "name": "stdout",
     "output_type": "stream",
     "text": [
      "Tree has paths: 2\n"
     ]
    }
   ],
   "source": [
    "root = TreeNode(12)\n",
    "root.left = TreeNode(7)\n",
    "root.right = TreeNode(1)\n",
    "root.left.left = TreeNode(4)\n",
    "root.right.left = TreeNode(10)\n",
    "root.right.right = TreeNode(5)\n",
    "print(\"Tree has paths: \" + str(count_paths(root, 11)))"
   ]
  },
  {
   "cell_type": "code",
   "execution_count": null,
   "id": "3ae456cd",
   "metadata": {},
   "outputs": [],
   "source": []
  }
 ],
 "metadata": {
  "kernelspec": {
   "display_name": "Python 3",
   "language": "python",
   "name": "python3"
  },
  "language_info": {
   "codemirror_mode": {
    "name": "ipython",
    "version": 3
   },
   "file_extension": ".py",
   "mimetype": "text/x-python",
   "name": "python",
   "nbconvert_exporter": "python",
   "pygments_lexer": "ipython3",
   "version": "3.9.5"
  }
 },
 "nbformat": 4,
 "nbformat_minor": 5
}
