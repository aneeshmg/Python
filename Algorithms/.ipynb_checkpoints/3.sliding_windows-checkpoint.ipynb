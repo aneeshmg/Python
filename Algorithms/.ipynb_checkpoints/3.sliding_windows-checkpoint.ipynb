{
 "cells": [
  {
   "cell_type": "markdown",
   "id": "42ec680f",
   "metadata": {},
   "source": [
    "# Sliding windows"
   ]
  },
  {
   "cell_type": "code",
   "execution_count": 1,
   "id": "c9b6e506",
   "metadata": {},
   "outputs": [],
   "source": [
    "temp = [9, 1, 8, 2, 7, 3, 6, 4, 5]"
   ]
  },
  {
   "cell_type": "markdown",
   "id": "a01e1137",
   "metadata": {},
   "source": [
    "Given k, to find the max sum of sub arrays of size k,\n",
    "the brute force approach would be to loop over i to k for i in range length of array - k + 1\n",
    "\n",
    "That implies, we would be repeating the summing k times, making the complexity n * k\n",
    "\n",
    "To optimize that, instead of summing k times, we can maintain the sum by repeatedly moving the window of size k, by subtracting i-1 and adding i+k\n"
   ]
  },
  {
   "cell_type": "code",
   "execution_count": 13,
   "id": "47d301e6",
   "metadata": {},
   "outputs": [],
   "source": [
    "def find_max_subarray(nums, k):\n",
    "    m = sum(nums[0:k])\n",
    "    m_t = m\n",
    "    \n",
    "    for i in range(len(nums) - k - 1):\n",
    "        m_t = m_t - nums[i] + nums[i+k+1]\n",
    "        m = max(m, m_t)\n",
    "        \n",
    "    return m"
   ]
  },
  {
   "cell_type": "code",
   "execution_count": 16,
   "id": "db20acd7",
   "metadata": {},
   "outputs": [
    {
     "name": "stdout",
     "output_type": "stream",
     "text": [
      "18\n",
      "10\n",
      "20\n"
     ]
    }
   ],
   "source": [
    "print (find_max_subarray(temp, 3))\n",
    "print (find_max_subarray(temp, 2))\n",
    "print (find_max_subarray(temp, 4))\n"
   ]
  },
  {
   "cell_type": "code",
   "execution_count": 20,
   "id": "888ad64c",
   "metadata": {},
   "outputs": [],
   "source": [
    "temp = [2, 1, 5, 2, 3, 2]"
   ]
  },
  {
   "cell_type": "code",
   "execution_count": 19,
   "id": "d453d70c",
   "metadata": {},
   "outputs": [],
   "source": [
    "def smallest_subarray_given_sum(nums, S):\n",
    "    # grow the array from the right, shrink from the left\n",
    "    \n",
    "    res = float('inf')\n",
    "    temp_sum = 0\n",
    "    i = 0\n",
    "    \n",
    "    for j in range(len(nums)):\n",
    "        temp_sum += nums[j]\n",
    "        \n",
    "        while temp_sum >= S:\n",
    "            # need to shrink the window now\n",
    "            res = min(res, j - i + 1)\n",
    "            temp_sum -= nums[i]\n",
    "            i += 1\n",
    "            \n",
    "    if res == float('inf'):\n",
    "        return 0\n",
    "    \n",
    "    return res"
   ]
  },
  {
   "cell_type": "code",
   "execution_count": 21,
   "id": "986fa30e",
   "metadata": {},
   "outputs": [
    {
     "name": "stdout",
     "output_type": "stream",
     "text": [
      "2\n"
     ]
    }
   ],
   "source": [
    "print (smallest_subarray_given_sum(temp, 7))"
   ]
  },
  {
   "cell_type": "markdown",
   "id": "2017ab1f",
   "metadata": {},
   "source": [
    "#### Longest Substring with K Distinct Characters (medium)"
   ]
  },
  {
   "cell_type": "code",
   "execution_count": 22,
   "id": "c73c6ca5",
   "metadata": {},
   "outputs": [],
   "source": [
    "# use hashmap to keep track of number of distinct chars (size of hashmap length basically), grow window till the \n",
    "# number of distinct chars exceeds k, then shrink window while updating the max size of window thusfar\n",
    "\n",
    "def longest_substring_with_k_distinct(S, k):\n",
    "    window_start = 0\n",
    "    max_length = 0\n",
    "    hashmap = {}\n",
    "    \n",
    "    for i in range(len(S)):\n",
    "        right_char = S[i]\n",
    "        if right_char not in hashmap:\n",
    "            hashmap[right_char] = 0\n",
    "        hashmap[right_char] += 1\n",
    "        \n",
    "        # the shrinking part, condition to check distinct k\n",
    "        while len(hashmap) > k:\n",
    "            left_char = S[window_start]\n",
    "            hashmap[left_char] -= 1\n",
    "            if hashmap[left_char] == 0:\n",
    "                del hashmap[left_char]\n",
    "            window_start += 1\n",
    "        \n",
    "        max_length = max(max_length, i - window_start + 1)\n",
    "    \n",
    "    return max_length"
   ]
  },
  {
   "cell_type": "code",
   "execution_count": 23,
   "id": "f1f0131f",
   "metadata": {},
   "outputs": [
    {
     "name": "stdout",
     "output_type": "stream",
     "text": [
      "4\n",
      "2\n"
     ]
    }
   ],
   "source": [
    "print (longest_substring_with_k_distinct(\"araaci\", 2))\n",
    "print (longest_substring_with_k_distinct(\"araaci\", 1))"
   ]
  },
  {
   "cell_type": "markdown",
   "id": "1c7958e4",
   "metadata": {},
   "source": [
    "#### Fruits into Baskets (medium)"
   ]
  },
  {
   "cell_type": "markdown",
   "id": "5300bee1",
   "metadata": {},
   "source": [
    "Given 2 baskets and a bunch of fruits in an array, find the max number of fruits you can collect, one type of fruit per basket"
   ]
  },
  {
   "cell_type": "code",
   "execution_count": 24,
   "id": "2b52fa79",
   "metadata": {},
   "outputs": [],
   "source": [
    "# basically identical to longest_substring_with_k_distinct, with k=2\n",
    "def fruits_into_baskets(fruits):\n",
    "    return longest_substring_with_k_distinct(fruits, 2)"
   ]
  },
  {
   "cell_type": "code",
   "execution_count": 25,
   "id": "9a77d122",
   "metadata": {},
   "outputs": [
    {
     "name": "stdout",
     "output_type": "stream",
     "text": [
      "3\n",
      "5\n"
     ]
    }
   ],
   "source": [
    "print (fruits_into_baskets(['A', 'B', 'C', 'A', 'C']))\n",
    "print (fruits_into_baskets(['A', 'B', 'C', 'B', 'B', 'C']))"
   ]
  },
  {
   "cell_type": "markdown",
   "id": "4f12c4b4",
   "metadata": {},
   "source": [
    "#### Longest Substring with Distinct Characters (hard)"
   ]
  },
  {
   "cell_type": "markdown",
   "id": "fc958692",
   "metadata": {},
   "source": [
    "Given a string, find the length of the longest substring, which has all distinct characters."
   ]
  },
  {
   "cell_type": "code",
   "execution_count": 26,
   "id": "9966a341",
   "metadata": {},
   "outputs": [],
   "source": [
    "def longest_substring_with_dist_chars(str1):\n",
    "    left, length = 0, 0\n",
    "    hashmap = {}\n",
    "    \n",
    "    for right in range(len(str1)):\n",
    "        \n",
    "        right_char = str1[right]\n",
    "        \n",
    "        # duplicate found, move window start to current right\n",
    "        if right_char in hashmap:\n",
    "            left = max(left, hashmap[right_char] + 1)\n",
    "            \n",
    "        # update the map\n",
    "        hashmap[right_char] = right\n",
    "        \n",
    "        # compute the max length, as that is what we need ultimately\n",
    "        length = max(length, right - left + 1)\n",
    "        \n",
    "    return length"
   ]
  },
  {
   "cell_type": "code",
   "execution_count": 28,
   "id": "1dfc454a",
   "metadata": {},
   "outputs": [
    {
     "name": "stdout",
     "output_type": "stream",
     "text": [
      "3\n",
      "5\n"
     ]
    }
   ],
   "source": [
    "print (longest_substring_with_dist_chars(\"aabcbbcc\"))\n",
    "print (longest_substring_with_dist_chars(\"abcabccxyzax\"))"
   ]
  },
  {
   "cell_type": "code",
   "execution_count": null,
   "id": "6f8084f8",
   "metadata": {},
   "outputs": [],
   "source": []
  }
 ],
 "metadata": {
  "kernelspec": {
   "display_name": "Python 3",
   "language": "python",
   "name": "python3"
  },
  "language_info": {
   "codemirror_mode": {
    "name": "ipython",
    "version": 3
   },
   "file_extension": ".py",
   "mimetype": "text/x-python",
   "name": "python",
   "nbconvert_exporter": "python",
   "pygments_lexer": "ipython3",
   "version": "3.9.5"
  }
 },
 "nbformat": 4,
 "nbformat_minor": 5
}
