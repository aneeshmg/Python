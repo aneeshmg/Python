{
 "cells": [
  {
   "cell_type": "markdown",
   "id": "2437b486",
   "metadata": {},
   "source": [
    "### Slow and fast pointers"
   ]
  },
  {
   "cell_type": "markdown",
   "id": "8290df81",
   "metadata": {},
   "source": [
    "Very similar to the two pointer approach, except in this case we move one pointer faster than the other every iteration"
   ]
  },
  {
   "cell_type": "code",
   "execution_count": 1,
   "id": "acb4d564",
   "metadata": {},
   "outputs": [],
   "source": [
    "class Node:\n",
    "    def __init__(self, value, next = None):\n",
    "        self.value = value\n",
    "        self.next = next"
   ]
  },
  {
   "cell_type": "markdown",
   "id": "d81eb3bc",
   "metadata": {},
   "source": [
    "#### Loop detection in linked list"
   ]
  },
  {
   "cell_type": "code",
   "execution_count": 2,
   "id": "819e19fa",
   "metadata": {},
   "outputs": [],
   "source": [
    "temp = Node(1)\n",
    "temp.next = Node(2)\n",
    "temp.next.next = Node(3)\n",
    "temp.next.next.next = Node(4)\n",
    "temp.next.next.next.next = Node(5)\n",
    "temp.next.next.next.next.next = Node(6)"
   ]
  },
  {
   "cell_type": "code",
   "execution_count": 3,
   "id": "df7f0878",
   "metadata": {},
   "outputs": [],
   "source": [
    "def detect_loop(head):\n",
    "    slow, fast = head, head\n",
    "    \n",
    "    while fast is not None and fast.next is not None: # dont do stupid things like slow == fast check here\n",
    "        slow = slow.next\n",
    "        fast = fast.next.next\n",
    "        \n",
    "        if fast == slow:\n",
    "            return True # to find loop length, instead of returning true here, compute slow->slow length ie \"go around the loop\"\n",
    "                        # This will NOT be the start of the loop\n",
    "        \n",
    "    return False"
   ]
  },
  {
   "cell_type": "code",
   "execution_count": 5,
   "id": "91cbf426",
   "metadata": {},
   "outputs": [
    {
     "name": "stdout",
     "output_type": "stream",
     "text": [
      "False\n",
      "True\n"
     ]
    }
   ],
   "source": [
    "print (detect_loop(temp))\n",
    "\n",
    "# introduce a loop\n",
    "temp.next.next.next.next.next = temp.next.next\n",
    "\n",
    "print (detect_loop(temp))"
   ]
  },
  {
   "cell_type": "markdown",
   "id": "0f83a8af",
   "metadata": {},
   "source": [
    "#### Find start of the loop"
   ]
  },
  {
   "cell_type": "code",
   "execution_count": 6,
   "id": "805520ff",
   "metadata": {},
   "outputs": [],
   "source": [
    "temp = Node(1)\n",
    "temp.next = Node(2)\n",
    "temp.next.next = Node(3)\n",
    "temp.next.next.next = Node(4)\n",
    "temp.next.next.next.next = Node(5)\n",
    "temp.next.next.next.next.next = Node(6)\n",
    "# Create loop\n",
    "temp.next.next.next.next.next = temp.next.next"
   ]
  },
  {
   "cell_type": "code",
   "execution_count": 7,
   "id": "a9c032ba",
   "metadata": {},
   "outputs": [],
   "source": [
    "# fairly simple too, find the place where fast and slow pointers meet, then run both slow till they meet again\n",
    "\n",
    "def find_start_of_loop(head):\n",
    "    slow, fast = head, head\n",
    "    \n",
    "    while fast is not None and fast.next is not None:\n",
    "        slow = slow.next\n",
    "        fast = fast.next.next\n",
    "        \n",
    "        if fast == slow:\n",
    "            break\n",
    "    \n",
    "    slow = head\n",
    "    while slow != fast:\n",
    "        slow = slow.next\n",
    "        fast = fast.next\n",
    "        if slow == fast:\n",
    "            return slow"
   ]
  },
  {
   "cell_type": "code",
   "execution_count": 10,
   "id": "8435cf82",
   "metadata": {},
   "outputs": [
    {
     "name": "stdout",
     "output_type": "stream",
     "text": [
      "3\n",
      "3\n"
     ]
    }
   ],
   "source": [
    "print (find_start_of_loop(temp).value)\n",
    "print (temp.next.next.value)"
   ]
  },
  {
   "cell_type": "markdown",
   "id": "8d50bbe0",
   "metadata": {},
   "source": [
    "#### Happy number"
   ]
  },
  {
   "cell_type": "markdown",
   "id": "58528024",
   "metadata": {},
   "source": [
    "Number is happy if squaring the digits and adding will eventually yield 1\n",
    "Ex: 23 = 4+9 = 13 = 1+9 = 10 = 1+0 = 1"
   ]
  },
  {
   "cell_type": "code",
   "execution_count": 11,
   "id": "667c1142",
   "metadata": {},
   "outputs": [],
   "source": [
    "temp = 23"
   ]
  },
  {
   "cell_type": "code",
   "execution_count": 14,
   "id": "99bb849f",
   "metadata": {},
   "outputs": [],
   "source": [
    "# if a number is NOT happy, it will result in cycles that repeats itself\n",
    "# if the list winds up on 1 return true. else it will wind up cyclical and in that case detect the loop and return false\n",
    "\n",
    "def happy_number(num):\n",
    "    slow, fast = num, num\n",
    "    while True:\n",
    "        slow = find_square_sum(slow)  # move one step\n",
    "        fast = find_square_sum(find_square_sum(fast))  # move two steps\n",
    "        \n",
    "        if slow == fast:  # found the cycle\n",
    "            break\n",
    "            \n",
    "    return slow == 1  # see if the cycle is stuck on the number '1'\n",
    "\n",
    "\n",
    "def find_square_sum(num):\n",
    "    _sum = 0\n",
    "    \n",
    "    while (num > 0):\n",
    "        digit = num % 10\n",
    "        _sum += digit * digit\n",
    "        num //= 10\n",
    "        \n",
    "    return _sum"
   ]
  },
  {
   "cell_type": "code",
   "execution_count": 15,
   "id": "18af7b85",
   "metadata": {},
   "outputs": [
    {
     "name": "stdout",
     "output_type": "stream",
     "text": [
      "True\n"
     ]
    }
   ],
   "source": [
    "print (happy_number(temp))"
   ]
  },
  {
   "cell_type": "markdown",
   "id": "e8a445e1",
   "metadata": {},
   "source": [
    "TC will be O(logN)"
   ]
  },
  {
   "cell_type": "markdown",
   "id": "4255848b",
   "metadata": {},
   "source": [
    "#### Find middle of list"
   ]
  },
  {
   "cell_type": "code",
   "execution_count": 17,
   "id": "254a27dd",
   "metadata": {},
   "outputs": [],
   "source": [
    "temp = Node(1)\n",
    "temp.next = Node(2)\n",
    "temp.next.next = Node(3)\n",
    "temp.next.next.next = Node(4)\n",
    "temp.next.next.next.next = Node(5)\n",
    "temp.next.next.next.next.next = Node(6)\n",
    "temp.next.next.next.next.next.next = Node(7)"
   ]
  },
  {
   "cell_type": "code",
   "execution_count": 20,
   "id": "4bf1a6de",
   "metadata": {},
   "outputs": [],
   "source": [
    "# fairly simple, two pointers, one fast and one slow. slow will be at middle when fast reaches the end\n",
    "\n",
    "def middle_of_list(head):\n",
    "    slow, fast = head, head\n",
    "    \n",
    "    while fast is not None and fast.next is not None:\n",
    "        slow = slow.next\n",
    "        fast = fast.next.next # alternatively fast = slow.next ,as slow has already moved one step\n",
    "        \n",
    "        if fast.next is None:\n",
    "            return slow\n",
    "        \n",
    "    return -1\n"
   ]
  },
  {
   "cell_type": "code",
   "execution_count": 22,
   "id": "2c2b567a",
   "metadata": {},
   "outputs": [
    {
     "name": "stdout",
     "output_type": "stream",
     "text": [
      "4\n"
     ]
    }
   ],
   "source": [
    "print (middle_of_list(temp).value)"
   ]
  },
  {
   "cell_type": "code",
   "execution_count": null,
   "id": "5cc3963f",
   "metadata": {},
   "outputs": [],
   "source": []
  }
 ],
 "metadata": {
  "kernelspec": {
   "display_name": "Python 3",
   "language": "python",
   "name": "python3"
  },
  "language_info": {
   "codemirror_mode": {
    "name": "ipython",
    "version": 3
   },
   "file_extension": ".py",
   "mimetype": "text/x-python",
   "name": "python",
   "nbconvert_exporter": "python",
   "pygments_lexer": "ipython3",
   "version": "3.9.5"
  }
 },
 "nbformat": 4,
 "nbformat_minor": 5
}
