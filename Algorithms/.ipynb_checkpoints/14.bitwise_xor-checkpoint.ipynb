{
 "cells": [
  {
   "cell_type": "markdown",
   "id": "bbd28284",
   "metadata": {},
   "source": [
    "### Bitwise XORing"
   ]
  },
  {
   "cell_type": "markdown",
   "id": "68d689ea",
   "metadata": {},
   "source": [
    "#### Single number\n",
    "Every number appears twice, except one, find it"
   ]
  },
  {
   "cell_type": "code",
   "execution_count": 1,
   "id": "a2396ca2",
   "metadata": {},
   "outputs": [],
   "source": [
    "# XOR the whole list, result will be the single number\n",
    "# 1 ^ 1 = 0 ie all same numbers will XOR out to 0 and 0^single_num will yield the single_num\n",
    "\n",
    "def find_single_number(arr):\n",
    "    num = 0\n",
    "    \n",
    "    for i in arr:\n",
    "        num ^= i\n",
    "\n",
    "    return num"
   ]
  },
  {
   "cell_type": "code",
   "execution_count": 2,
   "id": "a818574b",
   "metadata": {},
   "outputs": [
    {
     "name": "stdout",
     "output_type": "stream",
     "text": [
      "4\n"
     ]
    }
   ],
   "source": [
    "print(find_single_number([1, 4, 2, 1, 3, 2, 3]))"
   ]
  },
  {
   "cell_type": "markdown",
   "id": "68706762",
   "metadata": {},
   "source": [
    "#### TWO single numbers\n",
    "Similar to the above question except here there are two instead of one"
   ]
  },
  {
   "cell_type": "code",
   "execution_count": 4,
   "id": "cde4ce0b",
   "metadata": {},
   "outputs": [],
   "source": [
    "# a bit tricky,  interesting logic\n",
    "\n",
    "def find_single_numbers(nums):\n",
    "    # get the XOR of the all the numbers\n",
    "    n1xn2 = 0\n",
    "    for num in nums:\n",
    "        n1xn2 ^= num\n",
    "\n",
    "    # get the rightmost bit that is '1'\n",
    "    rightmost_set_bit = 1\n",
    "    while (rightmost_set_bit & n1xn2) == 0:\n",
    "        rightmost_set_bit = rightmost_set_bit << 1\n",
    "    num1, num2 = 0, 0\n",
    "\n",
    "    for num in nums:\n",
    "        if (num & rightmost_set_bit) != 0:  # the bit is set\n",
    "            num1 ^= num\n",
    "        else:  # the bit is not set\n",
    "            num2 ^= num\n",
    "\n",
    "    return [num1, num2]"
   ]
  },
  {
   "cell_type": "code",
   "execution_count": 7,
   "id": "d2ba098b",
   "metadata": {},
   "outputs": [
    {
     "name": "stdout",
     "output_type": "stream",
     "text": [
      "[3, 2]\n"
     ]
    }
   ],
   "source": [
    "print (find_single_numbers([1, 1, 2, 3, 4, 5, 5, 4]))"
   ]
  },
  {
   "cell_type": "markdown",
   "id": "87ec5cfd",
   "metadata": {},
   "source": [
    "#### Complement of base-10 number"
   ]
  },
  {
   "cell_type": "code",
   "execution_count": 9,
   "id": "f61790d9",
   "metadata": {},
   "outputs": [],
   "source": [
    "# \n",
    "\n",
    "def calculate_bitwise_complement(num):\n",
    "    # count number of total bits in 'num'\n",
    "    bit_count, n = 0, num\n",
    "    \n",
    "    while n > 0:\n",
    "        bit_count += 1\n",
    "        n = n >> 1\n",
    "\n",
    "    # for a number which is a complete power of '2' i.e., it can be written as pow(2, n), \n",
    "    # if we subtract '1' from such a number, we get a number which has 'n' least \n",
    "    # significant bits set to '1'. For example, '4' which is a complete power of '2', and \n",
    "    # '3' (which is one less than 4) has a binary representation of '11' i.e., it has '2' \n",
    "    # least significant bits set to '1'\n",
    "    all_bits_set = pow(2, bit_count) - 1\n",
    "\n",
    "    # from the solution description: complement = number ^ all_bits_set\n",
    "    return num ^ all_bits_set"
   ]
  },
  {
   "cell_type": "code",
   "execution_count": 10,
   "id": "2eb0a232",
   "metadata": {},
   "outputs": [
    {
     "name": "stdout",
     "output_type": "stream",
     "text": [
      "5\n"
     ]
    }
   ],
   "source": [
    "print (calculate_bitwise_complement(10))"
   ]
  },
  {
   "cell_type": "code",
   "execution_count": null,
   "id": "b7904213",
   "metadata": {},
   "outputs": [],
   "source": []
  }
 ],
 "metadata": {
  "kernelspec": {
   "display_name": "Python 3",
   "language": "python",
   "name": "python3"
  },
  "language_info": {
   "codemirror_mode": {
    "name": "ipython",
    "version": 3
   },
   "file_extension": ".py",
   "mimetype": "text/x-python",
   "name": "python",
   "nbconvert_exporter": "python",
   "pygments_lexer": "ipython3",
   "version": "3.9.5"
  }
 },
 "nbformat": 4,
 "nbformat_minor": 5
}
