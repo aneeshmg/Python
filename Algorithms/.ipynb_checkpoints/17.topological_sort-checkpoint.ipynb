{
 "cells": [
  {
   "cell_type": "markdown",
   "id": "35b9d443",
   "metadata": {},
   "source": [
    "### Topological sort"
   ]
  },
  {
   "cell_type": "markdown",
   "id": "7b9bb3aa",
   "metadata": {},
   "source": [
    "#### Topological sort\n",
    "Given vertices and edges, find the topological sort order"
   ]
  },
  {
   "cell_type": "code",
   "execution_count": 1,
   "id": "6c119703",
   "metadata": {},
   "outputs": [],
   "source": [
    "# \n",
    "\n",
    "from collections import deque\n",
    "\n",
    "\n",
    "def topological_sort(vertices, edges):\n",
    "    sortedOrder = []\n",
    "    if vertices <= 0:\n",
    "        return sortedOrder\n",
    "\n",
    "    # a. Initialize the graph\n",
    "    inDegree = {i: 0 for i in range(vertices)}  # count of incoming edges\n",
    "    graph = {i: [] for i in range(vertices)}  # adjacency list graph\n",
    "\n",
    "    # b. Build the graph\n",
    "    for edge in edges:\n",
    "        parent, child = edge[0], edge[1]\n",
    "        graph[parent].append(child)  # put the child into it's parent's list\n",
    "        inDegree[child] += 1  # increment child's inDegree\n",
    "\n",
    "    # c. Find all sources i.e., all vertices with 0 in-degrees\n",
    "    sources = deque()\n",
    "    for key in inDegree:\n",
    "        if inDegree[key] == 0:\n",
    "            sources.append(key)\n",
    "\n",
    "    # d. For each source, add it to the sortedOrder and subtract '1' from all of its \n",
    "    # children's in-degrees if a child's in-degree becomes zero, add it to sources queue\n",
    "    while sources:\n",
    "        vertex = sources.popleft()\n",
    "        sortedOrder.append(vertex)\n",
    "        for child in graph[vertex]:  # get the node's children to decrement their in-degrees\n",
    "            inDegree[child] -= 1\n",
    "            if inDegree[child] == 0:\n",
    "                sources.append(child)\n",
    "\n",
    "    # topological sort is not possible as the graph has a cycle\n",
    "    if len(sortedOrder) != vertices:\n",
    "        return []\n",
    "\n",
    "    return sortedOrder"
   ]
  },
  {
   "cell_type": "code",
   "execution_count": 2,
   "id": "9f01506a",
   "metadata": {},
   "outputs": [
    {
     "name": "stdout",
     "output_type": "stream",
     "text": [
      "[3, 2, 0, 1]\n"
     ]
    }
   ],
   "source": [
    "print (topological_sort(4, [[3, 2], [3, 0], [2, 0], [2, 1]]))"
   ]
  },
  {
   "cell_type": "markdown",
   "id": "4f086e9d",
   "metadata": {},
   "source": [
    "#### Task scheduling\n",
    "given a list of requirements in the form [0, 1][1, 2] => 0 needs to be done before 1 & 1 needs to be done before 2\n",
    "return true if a schedule is possible (or in other words a topo sort exists)\n",
    "(If asked to return the order, return the sortedOrder)"
   ]
  },
  {
   "cell_type": "code",
   "execution_count": 4,
   "id": "4e46ad34",
   "metadata": {},
   "outputs": [],
   "source": [
    "from collections import deque\n",
    "\n",
    "\n",
    "def is_scheduling_possible(tasks, prerequisites):\n",
    "    sortedOrder = []\n",
    "    if tasks <= 0:\n",
    "        return False\n",
    "\n",
    "    # a. Initialize the graph\n",
    "    inDegree = {i: 0 for i in range(tasks)}  # count of incoming edges\n",
    "    graph = {i: [] for i in range(tasks)}  # adjacency list graph\n",
    "\n",
    "    # b. Build the graph\n",
    "    for prerequisite in prerequisites:\n",
    "        parent, child = prerequisite[0], prerequisite[1]\n",
    "        graph[parent].append(child)  # put the child into it's parent's list\n",
    "        inDegree[child] += 1  # increment child's inDegree\n",
    "\n",
    "    # c. Find all sources i.e., all vertices with 0 in-degrees\n",
    "    sources = deque()\n",
    "    for key in inDegree:\n",
    "        if inDegree[key] == 0:\n",
    "            sources.append(key)\n",
    "\n",
    "    # d. For each source, add it to the sortedOrder and subtract one from all of its \n",
    "    # children's in-degrees if a child's in-degree becomes zero, add it to sources queue\n",
    "    while sources:\n",
    "        vertex = sources.popleft()\n",
    "        sortedOrder.append(vertex)\n",
    "        for child in graph[vertex]:  # get the node's children to decrement their in-degrees\n",
    "            inDegree[child] -= 1\n",
    "            if inDegree[child] == 0:\n",
    "                sources.append(child)\n",
    "\n",
    "    # if sortedOrder doesn't contain all tasks, there is a cyclic dependency between \n",
    "    # tasks, therefore, we will not be able to schedule all tasks\n",
    "    return len(sortedOrder) == tasks"
   ]
  },
  {
   "cell_type": "code",
   "execution_count": 5,
   "id": "96c5d1f9",
   "metadata": {},
   "outputs": [
    {
     "name": "stdout",
     "output_type": "stream",
     "text": [
      "False\n"
     ]
    }
   ],
   "source": [
    "print (is_scheduling_possible(3, [[0, 1], [1, 2], [2, 0]]))"
   ]
  },
  {
   "cell_type": "markdown",
   "id": "27fa5cb4",
   "metadata": {},
   "source": [
    "#### Return all possible schedules"
   ]
  },
  {
   "cell_type": "code",
   "execution_count": 7,
   "id": "f06b3f96",
   "metadata": {},
   "outputs": [],
   "source": [
    "# need understanding of backtracking pattern for this (think of N-queens or sudoku)\n",
    "\n",
    "from collections import deque\n",
    "\n",
    "\n",
    "def print_orders(tasks, prerequisites):\n",
    "    sortedOrder = []\n",
    "    if tasks <= 0:\n",
    "        return False\n",
    "\n",
    "    # a. Initialize the graph\n",
    "    inDegree = {i: 0 for i in range(tasks)}  # count of incoming edges\n",
    "    graph = {i: [] for i in range(tasks)}  # adjacency list graph\n",
    "\n",
    "    # b. Build the graph\n",
    "    for prerequisite in prerequisites:\n",
    "        parent, child = prerequisite[0], prerequisite[1]\n",
    "        graph[parent].append(child)  # put the child into it's parent's list\n",
    "        inDegree[child] += 1  # increment child's inDegree\n",
    "\n",
    "    # c. Find all sources i.e., all vertices with 0 in-degrees\n",
    "    sources = deque()\n",
    "    for key in inDegree:\n",
    "        if inDegree[key] == 0:\n",
    "            sources.append(key)\n",
    "\n",
    "    print_all_topological_sorts(graph, inDegree, sources, sortedOrder)\n",
    "\n",
    "\n",
    "def print_all_topological_sorts(graph, inDegree, sources, sortedOrder):\n",
    "    if sources:\n",
    "        for vertex in sources:\n",
    "            sortedOrder.append(vertex)\n",
    "            sourcesForNextCall = deque(sources)  # make a copy of sources\n",
    "            # only remove the current source, all other sources should remain in the queue for\n",
    "            # the next call\n",
    "            sourcesForNextCall.remove(vertex)\n",
    "            # get the node's children to decrement their in-degrees\n",
    "            for child in graph[vertex]:\n",
    "                inDegree[child] -= 1\n",
    "                if inDegree[child] == 0:\n",
    "                    sourcesForNextCall.append(child)\n",
    "\n",
    "            # recursive call to print other orderings from the remaining (and new) sources\n",
    "            print_all_topological_sorts(graph, inDegree, sourcesForNextCall, sortedOrder)\n",
    "\n",
    "            # backtrack, remove the vertex from the sorted order and put all of its children \n",
    "            # back to consider the next source instead of the current vertex\n",
    "            sortedOrder.remove(vertex)\n",
    "            for child in graph[vertex]:\n",
    "                inDegree[child] += 1\n",
    "\n",
    "    # if sortedOrder doesn't contain all tasks, either we've a cyclic dependency between \n",
    "    # tasks, or we have not processed all the tasks in this recursive call\n",
    "    if len(sortedOrder) == len(inDegree):\n",
    "        print(sortedOrder)"
   ]
  },
  {
   "cell_type": "code",
   "execution_count": 9,
   "id": "482e2650",
   "metadata": {},
   "outputs": [
    {
     "name": "stdout",
     "output_type": "stream",
     "text": [
      "[0, 1, 2]\n",
      "[3, 2, 0, 1]\n",
      "[3, 2, 1, 0]\n"
     ]
    }
   ],
   "source": [
    "print_orders(3, [[0, 1], [1, 2]])\n",
    "\n",
    "print_orders(4, [[3, 2], [3, 0], [2, 0], [2, 1]])"
   ]
  },
  {
   "cell_type": "markdown",
   "id": "a2f4c80b",
   "metadata": {},
   "source": [
    "#### Alien dictionary\n",
    "Need to use lexicographic ordering from the input\n",
    "Solution is to first build the graph from the input, then find the topo sort"
   ]
  },
  {
   "cell_type": "code",
   "execution_count": 12,
   "id": "b41b5dd3",
   "metadata": {},
   "outputs": [],
   "source": [
    "from collections import deque\n",
    "\n",
    "\n",
    "def find_order(words):\n",
    "    if len(words) == 0:\n",
    "        return \"\"\n",
    "\n",
    "    # a. Initialize the graph\n",
    "    inDegree = {}  # count of incoming edges\n",
    "    graph = {}  # adjacency list graph\n",
    "    for word in words:\n",
    "        for character in word:\n",
    "            inDegree[character] = 0\n",
    "            graph[character] = []\n",
    "\n",
    "    # b. Build the graph\n",
    "    for i in range(0, len(words)-1):\n",
    "        # find ordering of characters from adjacent words\n",
    "        w1, w2 = words[i], words[i + 1]\n",
    "        for j in range(0, min(len(w1), len(w2))):\n",
    "            parent, child = w1[j], w2[j]\n",
    "            if parent != child:  # if the two characters are different\n",
    "                # put the child into it's parent's list\n",
    "                graph[parent].append(child)\n",
    "                inDegree[child] += 1  # increment child's inDegree\n",
    "                break   # only the first different character between the two words will help us \n",
    "                        # find the order\n",
    "\n",
    "    # c. Find all sources i.e., all vertices with 0 in-degrees\n",
    "    sources = deque()\n",
    "    for key in inDegree:\n",
    "        if inDegree[key] == 0:\n",
    "            sources.append(key)\n",
    "\n",
    "    # d. For each source, add it to the sortedOrder and subtract one from all of its \n",
    "    # children's in-degrees if a child's in-degree becomes zero, add it to sources queue\n",
    "    sortedOrder = []\n",
    "    while sources:\n",
    "        vertex = sources.popleft()\n",
    "        sortedOrder.append(vertex)\n",
    "        for child in graph[vertex]:  # get the node's children to decrement their in-degrees\n",
    "            inDegree[child] -= 1\n",
    "            if inDegree[child] == 0:\n",
    "                sources.append(child)\n",
    "\n",
    "    # if sortedOrder doesn't contain all characters, there is a cyclic dependency between \n",
    "    # characters, therefore, we'll not be able to find the correct ordering of characters\n",
    "    if len(sortedOrder) != len(inDegree):\n",
    "        return \"\"\n",
    "\n",
    "    return ''.join(sortedOrder)"
   ]
  },
  {
   "cell_type": "code",
   "execution_count": 13,
   "id": "0c154de4",
   "metadata": {},
   "outputs": [
    {
     "name": "stdout",
     "output_type": "stream",
     "text": [
      "bac\n"
     ]
    }
   ],
   "source": [
    "print (find_order([\"ba\", \"bc\", \"ac\", \"cab\"]))"
   ]
  },
  {
   "cell_type": "code",
   "execution_count": null,
   "id": "3639f18c",
   "metadata": {},
   "outputs": [],
   "source": []
  }
 ],
 "metadata": {
  "kernelspec": {
   "display_name": "Python 3",
   "language": "python",
   "name": "python3"
  },
  "language_info": {
   "codemirror_mode": {
    "name": "ipython",
    "version": 3
   },
   "file_extension": ".py",
   "mimetype": "text/x-python",
   "name": "python",
   "nbconvert_exporter": "python",
   "pygments_lexer": "ipython3",
   "version": "3.9.5"
  }
 },
 "nbformat": 4,
 "nbformat_minor": 5
}
