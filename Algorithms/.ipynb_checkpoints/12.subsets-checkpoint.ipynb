{
 "cells": [
  {
   "cell_type": "markdown",
   "id": "03c0f5b6",
   "metadata": {},
   "source": [
    "### Subsets\n",
    "Permutation, combination and effecient BFS"
   ]
  },
  {
   "cell_type": "markdown",
   "id": "923ca640",
   "metadata": {},
   "source": [
    "#### Subsets\n",
    "Given a set, find all its subsets"
   ]
  },
  {
   "cell_type": "code",
   "execution_count": 1,
   "id": "dfb0340b",
   "metadata": {},
   "outputs": [],
   "source": [
    "# Fairly straight forward...start with empty set, at each stage, add one element from list to every element in the res\n",
    "\n",
    "def find_subsets(nums):\n",
    "    subsets = []\n",
    "    # start by adding the empty subset\n",
    "    subsets.append([])\n",
    "    for currentNumber in nums:\n",
    "        # we will take all existing subsets and insert the current number in them to create \n",
    "        # new subsets\n",
    "        n = len(subsets)\n",
    "        for i in range(n):\n",
    "            # create a new subset from the existing subset and insert the current element to it\n",
    "            set1 = list(subsets[i])\n",
    "            set1.append(currentNumber)\n",
    "            subsets.append(set1)\n",
    "\n",
    "    return subsets"
   ]
  },
  {
   "cell_type": "code",
   "execution_count": 2,
   "id": "2bc56c5c",
   "metadata": {},
   "outputs": [
    {
     "name": "stdout",
     "output_type": "stream",
     "text": [
      "Here is the list of subsets: [[], [1], [3], [1, 3]]\n",
      "Here is the list of subsets: [[], [1], [5], [1, 5], [3], [1, 3], [5, 3], [1, 5, 3]]\n"
     ]
    }
   ],
   "source": [
    "print(\"Here is the list of subsets: \" + str(find_subsets([1, 3])))\n",
    "print(\"Here is the list of subsets: \" + str(find_subsets([1, 5, 3])))"
   ]
  },
  {
   "cell_type": "markdown",
   "id": "3c52dac7",
   "metadata": {},
   "source": [
    "#### Subsets with duplicates\n",
    "Same as previous, except the input can contain duplicates"
   ]
  },
  {
   "cell_type": "code",
   "execution_count": 3,
   "id": "7928bf3f",
   "metadata": {},
   "outputs": [],
   "source": [
    "# Problem with having dupes in the input is that we get duplicate subsets, which is not desirable\n",
    "# To solve this, instead of adding the new element (from the loop) to every element in the res, add to only the new\n",
    "# items created in the previous step/stage\n",
    "\n",
    "def find_subsets(nums):\n",
    "    # sort the numbers to handle duplicates\n",
    "    list.sort(nums)\n",
    "    subsets = []\n",
    "    subsets.append([])\n",
    "    startIndex, endIndex = 0, 0\n",
    "    \n",
    "    for i in range(len(nums)):\n",
    "        startIndex = 0\n",
    "        # if current and the previous elements are same, create new subsets only from the \n",
    "        # subsets added in the previous step\n",
    "        if i > 0 and nums[i] == nums[i - 1]:\n",
    "            startIndex = endIndex + 1\n",
    "        endIndex = len(subsets) - 1\n",
    "        \n",
    "        for j in range(startIndex, endIndex+1):\n",
    "            # create a new subset from the existing subset and add the current element to it\n",
    "            set1 = list(subsets[j])\n",
    "            set1.append(nums[i])\n",
    "            subsets.append(set1)\n",
    "            \n",
    "    return subsets"
   ]
  },
  {
   "cell_type": "code",
   "execution_count": 4,
   "id": "92a83d0b",
   "metadata": {},
   "outputs": [
    {
     "name": "stdout",
     "output_type": "stream",
     "text": [
      "Here is the list of subsets: [[], [1], [3], [1, 3], [3, 3], [1, 3, 3]]\n",
      "Here is the list of subsets: [[], [1], [3], [1, 3], [3, 3], [1, 3, 3], [5], [1, 5], [3, 5], [1, 3, 5], [3, 3, 5], [1, 3, 3, 5]]\n"
     ]
    }
   ],
   "source": [
    "print(\"Here is the list of subsets: \" + str(find_subsets([1, 3, 3])))\n",
    "print(\"Here is the list of subsets: \" + str(find_subsets([1, 5, 3, 3])))"
   ]
  },
  {
   "cell_type": "markdown",
   "id": "2ecc2ed0",
   "metadata": {},
   "source": [
    "#### Permutations\n",
    "Given a list, find all its permutations"
   ]
  },
  {
   "cell_type": "code",
   "execution_count": 10,
   "id": "cd0073c9",
   "metadata": {},
   "outputs": [],
   "source": [
    "# Solution is similar to subsets, except in this case, we add the new num in the list to all 'positions' in the res candidate\n",
    "\n",
    "from collections import deque\n",
    "\n",
    "def find_permutations(nums):\n",
    "    numsLength = len(nums)\n",
    "    result = []\n",
    "    \n",
    "    permutations = deque()\n",
    "    permutations.append([])\n",
    "    \n",
    "    for currentNumber in nums:\n",
    "        # we will take all existing permutations and add the current number to create \n",
    "        # new permutations\n",
    "        n = len(permutations)\n",
    "        \n",
    "        for _ in range(n):\n",
    "            oldPermutation = permutations.popleft()\n",
    "            \n",
    "            # create a new permutation by adding the current number at every position\n",
    "            for j in range(len(oldPermutation)+1):\n",
    "                newPermutation = list(oldPermutation)\n",
    "                newPermutation.insert(j, currentNumber)\n",
    "                \n",
    "                if len(newPermutation) == numsLength:\n",
    "                    result.append(newPermutation)\n",
    "                else:\n",
    "                    permutations.append(newPermutation)\n",
    "\n",
    "    return result\n"
   ]
  },
  {
   "cell_type": "code",
   "execution_count": 11,
   "id": "5c9d628e",
   "metadata": {},
   "outputs": [
    {
     "name": "stdout",
     "output_type": "stream",
     "text": [
      "[[3, 2, 1], [2, 3, 1], [2, 1, 3], [3, 1, 2], [1, 3, 2], [1, 2, 3]]\n"
     ]
    }
   ],
   "source": [
    "print (find_permutations([1,2,3]))"
   ]
  },
  {
   "cell_type": "markdown",
   "id": "1c8a2742",
   "metadata": {},
   "source": [
    "#### String permutation\n",
    "a2b => [a2b, a2B, A2b, A2B]"
   ]
  },
  {
   "cell_type": "code",
   "execution_count": 12,
   "id": "ef4a2eb8",
   "metadata": {},
   "outputs": [],
   "source": [
    "# at each stage, pick one character and permute it\n",
    "\n",
    "def find_letter_case_string_permutations(str):\n",
    "    permutations = []\n",
    "    permutations.append(str)\n",
    "    \n",
    "    # process every character of the string one by one\n",
    "    for i in range(len(str)):\n",
    "        if str[i].isalpha():  # only process characters, skip digits\n",
    "            # we will take all existing permutations and change the letter case appropriately\n",
    "            n = len(permutations)\n",
    "            \n",
    "            for j in range(n):\n",
    "                chs = list(permutations[j])\n",
    "                # if the current char is in upper case, change it to lower case or vice versa\n",
    "                chs[i] = chs[i].swapcase()\n",
    "                permutations.append(''.join(chs))\n",
    "\n",
    "    return permutations"
   ]
  },
  {
   "cell_type": "code",
   "execution_count": 13,
   "id": "f08fb744",
   "metadata": {},
   "outputs": [
    {
     "name": "stdout",
     "output_type": "stream",
     "text": [
      "['a2b', 'A2b', 'a2B', 'A2B']\n"
     ]
    }
   ],
   "source": [
    "print (find_letter_case_string_permutations('a2b'))"
   ]
  },
  {
   "cell_type": "markdown",
   "id": "6b218651",
   "metadata": {},
   "source": [
    "#### Balanced paranthesis generation\n",
    "N = 2 => (()), ()()"
   ]
  },
  {
   "cell_type": "code",
   "execution_count": 24,
   "id": "6ca18f5a",
   "metadata": {},
   "outputs": [],
   "source": [
    "# \n",
    "\n",
    "from collections import deque\n",
    "\n",
    "\n",
    "class ParenthesesString:\n",
    "    def __init__(self, str, openCount, closeCount):\n",
    "        self.str = str\n",
    "        self.openCount = openCount\n",
    "        self.closeCount = closeCount\n",
    "        \n",
    "    def get_str(self):\n",
    "        return self.str\n",
    "\n",
    "\n",
    "def generate_valid_parentheses(num):\n",
    "    result = []\n",
    "    queue = deque()\n",
    "    queue.append(ParenthesesString(\"\", 0, 0))\n",
    "    \n",
    "    while queue:\n",
    "        ps = queue.popleft()\n",
    "        \n",
    "        # if we've reached the maximum number of open and close parentheses, add to result\n",
    "        if ps.openCount == num and ps.closeCount == num:\n",
    "            result.append(ps.str)\n",
    "        else:\n",
    "            if ps.openCount < num:  # if we can add an open parentheses, add it\n",
    "                queue.append(ParenthesesString(ps.str + \"(\", ps.openCount + 1, ps.closeCount))\n",
    "\n",
    "            if ps.openCount > ps.closeCount:  # if we can add a close parentheses, add it\n",
    "                queue.append(ParenthesesString(ps.str + \")\", ps.openCount, ps.closeCount + 1))\n",
    "         \n",
    "        # to see whats going on\n",
    "        for q in queue:\n",
    "            print (q.get_str())\n",
    "\n",
    "    return result"
   ]
  },
  {
   "cell_type": "code",
   "execution_count": 25,
   "id": "8c6d4f5c",
   "metadata": {},
   "outputs": [
    {
     "name": "stdout",
     "output_type": "stream",
     "text": [
      "(\n",
      "((\n",
      "()\n",
      "()\n",
      "(()\n",
      "(()\n",
      "()(\n",
      "()(\n",
      "(())\n",
      "(())\n",
      "()()\n",
      "()()\n",
      "['(())', '()()']\n"
     ]
    }
   ],
   "source": [
    "print (generate_valid_parentheses(2))"
   ]
  },
  {
   "cell_type": "markdown",
   "id": "443f7eca",
   "metadata": {},
   "source": [
    "#### String abbreviation LC320"
   ]
  },
  {
   "cell_type": "code",
   "execution_count": null,
   "id": "51db690c",
   "metadata": {},
   "outputs": [],
   "source": []
  }
 ],
 "metadata": {
  "kernelspec": {
   "display_name": "Python 3",
   "language": "python",
   "name": "python3"
  },
  "language_info": {
   "codemirror_mode": {
    "name": "ipython",
    "version": 3
   },
   "file_extension": ".py",
   "mimetype": "text/x-python",
   "name": "python",
   "nbconvert_exporter": "python",
   "pygments_lexer": "ipython3",
   "version": "3.9.5"
  }
 },
 "nbformat": 4,
 "nbformat_minor": 5
}
