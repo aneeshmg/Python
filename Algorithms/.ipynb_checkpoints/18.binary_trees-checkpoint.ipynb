{
 "cells": [
  {
   "cell_type": "markdown",
   "id": "a81fae11",
   "metadata": {},
   "source": [
    "### [Binary Tree problems](https://www.youtube.com/watch?v=fAAZixBzIAI)"
   ]
  },
  {
   "cell_type": "code",
   "execution_count": 4,
   "id": "0b1dd4fb",
   "metadata": {},
   "outputs": [],
   "source": [
    "from collections import deque\n",
    "\n",
    "class Node:\n",
    "    def __init__(self, val):\n",
    "        self.val = val\n",
    "        self.left, self.right = None, None"
   ]
  },
  {
   "cell_type": "markdown",
   "id": "b9b64e62",
   "metadata": {},
   "source": [
    "#### Basic DFS\n",
    "DFS will need to use a stack"
   ]
  },
  {
   "cell_type": "code",
   "execution_count": 2,
   "id": "258f875f",
   "metadata": {},
   "outputs": [],
   "source": [
    "def depth_first_values(root):\n",
    "    if not root:\n",
    "        return []\n",
    "\n",
    "    stack = [root]\n",
    "    values = []\n",
    "\n",
    "    while stack:\n",
    "        node = stack.pop()\n",
    "        values.append(node.val)\n",
    "        # putting right in first because of the LIFO property of stack & we want to print left first\n",
    "        if node.right:\n",
    "            stack.append(node.right)\n",
    "        if node.left:\n",
    "            stack.append(node.left)\n",
    "    return values"
   ]
  },
  {
   "cell_type": "markdown",
   "id": "2337da32",
   "metadata": {},
   "source": [
    "#### Basic BFS\n",
    "BFS will need to use queue"
   ]
  },
  {
   "cell_type": "code",
   "execution_count": 5,
   "id": "4a653662",
   "metadata": {},
   "outputs": [],
   "source": [
    "def breadth_first_values(root):\n",
    "    if not root:\n",
    "        return []\n",
    "\n",
    "    queue = deque([ root ])\n",
    "    values = []\n",
    "\n",
    "    while queue:\n",
    "        node = queue.popleft()\n",
    "\n",
    "        values.append(node.val)\n",
    "\n",
    "        if node.left:\n",
    "            queue.append(node.left)\n",
    "\n",
    "        if node.right:\n",
    "            queue.append(node.right)\n",
    "\n",
    "    return values"
   ]
  },
  {
   "cell_type": "markdown",
   "id": "f025217e",
   "metadata": {},
   "source": [
    "<hr>"
   ]
  },
  {
   "cell_type": "markdown",
   "id": "db50915f",
   "metadata": {},
   "source": [
    "#### Tree includes\n",
    "Check if a value is present in the binary tree\n",
    "\n",
    "Can be solved by using both bfs & dfs"
   ]
  },
  {
   "cell_type": "markdown",
   "id": "d1481460",
   "metadata": {},
   "source": [
    "##### Using BFS"
   ]
  },
  {
   "cell_type": "code",
   "execution_count": 6,
   "id": "11aebf6c",
   "metadata": {},
   "outputs": [],
   "source": [
    "def tree_includes(root, target):\n",
    "    if not root:\n",
    "        return False\n",
    "\n",
    "    queue = deque([ root ])\n",
    "\n",
    "    while queue:\n",
    "        node = queue.popleft()\n",
    "\n",
    "        if node.val == target:\n",
    "            return True\n",
    "\n",
    "        if node.left:\n",
    "            queue.append(node.left)\n",
    "\n",
    "        if node.right:\n",
    "            queue.append(node.right)\n",
    "\n",
    "    return False"
   ]
  },
  {
   "cell_type": "markdown",
   "id": "cba7a98e",
   "metadata": {},
   "source": [
    "##### Using DFS (recursive)"
   ]
  },
  {
   "cell_type": "code",
   "execution_count": 7,
   "id": "3ce2bddf",
   "metadata": {},
   "outputs": [],
   "source": [
    "def tree_includes(root, target):\n",
    "    if not root:\n",
    "        return False\n",
    "\n",
    "    if root.val == target:\n",
    "        return True\n",
    "\n",
    "    return tree_includes(root.left, target) or tree_includes(root.right, target)"
   ]
  },
  {
   "cell_type": "markdown",
   "id": "e52552dd",
   "metadata": {},
   "source": [
    "#### Tree sum\n",
    "Compute sum of the elements in the bt"
   ]
  },
  {
   "cell_type": "markdown",
   "id": "a60047cd",
   "metadata": {},
   "source": [
    "##### Using BFS"
   ]
  },
  {
   "cell_type": "code",
   "execution_count": 8,
   "id": "862084b4",
   "metadata": {},
   "outputs": [],
   "source": [
    "def tree_sum(root):\n",
    "    if not root:\n",
    "        return 0\n",
    "\n",
    "    queue = deque([ root ])\n",
    "    total_sum = 0;\n",
    "    while queue:\n",
    "        node = queue.popleft()\n",
    "\n",
    "        total_sum += node.val\n",
    "\n",
    "        if node.left:\n",
    "            queue.append(node.left)\n",
    "\n",
    "        if node.right:\n",
    "            queue.append(node.right)\n",
    "\n",
    "    return total_sum"
   ]
  },
  {
   "cell_type": "markdown",
   "id": "349e8866",
   "metadata": {},
   "source": [
    "##### Using DFS"
   ]
  },
  {
   "cell_type": "code",
   "execution_count": 9,
   "id": "9aaefd09",
   "metadata": {},
   "outputs": [],
   "source": [
    "def tree_sum(root):\n",
    "    if root is None:\n",
    "        return 0\n",
    "    return root.val + tree_sum(root.left) + tree_sum(root.right)"
   ]
  },
  {
   "cell_type": "markdown",
   "id": "ed4a52a9",
   "metadata": {},
   "source": [
    "<hr>"
   ]
  },
  {
   "cell_type": "markdown",
   "id": "9ebdde9c",
   "metadata": {},
   "source": [
    "#### Minimum value in the tree"
   ]
  },
  {
   "cell_type": "markdown",
   "id": "44083e45",
   "metadata": {},
   "source": [
    "##### Using BFS"
   ]
  },
  {
   "cell_type": "code",
   "execution_count": 10,
   "id": "8fcf83ba",
   "metadata": {},
   "outputs": [],
   "source": [
    "def tree_min_value(root):\n",
    "    queue = deque([ root ])\n",
    "    smallest = float(\"inf\")\n",
    "    while queue:\n",
    "        current = queue.popleft()\n",
    "        if current.val < smallest:\n",
    "            smallest = current.val\n",
    "\n",
    "        if current.left is not None:\n",
    "            queue.append(current.left)\n",
    "        if current.right is not None:\n",
    "            queue.append(current.right)\n",
    "\n",
    "    return smallest"
   ]
  },
  {
   "cell_type": "markdown",
   "id": "e4ca6b22",
   "metadata": {},
   "source": [
    "##### Using DFS (recursive & iterative)"
   ]
  },
  {
   "cell_type": "code",
   "execution_count": 11,
   "id": "6af204e0",
   "metadata": {},
   "outputs": [],
   "source": [
    "def tree_min_value(root):\n",
    "    if root is None:\n",
    "        return float(\"inf\")\n",
    "    smallest_left_value = tree_min_value(root.left)\n",
    "    smallest_right_value = tree_min_value(root.right)\n",
    "    return min(root.val, smallest_left_value, smallest_right_value)"
   ]
  },
  {
   "cell_type": "code",
   "execution_count": 12,
   "id": "6d4fed3d",
   "metadata": {},
   "outputs": [],
   "source": [
    "def tree_min_value(root):\n",
    "    stack = [ root ]\n",
    "    smallest = float(\"inf\")\n",
    "    while stack:\n",
    "        current = stack.pop()\n",
    "        if current.val < smallest:\n",
    "            smallest = current.val\n",
    "\n",
    "        if current.left is not None:\n",
    "            stack.append(current.left)\n",
    "        if current.right is not None:\n",
    "            stack.append(current.right)\n",
    "\n",
    "    return smallest"
   ]
  },
  {
   "cell_type": "markdown",
   "id": "ba6a4e41",
   "metadata": {},
   "source": [
    "<hr>"
   ]
  },
  {
   "cell_type": "markdown",
   "id": "db54df57",
   "metadata": {},
   "source": [
    "##### Max root to leaf path sum"
   ]
  },
  {
   "cell_type": "code",
   "execution_count": 13,
   "id": "a8a9918a",
   "metadata": {},
   "outputs": [],
   "source": [
    "def max_path_sum(root):\n",
    "    if root is None:\n",
    "        return float(\"-inf\")\n",
    "\n",
    "    if root.left is None and root.right is None:\n",
    "        return root.val\n",
    "\n",
    "    return root.val + max(max_path_sum(root.left), max_path_sum(root.right))"
   ]
  },
  {
   "cell_type": "code",
   "execution_count": null,
   "id": "df6e8a67",
   "metadata": {},
   "outputs": [],
   "source": []
  }
 ],
 "metadata": {
  "kernelspec": {
   "display_name": "Python 3",
   "language": "python",
   "name": "python3"
  },
  "language_info": {
   "codemirror_mode": {
    "name": "ipython",
    "version": 3
   },
   "file_extension": ".py",
   "mimetype": "text/x-python",
   "name": "python",
   "nbconvert_exporter": "python",
   "pygments_lexer": "ipython3",
   "version": "3.9.5"
  }
 },
 "nbformat": 4,
 "nbformat_minor": 5
}
