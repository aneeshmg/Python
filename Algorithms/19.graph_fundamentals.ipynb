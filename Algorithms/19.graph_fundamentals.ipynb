{
 "cells": [
  {
   "cell_type": "markdown",
   "id": "5eaf6a19",
   "metadata": {},
   "source": [
    "### [Graph fundamentals](https://www.youtube.com/watch?v=tWVWeAqZ0WU)"
   ]
  },
  {
   "cell_type": "markdown",
   "id": "346e55f5",
   "metadata": {},
   "source": [
    "Input, usually in the form of an adjacency list.\n",
    "\n",
    "Given graph G(V, E), vertices & edges, the adjacency list would look like:\n",
    "```{\n",
    "    'a':[vertices that connect to 'a'],\n",
    "    etc\n",
    "}```"
   ]
  },
  {
   "cell_type": "markdown",
   "id": "2cccd5fd",
   "metadata": {},
   "source": [
    "##### BFS\n",
    "Given the input (assuming adjacency list - if not in adjacency list, convert into it first), put first element of it ie `{a:...}` into queue, and while queue is not empty, remove from queue -> process item from queue (optionally mark current item as visited, in a separate data structure like set) ->put all of its connections into queue"
   ]
  },
  {
   "cell_type": "markdown",
   "id": "dae17a23",
   "metadata": {},
   "source": [
    "##### DFS\n",
    "Same as BFS, except use stack here"
   ]
  },
  {
   "cell_type": "markdown",
   "id": "a7563b7a",
   "metadata": {},
   "source": [
    "#### Has path\n",
    "Given graph, check if there is a path between the given source and destination"
   ]
  },
  {
   "cell_type": "code",
   "execution_count": 1,
   "id": "a31c1e93",
   "metadata": {},
   "outputs": [],
   "source": [
    "# DFS\n",
    "def has_path(graph, src, dst):\n",
    "    if src == dst:\n",
    "        return True\n",
    "\n",
    "    for neighbor in graph[src]:\n",
    "        if has_path(graph, neighbor, dst) == True:\n",
    "            return True\n",
    "\n",
    "    return False\n",
    "\n",
    "# BFS\n",
    "from collections import deque\n",
    "\n",
    "def has_path(graph, src, dst):\n",
    "    queue = deque([ src ])\n",
    "\n",
    "    while queue:\n",
    "        current = queue.popleft()\n",
    "\n",
    "        if current == dst:\n",
    "            return True\n",
    "\n",
    "        for neighbor in graph[current]:\n",
    "            queue.append(neighbor)\n",
    "\n",
    "    return False"
   ]
  },
  {
   "cell_type": "markdown",
   "id": "a36fd6fb",
   "metadata": {},
   "source": [
    "#### Undirected path\n",
    "Given a list of edges, and a source+destination, find if there exists a path between source and destination\n",
    "\n",
    "First convert into adjacency list and then do has_path"
   ]
  },
  {
   "cell_type": "code",
   "execution_count": 2,
   "id": "124384b8",
   "metadata": {},
   "outputs": [],
   "source": [
    "def undirected_path(edges, node_A, node_B):\n",
    "    graph = build_graph(edges)\n",
    "    return has_path(graph, node_A, node_B, set())\n",
    "\n",
    "def build_graph(edges):\n",
    "    graph = {}\n",
    "\n",
    "    for edge in edges:\n",
    "        a, b = edge\n",
    "\n",
    "        if a not in graph:\n",
    "            graph[a] = []\n",
    "        if b not in graph:\n",
    "            graph[b] = []\n",
    "\n",
    "        graph[a].append(b)\n",
    "        graph[b].append(a)\n",
    "\n",
    "    return graph\n",
    "    \n",
    "def has_path(graph, src, dst, visited):\n",
    "    if src == dst:\n",
    "        return True\n",
    "\n",
    "    if src in visited:\n",
    "        return False\n",
    "\n",
    "    visited.add(src)\n",
    "\n",
    "    for neighbor in graph[src]:\n",
    "        if has_path(graph, neighbor, dst, visited) == True:\n",
    "            return True\n",
    "\n",
    "    return False"
   ]
  },
  {
   "cell_type": "markdown",
   "id": "a5ac4557",
   "metadata": {},
   "source": [
    "#### Connected components count\n",
    "Given adjacency list of graph, return number of connected components"
   ]
  },
  {
   "cell_type": "code",
   "execution_count": 3,
   "id": "4cd7797b",
   "metadata": {},
   "outputs": [],
   "source": [
    "def connected_components_count(graph):\n",
    "    visited = set()\n",
    "    count = 0\n",
    "\n",
    "    for node in graph:\n",
    "        if explore(graph, node, visited) == True:\n",
    "            count += 1\n",
    "\n",
    "    return count\n",
    "\n",
    "def explore(graph, current, visited):\n",
    "    if current in visited:\n",
    "        return False\n",
    "\n",
    "    visited.add(current)\n",
    "\n",
    "    for neighbor in graph[current]:\n",
    "        explore(graph, neighbor, visited)\n",
    "\n",
    "    return True"
   ]
  },
  {
   "cell_type": "markdown",
   "id": "81a99f74",
   "metadata": {},
   "source": [
    "#### Largest component\n",
    "An extension on the previous problem, find the largest component"
   ]
  },
  {
   "cell_type": "code",
   "execution_count": 4,
   "id": "48b8f619",
   "metadata": {},
   "outputs": [],
   "source": [
    "def largest_component(graph):\n",
    "    visited = set()\n",
    "\n",
    "    largest = 0\n",
    "    for node in graph:\n",
    "        size = explore_size(graph, node, visited)\n",
    "        if size > largest:\n",
    "            largest = size\n",
    "\n",
    "    return largest\n",
    "\n",
    "def explore_size(graph, node, visited):\n",
    "    if node in visited:\n",
    "        return 0\n",
    "\n",
    "    visited.add(node)\n",
    "\n",
    "    size = 1\n",
    "    for neighbor in graph[node]:\n",
    "        size += explore_size(graph, neighbor, visited)\n",
    "\n",
    "    return size"
   ]
  },
  {
   "cell_type": "markdown",
   "id": "29b06a4e",
   "metadata": {},
   "source": [
    "#### Shortest path\n",
    "Given edge list and 2 nodes, find shortest path between the two nodes"
   ]
  },
  {
   "cell_type": "code",
   "execution_count": 5,
   "id": "5bc36be2",
   "metadata": {},
   "outputs": [],
   "source": [
    "from collections import deque\n",
    "\n",
    "def shortest_path(edges, node_A, node_B):\n",
    "    graph = build_graph(edges)\n",
    "    visited = set([ node_A ])\n",
    "    queue = deque([ (node_A, 0) ])\n",
    "\n",
    "    while queue:\n",
    "        node, distance = queue.popleft()\n",
    "\n",
    "        if node == node_B:\n",
    "            return distance\n",
    "\n",
    "        for neighbor in graph[node]:\n",
    "            if neighbor not in visited:\n",
    "                visited.add(neighbor)\n",
    "                queue.append((neighbor, distance + 1))\n",
    "\n",
    "    return -1\n",
    "  \n",
    "def build_graph(edges):\n",
    "    graph = {}\n",
    "\n",
    "    for edge in edges:\n",
    "        a, b = edge\n",
    "\n",
    "        if a not in graph:\n",
    "            graph[a] = []\n",
    "        if b not in graph:\n",
    "            graph[b] = []\n",
    "\n",
    "        graph[a].append(b)\n",
    "        graph[b].append(a)\n",
    "\n",
    "    return graph"
   ]
  },
  {
   "cell_type": "markdown",
   "id": "a0511128",
   "metadata": {},
   "source": [
    "#### Island count\n",
    "Given graph (matrix of 0&1) find number of islands"
   ]
  },
  {
   "cell_type": "code",
   "execution_count": 6,
   "id": "ea78ba76",
   "metadata": {},
   "outputs": [],
   "source": [
    "def island_count(grid):\n",
    "    visited = set()\n",
    "    count = 0\n",
    "    \n",
    "    for r in range(len(grid)):\n",
    "        for c in range(len(grid[0])):\n",
    "            if explore(grid, r, c, visited) == True:\n",
    "                count += 1\n",
    "                \n",
    "    return count\n",
    "\n",
    "def explore(grid, r, c, visited):\n",
    "    row_inbounds = 0 <= r < len(grid)\n",
    "    col_inbounds = 0 <= c < len(grid[0])\n",
    "    \n",
    "    if not row_inbounds or not col_inbounds:\n",
    "        return False\n",
    "\n",
    "    if grid[r][c] == 'W':\n",
    "        return False\n",
    "\n",
    "    pos = (r, c)\n",
    "    if pos in visited:\n",
    "        return False\n",
    "    visited.add(pos)\n",
    "\n",
    "    explore(grid, r - 1, c, visited)\n",
    "    explore(grid, r + 1, c, visited)  \n",
    "    explore(grid, r, c - 1, visited)\n",
    "    explore(grid, r, c + 1, visited)\n",
    "\n",
    "    return True"
   ]
  },
  {
   "cell_type": "markdown",
   "id": "dd657a50",
   "metadata": {},
   "source": [
    "#### Minimum island\n",
    "Extension of the previous problem - here find the smallest island, return its size"
   ]
  },
  {
   "cell_type": "code",
   "execution_count": 7,
   "id": "ab4c5068",
   "metadata": {},
   "outputs": [],
   "source": [
    "def minimum_island(grid):\n",
    "    visited = set()\n",
    "    min_size = float(\"inf\")\n",
    "    \n",
    "    for r in range(len(grid)):\n",
    "        for c in range(len(grid[0])):\n",
    "            size = explore_size(grid, r, c, visited)\n",
    "            if size > 0 and size < min_size:\n",
    "                min_size = size\n",
    "                \n",
    "    return min_size\n",
    "\n",
    "def explore_size(grid, r, c, visited):\n",
    "    row_inbounds = 0 <= r < len(grid)\n",
    "    col_inbounds = 0 <= c < len(grid[0])\n",
    "    \n",
    "    if not row_inbounds or not col_inbounds:\n",
    "        return 0\n",
    "\n",
    "    if grid[r][c] == 'W':\n",
    "        return 0\n",
    "\n",
    "    pos = (r, c)\n",
    "    if pos in visited:\n",
    "        return 0\n",
    "    \n",
    "    visited.add(pos)\n",
    "\n",
    "    size = 1\n",
    "    size += explore_size(grid, r - 1, c, visited)\n",
    "    size += explore_size(grid, r + 1, c, visited)  \n",
    "    size += explore_size(grid, r, c - 1, visited)\n",
    "    size += explore_size(grid, r, c + 1, visited)\n",
    "    \n",
    "    return size"
   ]
  },
  {
   "cell_type": "code",
   "execution_count": null,
   "id": "a439749a",
   "metadata": {},
   "outputs": [],
   "source": []
  }
 ],
 "metadata": {
  "kernelspec": {
   "display_name": "Python 3",
   "language": "python",
   "name": "python3"
  },
  "language_info": {
   "codemirror_mode": {
    "name": "ipython",
    "version": 3
   },
   "file_extension": ".py",
   "mimetype": "text/x-python",
   "name": "python",
   "nbconvert_exporter": "python",
   "pygments_lexer": "ipython3",
   "version": "3.9.5"
  }
 },
 "nbformat": 4,
 "nbformat_minor": 5
}
