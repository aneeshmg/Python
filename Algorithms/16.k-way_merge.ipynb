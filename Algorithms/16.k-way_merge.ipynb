{
 "cells": [
  {
   "cell_type": "markdown",
   "id": "b439b5c4",
   "metadata": {},
   "source": [
    "### k-way merge\n",
    "Problems that involve a set of sorted lists"
   ]
  },
  {
   "cell_type": "markdown",
   "id": "f2b64886",
   "metadata": {},
   "source": [
    "#### Merge k-sorted lists"
   ]
  },
  {
   "cell_type": "code",
   "execution_count": 1,
   "id": "b53062a5",
   "metadata": {},
   "outputs": [],
   "source": [
    "# linked list input & output, use heap\n",
    "\n",
    "from __future__ import print_function\n",
    "from heapq import *\n",
    "\n",
    "\n",
    "class ListNode:\n",
    "    def __init__(self, value):\n",
    "        self.value = value\n",
    "        self.next = None\n",
    "\n",
    "    # used for the min-heap\n",
    "    def __lt__(self, other):\n",
    "        return self.value < other.value\n",
    "\n",
    "\n",
    "def merge_lists(lists):\n",
    "    minHeap = []\n",
    "\n",
    "    # put the root of each list in the min heap\n",
    "    for root in lists:\n",
    "        if root is not None:\n",
    "            heappush(minHeap, root)\n",
    "\n",
    "    # take the smallest(top) element form the min-heap and add it to the result\n",
    "    # if the top element has a next element add it to the heap\n",
    "    resultHead, resultTail = None, None\n",
    "    while minHeap:\n",
    "        node = heappop(minHeap)\n",
    "        if resultHead is None:\n",
    "            resultHead = resultTail = node\n",
    "        else:\n",
    "            resultTail.next = node\n",
    "            resultTail = resultTail.next\n",
    "\n",
    "        if node.next is not None:\n",
    "            heappush(minHeap, node.next)\n",
    "\n",
    "    return resultHead"
   ]
  },
  {
   "cell_type": "code",
   "execution_count": 2,
   "id": "cac60bee",
   "metadata": {},
   "outputs": [
    {
     "name": "stdout",
     "output_type": "stream",
     "text": [
      "Here are the elements form the merged list: 1 2 3 3 4 6 6 7 8 "
     ]
    }
   ],
   "source": [
    "l1 = ListNode(2)\n",
    "l1.next = ListNode(6)\n",
    "l1.next.next = ListNode(8)\n",
    "\n",
    "l2 = ListNode(3)\n",
    "l2.next = ListNode(6)\n",
    "l2.next.next = ListNode(7)\n",
    "\n",
    "l3 = ListNode(1)\n",
    "l3.next = ListNode(3)\n",
    "l3.next.next = ListNode(4)\n",
    "\n",
    "result = merge_lists([l1, l2, l3])\n",
    "print(\"Here are the elements form the merged list: \", end='')\n",
    "while result is not None:\n",
    "    print(str(result.value) + \" \", end='')\n",
    "    result = result.next"
   ]
  },
  {
   "cell_type": "markdown",
   "id": "34b7f7ec",
   "metadata": {},
   "source": [
    "#### K-th smallest in M sorted lists\n"
   ]
  },
  {
   "cell_type": "code",
   "execution_count": 3,
   "id": "0b784d44",
   "metadata": {},
   "outputs": [],
   "source": [
    "# similar to prev\n",
    "\n",
    "from heapq import *\n",
    "\n",
    "\n",
    "def find_Kth_smallest(lists, k):\n",
    "    minHeap = []\n",
    "\n",
    "    # put the 1st element of each list in the min heap\n",
    "    for i in range(len(lists)):\n",
    "        heappush(minHeap, (lists[i][0], 0, lists[i])) # the second element 0 is being pushed to know which element of the arry was pushed so we can push the next in the later stages\n",
    "\n",
    "    # take the smallest(top) element form the min heap, if the running count is equal to k \n",
    "    # return the number\n",
    "    numberCount, number = 0, 0\n",
    "    while minHeap:\n",
    "        number, i, list = heappop(minHeap)\n",
    "        numberCount += 1\n",
    "        if numberCount == k:\n",
    "            break\n",
    "            \n",
    "        # if the array of the top element has more elements, add the next element to the heap\n",
    "        if len(list) > i+1:\n",
    "            heappush(minHeap, (list[i+1], i+1, list))\n",
    "\n",
    "    return number"
   ]
  },
  {
   "cell_type": "code",
   "execution_count": 4,
   "id": "2c59086f",
   "metadata": {},
   "outputs": [
    {
     "name": "stdout",
     "output_type": "stream",
     "text": [
      "4\n"
     ]
    }
   ],
   "source": [
    "print (find_Kth_smallest([[2, 6, 8], [3, 6, 7], [1, 3, 4]], 5))"
   ]
  },
  {
   "cell_type": "markdown",
   "id": "79890138",
   "metadata": {},
   "source": [
    "#### k-th smallest number in a sorted matrix\n",
    "\n",
    "Matrix=[\n",
    "    [2, 6, 8], \n",
    "    [3, 7, 10],\n",
    "    [5, 8, 11]\n",
    "  ], \n",
    "  K=5 => 7"
   ]
  },
  {
   "cell_type": "code",
   "execution_count": 5,
   "id": "234715d7",
   "metadata": {},
   "outputs": [],
   "source": [
    "# fairly similar to the previous\n",
    "\n",
    "from heapq import *\n",
    "\n",
    "\n",
    "def find_Kth_smallest(matrix, k):\n",
    "    minHeap = []\n",
    "\n",
    "    # put the 1st element of each row in the min heap\n",
    "    # we don't need to push more than 'k' elements in the heap\n",
    "    for i in range(min(k, len(matrix))):\n",
    "        heappush(minHeap, (matrix[i][0], 0, matrix[i]))\n",
    "\n",
    "    # take the smallest(top) element form the min heap, if the running count is equal to\n",
    "    # 'k' return the number. If the row of the top element has more elements, add the \n",
    "    # next element to the heap\n",
    "    numberCount, number = 0, 0\n",
    "    while minHeap:\n",
    "        number, i, row = heappop(minHeap)\n",
    "        numberCount += 1\n",
    "        if numberCount == k:\n",
    "            break\n",
    "        if len(row) > i+1:\n",
    "            heappush(minHeap, (row[i+1], i+1, row))\n",
    "    return number"
   ]
  },
  {
   "cell_type": "code",
   "execution_count": 6,
   "id": "4d10b085",
   "metadata": {},
   "outputs": [
    {
     "name": "stdout",
     "output_type": "stream",
     "text": [
      "7\n"
     ]
    }
   ],
   "source": [
    "print (find_Kth_smallest([[2, 6, 8], [3, 7, 10], [5, 8, 11]], 5))"
   ]
  },
  {
   "cell_type": "markdown",
   "id": "e1876ced",
   "metadata": {},
   "source": [
    "#### Smallest number range\n",
    "Given M sorted arrays, find the smallest range that has atleast one number from each array's range"
   ]
  },
  {
   "cell_type": "code",
   "execution_count": 7,
   "id": "b70d2724",
   "metadata": {},
   "outputs": [],
   "source": [
    "# \n",
    "\n",
    "from heapq import *\n",
    "import math\n",
    "\n",
    "\n",
    "def find_smallest_range(lists):\n",
    "    minHeap = []\n",
    "    rangeStart, rangeEnd = 0, math.inf\n",
    "    currentMaxNumber = -math.inf\n",
    "\n",
    "    # put the 1st element of each array in the max heap\n",
    "    for arr in lists:\n",
    "        heappush(minHeap, (arr[0], 0, arr))\n",
    "        currentMaxNumber = max(currentMaxNumber, arr[0])\n",
    "\n",
    "    # take the smallest(top) element form the min heap, if it gives us smaller range, \n",
    "    # update the ranges, if the array of the top element has more elements, insert the \n",
    "    # next element in the heap\n",
    "    while len(minHeap) == len(lists):\n",
    "        num, i, arr = heappop(minHeap)\n",
    "        if rangeEnd - rangeStart > currentMaxNumber - num:\n",
    "            rangeStart = num\n",
    "            rangeEnd = currentMaxNumber\n",
    "\n",
    "        if len(arr) > i+1:\n",
    "            # insert the next element in the heap\n",
    "            heappush(minHeap, (arr[i+1], i+1, arr))\n",
    "            currentMaxNumber = max(currentMaxNumber, arr[i+1])\n",
    "\n",
    "    return [rangeStart, rangeEnd]"
   ]
  },
  {
   "cell_type": "code",
   "execution_count": 8,
   "id": "b312efc6",
   "metadata": {},
   "outputs": [
    {
     "name": "stdout",
     "output_type": "stream",
     "text": [
      "[4, 7]\n"
     ]
    }
   ],
   "source": [
    "print (find_smallest_range([[1, 5, 8], [4, 12], [7, 8, 10]]))"
   ]
  },
  {
   "cell_type": "code",
   "execution_count": null,
   "id": "f8cd6c7b",
   "metadata": {},
   "outputs": [],
   "source": []
  }
 ],
 "metadata": {
  "kernelspec": {
   "display_name": "Python 3",
   "language": "python",
   "name": "python3"
  },
  "language_info": {
   "codemirror_mode": {
    "name": "ipython",
    "version": 3
   },
   "file_extension": ".py",
   "mimetype": "text/x-python",
   "name": "python",
   "nbconvert_exporter": "python",
   "pygments_lexer": "ipython3",
   "version": "3.9.5"
  }
 },
 "nbformat": 4,
 "nbformat_minor": 5
}
