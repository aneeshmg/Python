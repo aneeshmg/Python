{
 "cells": [
  {
   "cell_type": "markdown",
   "id": "7dad3a45",
   "metadata": {},
   "source": [
    "### Two heaps\n",
    "Times when you have to divide the data and find largest in one set and smallest in other set and do something with it (or return)"
   ]
  },
  {
   "cell_type": "code",
   "execution_count": 9,
   "id": "a945204c",
   "metadata": {},
   "outputs": [],
   "source": [
    "from heapq import *\n",
    "import heapq"
   ]
  },
  {
   "cell_type": "markdown",
   "id": "74744d5d",
   "metadata": {},
   "source": [
    "#### Running median\n",
    "a class that receives a stream of numbers and returns the running median"
   ]
  },
  {
   "cell_type": "code",
   "execution_count": 3,
   "id": "e2befc35",
   "metadata": {},
   "outputs": [],
   "source": [
    "# use two heaps - min and max\n",
    "# min will contain the larger elements, max will contain smalller elements...balance after every insert\n",
    "# to ensure both heaps have almost equal number of elements\n",
    "# since median will be in the middle, top of min and max heaps will be the median\n",
    "\n",
    "class MedianOfAStream:\n",
    "\n",
    "    maxHeap = []  # containing first half of numbers\n",
    "    minHeap = []  # containing second half of numbers\n",
    "\n",
    "    def insert_num(self, num):\n",
    "        if not self.maxHeap or -self.maxHeap[0] >= num:\n",
    "            heappush(self.maxHeap, -num)\n",
    "        else:\n",
    "            heappush(self.minHeap, num)\n",
    "\n",
    "        # either both the heaps will have equal number of elements or max-heap will have one\n",
    "        # more element than the min-heap\n",
    "        if len(self.maxHeap) > len(self.minHeap) + 1:\n",
    "            heappush(self.minHeap, -heappop(self.maxHeap))\n",
    "        elif len(self.maxHeap) < len(self.minHeap):\n",
    "            heappush(self.maxHeap, -heappop(self.minHeap))\n",
    "\n",
    "    def find_median(self):\n",
    "        if len(self.maxHeap) == len(self.minHeap):\n",
    "            # we have even number of elements, take the average of middle two elements\n",
    "            return -self.maxHeap[0] / 2.0 + self.minHeap[0] / 2.0\n",
    "\n",
    "        # because max-heap will have one more element than the min-heap\n",
    "        return -self.maxHeap[0] / 1.0"
   ]
  },
  {
   "cell_type": "code",
   "execution_count": 4,
   "id": "b4409672",
   "metadata": {},
   "outputs": [
    {
     "name": "stdout",
     "output_type": "stream",
     "text": [
      "The median is: 2.0\n",
      "The median is: 3.0\n",
      "The median is: 3.5\n"
     ]
    }
   ],
   "source": [
    "medianOfAStream = MedianOfAStream()\n",
    "medianOfAStream.insert_num(3)\n",
    "medianOfAStream.insert_num(1)\n",
    "print(\"The median is: \" + str(medianOfAStream.find_median()))\n",
    "medianOfAStream.insert_num(5)\n",
    "print(\"The median is: \" + str(medianOfAStream.find_median()))\n",
    "medianOfAStream.insert_num(4)\n",
    "print(\"The median is: \" + str(medianOfAStream.find_median()))"
   ]
  },
  {
   "cell_type": "markdown",
   "id": "0fb150b6",
   "metadata": {},
   "source": [
    "#### Sliding window median\n",
    "Given a list of numbers and a window size, return list of medians (Median != average)"
   ]
  },
  {
   "cell_type": "code",
   "execution_count": 7,
   "id": "c408950f",
   "metadata": {},
   "outputs": [],
   "source": [
    "# Solution will be similar to the previous problem, except additionally, we need to maintain a sliding window\n",
    "# at every insert, we'd need to check the size of the window, remove an element that will be moving out of the window\n",
    "# followed by a rebalance of the heaps\n",
    "\n",
    "class SlidingWindowMedian:\n",
    "    def __init__(self):\n",
    "        self.maxHeap, self.minHeap = [], []\n",
    "\n",
    "    def find_sliding_window_median(self, nums, k):\n",
    "        result = [0.0 for x in range(len(nums) - k + 1)]\n",
    "        \n",
    "        for i in range(0, len(nums)):\n",
    "            if not self.maxHeap or nums[i] <= -self.maxHeap[0]:\n",
    "                heappush(self.maxHeap, -nums[i])\n",
    "            else:\n",
    "                heappush(self.minHeap, nums[i])\n",
    "\n",
    "            self.rebalance_heaps()\n",
    "\n",
    "            if i - k + 1 >= 0:  # if we have at least 'k' elements in the sliding window\n",
    "                # add the median to the the result array\n",
    "                if len(self.maxHeap) == len(self.minHeap):\n",
    "                    # we have even number of elements, take the average of middle two elements\n",
    "                    result[i - k + 1] = -self.maxHeap[0] / \\\n",
    "                              2.0 + self.minHeap[0] / 2.0\n",
    "                else:  # because max-heap will have one more element than the min-heap\n",
    "                    result[i - k + 1] = -self.maxHeap[0] / 1.0\n",
    "\n",
    "                # remove the element going out of the sliding window\n",
    "                elementToBeRemoved = nums[i - k + 1]\n",
    "                if elementToBeRemoved <= -self.maxHeap[0]:\n",
    "                    self.remove(self.maxHeap, -elementToBeRemoved)\n",
    "                else:\n",
    "                    self.remove(self.minHeap, elementToBeRemoved)\n",
    "\n",
    "                self.rebalance_heaps()\n",
    "\n",
    "        return result\n",
    "\n",
    "\n",
    "    # removes an element from the heap keeping the heap property\n",
    "    def remove(self, heap, element):\n",
    "        ind = heap.index(element)  # find the element\n",
    "        # move the element to the end and delete it\n",
    "        heap[ind] = heap[-1]\n",
    "        del heap[-1]\n",
    "        \n",
    "        # we can use heapify to readjust the elements but that would be O(N),\n",
    "        # instead, we will adjust only one element which will O(logN)\n",
    "        if ind < len(heap):\n",
    "            heapq._siftup(heap, ind)\n",
    "            heapq._siftdown(heap, 0, ind)\n",
    "\n",
    "    def rebalance_heaps(self):\n",
    "        # either both the heaps will have equal number of elements or max-heap will have\n",
    "        # one more element than the min-heap\n",
    "        if len(self.maxHeap) > len(self.minHeap) + 1:\n",
    "            heappush(self.minHeap, -heappop(self.maxHeap))\n",
    "            \n",
    "        elif len(self.maxHeap) < len(self.minHeap):\n",
    "            heappush(self.maxHeap, -heappop(self.minHeap))\n"
   ]
  },
  {
   "cell_type": "code",
   "execution_count": 10,
   "id": "3f1d6a0b",
   "metadata": {},
   "outputs": [
    {
     "name": "stdout",
     "output_type": "stream",
     "text": [
      "Sliding window medians are: [1.5, 0.5, 1.0, 4.0]\n",
      "Sliding window medians are: [1.0, 2.0, 3.0]\n"
     ]
    }
   ],
   "source": [
    "slidingWindowMedian = SlidingWindowMedian()\n",
    "result = slidingWindowMedian.find_sliding_window_median([1, 2, -1, 3, 5], 2)\n",
    "print(\"Sliding window medians are: \" + str(result))\n",
    "\n",
    "slidingWindowMedian = SlidingWindowMedian()\n",
    "result = slidingWindowMedian.find_sliding_window_median([1, 2, -1, 3, 5], 3)\n",
    "print(\"Sliding window medians are: \" + str(result))"
   ]
  },
  {
   "cell_type": "markdown",
   "id": "3cd8dcf4",
   "metadata": {},
   "source": [
    "#### Maximise Capital (Profits)\n",
    "\n",
    "Objective is to find the most profitable projects. Given a list of capitals and profits, Write a function that returns the maximum total capital after selecting the most profitable projects."
   ]
  },
  {
   "cell_type": "code",
   "execution_count": 11,
   "id": "4f912b09",
   "metadata": {},
   "outputs": [],
   "source": [
    "# Use 2 heaps, one for capital and one for profits. Put capital in min heap, profits in max heap\n",
    "\n",
    "def find_maximum_capital(capital, profits, numberOfProjects, initialCapital):\n",
    "    minCapitalHeap = []\n",
    "    maxProfitHeap = []\n",
    "\n",
    "    # insert all project capitals to a min-heap\n",
    "    for i in range(0, len(profits)): # should it have been capital here?\n",
    "        heappush(minCapitalHeap, (capital[i], i))\n",
    "\n",
    "    # let's try to find a total of 'numberOfProjects' best projects\n",
    "    availableCapital = initialCapital\n",
    "    for _ in range(numberOfProjects):\n",
    "        # find all projects that can be selected within the available capital and insert \n",
    "        # them in a max-heap\n",
    "        while minCapitalHeap and minCapitalHeap[0][0] <= availableCapital:\n",
    "            capital, i = heappop(minCapitalHeap)\n",
    "            heappush(maxProfitHeap, (-profits[i], i))\n",
    "\n",
    "        # terminate if we are not able to find any project that can be completed within the \n",
    "        # available capital\n",
    "        if not maxProfitHeap:\n",
    "            break\n",
    "\n",
    "    # select the project with the maximum profit\n",
    "    availableCapital += -heappop(maxProfitHeap)[0]\n",
    "\n",
    "    return availableCapital"
   ]
  },
  {
   "cell_type": "code",
   "execution_count": 12,
   "id": "25cbe47b",
   "metadata": {},
   "outputs": [
    {
     "name": "stdout",
     "output_type": "stream",
     "text": [
      "Maximum capital: 3\n",
      "Maximum capital: 1\n"
     ]
    }
   ],
   "source": [
    "print(\"Maximum capital: \" + str(find_maximum_capital([0, 1, 2], [1, 2, 3], 2, 1)))\n",
    "print(\"Maximum capital: \" + str(find_maximum_capital([0, 1, 2, 3], [1, 2, 3, 5], 3, 0)))"
   ]
  },
  {
   "cell_type": "code",
   "execution_count": null,
   "id": "30124f63",
   "metadata": {},
   "outputs": [],
   "source": []
  }
 ],
 "metadata": {
  "kernelspec": {
   "display_name": "Python 3",
   "language": "python",
   "name": "python3"
  },
  "language_info": {
   "codemirror_mode": {
    "name": "ipython",
    "version": 3
   },
   "file_extension": ".py",
   "mimetype": "text/x-python",
   "name": "python",
   "nbconvert_exporter": "python",
   "pygments_lexer": "ipython3",
   "version": "3.9.5"
  }
 },
 "nbformat": 4,
 "nbformat_minor": 5
}
