{
 "cells": [
  {
   "cell_type": "markdown",
   "id": "690d0efe",
   "metadata": {},
   "source": [
    "### Cyclic sort"
   ]
  },
  {
   "cell_type": "markdown",
   "id": "a4dab088",
   "metadata": {},
   "source": [
    "#### Cyclic sort"
   ]
  },
  {
   "cell_type": "code",
   "execution_count": 1,
   "id": "3d800d11",
   "metadata": {},
   "outputs": [],
   "source": [
    "temp = [2, 1, 5, 3, 4]"
   ]
  },
  {
   "cell_type": "code",
   "execution_count": 2,
   "id": "338efc0c",
   "metadata": {},
   "outputs": [],
   "source": [
    "# knowing given array is within 1:n but in random order, sort it\n",
    "# the technique of solving it is very useful in other problems too\n",
    "\n",
    "def cyclic_sort(nums):\n",
    "    i = 0\n",
    "    \n",
    "    while i < len(nums):\n",
    "        j = nums[i] - 1\n",
    "        if nums[i] != nums[j]:\n",
    "            nums[i], nums[j] = nums[j], nums[i]  # swap\n",
    "        else:\n",
    "            i += 1\n",
    "\n",
    "    return nums"
   ]
  },
  {
   "cell_type": "code",
   "execution_count": 3,
   "id": "70d6f0ce",
   "metadata": {},
   "outputs": [
    {
     "name": "stdout",
     "output_type": "stream",
     "text": [
      "[1, 2, 3, 4, 5]\n"
     ]
    }
   ],
   "source": [
    "print (cyclic_sort(temp))"
   ]
  },
  {
   "cell_type": "markdown",
   "id": "23c76419",
   "metadata": {},
   "source": [
    "#### Find missing number"
   ]
  },
  {
   "cell_type": "code",
   "execution_count": 4,
   "id": "9c7a0f02",
   "metadata": {},
   "outputs": [],
   "source": [
    "temp = [0, 1, 3, 4] # 2 is missing [0:n]"
   ]
  },
  {
   "cell_type": "code",
   "execution_count": 5,
   "id": "b8ea034e",
   "metadata": {},
   "outputs": [],
   "source": [
    "# first place every number in its supposed respective spot, then loop to see which number is in the wrong spot\n",
    "\n",
    "def find_missing_number(nums):\n",
    "    i, n = 0, len(nums)\n",
    "    \n",
    "    while i < n:\n",
    "        j = nums[i]\n",
    "        if nums[i] < n and nums[i] != nums[j]:\n",
    "            nums[i], nums[j] = nums[j], nums[i]  # swap\n",
    "        else:\n",
    "            i += 1\n",
    "            \n",
    "    print (nums)\n",
    "\n",
    "    # find the first number missing from its index, that will be our required number\n",
    "    for i in range(n):\n",
    "        if nums[i] != i:\n",
    "            return i\n",
    "\n",
    "    return n"
   ]
  },
  {
   "cell_type": "code",
   "execution_count": 6,
   "id": "72090784",
   "metadata": {},
   "outputs": [
    {
     "name": "stdout",
     "output_type": "stream",
     "text": [
      "[0, 1, 4, 3]\n",
      "2\n"
     ]
    }
   ],
   "source": [
    "print (find_missing_number(temp))"
   ]
  },
  {
   "cell_type": "markdown",
   "id": "14a0e332",
   "metadata": {},
   "source": [
    "#### Find all missing numbers"
   ]
  },
  {
   "cell_type": "code",
   "execution_count": 7,
   "id": "38b5b7d7",
   "metadata": {},
   "outputs": [],
   "source": [
    "temp = [2, 3, 1, 8, 2, 3, 5, 1]"
   ]
  },
  {
   "cell_type": "code",
   "execution_count": 12,
   "id": "9b0f09d9",
   "metadata": {},
   "outputs": [],
   "source": [
    "# given [1:n], some are missing with multiple duplicates..unsorted. Find the missing ones\n",
    "# trivial way is to use a hashmap and count and compare against 1-n but need to use constant space\n",
    "\n",
    "# solution is a combination of the previous two problems - first sort into correct places, then loop to find ones missing\n",
    "\n",
    "# setting value of j is important\n",
    "\n",
    "def find_missing_numbers(nums):\n",
    "    i = 0\n",
    "    \n",
    "    while i < len(nums):\n",
    "        j = nums[i] - 1\n",
    "        if nums[i] != nums[j]:\n",
    "            nums[i], nums[j] = nums[j], nums[i]  # swap\n",
    "        else:\n",
    "            i += 1\n",
    "            \n",
    "    print (nums)\n",
    "\n",
    "    missingNumbers = []\n",
    "\n",
    "    for i in range(len(nums)):\n",
    "        if nums[i] != i + 1: #wrong number present \n",
    "            missingNumbers.append(i + 1)\n",
    "\n",
    "    return missingNumbers"
   ]
  },
  {
   "cell_type": "code",
   "execution_count": 13,
   "id": "1b378317",
   "metadata": {},
   "outputs": [
    {
     "name": "stdout",
     "output_type": "stream",
     "text": [
      "[1, 2, 3, 1, 5, 3, 2, 8]\n",
      "[4, 6, 7]\n"
     ]
    }
   ],
   "source": [
    "print (find_missing_numbers(temp))"
   ]
  },
  {
   "cell_type": "markdown",
   "id": "b195b088",
   "metadata": {},
   "source": [
    "#### Find duplicate number"
   ]
  },
  {
   "cell_type": "code",
   "execution_count": 17,
   "id": "c2b14fb0",
   "metadata": {},
   "outputs": [],
   "source": [
    "temp = [1, 2, 3, 4, 4, 5]"
   ]
  },
  {
   "cell_type": "code",
   "execution_count": 18,
   "id": "cdab9add",
   "metadata": {},
   "outputs": [],
   "source": [
    "# simple solution is to XOR every number in the array, result will be the duplicate\n",
    "# This only works if the number is duplicated ONCE\n",
    "def dup_num(arr):\n",
    "    res = 1\n",
    "    \n",
    "    for x in arr:\n",
    "        res ^= x\n",
    "        \n",
    "    return res"
   ]
  },
  {
   "cell_type": "code",
   "execution_count": 19,
   "id": "dbcc2edd",
   "metadata": {},
   "outputs": [
    {
     "name": "stdout",
     "output_type": "stream",
     "text": [
      "0\n"
     ]
    }
   ],
   "source": [
    "print (dup_num(temp))"
   ]
  },
  {
   "cell_type": "markdown",
   "id": "cf6ebcb7",
   "metadata": {},
   "source": [
    "Alternate solution"
   ]
  },
  {
   "cell_type": "code",
   "execution_count": 31,
   "id": "5c7c78dc",
   "metadata": {},
   "outputs": [],
   "source": [
    "temp = [1, 2, 2, 2, 3, 4, 5]\n",
    "temp.reverse()"
   ]
  },
  {
   "cell_type": "code",
   "execution_count": 32,
   "id": "c3ae4ab5",
   "metadata": {},
   "outputs": [],
   "source": [
    "# When there can be multiple duplicates the approach will be different\n",
    "# approach will be similar to finding the missing number...during the swap, if the two numbers are the same, that number is the dup\n",
    "\n",
    "def find_duplicate(nums):\n",
    "    i = 0\n",
    "\n",
    "    while i < len(nums):\n",
    "        if nums[i] != i + 1:\n",
    "            j = nums[i] - 1\n",
    "            \n",
    "            if nums[i] != nums[j]:\n",
    "                nums[i], nums[j] = nums[j], nums[i]  # swap\n",
    "            else:  # we have found the duplicate\n",
    "                return nums[i]\n",
    "        else:\n",
    "            i += 1\n",
    "        print (nums)\n",
    "\n",
    "    return -1"
   ]
  },
  {
   "cell_type": "code",
   "execution_count": 33,
   "id": "995e0912",
   "metadata": {},
   "outputs": [
    {
     "name": "stdout",
     "output_type": "stream",
     "text": [
      "[2, 4, 3, 2, 5, 2, 1]\n",
      "[4, 2, 3, 2, 5, 2, 1]\n",
      "[2, 2, 3, 4, 5, 2, 1]\n",
      "2\n"
     ]
    }
   ],
   "source": [
    "print (find_duplicate(temp))"
   ]
  },
  {
   "cell_type": "markdown",
   "id": "732f75b2",
   "metadata": {},
   "source": [
    "#### Find multiple duplicates"
   ]
  },
  {
   "cell_type": "code",
   "execution_count": 37,
   "id": "6c4d95cd",
   "metadata": {},
   "outputs": [],
   "source": [
    "temp = [8, 5, 4, 5, 6, 4, 2, 1]"
   ]
  },
  {
   "cell_type": "code",
   "execution_count": 38,
   "id": "ca95d4f1",
   "metadata": {},
   "outputs": [],
   "source": [
    "# the above array shows what it means to have multiple duplicates (some numbers replicated ie 2 copies)\n",
    "\n",
    "# place every number at its correct index and then loop to find all dupes (like in missing numbers above)\n",
    "\n",
    "# the solution is very similar to the missing numbers problem, just ONE minor difference\n",
    "\n",
    "def find_all_duplicates(nums):\n",
    "    i = 0\n",
    "    \n",
    "    while i < len(nums):\n",
    "        j = nums[i] - 1\n",
    "    \n",
    "        if nums[i] != nums[j]:\n",
    "            nums[i], nums[j] = nums[j], nums[i]  # swap\n",
    "        else:\n",
    "            i += 1\n",
    "\n",
    "    duplicateNumbers = []\n",
    "    for i in range(len(nums)):\n",
    "        if nums[i] != i + 1:\n",
    "            duplicateNumbers.append(nums[i])\n",
    "\n",
    "    return duplicateNumbers"
   ]
  },
  {
   "cell_type": "code",
   "execution_count": 39,
   "id": "dde0743e",
   "metadata": {},
   "outputs": [
    {
     "name": "stdout",
     "output_type": "stream",
     "text": [
      "[4, 5]\n"
     ]
    }
   ],
   "source": [
    "print (find_all_duplicates(temp))"
   ]
  },
  {
   "cell_type": "code",
   "execution_count": null,
   "id": "fdf08fc2",
   "metadata": {},
   "outputs": [],
   "source": []
  }
 ],
 "metadata": {
  "kernelspec": {
   "display_name": "Python 3",
   "language": "python",
   "name": "python3"
  },
  "language_info": {
   "codemirror_mode": {
    "name": "ipython",
    "version": 3
   },
   "file_extension": ".py",
   "mimetype": "text/x-python",
   "name": "python",
   "nbconvert_exporter": "python",
   "pygments_lexer": "ipython3",
   "version": "3.9.5"
  }
 },
 "nbformat": 4,
 "nbformat_minor": 5
}
