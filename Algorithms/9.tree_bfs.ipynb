{
 "cells": [
  {
   "cell_type": "markdown",
   "id": "34700606",
   "metadata": {},
   "source": [
    "### Tree BFS"
   ]
  },
  {
   "cell_type": "markdown",
   "id": "0357b26f",
   "metadata": {},
   "source": [
    "#### Tree level order traversal"
   ]
  },
  {
   "cell_type": "markdown",
   "id": "1223f71c",
   "metadata": {},
   "source": [
    "For BFS in general, use Queues\n",
    "\n",
    "Put root into queue\n",
    "* Take first from queue, \n",
    "* do what you need to do with the taken out element, \n",
    "* put its connected components back into the queue\n",
    "* repeat till queue is empty\n"
   ]
  },
  {
   "cell_type": "code",
   "execution_count": 10,
   "id": "a03203a9",
   "metadata": {},
   "outputs": [],
   "source": [
    "from collections import deque\n",
    "from __future__ import print_function\n",
    "\n",
    "\n",
    "class TreeNode:\n",
    "    def __init__(self, val):\n",
    "        self.val = val\n",
    "        self.left, self.right = None, None\n",
    "        \n",
    "def print_tree(node):\n",
    "    if node:\n",
    "        print_tree(node.left)\n",
    "        print (node.val)\n",
    "        print_tree(node.right)"
   ]
  },
  {
   "cell_type": "code",
   "execution_count": 18,
   "id": "c8004eea",
   "metadata": {},
   "outputs": [
    {
     "name": "stdout",
     "output_type": "stream",
     "text": [
      "9\n",
      "7\n",
      "12\n",
      "10\n",
      "1\n",
      "5\n"
     ]
    }
   ],
   "source": [
    "temp = TreeNode(12)\n",
    "temp.left = TreeNode(7)\n",
    "temp.right = TreeNode(1)\n",
    "temp.left.left = TreeNode(9)\n",
    "temp.right.left = TreeNode(10)\n",
    "temp.right.right = TreeNode(5)\n",
    "\n",
    "print_tree(temp)"
   ]
  },
  {
   "cell_type": "code",
   "execution_count": 12,
   "id": "94fc4a84",
   "metadata": {},
   "outputs": [],
   "source": [
    "def traverse(root):\n",
    "    result = []\n",
    "    \n",
    "    if root is None:\n",
    "        return result\n",
    "\n",
    "    queue = deque()\n",
    "    queue.append(root)\n",
    "    while queue:\n",
    "        levelSize = len(queue) # important for level order traversal as we need to take in every element in that level\n",
    "        currentLevel = []\n",
    "        \n",
    "        for _ in range(levelSize):\n",
    "            currentNode = queue.popleft()\n",
    "            # add the node to the current level\n",
    "            currentLevel.append(currentNode.val)\n",
    "            # insert the children of current node in the queue\n",
    "            if currentNode.left:\n",
    "                queue.append(currentNode.left)\n",
    "            if currentNode.right:\n",
    "                queue.append(currentNode.right)\n",
    "\n",
    "        result.append(currentLevel)\n",
    "\n",
    "    return result"
   ]
  },
  {
   "cell_type": "code",
   "execution_count": 13,
   "id": "e3426bd1",
   "metadata": {},
   "outputs": [
    {
     "name": "stdout",
     "output_type": "stream",
     "text": [
      "[[12], [7, 1], [9, 10, 5]]\n"
     ]
    }
   ],
   "source": [
    "print (traverse(temp))"
   ]
  },
  {
   "cell_type": "markdown",
   "id": "70e73484",
   "metadata": {},
   "source": [
    "#### Reverse level order traversal"
   ]
  },
  {
   "cell_type": "code",
   "execution_count": 14,
   "id": "11e563de",
   "metadata": {},
   "outputs": [],
   "source": [
    "# Same approach as above, except instead of putting results into regular array, put it in front of the array\n",
    "# Alternatively, reverse the result array (?)\n",
    "\n",
    "def traverse(root):\n",
    "    result = deque()\n",
    "    \n",
    "    if root is None:\n",
    "        return result\n",
    "\n",
    "    queue = deque()\n",
    "    queue.append(root)\n",
    "    while queue:\n",
    "        levelSize = len(queue)\n",
    "        currentLevel = []\n",
    "        for _ in range(levelSize):\n",
    "            currentNode = queue.popleft()\n",
    "            # add the node to the current level\n",
    "            currentLevel.append(currentNode.val)\n",
    "            # insert the children of current node in the queue\n",
    "            if currentNode.left:\n",
    "                queue.append(currentNode.left)\n",
    "            if currentNode.right:\n",
    "                queue.append(currentNode.right)\n",
    "\n",
    "        result.appendleft(currentLevel)\n",
    "\n",
    "    return result"
   ]
  },
  {
   "cell_type": "code",
   "execution_count": 15,
   "id": "f35a2a3c",
   "metadata": {},
   "outputs": [
    {
     "name": "stdout",
     "output_type": "stream",
     "text": [
      "deque([[9, 10, 5], [7, 1], [12]])\n"
     ]
    }
   ],
   "source": [
    "print (traverse(temp))"
   ]
  },
  {
   "cell_type": "markdown",
   "id": "4fc587e3",
   "metadata": {},
   "source": [
    "#### Zig-zag traversal"
   ]
  },
  {
   "cell_type": "code",
   "execution_count": 20,
   "id": "bab8f5de",
   "metadata": {},
   "outputs": [],
   "source": [
    "# Basically a combination of the above two, with a boolean to keep track of direction\n",
    "\n",
    "\n",
    "def traverse(root):\n",
    "    result = []\n",
    "    if root is None:\n",
    "        return result\n",
    "\n",
    "    queue = deque()\n",
    "    queue.append(root)\n",
    "    \n",
    "    leftToRight = True\n",
    "    while queue:\n",
    "        levelSize = len(queue)\n",
    "        currentLevel = deque()\n",
    "        \n",
    "        for _ in range(levelSize):\n",
    "            currentNode = queue.popleft()\n",
    "\n",
    "            # add the node to the current level based on the traverse direction\n",
    "            if leftToRight:\n",
    "                currentLevel.append(currentNode.val)\n",
    "            else:\n",
    "                currentLevel.appendleft(currentNode.val)\n",
    "\n",
    "            # insert the children of current node in the queue\n",
    "            if currentNode.left:\n",
    "                queue.append(currentNode.left)\n",
    "            if currentNode.right:\n",
    "                queue.append(currentNode.right)\n",
    "\n",
    "        result.append(list(currentLevel))\n",
    "        # reverse the traversal direction\n",
    "        leftToRight = not leftToRight\n",
    "\n",
    "    return result"
   ]
  },
  {
   "cell_type": "code",
   "execution_count": 21,
   "id": "3203cf42",
   "metadata": {},
   "outputs": [
    {
     "name": "stdout",
     "output_type": "stream",
     "text": [
      "[[12], [1, 7], [9, 10, 5]]\n"
     ]
    }
   ],
   "source": [
    "print (traverse(temp))"
   ]
  },
  {
   "cell_type": "markdown",
   "id": "2857627a",
   "metadata": {},
   "source": [
    "#### Level averages"
   ]
  },
  {
   "cell_type": "code",
   "execution_count": 22,
   "id": "daa744ae",
   "metadata": {},
   "outputs": [],
   "source": [
    "# same as level order traversal, but compute average\n",
    "\n",
    "def find_level_averages(root):\n",
    "    result = []\n",
    "    if root is None:\n",
    "        return result\n",
    "\n",
    "    queue = deque()\n",
    "    queue.append(root)\n",
    "    \n",
    "    while queue:\n",
    "        levelSize = len(queue)\n",
    "        levelSum = 0.0\n",
    "        \n",
    "        for _ in range(levelSize):\n",
    "            currentNode = queue.popleft()\n",
    "            # add the node's value to the running sum\n",
    "            levelSum += currentNode.val\n",
    "            # insert the children of current node to the queue\n",
    "            if currentNode.left:\n",
    "                queue.append(currentNode.left)\n",
    "            if currentNode.right:\n",
    "                queue.append(currentNode.right)\n",
    "\n",
    "        # append the current level's average to the result array\n",
    "        result.append(levelSum / levelSize)\n",
    "\n",
    "    return result"
   ]
  },
  {
   "cell_type": "code",
   "execution_count": 23,
   "id": "6e648f61",
   "metadata": {},
   "outputs": [
    {
     "name": "stdout",
     "output_type": "stream",
     "text": [
      "[12.0, 4.0, 8.0]\n"
     ]
    }
   ],
   "source": [
    "print (find_level_averages(temp))"
   ]
  },
  {
   "cell_type": "markdown",
   "id": "427d9679",
   "metadata": {},
   "source": [
    "#### Minimum depth of tree"
   ]
  },
  {
   "cell_type": "code",
   "execution_count": 24,
   "id": "72e69025",
   "metadata": {},
   "outputs": [],
   "source": [
    "# An extension on level order traversal. Instead of listing out the nodes, keep track of the height,\n",
    "# return as soon as you hit a leaf node\n",
    "\n",
    "def find_minimum_depth(root):\n",
    "    if root is None:\n",
    "        return 0\n",
    "\n",
    "    queue = deque()\n",
    "    queue.append(root)\n",
    "    minimumTreeDepth = 0\n",
    "    while queue:\n",
    "        minimumTreeDepth += 1\n",
    "        levelSize = len(queue)\n",
    "        for _ in range(levelSize):\n",
    "            currentNode = queue.popleft()\n",
    "\n",
    "            # check if this is a leaf node\n",
    "            if not currentNode.left and not currentNode.right:\n",
    "                return minimumTreeDepth\n",
    "\n",
    "            # insert the children of current node in the queue\n",
    "        if currentNode.left:\n",
    "            queue.append(currentNode.left)\n",
    "        if currentNode.right:\n",
    "            queue.append(currentNode.right)"
   ]
  },
  {
   "cell_type": "code",
   "execution_count": 25,
   "id": "a107f0b3",
   "metadata": {},
   "outputs": [
    {
     "name": "stdout",
     "output_type": "stream",
     "text": [
      "3\n"
     ]
    }
   ],
   "source": [
    "print (find_minimum_depth(temp))"
   ]
  },
  {
   "cell_type": "markdown",
   "id": "e0b199e3",
   "metadata": {},
   "source": [
    "#### Level order successor"
   ]
  },
  {
   "cell_type": "code",
   "execution_count": 26,
   "id": "44f55678",
   "metadata": {},
   "outputs": [],
   "source": [
    "# Following on from the level order traversal, instead of printing out, dequeue and check against given value,\n",
    "# if it matches, dequeue again as that will be the result\n",
    "\n",
    "def find_successor(root, key):\n",
    "    if root is None:\n",
    "        return None\n",
    "\n",
    "    queue = deque()\n",
    "    queue.append(root)\n",
    "    \n",
    "    while queue:\n",
    "        currentNode = queue.popleft()\n",
    "        # insert the children of current node in the queue\n",
    "        if currentNode.left:\n",
    "            queue.append(currentNode.left)\n",
    "        if currentNode.right:\n",
    "            queue.append(currentNode.right)\n",
    "\n",
    "        # break if we have found the key\n",
    "        if currentNode.val == key:\n",
    "            break\n",
    "\n",
    "    return queue[0] if queue else None # None, as key was the last element, q[0] as the key value was already dequeued"
   ]
  },
  {
   "cell_type": "code",
   "execution_count": 28,
   "id": "9f9e1315",
   "metadata": {},
   "outputs": [
    {
     "name": "stdout",
     "output_type": "stream",
     "text": [
      "10\n"
     ]
    }
   ],
   "source": [
    "print (find_successor(temp, 9).val)"
   ]
  },
  {
   "cell_type": "markdown",
   "id": "5942e21a",
   "metadata": {},
   "source": [
    "#### Connect Level Order Siblings"
   ]
  },
  {
   "cell_type": "code",
   "execution_count": 29,
   "id": "793644ea",
   "metadata": {},
   "outputs": [],
   "source": [
    "from __future__ import print_function\n",
    "from collections import deque\n",
    "\n",
    "\n",
    "class TreeNode:\n",
    "    def __init__(self, val):\n",
    "        self.val = val\n",
    "        self.left, self.right, self.next = None, None, None\n",
    "\n",
    "      # level order traversal using 'next' pointer\n",
    "    def print_level_order(self):\n",
    "        nextLevelRoot = self\n",
    "        \n",
    "        while nextLevelRoot:\n",
    "            current = nextLevelRoot\n",
    "            nextLevelRoot = None\n",
    "            \n",
    "            while current:\n",
    "                print(str(current.val) + \" \", end='')\n",
    "            if not nextLevelRoot:\n",
    "                if current.left:\n",
    "                    nextLevelRoot = current.left\n",
    "                elif current.right:\n",
    "                    nextLevelRoot = current.right\n",
    "            current = current.next\n",
    "        print()"
   ]
  },
  {
   "cell_type": "code",
   "execution_count": 30,
   "id": "0c3027f0",
   "metadata": {},
   "outputs": [],
   "source": [
    "# also follows the level order traversal pattern, instead of printing it out chain it\n",
    "\n",
    "def connect_level_order_siblings(root):\n",
    "    if root is None:\n",
    "        return\n",
    "\n",
    "    queue = deque()\n",
    "    queue.append(root)\n",
    "    \n",
    "    while queue:\n",
    "        previousNode = None # need this as we'd be connecting it's next to current\n",
    "        levelSize = len(queue)\n",
    "        \n",
    "        # connect all nodes of this level\n",
    "        for _ in range(levelSize):\n",
    "            currentNode = queue.popleft()\n",
    "            if previousNode:\n",
    "                previousNode.next = currentNode\n",
    "                previousNode = currentNode\n",
    "\n",
    "            # insert the children of current node in the queue\n",
    "            if currentNode.left:\n",
    "                queue.append(currentNode.left)\n",
    "            if currentNode.right:\n",
    "                queue.append(currentNode.right)"
   ]
  },
  {
   "cell_type": "code",
   "execution_count": 31,
   "id": "2818ef2d",
   "metadata": {},
   "outputs": [
    {
     "name": "stdout",
     "output_type": "stream",
     "text": [
      "not worth testing...\n"
     ]
    }
   ],
   "source": [
    "print (\"not worth testing...\")"
   ]
  },
  {
   "cell_type": "code",
   "execution_count": null,
   "id": "c5aebe4d",
   "metadata": {},
   "outputs": [],
   "source": []
  }
 ],
 "metadata": {
  "kernelspec": {
   "display_name": "Python 3",
   "language": "python",
   "name": "python3"
  },
  "language_info": {
   "codemirror_mode": {
    "name": "ipython",
    "version": 3
   },
   "file_extension": ".py",
   "mimetype": "text/x-python",
   "name": "python",
   "nbconvert_exporter": "python",
   "pygments_lexer": "ipython3",
   "version": "3.9.5"
  }
 },
 "nbformat": 4,
 "nbformat_minor": 5
}
