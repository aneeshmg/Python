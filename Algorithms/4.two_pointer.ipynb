{
 "cells": [
  {
   "cell_type": "markdown",
   "id": "77ec098d",
   "metadata": {},
   "source": [
    "## Two pointer"
   ]
  },
  {
   "cell_type": "markdown",
   "id": "fee98782",
   "metadata": {},
   "source": [
    "#### 2 sum"
   ]
  },
  {
   "cell_type": "code",
   "execution_count": 2,
   "id": "2de79087",
   "metadata": {},
   "outputs": [
    {
     "name": "stdout",
     "output_type": "stream",
     "text": [
      "[5, 4, 6, 3, 7, 2, 8, 1, 9]\n",
      "[1, 2, 3, 4, 5, 6, 7, 8, 9]\n"
     ]
    }
   ],
   "source": [
    "temp = [5, 4, 6, 3, 7, 2, 8, 1, 9]\n",
    "print (temp)\n",
    "temp.sort()\n",
    "print (temp)"
   ]
  },
  {
   "cell_type": "code",
   "execution_count": 6,
   "id": "8d2c520c",
   "metadata": {},
   "outputs": [],
   "source": [
    "# given an array (sorted or unsorted) and a target sum, find index of two numbers that add up to the target sum\n",
    "# if sorted, one option is to binary search for sum-i for every item, which would result in n*logn\n",
    "# instead use two pointers\n",
    "\n",
    "def two_sum(arr, target):\n",
    "    i, j = 0, len(arr) - 1\n",
    "    \n",
    "    while (j > i):\n",
    "        curr = arr[i] + arr[j]\n",
    "        if curr == target:\n",
    "            return [i, j]\n",
    "        if (curr > target):\n",
    "            j -= 1\n",
    "        else:\n",
    "            i += 1\n",
    "    \n",
    "    return [-1, -1]"
   ]
  },
  {
   "cell_type": "code",
   "execution_count": 7,
   "id": "c0541072",
   "metadata": {},
   "outputs": [
    {
     "data": {
      "text/plain": [
       "[1, 8]"
      ]
     },
     "execution_count": 7,
     "metadata": {},
     "output_type": "execute_result"
    }
   ],
   "source": [
    "two_sum(temp, 11)"
   ]
  },
  {
   "cell_type": "code",
   "execution_count": 16,
   "id": "cb0b5b6f",
   "metadata": {},
   "outputs": [],
   "source": [
    "# alternatively, can use hashmap\n",
    "# if array is not sorted, need to use this for O(n) at the cost of O(n) space\n",
    "def two_sum_hash_map(arr, target):\n",
    "    nums = {}  # to store numbers and their indices\n",
    "    \n",
    "    for i, num in enumerate(arr):\n",
    "        if target - num in nums:\n",
    "            return [nums[target - num], i]\n",
    "        else:\n",
    "            nums[arr[i]] = i\n",
    "    \n",
    "    return [-1, -1]"
   ]
  },
  {
   "cell_type": "code",
   "execution_count": 17,
   "id": "d490347c",
   "metadata": {},
   "outputs": [
    {
     "data": {
      "text/plain": [
       "[4, 5]"
      ]
     },
     "execution_count": 17,
     "metadata": {},
     "output_type": "execute_result"
    }
   ],
   "source": [
    "two_sum_hash_map(temp, 11)"
   ]
  },
  {
   "cell_type": "markdown",
   "id": "2ca40234",
   "metadata": {},
   "source": [
    "#### Remove duplicates"
   ]
  },
  {
   "cell_type": "code",
   "execution_count": 23,
   "id": "b4532779",
   "metadata": {},
   "outputs": [],
   "source": [
    "temp = [2,1,3,7,4,5,6,7,3,2,5,4]"
   ]
  },
  {
   "cell_type": "code",
   "execution_count": 26,
   "id": "7da4f9a4",
   "metadata": {},
   "outputs": [],
   "source": [
    "# given array, remove duplicate elements. return length of result arr\n",
    "# if not sorted, sort first\n",
    "# trivial solution is to add elements to set and return set converted into array, but question specifies to use constant space\n",
    "# better solution is to use two pointers, maintain one for uniquness and other to detect dupes and ultimately\n",
    "# ..push dupes to the end of the arr\n",
    "\n",
    "def remove_dups(arr):\n",
    "    arr.sort()\n",
    "    \n",
    "    i, next_non_duplicate = 0, 1\n",
    "\n",
    "    while(i < len(arr)):\n",
    "        if arr[next_non_duplicate - 1] != arr[i]: # why the -1?\n",
    "            arr[next_non_duplicate] = arr[i]\n",
    "            next_non_duplicate += 1\n",
    "            \n",
    "        i += 1\n",
    "        \n",
    "    print (arr)"
   ]
  },
  {
   "cell_type": "code",
   "execution_count": 27,
   "id": "bad26769",
   "metadata": {},
   "outputs": [
    {
     "name": "stdout",
     "output_type": "stream",
     "text": [
      "[1, 2, 3, 4, 5, 6, 7, 6, 6, 7, 7, 7]\n"
     ]
    }
   ],
   "source": [
    "remove_dups(temp)"
   ]
  },
  {
   "cell_type": "markdown",
   "id": "3321b0b3",
   "metadata": {},
   "source": [
    "#### Squares of numbers in arr"
   ]
  },
  {
   "cell_type": "code",
   "execution_count": 36,
   "id": "d80ad8ba",
   "metadata": {},
   "outputs": [],
   "source": [
    "temp = [-3, -1, 0, 3, 4]"
   ]
  },
  {
   "cell_type": "code",
   "execution_count": 45,
   "id": "bf595dcc",
   "metadata": {},
   "outputs": [],
   "source": [
    "# given sorted array, return all elements squared in new array\n",
    "# negative nums make this tricky => use two pointers to get it in n complexity\n",
    "# alternatively, square everything and then sort but that would mean n*logn\n",
    "\n",
    "def squares(arr):\n",
    "    \n",
    "    res = [0] * len(arr)\n",
    "    left, right = 0, len(arr) - 1\n",
    "    i = len(arr) - 1\n",
    "    \n",
    "    while left <= right:\n",
    "        l_square = arr[left] * arr[left]\n",
    "        r_square = arr[right] * arr[right]\n",
    "        \n",
    "        if l_square > r_square:\n",
    "            left += 1\n",
    "            res[i] = l_square\n",
    "        else:\n",
    "            right -= 1\n",
    "            res[i] = r_square\n",
    "\n",
    "        i -= 1\n",
    "            \n",
    "    return res"
   ]
  },
  {
   "cell_type": "code",
   "execution_count": 46,
   "id": "b1c88cd0",
   "metadata": {},
   "outputs": [
    {
     "name": "stdout",
     "output_type": "stream",
     "text": [
      "[0, 1, 9, 9, 16]\n"
     ]
    }
   ],
   "source": [
    "print (squares(temp))"
   ]
  },
  {
   "cell_type": "markdown",
   "id": "4aec846c",
   "metadata": {},
   "source": [
    "#### 3 sum"
   ]
  },
  {
   "cell_type": "code",
   "execution_count": 49,
   "id": "f22091c4",
   "metadata": {},
   "outputs": [],
   "source": [
    "temp = [-3, 0, 1, 2, -1, 1, -2]"
   ]
  },
  {
   "cell_type": "code",
   "execution_count": 52,
   "id": "b7a3cb81",
   "metadata": {},
   "outputs": [],
   "source": [
    "# an extension of 2sum, except in this case we are finding sub lists that sum to 0\n",
    "def search_triplets(arr):\n",
    "    arr.sort()\n",
    "    triplets = []\n",
    "    \n",
    "    for i in range(len(arr)):\n",
    "        if i > 0 and arr[i] == arr[i-1]:  # skip same element to avoid duplicate triplets\n",
    "            continue\n",
    "            \n",
    "        search_pair(arr, -arr[i], i+1, triplets)\n",
    "\n",
    "    return triplets\n",
    "\n",
    "\n",
    "def search_pair(arr, target_sum, left, triplets):\n",
    "    right = len(arr) - 1\n",
    "    \n",
    "    while(left < right):\n",
    "        current_sum = arr[left] + arr[right]\n",
    "        \n",
    "        if current_sum == target_sum:  # found the triplet\n",
    "            triplets.append([-target_sum, arr[left], arr[right]])\n",
    "            left += 1\n",
    "            right -= 1\n",
    "            \n",
    "            while left < right and arr[left] == arr[left - 1]:\n",
    "                left += 1  # skip same element to avoid duplicate triplets\n",
    "                \n",
    "            while left < right and arr[right] == arr[right + 1]:\n",
    "                right -= 1  # skip same element to avoid duplicate triplets\n",
    "                \n",
    "        elif target_sum > current_sum:\n",
    "            left += 1  # we need a pair with a bigger sum\n",
    "        else:\n",
    "            right -= 1  # we need a pair with a smaller sum"
   ]
  },
  {
   "cell_type": "code",
   "execution_count": 53,
   "id": "462b3fb8",
   "metadata": {},
   "outputs": [
    {
     "name": "stdout",
     "output_type": "stream",
     "text": [
      "[[-3, 1, 2], [-2, 0, 2], [-2, 1, 1], [-1, 0, 1]]\n"
     ]
    }
   ],
   "source": [
    "print (search_triplets(temp))"
   ]
  },
  {
   "cell_type": "markdown",
   "id": "f6278631",
   "metadata": {},
   "source": [
    "#### 3 sum closest to target"
   ]
  },
  {
   "cell_type": "code",
   "execution_count": 54,
   "id": "9b89c1ca",
   "metadata": {},
   "outputs": [],
   "source": [
    "temp = [-2, 0, 1, 2]"
   ]
  },
  {
   "cell_type": "code",
   "execution_count": 57,
   "id": "c9be7ae9",
   "metadata": {},
   "outputs": [],
   "source": [
    "import math\n",
    "\n",
    "def triplet_sum_close_to_target(arr, target_sum):\n",
    "    arr.sort()\n",
    "    smallest_difference = math.inf\n",
    "    \n",
    "    for i in range(len(arr) - 2):\n",
    "        left = i + 1\n",
    "        right = len(arr) - 1\n",
    "\n",
    "        while (left < right):\n",
    "            target_diff = target_sum - arr[i] - arr[left] - arr[right]\n",
    "            \n",
    "            if target_diff == 0:  # we've found a triplet with an exact sum\n",
    "                return target_sum  # return sum of all the numbers\n",
    "\n",
    "            # the second part of the following 'if' is to handle the smallest sum when we have\n",
    "            # more than one solution\n",
    "            if abs(target_diff) < abs(smallest_difference) or (abs(target_diff) == abs(smallest_difference) and target_diff > smallest_difference):\n",
    "                    smallest_difference = target_diff  # save the closest and the biggest difference\n",
    "\n",
    "            if target_diff > 0:\n",
    "                left += 1  # we need a triplet with a bigger sum\n",
    "            else:\n",
    "                right -= 1  # we need a triplet with a smaller sum\n",
    "\n",
    "    return target_sum - smallest_difference"
   ]
  },
  {
   "cell_type": "code",
   "execution_count": 59,
   "id": "07ce65ef",
   "metadata": {},
   "outputs": [
    {
     "name": "stdout",
     "output_type": "stream",
     "text": [
      "1\n"
     ]
    }
   ],
   "source": [
    "print (triplet_sum_close_to_target(temp, 2))"
   ]
  },
  {
   "cell_type": "markdown",
   "id": "32ef241c",
   "metadata": {},
   "source": [
    "#### Count triplets with smaller sum"
   ]
  },
  {
   "cell_type": "code",
   "execution_count": 60,
   "id": "bca9d25b",
   "metadata": {},
   "outputs": [],
   "source": [
    "temp = [-1, 0, 2, 3]"
   ]
  },
  {
   "cell_type": "code",
   "execution_count": 62,
   "id": "778c03f5",
   "metadata": {},
   "outputs": [],
   "source": [
    "# given unsorted list and a target sum, return all triplets that sum less than the target\n",
    "\n",
    "def triplet_with_smaller_sum(arr, target):\n",
    "    arr.sort()\n",
    "    count = 0\n",
    "    \n",
    "    for i in range(len(arr)-2):\n",
    "        count += search_pair(arr, target - arr[i], i) # key part here\n",
    "        \n",
    "    return count\n",
    "\n",
    "\n",
    "def search_pair(arr, target_sum, first):\n",
    "    count = 0\n",
    "    left, right = first + 1, len(arr) - 1\n",
    "    \n",
    "    while (left < right):\n",
    "        if arr[left] + arr[right] < target_sum:  # found the triplet\n",
    "            # since arr[right] >= arr[left], therefore, we can replace arr[right] by any \n",
    "            # number between left and right to get a sum less than the target sum\n",
    "            count += right - left\n",
    "            left += 1\n",
    "        else:\n",
    "            right -= 1  # we need a pair with a smaller sumreturn count\n",
    "            \n",
    "    return count"
   ]
  },
  {
   "cell_type": "code",
   "execution_count": 65,
   "id": "8fb68ce0",
   "metadata": {},
   "outputs": [
    {
     "name": "stdout",
     "output_type": "stream",
     "text": [
      "2\n"
     ]
    }
   ],
   "source": [
    "print (triplet_sum_close_to_target(temp, 3))"
   ]
  },
  {
   "cell_type": "markdown",
   "id": "77df1939",
   "metadata": {},
   "source": [
    "#### Subarrays with product less than target"
   ]
  },
  {
   "cell_type": "code",
   "execution_count": 66,
   "id": "29f3318b",
   "metadata": {},
   "outputs": [],
   "source": [
    "temp = [2, 5, 3, 10]"
   ]
  },
  {
   "cell_type": "code",
   "execution_count": 67,
   "id": "f7930bae",
   "metadata": {},
   "outputs": [],
   "source": [
    "# an extension of the previous problem\n",
    "\n",
    "from collections import deque\n",
    "\n",
    "def subarray_product_less_than_target(arr, target):\n",
    "    \n",
    "    res = []\n",
    "    product = 1\n",
    "    left = 0\n",
    "    \n",
    "    for right in range(len(arr)):\n",
    "        product *= arr[right]\n",
    "        \n",
    "        while (product >= target and left < len(arr)):\n",
    "            product /= arr[left]\n",
    "            left += 1\n",
    "            \n",
    "        temp_list = deque()\n",
    "        for i in range(right, left - 1, -1):\n",
    "            temp_list.appendleft(arr[i])\n",
    "            res.append(list(temp_list))\n",
    "            \n",
    "    return res"
   ]
  },
  {
   "cell_type": "code",
   "execution_count": 68,
   "id": "fcfdd41d",
   "metadata": {},
   "outputs": [
    {
     "name": "stdout",
     "output_type": "stream",
     "text": [
      "[[2], [5], [2, 5], [3], [5, 3], [10]]\n"
     ]
    }
   ],
   "source": [
    "print (subarray_product_less_than_target(temp, 30))"
   ]
  },
  {
   "cell_type": "markdown",
   "id": "d9b771ed",
   "metadata": {},
   "source": [
    "#### Dutch national flag"
   ]
  },
  {
   "cell_type": "code",
   "execution_count": 69,
   "id": "df874074",
   "metadata": {},
   "outputs": [],
   "source": [
    "temp = [1, 0, 2, 1, 0] # => [0 0 1 1 2]"
   ]
  },
  {
   "cell_type": "code",
   "execution_count": 71,
   "id": "4c523656",
   "metadata": {},
   "outputs": [],
   "source": [
    "# question is fairly self explanatory\n",
    "# maintain 2 pointers and one iterator...low and high....move every small element to the low area (by growing low) &\n",
    "# move every large element to the high area by shrinking high\n",
    "\n",
    "def dutch_flag(arr):\n",
    "    \n",
    "    low, high = 0, len(arr) - 1\n",
    "    \n",
    "    i = 0\n",
    "    while (i <= high):\n",
    "        if arr[i] == 0:\n",
    "            arr[i], arr[low] = arr[low], arr[i]\n",
    "            i += 1\n",
    "            low += 1\n",
    "        elif arr[i] == 1:\n",
    "            i += 1\n",
    "        else:\n",
    "            arr[i], arr[high] = arr[high], arr[i]\n",
    "            high -= 1 #take care to swap first\n"
   ]
  },
  {
   "cell_type": "code",
   "execution_count": 72,
   "id": "57cbd1e4",
   "metadata": {},
   "outputs": [
    {
     "name": "stdout",
     "output_type": "stream",
     "text": [
      "[0, 0, 1, 1, 2]\n"
     ]
    }
   ],
   "source": [
    "dutch_flag(temp)\n",
    "print (temp)"
   ]
  },
  {
   "cell_type": "code",
   "execution_count": null,
   "id": "28102369",
   "metadata": {},
   "outputs": [],
   "source": []
  }
 ],
 "metadata": {
  "kernelspec": {
   "display_name": "Python 3",
   "language": "python",
   "name": "python3"
  },
  "language_info": {
   "codemirror_mode": {
    "name": "ipython",
    "version": 3
   },
   "file_extension": ".py",
   "mimetype": "text/x-python",
   "name": "python",
   "nbconvert_exporter": "python",
   "pygments_lexer": "ipython3",
   "version": "3.9.5"
  }
 },
 "nbformat": 4,
 "nbformat_minor": 5
}
