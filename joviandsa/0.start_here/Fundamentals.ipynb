{
 "cells": [
  {
   "cell_type": "markdown",
   "id": "5f8612cb",
   "metadata": {},
   "source": [
    "# The methodology"
   ]
  },
  {
   "cell_type": "markdown",
   "id": "8d41b1dc",
   "metadata": {},
   "source": [
    "\n",
    "1. State the problem clearly. Identify the input & output formats.\n",
    "2. Come up with some example inputs & outputs. Try to cover all edge cases.\n",
    "3. Come up with a correct solution for the problem. State it in plain English.\n",
    "4. Implement the solution and test it using example inputs. Fix bugs, if any.\n",
    "5. Analyze the algorithm's complexity and identify inefficiencies, if any.\n",
    "6. Apply the right technique to overcome the inefficiency. Repeat steps 3 to 6.\n",
    "\n",
    "_\"Applying the right technique\"_ is where the knowledge of common data structures and algorithms comes in handy. \n"
   ]
  },
  {
   "cell_type": "markdown",
   "id": "9f446c58",
   "metadata": {},
   "source": [
    "### Variables"
   ]
  },
  {
   "cell_type": "code",
   "execution_count": 19,
   "id": "3453433c",
   "metadata": {},
   "outputs": [],
   "source": [
    "a = 10\n",
    "b = [1, 2, 3]\n",
    "x, y = 10 , 20\n",
    "z = (x, y, b[0])\n",
    "d = 'the quick brown fox jumps over the dog'"
   ]
  },
  {
   "cell_type": "code",
   "execution_count": 6,
   "id": "e58a21b5",
   "metadata": {},
   "outputs": [
    {
     "name": "stdout",
     "output_type": "stream",
     "text": [
      "10 [1, 2, 3] 10 20 (10, 20, 1)\n"
     ]
    }
   ],
   "source": [
    "print (a, b, x, y, z)"
   ]
  },
  {
   "cell_type": "markdown",
   "id": "a3903867",
   "metadata": {},
   "source": [
    "### Util Methods"
   ]
  },
  {
   "cell_type": "code",
   "execution_count": 16,
   "id": "c4efcf67",
   "metadata": {},
   "outputs": [
    {
     "name": "stdout",
     "output_type": "stream",
     "text": [
      "a = 10\n",
      "[1, 2, 20, 3, 30]\n"
     ]
    }
   ],
   "source": [
    "len(b)\n",
    "print ('a = ' + str(a))\n",
    "\n",
    "b.insert(2, 20)\n",
    "b.append(30)\n",
    "\n",
    "print (b)"
   ]
  },
  {
   "cell_type": "code",
   "execution_count": 18,
   "id": "381be507",
   "metadata": {},
   "outputs": [
    {
     "name": "stdout",
     "output_type": "stream",
     "text": [
      "[2, 20]\n",
      "[30, 3, 20, 2, 1]\n",
      "[3, 20]\n"
     ]
    }
   ],
   "source": [
    "print (b[1:3])\n",
    "\n",
    "print (b[::-1])\n",
    "\n",
    "print (b[3:1:-1])"
   ]
  },
  {
   "cell_type": "code",
   "execution_count": 25,
   "id": "17f1ada9",
   "metadata": {},
   "outputs": [
    {
     "name": "stdout",
     "output_type": "stream",
     "text": [
      "True\n",
      "38\n",
      "20\n"
     ]
    }
   ],
   "source": [
    "print ('fox' in d)\n",
    "\n",
    "print (len(d))\n",
    "\n",
    "print (d.find('jumps'))"
   ]
  },
  {
   "cell_type": "markdown",
   "id": "4f015d10",
   "metadata": {},
   "source": [
    "### Custom methods"
   ]
  },
  {
   "cell_type": "code",
   "execution_count": 28,
   "id": "28bd0643",
   "metadata": {},
   "outputs": [],
   "source": [
    "def vowels(words):\n",
    "    count = 0\n",
    "    for word in words:\n",
    "        # Use 'is' if the comparision is between objects instead of variables\n",
    "        if word == 'a' or word == 'e' or word == 'i' or word == 'o' or word == 'u':\n",
    "            count += 1\n",
    "            \n",
    "    return count"
   ]
  },
  {
   "cell_type": "code",
   "execution_count": 29,
   "id": "edf862fd",
   "metadata": {},
   "outputs": [
    {
     "name": "stdout",
     "output_type": "stream",
     "text": [
      "10\n"
     ]
    }
   ],
   "source": [
    "print (vowels(d))"
   ]
  },
  {
   "cell_type": "code",
   "execution_count": null,
   "id": "a7f1b8fb",
   "metadata": {},
   "outputs": [],
   "source": []
  }
 ],
 "metadata": {
  "kernelspec": {
   "display_name": "Python 3",
   "language": "python",
   "name": "python3"
  },
  "language_info": {
   "codemirror_mode": {
    "name": "ipython",
    "version": 3
   },
   "file_extension": ".py",
   "mimetype": "text/x-python",
   "name": "python",
   "nbconvert_exporter": "python",
   "pygments_lexer": "ipython3",
   "version": "3.9.5"
  }
 },
 "nbformat": 4,
 "nbformat_minor": 5
}
