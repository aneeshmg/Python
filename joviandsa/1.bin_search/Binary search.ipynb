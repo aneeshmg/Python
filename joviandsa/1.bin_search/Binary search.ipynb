{
 "cells": [
  {
   "cell_type": "markdown",
   "id": "3da64f64",
   "metadata": {},
   "source": [
    "## Binary Search"
   ]
  },
  {
   "cell_type": "code",
   "execution_count": 1,
   "id": "248872c9",
   "metadata": {},
   "outputs": [],
   "source": [
    "test = {\n",
    "    'input': { \n",
    "        'cards': [13, 11, 10, 7, 4, 3, 1, 0], \n",
    "        'query': 7\n",
    "    },\n",
    "    'output': 3\n",
    "}"
   ]
  },
  {
   "cell_type": "code",
   "execution_count": 2,
   "id": "1101a364",
   "metadata": {},
   "outputs": [],
   "source": [
    "tests = []"
   ]
  },
  {
   "cell_type": "code",
   "execution_count": 4,
   "id": "ce5ad543",
   "metadata": {},
   "outputs": [],
   "source": [
    "tests.append(test)"
   ]
  },
  {
   "cell_type": "code",
   "execution_count": 15,
   "id": "4e6ab1f3",
   "metadata": {},
   "outputs": [
    {
     "data": {
      "text/plain": [
       "{'cards': [13, 11, 10, 7, 4, 3, 1, 0], 'query': 7}"
      ]
     },
     "execution_count": 15,
     "metadata": {},
     "output_type": "execute_result"
    }
   ],
   "source": [
    "tests\n",
    "tests[0]\n",
    "tests[0]['input']"
   ]
  },
  {
   "cell_type": "code",
   "execution_count": 11,
   "id": "e8037d0d",
   "metadata": {},
   "outputs": [],
   "source": [
    "def locate_card(cards, query):\n",
    "    i = 0\n",
    "    while i < len(cards):\n",
    "        if cards[i] == query:\n",
    "            return i\n",
    "        i += 1\n",
    "        \n",
    "    return -1\n",
    "        \n"
   ]
  },
  {
   "cell_type": "code",
   "execution_count": 9,
   "id": "ca27b28b",
   "metadata": {},
   "outputs": [
    {
     "data": {
      "text/plain": [
       "2"
      ]
     },
     "execution_count": 9,
     "metadata": {},
     "output_type": "execute_result"
    }
   ],
   "source": [
    "locate_card([1,2,3,4,5], 3)"
   ]
  },
  {
   "cell_type": "code",
   "execution_count": 17,
   "id": "31d9f7b5",
   "metadata": {},
   "outputs": [
    {
     "data": {
      "text/plain": [
       "True"
      ]
     },
     "execution_count": 17,
     "metadata": {},
     "output_type": "execute_result"
    }
   ],
   "source": [
    "locate_card(tests[0]['input']['cards'], tests[0]['input']['query']) == tests[0]['output']"
   ]
  },
  {
   "cell_type": "code",
   "execution_count": 19,
   "id": "e2e9cd41",
   "metadata": {},
   "outputs": [
    {
     "data": {
      "text/plain": [
       "True"
      ]
     },
     "execution_count": 19,
     "metadata": {},
     "output_type": "execute_result"
    }
   ],
   "source": [
    "locate_card(**tests[0]['input']) == tests[0]['output']"
   ]
  },
  {
   "cell_type": "code",
   "execution_count": null,
   "id": "5245435c",
   "metadata": {},
   "outputs": [],
   "source": []
  }
 ],
 "metadata": {
  "kernelspec": {
   "display_name": "Python 3",
   "language": "python",
   "name": "python3"
  },
  "language_info": {
   "codemirror_mode": {
    "name": "ipython",
    "version": 3
   },
   "file_extension": ".py",
   "mimetype": "text/x-python",
   "name": "python",
   "nbconvert_exporter": "python",
   "pygments_lexer": "ipython3",
   "version": "3.9.5"
  }
 },
 "nbformat": 4,
 "nbformat_minor": 5
}
